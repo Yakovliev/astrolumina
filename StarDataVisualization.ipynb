{
 "cells": [
  {
   "cell_type": "code",
   "execution_count": 160,
   "metadata": {},
   "outputs": [],
   "source": [
    "import os\n",
    "import pandas as pd\n",
    "import numpy as np\n",
    "import seaborn as sns\n",
    "import matplotlib.pyplot as plt\n",
    "import plotly.graph_objects as go\n",
    "import plotly.express as px\n",
    "import plotly.io as pio\n",
    "from plotly.subplots import make_subplots"
   ]
  },
  {
   "cell_type": "code",
   "execution_count": 161,
   "metadata": {},
   "outputs": [
    {
     "data": {
      "text/html": [
       "<div>\n",
       "<style scoped>\n",
       "    .dataframe tbody tr th:only-of-type {\n",
       "        vertical-align: middle;\n",
       "    }\n",
       "\n",
       "    .dataframe tbody tr th {\n",
       "        vertical-align: top;\n",
       "    }\n",
       "\n",
       "    .dataframe thead th {\n",
       "        text-align: right;\n",
       "    }\n",
       "</style>\n",
       "<table border=\"1\" class=\"dataframe\">\n",
       "  <thead>\n",
       "    <tr style=\"text-align: right;\">\n",
       "      <th></th>\n",
       "      <th>Temperature (K)</th>\n",
       "      <th>Luminosity(L/Lo)</th>\n",
       "      <th>Radius(R/Ro)</th>\n",
       "      <th>Absolute magnitude(Mv)</th>\n",
       "      <th>Star type</th>\n",
       "      <th>Star color</th>\n",
       "      <th>Spectral Class</th>\n",
       "    </tr>\n",
       "  </thead>\n",
       "  <tbody>\n",
       "    <tr>\n",
       "      <th>38</th>\n",
       "      <td>5936</td>\n",
       "      <td>1.35700</td>\n",
       "      <td>1.1060</td>\n",
       "      <td>4.460</td>\n",
       "      <td>3</td>\n",
       "      <td>Yellow-White</td>\n",
       "      <td>F</td>\n",
       "    </tr>\n",
       "    <tr>\n",
       "      <th>178</th>\n",
       "      <td>12100</td>\n",
       "      <td>120000.00000</td>\n",
       "      <td>708.9000</td>\n",
       "      <td>-7.840</td>\n",
       "      <td>5</td>\n",
       "      <td>Blue-White</td>\n",
       "      <td>B</td>\n",
       "    </tr>\n",
       "    <tr>\n",
       "      <th>58</th>\n",
       "      <td>3752</td>\n",
       "      <td>209000.00000</td>\n",
       "      <td>955.0000</td>\n",
       "      <td>-11.240</td>\n",
       "      <td>5</td>\n",
       "      <td>Red</td>\n",
       "      <td>M</td>\n",
       "    </tr>\n",
       "    <tr>\n",
       "      <th>120</th>\n",
       "      <td>3323</td>\n",
       "      <td>0.00043</td>\n",
       "      <td>0.0912</td>\n",
       "      <td>17.160</td>\n",
       "      <td>0</td>\n",
       "      <td>Red</td>\n",
       "      <td>M</td>\n",
       "    </tr>\n",
       "    <tr>\n",
       "      <th>115</th>\n",
       "      <td>3553</td>\n",
       "      <td>145000.00000</td>\n",
       "      <td>1324.0000</td>\n",
       "      <td>-11.030</td>\n",
       "      <td>5</td>\n",
       "      <td>Red</td>\n",
       "      <td>M</td>\n",
       "    </tr>\n",
       "    <tr>\n",
       "      <th>41</th>\n",
       "      <td>3365</td>\n",
       "      <td>340000.00000</td>\n",
       "      <td>23.0000</td>\n",
       "      <td>-6.200</td>\n",
       "      <td>4</td>\n",
       "      <td>Red</td>\n",
       "      <td>M</td>\n",
       "    </tr>\n",
       "    <tr>\n",
       "      <th>51</th>\n",
       "      <td>3750</td>\n",
       "      <td>283000.00000</td>\n",
       "      <td>1260.0000</td>\n",
       "      <td>-7.630</td>\n",
       "      <td>5</td>\n",
       "      <td>Red</td>\n",
       "      <td>M</td>\n",
       "    </tr>\n",
       "    <tr>\n",
       "      <th>199</th>\n",
       "      <td>3463</td>\n",
       "      <td>0.00270</td>\n",
       "      <td>0.6750</td>\n",
       "      <td>14.776</td>\n",
       "      <td>1</td>\n",
       "      <td>Red</td>\n",
       "      <td>M</td>\n",
       "    </tr>\n",
       "    <tr>\n",
       "      <th>27</th>\n",
       "      <td>7700</td>\n",
       "      <td>0.00011</td>\n",
       "      <td>0.0128</td>\n",
       "      <td>14.470</td>\n",
       "      <td>2</td>\n",
       "      <td>Yellow-White</td>\n",
       "      <td>F</td>\n",
       "    </tr>\n",
       "    <tr>\n",
       "      <th>137</th>\n",
       "      <td>3598</td>\n",
       "      <td>0.00110</td>\n",
       "      <td>0.5600</td>\n",
       "      <td>14.260</td>\n",
       "      <td>1</td>\n",
       "      <td>Red</td>\n",
       "      <td>M</td>\n",
       "    </tr>\n",
       "  </tbody>\n",
       "</table>\n",
       "</div>"
      ],
      "text/plain": [
       "     Temperature (K)  Luminosity(L/Lo)  Radius(R/Ro)  Absolute magnitude(Mv)  \\\n",
       "38              5936           1.35700        1.1060                   4.460   \n",
       "178            12100      120000.00000      708.9000                  -7.840   \n",
       "58              3752      209000.00000      955.0000                 -11.240   \n",
       "120             3323           0.00043        0.0912                  17.160   \n",
       "115             3553      145000.00000     1324.0000                 -11.030   \n",
       "41              3365      340000.00000       23.0000                  -6.200   \n",
       "51              3750      283000.00000     1260.0000                  -7.630   \n",
       "199             3463           0.00270        0.6750                  14.776   \n",
       "27              7700           0.00011        0.0128                  14.470   \n",
       "137             3598           0.00110        0.5600                  14.260   \n",
       "\n",
       "     Star type    Star color Spectral Class  \n",
       "38           3  Yellow-White              F  \n",
       "178          5    Blue-White              B  \n",
       "58           5           Red              M  \n",
       "120          0           Red              M  \n",
       "115          5           Red              M  \n",
       "41           4           Red              M  \n",
       "51           5           Red              M  \n",
       "199          1           Red              M  \n",
       "27           2  Yellow-White              F  \n",
       "137          1           Red              M  "
      ]
     },
     "execution_count": 161,
     "metadata": {},
     "output_type": "execute_result"
    }
   ],
   "source": [
    "star_df = pd.read_csv('cleaned_star_data.csv')\n",
    "star_df.sample(10) # Random 10 samples from star_df"
   ]
  },
  {
   "cell_type": "code",
   "execution_count": 162,
   "metadata": {},
   "outputs": [
    {
     "name": "stdout",
     "output_type": "stream",
     "text": [
      "<class 'pandas.core.frame.DataFrame'>\n",
      "RangeIndex: 240 entries, 0 to 239\n",
      "Data columns (total 7 columns):\n",
      " #   Column                  Non-Null Count  Dtype  \n",
      "---  ------                  --------------  -----  \n",
      " 0   Temperature (K)         240 non-null    int64  \n",
      " 1   Luminosity(L/Lo)        240 non-null    float64\n",
      " 2   Radius(R/Ro)            240 non-null    float64\n",
      " 3   Absolute magnitude(Mv)  240 non-null    float64\n",
      " 4   Star type               240 non-null    int64  \n",
      " 5   Star color              240 non-null    object \n",
      " 6   Spectral Class          240 non-null    object \n",
      "dtypes: float64(3), int64(2), object(2)\n",
      "memory usage: 13.2+ KB\n"
     ]
    }
   ],
   "source": [
    "# Check general information about the dataframe\n",
    "star_df.info()"
   ]
  },
  {
   "cell_type": "code",
   "execution_count": 163,
   "metadata": {},
   "outputs": [],
   "source": [
    "# Mapping of Star type to labels\n",
    "star_type_to_label = {\n",
    "    0: 'Brown Dwarf',\n",
    "    1: 'Red Dwarf',\n",
    "    2: 'White Dwarf',\n",
    "    3: 'Main Sequence',\n",
    "    4: 'Supergiants',\n",
    "    5: 'Hypergiants'\n",
    "}\n",
    "\n",
    "# Adding the new column 'Star type label' based on the mapping\n",
    "star_df['Star type label'] = star_df['Star type'].map(star_type_to_label)"
   ]
  },
  {
   "cell_type": "code",
   "execution_count": 164,
   "metadata": {},
   "outputs": [],
   "source": [
    "# Create a directory to save the visualizations\n",
    "folder_name = 'star_plots'                     # directory name\n",
    "os.makedirs(folder_name, exist_ok=True)        # Create directory if not exisiting\n",
    "base_dir = f'{folder_name}/'          # Store the path of this directory as base_dir to use it further"
   ]
  },
  {
   "cell_type": "code",
   "execution_count": 167,
   "metadata": {},
   "outputs": [
    {
     "data": {
      "text/html": [
       "<div>\n",
       "<style scoped>\n",
       "    .dataframe tbody tr th:only-of-type {\n",
       "        vertical-align: middle;\n",
       "    }\n",
       "\n",
       "    .dataframe tbody tr th {\n",
       "        vertical-align: top;\n",
       "    }\n",
       "\n",
       "    .dataframe thead th {\n",
       "        text-align: right;\n",
       "    }\n",
       "</style>\n",
       "<table border=\"1\" class=\"dataframe\">\n",
       "  <thead>\n",
       "    <tr style=\"text-align: right;\">\n",
       "      <th></th>\n",
       "      <th>index</th>\n",
       "      <th>Star type label</th>\n",
       "    </tr>\n",
       "  </thead>\n",
       "  <tbody>\n",
       "    <tr>\n",
       "      <th>0</th>\n",
       "      <td>Brown Dwarf</td>\n",
       "      <td>40</td>\n",
       "    </tr>\n",
       "    <tr>\n",
       "      <th>1</th>\n",
       "      <td>Red Dwarf</td>\n",
       "      <td>40</td>\n",
       "    </tr>\n",
       "    <tr>\n",
       "      <th>2</th>\n",
       "      <td>White Dwarf</td>\n",
       "      <td>40</td>\n",
       "    </tr>\n",
       "    <tr>\n",
       "      <th>3</th>\n",
       "      <td>Main Sequence</td>\n",
       "      <td>40</td>\n",
       "    </tr>\n",
       "    <tr>\n",
       "      <th>4</th>\n",
       "      <td>Supergiants</td>\n",
       "      <td>40</td>\n",
       "    </tr>\n",
       "    <tr>\n",
       "      <th>5</th>\n",
       "      <td>Hypergiants</td>\n",
       "      <td>40</td>\n",
       "    </tr>\n",
       "  </tbody>\n",
       "</table>\n",
       "</div>"
      ],
      "text/plain": [
       "           index  Star type label\n",
       "0    Brown Dwarf               40\n",
       "1      Red Dwarf               40\n",
       "2    White Dwarf               40\n",
       "3  Main Sequence               40\n",
       "4    Supergiants               40\n",
       "5    Hypergiants               40"
      ]
     },
     "execution_count": 167,
     "metadata": {},
     "output_type": "execute_result"
    }
   ],
   "source": [
    "star_type_counts = star_df['Star type label'].value_counts().reset_index()\n",
    "star_type_counts"
   ]
  },
  {
   "cell_type": "code",
   "execution_count": 168,
   "metadata": {},
   "outputs": [
    {
     "data": {
      "application/vnd.plotly.v1+json": {
       "config": {
        "plotlyServerURL": "https://plot.ly"
       },
       "data": [
        {
         "alignmentgroup": "True",
         "customdata": [
          16.666666666666664,
          16.666666666666664,
          16.666666666666664,
          16.666666666666664,
          16.666666666666664,
          16.666666666666664
         ],
         "hovertemplate": "Star Type: %{x}<br>Count: %{y}<br>Percentage: %{customdata:.2f}%",
         "legendgroup": "Brown Dwarf",
         "marker": {
          "color": "#636efa",
          "pattern": {
           "shape": ""
          }
         },
         "name": "Brown Dwarf",
         "offsetgroup": "Brown Dwarf",
         "orientation": "v",
         "showlegend": true,
         "text": [
          40
         ],
         "textposition": "auto",
         "type": "bar",
         "x": [
          "Brown Dwarf"
         ],
         "xaxis": "x",
         "y": [
          40
         ],
         "yaxis": "y"
        },
        {
         "alignmentgroup": "True",
         "customdata": [
          16.666666666666664,
          16.666666666666664,
          16.666666666666664,
          16.666666666666664,
          16.666666666666664,
          16.666666666666664
         ],
         "hovertemplate": "Star Type: %{x}<br>Count: %{y}<br>Percentage: %{customdata:.2f}%",
         "legendgroup": "Red Dwarf",
         "marker": {
          "color": "#EF553B",
          "pattern": {
           "shape": ""
          }
         },
         "name": "Red Dwarf",
         "offsetgroup": "Red Dwarf",
         "orientation": "v",
         "showlegend": true,
         "text": [
          40
         ],
         "textposition": "auto",
         "type": "bar",
         "x": [
          "Red Dwarf"
         ],
         "xaxis": "x",
         "y": [
          40
         ],
         "yaxis": "y"
        },
        {
         "alignmentgroup": "True",
         "customdata": [
          16.666666666666664,
          16.666666666666664,
          16.666666666666664,
          16.666666666666664,
          16.666666666666664,
          16.666666666666664
         ],
         "hovertemplate": "Star Type: %{x}<br>Count: %{y}<br>Percentage: %{customdata:.2f}%",
         "legendgroup": "White Dwarf",
         "marker": {
          "color": "#00cc96",
          "pattern": {
           "shape": ""
          }
         },
         "name": "White Dwarf",
         "offsetgroup": "White Dwarf",
         "orientation": "v",
         "showlegend": true,
         "text": [
          40
         ],
         "textposition": "auto",
         "type": "bar",
         "x": [
          "White Dwarf"
         ],
         "xaxis": "x",
         "y": [
          40
         ],
         "yaxis": "y"
        },
        {
         "alignmentgroup": "True",
         "customdata": [
          16.666666666666664,
          16.666666666666664,
          16.666666666666664,
          16.666666666666664,
          16.666666666666664,
          16.666666666666664
         ],
         "hovertemplate": "Star Type: %{x}<br>Count: %{y}<br>Percentage: %{customdata:.2f}%",
         "legendgroup": "Main Sequence",
         "marker": {
          "color": "#ab63fa",
          "pattern": {
           "shape": ""
          }
         },
         "name": "Main Sequence",
         "offsetgroup": "Main Sequence",
         "orientation": "v",
         "showlegend": true,
         "text": [
          40
         ],
         "textposition": "auto",
         "type": "bar",
         "x": [
          "Main Sequence"
         ],
         "xaxis": "x",
         "y": [
          40
         ],
         "yaxis": "y"
        },
        {
         "alignmentgroup": "True",
         "customdata": [
          16.666666666666664,
          16.666666666666664,
          16.666666666666664,
          16.666666666666664,
          16.666666666666664,
          16.666666666666664
         ],
         "hovertemplate": "Star Type: %{x}<br>Count: %{y}<br>Percentage: %{customdata:.2f}%",
         "legendgroup": "Supergiants",
         "marker": {
          "color": "#FFA15A",
          "pattern": {
           "shape": ""
          }
         },
         "name": "Supergiants",
         "offsetgroup": "Supergiants",
         "orientation": "v",
         "showlegend": true,
         "text": [
          40
         ],
         "textposition": "auto",
         "type": "bar",
         "x": [
          "Supergiants"
         ],
         "xaxis": "x",
         "y": [
          40
         ],
         "yaxis": "y"
        },
        {
         "alignmentgroup": "True",
         "customdata": [
          16.666666666666664,
          16.666666666666664,
          16.666666666666664,
          16.666666666666664,
          16.666666666666664,
          16.666666666666664
         ],
         "hovertemplate": "Star Type: %{x}<br>Count: %{y}<br>Percentage: %{customdata:.2f}%",
         "legendgroup": "Hypergiants",
         "marker": {
          "color": "#19d3f3",
          "pattern": {
           "shape": ""
          }
         },
         "name": "Hypergiants",
         "offsetgroup": "Hypergiants",
         "orientation": "v",
         "showlegend": true,
         "text": [
          40
         ],
         "textposition": "auto",
         "type": "bar",
         "x": [
          "Hypergiants"
         ],
         "xaxis": "x",
         "y": [
          40
         ],
         "yaxis": "y"
        }
       ],
       "layout": {
        "barmode": "relative",
        "height": 600,
        "legend": {
         "title": {
          "text": "Star type"
         },
         "tracegroupgap": 0
        },
        "template": {
         "data": {
          "bar": [
           {
            "error_x": {
             "color": "#2a3f5f"
            },
            "error_y": {
             "color": "#2a3f5f"
            },
            "marker": {
             "line": {
              "color": "#E5ECF6",
              "width": 0.5
             },
             "pattern": {
              "fillmode": "overlay",
              "size": 10,
              "solidity": 0.2
             }
            },
            "type": "bar"
           }
          ],
          "barpolar": [
           {
            "marker": {
             "line": {
              "color": "#E5ECF6",
              "width": 0.5
             },
             "pattern": {
              "fillmode": "overlay",
              "size": 10,
              "solidity": 0.2
             }
            },
            "type": "barpolar"
           }
          ],
          "carpet": [
           {
            "aaxis": {
             "endlinecolor": "#2a3f5f",
             "gridcolor": "white",
             "linecolor": "white",
             "minorgridcolor": "white",
             "startlinecolor": "#2a3f5f"
            },
            "baxis": {
             "endlinecolor": "#2a3f5f",
             "gridcolor": "white",
             "linecolor": "white",
             "minorgridcolor": "white",
             "startlinecolor": "#2a3f5f"
            },
            "type": "carpet"
           }
          ],
          "choropleth": [
           {
            "colorbar": {
             "outlinewidth": 0,
             "ticks": ""
            },
            "type": "choropleth"
           }
          ],
          "contour": [
           {
            "colorbar": {
             "outlinewidth": 0,
             "ticks": ""
            },
            "colorscale": [
             [
              0,
              "#0d0887"
             ],
             [
              0.1111111111111111,
              "#46039f"
             ],
             [
              0.2222222222222222,
              "#7201a8"
             ],
             [
              0.3333333333333333,
              "#9c179e"
             ],
             [
              0.4444444444444444,
              "#bd3786"
             ],
             [
              0.5555555555555556,
              "#d8576b"
             ],
             [
              0.6666666666666666,
              "#ed7953"
             ],
             [
              0.7777777777777778,
              "#fb9f3a"
             ],
             [
              0.8888888888888888,
              "#fdca26"
             ],
             [
              1,
              "#f0f921"
             ]
            ],
            "type": "contour"
           }
          ],
          "contourcarpet": [
           {
            "colorbar": {
             "outlinewidth": 0,
             "ticks": ""
            },
            "type": "contourcarpet"
           }
          ],
          "heatmap": [
           {
            "colorbar": {
             "outlinewidth": 0,
             "ticks": ""
            },
            "colorscale": [
             [
              0,
              "#0d0887"
             ],
             [
              0.1111111111111111,
              "#46039f"
             ],
             [
              0.2222222222222222,
              "#7201a8"
             ],
             [
              0.3333333333333333,
              "#9c179e"
             ],
             [
              0.4444444444444444,
              "#bd3786"
             ],
             [
              0.5555555555555556,
              "#d8576b"
             ],
             [
              0.6666666666666666,
              "#ed7953"
             ],
             [
              0.7777777777777778,
              "#fb9f3a"
             ],
             [
              0.8888888888888888,
              "#fdca26"
             ],
             [
              1,
              "#f0f921"
             ]
            ],
            "type": "heatmap"
           }
          ],
          "heatmapgl": [
           {
            "colorbar": {
             "outlinewidth": 0,
             "ticks": ""
            },
            "colorscale": [
             [
              0,
              "#0d0887"
             ],
             [
              0.1111111111111111,
              "#46039f"
             ],
             [
              0.2222222222222222,
              "#7201a8"
             ],
             [
              0.3333333333333333,
              "#9c179e"
             ],
             [
              0.4444444444444444,
              "#bd3786"
             ],
             [
              0.5555555555555556,
              "#d8576b"
             ],
             [
              0.6666666666666666,
              "#ed7953"
             ],
             [
              0.7777777777777778,
              "#fb9f3a"
             ],
             [
              0.8888888888888888,
              "#fdca26"
             ],
             [
              1,
              "#f0f921"
             ]
            ],
            "type": "heatmapgl"
           }
          ],
          "histogram": [
           {
            "marker": {
             "pattern": {
              "fillmode": "overlay",
              "size": 10,
              "solidity": 0.2
             }
            },
            "type": "histogram"
           }
          ],
          "histogram2d": [
           {
            "colorbar": {
             "outlinewidth": 0,
             "ticks": ""
            },
            "colorscale": [
             [
              0,
              "#0d0887"
             ],
             [
              0.1111111111111111,
              "#46039f"
             ],
             [
              0.2222222222222222,
              "#7201a8"
             ],
             [
              0.3333333333333333,
              "#9c179e"
             ],
             [
              0.4444444444444444,
              "#bd3786"
             ],
             [
              0.5555555555555556,
              "#d8576b"
             ],
             [
              0.6666666666666666,
              "#ed7953"
             ],
             [
              0.7777777777777778,
              "#fb9f3a"
             ],
             [
              0.8888888888888888,
              "#fdca26"
             ],
             [
              1,
              "#f0f921"
             ]
            ],
            "type": "histogram2d"
           }
          ],
          "histogram2dcontour": [
           {
            "colorbar": {
             "outlinewidth": 0,
             "ticks": ""
            },
            "colorscale": [
             [
              0,
              "#0d0887"
             ],
             [
              0.1111111111111111,
              "#46039f"
             ],
             [
              0.2222222222222222,
              "#7201a8"
             ],
             [
              0.3333333333333333,
              "#9c179e"
             ],
             [
              0.4444444444444444,
              "#bd3786"
             ],
             [
              0.5555555555555556,
              "#d8576b"
             ],
             [
              0.6666666666666666,
              "#ed7953"
             ],
             [
              0.7777777777777778,
              "#fb9f3a"
             ],
             [
              0.8888888888888888,
              "#fdca26"
             ],
             [
              1,
              "#f0f921"
             ]
            ],
            "type": "histogram2dcontour"
           }
          ],
          "mesh3d": [
           {
            "colorbar": {
             "outlinewidth": 0,
             "ticks": ""
            },
            "type": "mesh3d"
           }
          ],
          "parcoords": [
           {
            "line": {
             "colorbar": {
              "outlinewidth": 0,
              "ticks": ""
             }
            },
            "type": "parcoords"
           }
          ],
          "pie": [
           {
            "automargin": true,
            "type": "pie"
           }
          ],
          "scatter": [
           {
            "fillpattern": {
             "fillmode": "overlay",
             "size": 10,
             "solidity": 0.2
            },
            "type": "scatter"
           }
          ],
          "scatter3d": [
           {
            "line": {
             "colorbar": {
              "outlinewidth": 0,
              "ticks": ""
             }
            },
            "marker": {
             "colorbar": {
              "outlinewidth": 0,
              "ticks": ""
             }
            },
            "type": "scatter3d"
           }
          ],
          "scattercarpet": [
           {
            "marker": {
             "colorbar": {
              "outlinewidth": 0,
              "ticks": ""
             }
            },
            "type": "scattercarpet"
           }
          ],
          "scattergeo": [
           {
            "marker": {
             "colorbar": {
              "outlinewidth": 0,
              "ticks": ""
             }
            },
            "type": "scattergeo"
           }
          ],
          "scattergl": [
           {
            "marker": {
             "colorbar": {
              "outlinewidth": 0,
              "ticks": ""
             }
            },
            "type": "scattergl"
           }
          ],
          "scattermapbox": [
           {
            "marker": {
             "colorbar": {
              "outlinewidth": 0,
              "ticks": ""
             }
            },
            "type": "scattermapbox"
           }
          ],
          "scatterpolar": [
           {
            "marker": {
             "colorbar": {
              "outlinewidth": 0,
              "ticks": ""
             }
            },
            "type": "scatterpolar"
           }
          ],
          "scatterpolargl": [
           {
            "marker": {
             "colorbar": {
              "outlinewidth": 0,
              "ticks": ""
             }
            },
            "type": "scatterpolargl"
           }
          ],
          "scatterternary": [
           {
            "marker": {
             "colorbar": {
              "outlinewidth": 0,
              "ticks": ""
             }
            },
            "type": "scatterternary"
           }
          ],
          "surface": [
           {
            "colorbar": {
             "outlinewidth": 0,
             "ticks": ""
            },
            "colorscale": [
             [
              0,
              "#0d0887"
             ],
             [
              0.1111111111111111,
              "#46039f"
             ],
             [
              0.2222222222222222,
              "#7201a8"
             ],
             [
              0.3333333333333333,
              "#9c179e"
             ],
             [
              0.4444444444444444,
              "#bd3786"
             ],
             [
              0.5555555555555556,
              "#d8576b"
             ],
             [
              0.6666666666666666,
              "#ed7953"
             ],
             [
              0.7777777777777778,
              "#fb9f3a"
             ],
             [
              0.8888888888888888,
              "#fdca26"
             ],
             [
              1,
              "#f0f921"
             ]
            ],
            "type": "surface"
           }
          ],
          "table": [
           {
            "cells": {
             "fill": {
              "color": "#EBF0F8"
             },
             "line": {
              "color": "white"
             }
            },
            "header": {
             "fill": {
              "color": "#C8D4E3"
             },
             "line": {
              "color": "white"
             }
            },
            "type": "table"
           }
          ]
         },
         "layout": {
          "annotationdefaults": {
           "arrowcolor": "#2a3f5f",
           "arrowhead": 0,
           "arrowwidth": 1
          },
          "autotypenumbers": "strict",
          "coloraxis": {
           "colorbar": {
            "outlinewidth": 0,
            "ticks": ""
           }
          },
          "colorscale": {
           "diverging": [
            [
             0,
             "#8e0152"
            ],
            [
             0.1,
             "#c51b7d"
            ],
            [
             0.2,
             "#de77ae"
            ],
            [
             0.3,
             "#f1b6da"
            ],
            [
             0.4,
             "#fde0ef"
            ],
            [
             0.5,
             "#f7f7f7"
            ],
            [
             0.6,
             "#e6f5d0"
            ],
            [
             0.7,
             "#b8e186"
            ],
            [
             0.8,
             "#7fbc41"
            ],
            [
             0.9,
             "#4d9221"
            ],
            [
             1,
             "#276419"
            ]
           ],
           "sequential": [
            [
             0,
             "#0d0887"
            ],
            [
             0.1111111111111111,
             "#46039f"
            ],
            [
             0.2222222222222222,
             "#7201a8"
            ],
            [
             0.3333333333333333,
             "#9c179e"
            ],
            [
             0.4444444444444444,
             "#bd3786"
            ],
            [
             0.5555555555555556,
             "#d8576b"
            ],
            [
             0.6666666666666666,
             "#ed7953"
            ],
            [
             0.7777777777777778,
             "#fb9f3a"
            ],
            [
             0.8888888888888888,
             "#fdca26"
            ],
            [
             1,
             "#f0f921"
            ]
           ],
           "sequentialminus": [
            [
             0,
             "#0d0887"
            ],
            [
             0.1111111111111111,
             "#46039f"
            ],
            [
             0.2222222222222222,
             "#7201a8"
            ],
            [
             0.3333333333333333,
             "#9c179e"
            ],
            [
             0.4444444444444444,
             "#bd3786"
            ],
            [
             0.5555555555555556,
             "#d8576b"
            ],
            [
             0.6666666666666666,
             "#ed7953"
            ],
            [
             0.7777777777777778,
             "#fb9f3a"
            ],
            [
             0.8888888888888888,
             "#fdca26"
            ],
            [
             1,
             "#f0f921"
            ]
           ]
          },
          "colorway": [
           "#636efa",
           "#EF553B",
           "#00cc96",
           "#ab63fa",
           "#FFA15A",
           "#19d3f3",
           "#FF6692",
           "#B6E880",
           "#FF97FF",
           "#FECB52"
          ],
          "font": {
           "color": "#2a3f5f"
          },
          "geo": {
           "bgcolor": "white",
           "lakecolor": "white",
           "landcolor": "#E5ECF6",
           "showlakes": true,
           "showland": true,
           "subunitcolor": "white"
          },
          "hoverlabel": {
           "align": "left"
          },
          "hovermode": "closest",
          "mapbox": {
           "style": "light"
          },
          "paper_bgcolor": "white",
          "plot_bgcolor": "#E5ECF6",
          "polar": {
           "angularaxis": {
            "gridcolor": "white",
            "linecolor": "white",
            "ticks": ""
           },
           "bgcolor": "#E5ECF6",
           "radialaxis": {
            "gridcolor": "white",
            "linecolor": "white",
            "ticks": ""
           }
          },
          "scene": {
           "xaxis": {
            "backgroundcolor": "#E5ECF6",
            "gridcolor": "white",
            "gridwidth": 2,
            "linecolor": "white",
            "showbackground": true,
            "ticks": "",
            "zerolinecolor": "white"
           },
           "yaxis": {
            "backgroundcolor": "#E5ECF6",
            "gridcolor": "white",
            "gridwidth": 2,
            "linecolor": "white",
            "showbackground": true,
            "ticks": "",
            "zerolinecolor": "white"
           },
           "zaxis": {
            "backgroundcolor": "#E5ECF6",
            "gridcolor": "white",
            "gridwidth": 2,
            "linecolor": "white",
            "showbackground": true,
            "ticks": "",
            "zerolinecolor": "white"
           }
          },
          "shapedefaults": {
           "line": {
            "color": "#2a3f5f"
           }
          },
          "ternary": {
           "aaxis": {
            "gridcolor": "white",
            "linecolor": "white",
            "ticks": ""
           },
           "baxis": {
            "gridcolor": "white",
            "linecolor": "white",
            "ticks": ""
           },
           "bgcolor": "#E5ECF6",
           "caxis": {
            "gridcolor": "white",
            "linecolor": "white",
            "ticks": ""
           }
          },
          "title": {
           "x": 0.05
          },
          "xaxis": {
           "automargin": true,
           "gridcolor": "white",
           "linecolor": "white",
           "ticks": "",
           "title": {
            "standoff": 15
           },
           "zerolinecolor": "white",
           "zerolinewidth": 2
          },
          "yaxis": {
           "automargin": true,
           "gridcolor": "white",
           "linecolor": "white",
           "ticks": "",
           "title": {
            "standoff": 15
           },
           "zerolinecolor": "white",
           "zerolinewidth": 2
          }
         }
        },
        "title": {
         "text": "Visualize star count per star type"
        },
        "width": 800,
        "xaxis": {
         "anchor": "y",
         "categoryarray": [
          "Brown Dwarf",
          "Red Dwarf",
          "White Dwarf",
          "Main Sequence",
          "Supergiants",
          "Hypergiants"
         ],
         "categoryorder": "array",
         "domain": [
          0,
          1
         ],
         "title": {
          "text": "Star type"
         }
        },
        "yaxis": {
         "anchor": "x",
         "domain": [
          0,
          1
         ],
         "title": {
          "text": "Star type count"
         }
        }
       }
      }
     },
     "metadata": {},
     "output_type": "display_data"
    }
   ],
   "source": [
    "# Count values by star type\n",
    "star_type_counts = star_df['Star type label'].value_counts().reset_index()\n",
    "\n",
    "star_type_counts['percentage'] = (star_type_counts['Star type label'] / star_type_counts['Star type label'].sum()) * 100\n",
    "\n",
    "# Create bar chart using Plotly\n",
    "fig = px.bar(star_type_counts, x='index', y='Star type label', labels={'index' : 'Star type', 'Star type label' : 'Star type count'}, text='Star type label',\n",
    "             color='index', title='Visualize star count per star type')\n",
    "# fig.update_xaxes(ticktext=['Brown Dwarf', 'Red Dwarf', 'White Dwarf', 'Main Sequence', 'Supergiants', 'Hypergiants'],\n",
    "#                  tickvals=[0, 1, 2, 3, 4, 5])\n",
    "# fig.update_layout(showlegend=False)\n",
    "fig.update_traces(hovertemplate='Star Type: %{x}<br>Count: %{y}<br>Percentage: %{customdata:.2f}%', customdata=star_type_counts['percentage'])\n",
    "\n",
    "# Identifying the most and least common star types\n",
    "most_common = star_type_counts.loc[star_type_counts['Star type label'].idxmax()]\n",
    "least_common = star_type_counts.loc[star_type_counts['Star type label'].idxmin()]\n",
    "\n",
    "# Adding annotations\n",
    "# fig.add_annotation(x=most_common['index'], y=most_common['Star type label'],\n",
    "#                    text=\"Most common\",\n",
    "#                    showarrow=True, arrowhead=1, ax=20, ay=-30)\n",
    "\n",
    "# fig.add_annotation(x=least_common['index'], y=least_common['Star type label'],\n",
    "#                    text=\"Least common\",\n",
    "#                    showarrow=True, arrowhead=1, ax=-20, ay=30)\n",
    "\n",
    "fig.update_layout(height=600, width=800)\n",
    "\n",
    "fig.show()\n",
    "fig.write_image(base_dir+'barplot_star_count.png')"
   ]
  },
  {
   "cell_type": "code",
   "execution_count": 169,
   "metadata": {},
   "outputs": [
    {
     "data": {
      "application/vnd.plotly.v1+json": {
       "config": {
        "plotlyServerURL": "https://plot.ly"
       },
       "data": [
        {
         "alignmentgroup": "True",
         "hovertemplate": "Star color=%{x}<br>Count=%{text}<extra></extra>",
         "legendgroup": "Red",
         "marker": {
          "color": "OrangeRed",
          "pattern": {
           "shape": ""
          }
         },
         "name": "Red",
         "offsetgroup": "Red",
         "orientation": "v",
         "showlegend": true,
         "text": [
          116
         ],
         "textposition": "auto",
         "type": "bar",
         "x": [
          "Red"
         ],
         "xaxis": "x",
         "y": [
          116
         ],
         "yaxis": "y"
        },
        {
         "alignmentgroup": "True",
         "hovertemplate": "Star color=%{x}<br>Count=%{text}<extra></extra>",
         "legendgroup": "Blue",
         "marker": {
          "color": "blue",
          "pattern": {
           "shape": ""
          }
         },
         "name": "Blue",
         "offsetgroup": "Blue",
         "orientation": "v",
         "showlegend": true,
         "text": [
          56
         ],
         "textposition": "auto",
         "type": "bar",
         "x": [
          "Blue"
         ],
         "xaxis": "x",
         "y": [
          56
         ],
         "yaxis": "y"
        },
        {
         "alignmentgroup": "True",
         "hovertemplate": "Star color=%{x}<br>Count=%{text}<extra></extra>",
         "legendgroup": "Blue-White",
         "marker": {
          "color": "lightblue",
          "pattern": {
           "shape": ""
          }
         },
         "name": "Blue-White",
         "offsetgroup": "Blue-White",
         "orientation": "v",
         "showlegend": true,
         "text": [
          41
         ],
         "textposition": "auto",
         "type": "bar",
         "x": [
          "Blue-White"
         ],
         "xaxis": "x",
         "y": [
          41
         ],
         "yaxis": "y"
        },
        {
         "alignmentgroup": "True",
         "hovertemplate": "Star color=%{x}<br>Count=%{text}<extra></extra>",
         "legendgroup": "Yellow-White",
         "marker": {
          "color": "yellow",
          "pattern": {
           "shape": ""
          }
         },
         "name": "Yellow-White",
         "offsetgroup": "Yellow-White",
         "orientation": "v",
         "showlegend": true,
         "text": [
          15
         ],
         "textposition": "auto",
         "type": "bar",
         "x": [
          "Yellow-White"
         ],
         "xaxis": "x",
         "y": [
          15
         ],
         "yaxis": "y"
        },
        {
         "alignmentgroup": "True",
         "hovertemplate": "Star color=%{x}<br>Count=%{text}<extra></extra>",
         "legendgroup": "White",
         "marker": {
          "color": "azure",
          "pattern": {
           "shape": ""
          }
         },
         "name": "White",
         "offsetgroup": "White",
         "orientation": "v",
         "showlegend": true,
         "text": [
          12
         ],
         "textposition": "auto",
         "type": "bar",
         "x": [
          "White"
         ],
         "xaxis": "x",
         "y": [
          12
         ],
         "yaxis": "y"
        }
       ],
       "layout": {
        "barmode": "relative",
        "height": 600,
        "legend": {
         "title": {
          "text": "Star color"
         },
         "tracegroupgap": 0
        },
        "template": {
         "data": {
          "bar": [
           {
            "error_x": {
             "color": "#2a3f5f"
            },
            "error_y": {
             "color": "#2a3f5f"
            },
            "marker": {
             "line": {
              "color": "#E5ECF6",
              "width": 0.5
             },
             "pattern": {
              "fillmode": "overlay",
              "size": 10,
              "solidity": 0.2
             }
            },
            "type": "bar"
           }
          ],
          "barpolar": [
           {
            "marker": {
             "line": {
              "color": "#E5ECF6",
              "width": 0.5
             },
             "pattern": {
              "fillmode": "overlay",
              "size": 10,
              "solidity": 0.2
             }
            },
            "type": "barpolar"
           }
          ],
          "carpet": [
           {
            "aaxis": {
             "endlinecolor": "#2a3f5f",
             "gridcolor": "white",
             "linecolor": "white",
             "minorgridcolor": "white",
             "startlinecolor": "#2a3f5f"
            },
            "baxis": {
             "endlinecolor": "#2a3f5f",
             "gridcolor": "white",
             "linecolor": "white",
             "minorgridcolor": "white",
             "startlinecolor": "#2a3f5f"
            },
            "type": "carpet"
           }
          ],
          "choropleth": [
           {
            "colorbar": {
             "outlinewidth": 0,
             "ticks": ""
            },
            "type": "choropleth"
           }
          ],
          "contour": [
           {
            "colorbar": {
             "outlinewidth": 0,
             "ticks": ""
            },
            "colorscale": [
             [
              0,
              "#0d0887"
             ],
             [
              0.1111111111111111,
              "#46039f"
             ],
             [
              0.2222222222222222,
              "#7201a8"
             ],
             [
              0.3333333333333333,
              "#9c179e"
             ],
             [
              0.4444444444444444,
              "#bd3786"
             ],
             [
              0.5555555555555556,
              "#d8576b"
             ],
             [
              0.6666666666666666,
              "#ed7953"
             ],
             [
              0.7777777777777778,
              "#fb9f3a"
             ],
             [
              0.8888888888888888,
              "#fdca26"
             ],
             [
              1,
              "#f0f921"
             ]
            ],
            "type": "contour"
           }
          ],
          "contourcarpet": [
           {
            "colorbar": {
             "outlinewidth": 0,
             "ticks": ""
            },
            "type": "contourcarpet"
           }
          ],
          "heatmap": [
           {
            "colorbar": {
             "outlinewidth": 0,
             "ticks": ""
            },
            "colorscale": [
             [
              0,
              "#0d0887"
             ],
             [
              0.1111111111111111,
              "#46039f"
             ],
             [
              0.2222222222222222,
              "#7201a8"
             ],
             [
              0.3333333333333333,
              "#9c179e"
             ],
             [
              0.4444444444444444,
              "#bd3786"
             ],
             [
              0.5555555555555556,
              "#d8576b"
             ],
             [
              0.6666666666666666,
              "#ed7953"
             ],
             [
              0.7777777777777778,
              "#fb9f3a"
             ],
             [
              0.8888888888888888,
              "#fdca26"
             ],
             [
              1,
              "#f0f921"
             ]
            ],
            "type": "heatmap"
           }
          ],
          "heatmapgl": [
           {
            "colorbar": {
             "outlinewidth": 0,
             "ticks": ""
            },
            "colorscale": [
             [
              0,
              "#0d0887"
             ],
             [
              0.1111111111111111,
              "#46039f"
             ],
             [
              0.2222222222222222,
              "#7201a8"
             ],
             [
              0.3333333333333333,
              "#9c179e"
             ],
             [
              0.4444444444444444,
              "#bd3786"
             ],
             [
              0.5555555555555556,
              "#d8576b"
             ],
             [
              0.6666666666666666,
              "#ed7953"
             ],
             [
              0.7777777777777778,
              "#fb9f3a"
             ],
             [
              0.8888888888888888,
              "#fdca26"
             ],
             [
              1,
              "#f0f921"
             ]
            ],
            "type": "heatmapgl"
           }
          ],
          "histogram": [
           {
            "marker": {
             "pattern": {
              "fillmode": "overlay",
              "size": 10,
              "solidity": 0.2
             }
            },
            "type": "histogram"
           }
          ],
          "histogram2d": [
           {
            "colorbar": {
             "outlinewidth": 0,
             "ticks": ""
            },
            "colorscale": [
             [
              0,
              "#0d0887"
             ],
             [
              0.1111111111111111,
              "#46039f"
             ],
             [
              0.2222222222222222,
              "#7201a8"
             ],
             [
              0.3333333333333333,
              "#9c179e"
             ],
             [
              0.4444444444444444,
              "#bd3786"
             ],
             [
              0.5555555555555556,
              "#d8576b"
             ],
             [
              0.6666666666666666,
              "#ed7953"
             ],
             [
              0.7777777777777778,
              "#fb9f3a"
             ],
             [
              0.8888888888888888,
              "#fdca26"
             ],
             [
              1,
              "#f0f921"
             ]
            ],
            "type": "histogram2d"
           }
          ],
          "histogram2dcontour": [
           {
            "colorbar": {
             "outlinewidth": 0,
             "ticks": ""
            },
            "colorscale": [
             [
              0,
              "#0d0887"
             ],
             [
              0.1111111111111111,
              "#46039f"
             ],
             [
              0.2222222222222222,
              "#7201a8"
             ],
             [
              0.3333333333333333,
              "#9c179e"
             ],
             [
              0.4444444444444444,
              "#bd3786"
             ],
             [
              0.5555555555555556,
              "#d8576b"
             ],
             [
              0.6666666666666666,
              "#ed7953"
             ],
             [
              0.7777777777777778,
              "#fb9f3a"
             ],
             [
              0.8888888888888888,
              "#fdca26"
             ],
             [
              1,
              "#f0f921"
             ]
            ],
            "type": "histogram2dcontour"
           }
          ],
          "mesh3d": [
           {
            "colorbar": {
             "outlinewidth": 0,
             "ticks": ""
            },
            "type": "mesh3d"
           }
          ],
          "parcoords": [
           {
            "line": {
             "colorbar": {
              "outlinewidth": 0,
              "ticks": ""
             }
            },
            "type": "parcoords"
           }
          ],
          "pie": [
           {
            "automargin": true,
            "type": "pie"
           }
          ],
          "scatter": [
           {
            "fillpattern": {
             "fillmode": "overlay",
             "size": 10,
             "solidity": 0.2
            },
            "type": "scatter"
           }
          ],
          "scatter3d": [
           {
            "line": {
             "colorbar": {
              "outlinewidth": 0,
              "ticks": ""
             }
            },
            "marker": {
             "colorbar": {
              "outlinewidth": 0,
              "ticks": ""
             }
            },
            "type": "scatter3d"
           }
          ],
          "scattercarpet": [
           {
            "marker": {
             "colorbar": {
              "outlinewidth": 0,
              "ticks": ""
             }
            },
            "type": "scattercarpet"
           }
          ],
          "scattergeo": [
           {
            "marker": {
             "colorbar": {
              "outlinewidth": 0,
              "ticks": ""
             }
            },
            "type": "scattergeo"
           }
          ],
          "scattergl": [
           {
            "marker": {
             "colorbar": {
              "outlinewidth": 0,
              "ticks": ""
             }
            },
            "type": "scattergl"
           }
          ],
          "scattermapbox": [
           {
            "marker": {
             "colorbar": {
              "outlinewidth": 0,
              "ticks": ""
             }
            },
            "type": "scattermapbox"
           }
          ],
          "scatterpolar": [
           {
            "marker": {
             "colorbar": {
              "outlinewidth": 0,
              "ticks": ""
             }
            },
            "type": "scatterpolar"
           }
          ],
          "scatterpolargl": [
           {
            "marker": {
             "colorbar": {
              "outlinewidth": 0,
              "ticks": ""
             }
            },
            "type": "scatterpolargl"
           }
          ],
          "scatterternary": [
           {
            "marker": {
             "colorbar": {
              "outlinewidth": 0,
              "ticks": ""
             }
            },
            "type": "scatterternary"
           }
          ],
          "surface": [
           {
            "colorbar": {
             "outlinewidth": 0,
             "ticks": ""
            },
            "colorscale": [
             [
              0,
              "#0d0887"
             ],
             [
              0.1111111111111111,
              "#46039f"
             ],
             [
              0.2222222222222222,
              "#7201a8"
             ],
             [
              0.3333333333333333,
              "#9c179e"
             ],
             [
              0.4444444444444444,
              "#bd3786"
             ],
             [
              0.5555555555555556,
              "#d8576b"
             ],
             [
              0.6666666666666666,
              "#ed7953"
             ],
             [
              0.7777777777777778,
              "#fb9f3a"
             ],
             [
              0.8888888888888888,
              "#fdca26"
             ],
             [
              1,
              "#f0f921"
             ]
            ],
            "type": "surface"
           }
          ],
          "table": [
           {
            "cells": {
             "fill": {
              "color": "#EBF0F8"
             },
             "line": {
              "color": "white"
             }
            },
            "header": {
             "fill": {
              "color": "#C8D4E3"
             },
             "line": {
              "color": "white"
             }
            },
            "type": "table"
           }
          ]
         },
         "layout": {
          "annotationdefaults": {
           "arrowcolor": "#2a3f5f",
           "arrowhead": 0,
           "arrowwidth": 1
          },
          "autotypenumbers": "strict",
          "coloraxis": {
           "colorbar": {
            "outlinewidth": 0,
            "ticks": ""
           }
          },
          "colorscale": {
           "diverging": [
            [
             0,
             "#8e0152"
            ],
            [
             0.1,
             "#c51b7d"
            ],
            [
             0.2,
             "#de77ae"
            ],
            [
             0.3,
             "#f1b6da"
            ],
            [
             0.4,
             "#fde0ef"
            ],
            [
             0.5,
             "#f7f7f7"
            ],
            [
             0.6,
             "#e6f5d0"
            ],
            [
             0.7,
             "#b8e186"
            ],
            [
             0.8,
             "#7fbc41"
            ],
            [
             0.9,
             "#4d9221"
            ],
            [
             1,
             "#276419"
            ]
           ],
           "sequential": [
            [
             0,
             "#0d0887"
            ],
            [
             0.1111111111111111,
             "#46039f"
            ],
            [
             0.2222222222222222,
             "#7201a8"
            ],
            [
             0.3333333333333333,
             "#9c179e"
            ],
            [
             0.4444444444444444,
             "#bd3786"
            ],
            [
             0.5555555555555556,
             "#d8576b"
            ],
            [
             0.6666666666666666,
             "#ed7953"
            ],
            [
             0.7777777777777778,
             "#fb9f3a"
            ],
            [
             0.8888888888888888,
             "#fdca26"
            ],
            [
             1,
             "#f0f921"
            ]
           ],
           "sequentialminus": [
            [
             0,
             "#0d0887"
            ],
            [
             0.1111111111111111,
             "#46039f"
            ],
            [
             0.2222222222222222,
             "#7201a8"
            ],
            [
             0.3333333333333333,
             "#9c179e"
            ],
            [
             0.4444444444444444,
             "#bd3786"
            ],
            [
             0.5555555555555556,
             "#d8576b"
            ],
            [
             0.6666666666666666,
             "#ed7953"
            ],
            [
             0.7777777777777778,
             "#fb9f3a"
            ],
            [
             0.8888888888888888,
             "#fdca26"
            ],
            [
             1,
             "#f0f921"
            ]
           ]
          },
          "colorway": [
           "#636efa",
           "#EF553B",
           "#00cc96",
           "#ab63fa",
           "#FFA15A",
           "#19d3f3",
           "#FF6692",
           "#B6E880",
           "#FF97FF",
           "#FECB52"
          ],
          "font": {
           "color": "#2a3f5f"
          },
          "geo": {
           "bgcolor": "white",
           "lakecolor": "white",
           "landcolor": "#E5ECF6",
           "showlakes": true,
           "showland": true,
           "subunitcolor": "white"
          },
          "hoverlabel": {
           "align": "left"
          },
          "hovermode": "closest",
          "mapbox": {
           "style": "light"
          },
          "paper_bgcolor": "white",
          "plot_bgcolor": "#E5ECF6",
          "polar": {
           "angularaxis": {
            "gridcolor": "white",
            "linecolor": "white",
            "ticks": ""
           },
           "bgcolor": "#E5ECF6",
           "radialaxis": {
            "gridcolor": "white",
            "linecolor": "white",
            "ticks": ""
           }
          },
          "scene": {
           "xaxis": {
            "backgroundcolor": "#E5ECF6",
            "gridcolor": "white",
            "gridwidth": 2,
            "linecolor": "white",
            "showbackground": true,
            "ticks": "",
            "zerolinecolor": "white"
           },
           "yaxis": {
            "backgroundcolor": "#E5ECF6",
            "gridcolor": "white",
            "gridwidth": 2,
            "linecolor": "white",
            "showbackground": true,
            "ticks": "",
            "zerolinecolor": "white"
           },
           "zaxis": {
            "backgroundcolor": "#E5ECF6",
            "gridcolor": "white",
            "gridwidth": 2,
            "linecolor": "white",
            "showbackground": true,
            "ticks": "",
            "zerolinecolor": "white"
           }
          },
          "shapedefaults": {
           "line": {
            "color": "#2a3f5f"
           }
          },
          "ternary": {
           "aaxis": {
            "gridcolor": "white",
            "linecolor": "white",
            "ticks": ""
           },
           "baxis": {
            "gridcolor": "white",
            "linecolor": "white",
            "ticks": ""
           },
           "bgcolor": "#E5ECF6",
           "caxis": {
            "gridcolor": "white",
            "linecolor": "white",
            "ticks": ""
           }
          },
          "title": {
           "x": 0.05
          },
          "xaxis": {
           "automargin": true,
           "gridcolor": "white",
           "linecolor": "white",
           "ticks": "",
           "title": {
            "standoff": 15
           },
           "zerolinecolor": "white",
           "zerolinewidth": 2
          },
          "yaxis": {
           "automargin": true,
           "gridcolor": "white",
           "linecolor": "white",
           "ticks": "",
           "title": {
            "standoff": 15
           },
           "zerolinecolor": "white",
           "zerolinewidth": 2
          }
         }
        },
        "title": {
         "text": "Visualizing the count of Star Colors"
        },
        "width": 800,
        "xaxis": {
         "anchor": "y",
         "categoryarray": [
          "Red",
          "Blue",
          "Blue-White",
          "Yellow-White",
          "White"
         ],
         "categoryorder": "array",
         "domain": [
          0,
          1
         ],
         "title": {
          "text": "Star color"
         }
        },
        "yaxis": {
         "anchor": "x",
         "domain": [
          0,
          1
         ],
         "title": {
          "text": "Count"
         }
        }
       }
      }
     },
     "metadata": {},
     "output_type": "display_data"
    }
   ],
   "source": [
    "# Calculating value counts for 'Star color'\n",
    "star_color_counts = star_df['Star color'].value_counts().reset_index()\n",
    "star_color_counts.columns = ['Star color', 'Count']\n",
    "\n",
    "# Creating the bar plot\n",
    "fig = px.bar(star_color_counts, x='Star color', y='Count', \n",
    "             title='Visualizing the count of Star Colors',\n",
    "             text='Count', # This adds labels to the bars\n",
    "             color='Star color', # This changes the color of the bars based on the 'Star color' column\n",
    "             color_discrete_map= {'Red': 'OrangeRed', 'Blue' : 'blue', 'Blue-White': 'lightblue', 'White': 'azure', 'Yellow-White': 'yellow'})\n",
    "\n",
    "fig.update_layout(height=600, width=800)\n",
    "fig.show()\n",
    "\n",
    "# To save the figure\n",
    "fig.write_image(base_dir+'star_colors_viz.png')"
   ]
  },
  {
   "cell_type": "markdown",
   "metadata": {},
   "source": [
    "### Visualize outliers\n",
    "- ```plt.subplot(rows, cols, position)``` here position indicates out of all the rows & columns, which position to plot in.\n",
    "- For example, ```plt.subplot(2, 3, 2)``` means that create a plot on the second postion of 6 available positions."
   ]
  },
  {
   "cell_type": "code",
   "execution_count": 170,
   "metadata": {},
   "outputs": [
    {
     "data": {
      "image/png": "[encoded data removed]",
      "text/plain": [
       "<Figure size 2000x800 with 4 Axes>"
      ]
     },
     "metadata": {},
     "output_type": "display_data"
    }
   ],
   "source": [
    "# Visualize Outliers in the Data\n",
    "plt.figure(figsize=(20,8))\n",
    "plt.style.use('default')\n",
    "plt.suptitle('Visualizing the outliers in Numeric features of Star Type',\n",
    "             color='black', weight='bold', fontsize=15)\n",
    "\n",
    "# Using for loop to easily repeat some steps to create subplot\n",
    "for i in range(4):\n",
    "  plt.subplot(1, 4, i+1)\n",
    "  sns.boxplot(x=star_df['Star type'], y=star_df.iloc[:, i])\n",
    "  plt.title(star_df.columns[i], color='red')\n",
    "  plt.ylabel('')\n",
    "\n",
    "# Saving the figure\n",
    "plt.savefig(base_dir+'boxplot_star_type.png')"
   ]
  },
  {
   "cell_type": "code",
   "execution_count": 171,
   "metadata": {},
   "outputs": [
    {
     "data": {
      "application/vnd.plotly.v1+json": {
       "config": {
        "plotlyServerURL": "https://plot.ly"
       },
       "data": [
        {
         "name": "Temperature (K)",
         "type": "box",
         "x": [
          "Brown Dwarf",
          "Brown Dwarf",
          "Brown Dwarf",
          "Brown Dwarf",
          "Brown Dwarf",
          "Brown Dwarf",
          "Brown Dwarf",
          "Brown Dwarf",
          "Brown Dwarf",
          "Brown Dwarf",
          "Red Dwarf",
          "Red Dwarf",
          "Red Dwarf",
          "Red Dwarf",
          "Red Dwarf",
          "Red Dwarf",
          "Red Dwarf",
          "Red Dwarf",
          "Red Dwarf",
          "Red Dwarf",
          "White Dwarf",
          "White Dwarf",
          "White Dwarf",
          "White Dwarf",
          "White Dwarf",
          "White Dwarf",
          "White Dwarf",
          "White Dwarf",
          "White Dwarf",
          "White Dwarf",
          "Main Sequence",
          "Main Sequence",
          "Main Sequence",
          "Main Sequence",
          "Main Sequence",
          "Main Sequence",
          "Main Sequence",
          "Main Sequence",
          "Main Sequence",
          "Main Sequence",
          "Supergiants",
          "Supergiants",
          "Supergiants",
          "Supergiants",
          "Supergiants",
          "Supergiants",
          "Supergiants",
          "Supergiants",
          "Supergiants",
          "Supergiants",
          "Hypergiants",
          "Hypergiants",
          "Hypergiants",
          "Hypergiants",
          "Hypergiants",
          "Hypergiants",
          "Hypergiants",
          "Hypergiants",
          "Hypergiants",
          "Hypergiants",
          "Brown Dwarf",
          "Brown Dwarf",
          "Brown Dwarf",
          "Brown Dwarf",
          "Brown Dwarf",
          "Brown Dwarf",
          "Brown Dwarf",
          "Brown Dwarf",
          "Brown Dwarf",
          "Brown Dwarf",
          "Red Dwarf",
          "Red Dwarf",
          "Red Dwarf",
          "Red Dwarf",
          "Red Dwarf",
          "Red Dwarf",
          "Red Dwarf",
          "Red Dwarf",
          "Red Dwarf",
          "Red Dwarf",
          "White Dwarf",
          "White Dwarf",
          "White Dwarf",
          "White Dwarf",
          "White Dwarf",
          "White Dwarf",
          "White Dwarf",
          "White Dwarf",
          "White Dwarf",
          "White Dwarf",
          "Main Sequence",
          "Main Sequence",
          "Main Sequence",
          "Main Sequence",
          "Main Sequence",
          "Main Sequence",
          "Main Sequence",
          "Main Sequence",
          "Main Sequence",
          "Main Sequence",
          "Supergiants",
          "Supergiants",
          "Supergiants",
          "Supergiants",
          "Supergiants",
          "Supergiants",
          "Supergiants",
          "Supergiants",
          "Supergiants",
          "Supergiants",
          "Hypergiants",
          "Hypergiants",
          "Hypergiants",
          "Hypergiants",
          "Hypergiants",
          "Hypergiants",
          "Hypergiants",
          "Hypergiants",
          "Hypergiants",
          "Hypergiants",
          "Brown Dwarf",
          "Brown Dwarf",
          "Brown Dwarf",
          "Brown Dwarf",
          "Brown Dwarf",
          "Brown Dwarf",
          "Brown Dwarf",
          "Brown Dwarf",
          "Brown Dwarf",
          "Brown Dwarf",
          "Red Dwarf",
          "Red Dwarf",
          "Red Dwarf",
          "Red Dwarf",
          "Red Dwarf",
          "Red Dwarf",
          "Red Dwarf",
          "Red Dwarf",
          "Red Dwarf",
          "Red Dwarf",
          "White Dwarf",
          "White Dwarf",
          "White Dwarf",
          "White Dwarf",
          "White Dwarf",
          "White Dwarf",
          "White Dwarf",
          "White Dwarf",
          "White Dwarf",
          "White Dwarf",
          "Main Sequence",
          "Main Sequence",
          "Main Sequence",
          "Main Sequence",
          "Main Sequence",
          "Main Sequence",
          "Main Sequence",
          "Main Sequence",
          "Main Sequence",
          "Main Sequence",
          "Supergiants",
          "Supergiants",
          "Supergiants",
          "Supergiants",
          "Supergiants",
          "Supergiants",
          "Supergiants",
          "Supergiants",
          "Supergiants",
          "Supergiants",
          "Hypergiants",
          "Hypergiants",
          "Hypergiants",
          "Hypergiants",
          "Hypergiants",
          "Hypergiants",
          "Hypergiants",
          "Hypergiants",
          "Hypergiants",
          "Hypergiants",
          "Brown Dwarf",
          "Brown Dwarf",
          "Brown Dwarf",
          "Brown Dwarf",
          "Brown Dwarf",
          "Brown Dwarf",
          "Brown Dwarf",
          "Brown Dwarf",
          "Brown Dwarf",
          "Brown Dwarf",
          "Red Dwarf",
          "Red Dwarf",
          "Red Dwarf",
          "Red Dwarf",
          "Red Dwarf",
          "Red Dwarf",
          "Red Dwarf",
          "Red Dwarf",
          "Red Dwarf",
          "Red Dwarf",
          "White Dwarf",
          "White Dwarf",
          "White Dwarf",
          "White Dwarf",
          "White Dwarf",
          "White Dwarf",
          "White Dwarf",
          "White Dwarf",
          "White Dwarf",
          "White Dwarf",
          "Main Sequence",
          "Main Sequence",
          "Main Sequence",
          "Main Sequence",
          "Main Sequence",
          "Main Sequence",
          "Main Sequence",
          "Main Sequence",
          "Main Sequence",
          "Main Sequence",
          "Supergiants",
          "Supergiants",
          "Supergiants",
          "Supergiants",
          "Supergiants",
          "Supergiants",
          "Supergiants",
          "Supergiants",
          "Supergiants",
          "Supergiants",
          "Hypergiants",
          "Hypergiants",
          "Hypergiants",
          "Hypergiants",
          "Hypergiants",
          "Hypergiants",
          "Hypergiants",
          "Hypergiants",
          "Hypergiants",
          "Hypergiants"
         ],
         "xaxis": "x",
         "y": [
          3068,
          3042,
          2600,
          2800,
          1939,
          2840,
          2637,
          2600,
          2650,
          2700,
          3600,
          3129,
          3134,
          3628,
          2650,
          3340,
          2799,
          3692,
          3192,
          3441,
          25000,
          7740,
          7220,
          8500,
          16500,
          12990,
          8570,
          7700,
          11790,
          7230,
          39000,
          30000,
          15276,
          9700,
          5800,
          8052,
          6757,
          6380,
          5936,
          5587,
          3826,
          3365,
          3270,
          3200,
          3008,
          3600,
          3575,
          3574,
          3625,
          33750,
          3490,
          3750,
          3834,
          3749,
          3650,
          3450,
          3660,
          3450,
          3752,
          3535,
          3341,
          3432,
          2983,
          2835,
          2935,
          3295,
          2945,
          2817,
          2774,
          2871,
          3345,
          3607,
          3304,
          3150,
          3550,
          3180,
          2890,
          3342,
          2621,
          3158,
          7100,
          10574,
          8930,
          17200,
          14100,
          9675,
          12010,
          10980,
          13720,
          19860,
          5300,
          4526,
          4077,
          4980,
          9030,
          11250,
          5112,
          7720,
          12098,
          36108,
          33300,
          40000,
          23000,
          17120,
          11096,
          14245,
          24630,
          12893,
          24345,
          33421,
          3459,
          3605,
          3615,
          3399,
          3610,
          3553,
          4015,
          3625,
          6850,
          3780,
          3323,
          3531,
          3218,
          3146,
          3511,
          3225,
          2935,
          2861,
          2856,
          2731,
          3095,
          3607,
          3100,
          2989,
          3542,
          3243,
          3091,
          3598,
          3324,
          3541,
          13420,
          21020,
          18290,
          14520,
          11900,
          8924,
          12912,
          14732,
          7723,
          12984,
          29560,
          8945,
          14060,
          16390,
          25070,
          28700,
          26140,
          20120,
          13023,
          37800,
          25390,
          11567,
          12675,
          5752,
          8927,
          7282,
          19923,
          26373,
          17383,
          9373,
          3570,
          3500,
          4287,
          26000,
          3600,
          3614,
          18000,
          11000,
          12100,
          24490,
          2831,
          2914,
          3419,
          3218,
          3453,
          2889,
          2968,
          3484,
          2778,
          3523,
          3462,
          3257,
          2994,
          3212,
          3523,
          3598,
          3142,
          3496,
          3324,
          3463,
          16790,
          15680,
          14982,
          13340,
          18340,
          19920,
          24020,
          23092,
          17920,
          19360,
          22350,
          10012,
          13089,
          22012,
          34190,
          32460,
          9320,
          19400,
          17140,
          8250,
          23678,
          12749,
          9383,
          23440,
          16787,
          18734,
          9892,
          10930,
          23095,
          21738,
          24145,
          38234,
          32489,
          27739,
          21904,
          38940,
          30839,
          8829,
          9235,
          37882
         ],
         "yaxis": "y"
        },
        {
         "name": "Luminosity(L/Lo)",
         "type": "box",
         "x": [
          "Brown Dwarf",
          "Brown Dwarf",
          "Brown Dwarf",
          "Brown Dwarf",
          "Brown Dwarf",
          "Brown Dwarf",
          "Brown Dwarf",
          "Brown Dwarf",
          "Brown Dwarf",
          "Brown Dwarf",
          "Red Dwarf",
          "Red Dwarf",
          "Red Dwarf",
          "Red Dwarf",
          "Red Dwarf",
          "Red Dwarf",
          "Red Dwarf",
          "Red Dwarf",
          "Red Dwarf",
          "Red Dwarf",
          "White Dwarf",
          "White Dwarf",
          "White Dwarf",
          "White Dwarf",
          "White Dwarf",
          "White Dwarf",
          "White Dwarf",
          "White Dwarf",
          "White Dwarf",
          "White Dwarf",
          "Main Sequence",
          "Main Sequence",
          "Main Sequence",
          "Main Sequence",
          "Main Sequence",
          "Main Sequence",
          "Main Sequence",
          "Main Sequence",
          "Main Sequence",
          "Main Sequence",
          "Supergiants",
          "Supergiants",
          "Supergiants",
          "Supergiants",
          "Supergiants",
          "Supergiants",
          "Supergiants",
          "Supergiants",
          "Supergiants",
          "Supergiants",
          "Hypergiants",
          "Hypergiants",
          "Hypergiants",
          "Hypergiants",
          "Hypergiants",
          "Hypergiants",
          "Hypergiants",
          "Hypergiants",
          "Hypergiants",
          "Hypergiants",
          "Brown Dwarf",
          "Brown Dwarf",
          "Brown Dwarf",
          "Brown Dwarf",
          "Brown Dwarf",
          "Brown Dwarf",
          "Brown Dwarf",
          "Brown Dwarf",
          "Brown Dwarf",
          "Brown Dwarf",
          "Red Dwarf",
          "Red Dwarf",
          "Red Dwarf",
          "Red Dwarf",
          "Red Dwarf",
          "Red Dwarf",
          "Red Dwarf",
          "Red Dwarf",
          "Red Dwarf",
          "Red Dwarf",
          "White Dwarf",
          "White Dwarf",
          "White Dwarf",
          "White Dwarf",
          "White Dwarf",
          "White Dwarf",
          "White Dwarf",
          "White Dwarf",
          "White Dwarf",
          "White Dwarf",
          "Main Sequence",
          "Main Sequence",
          "Main Sequence",
          "Main Sequence",
          "Main Sequence",
          "Main Sequence",
          "Main Sequence",
          "Main Sequence",
          "Main Sequence",
          "Main Sequence",
          "Supergiants",
          "Supergiants",
          "Supergiants",
          "Supergiants",
          "Supergiants",
          "Supergiants",
          "Supergiants",
          "Supergiants",
          "Supergiants",
          "Supergiants",
          "Hypergiants",
          "Hypergiants",
          "Hypergiants",
          "Hypergiants",
          "Hypergiants",
          "Hypergiants",
          "Hypergiants",
          "Hypergiants",
          "Hypergiants",
          "Hypergiants",
          "Brown Dwarf",
          "Brown Dwarf",
          "Brown Dwarf",
          "Brown Dwarf",
          "Brown Dwarf",
          "Brown Dwarf",
          "Brown Dwarf",
          "Brown Dwarf",
          "Brown Dwarf",
          "Brown Dwarf",
          "Red Dwarf",
          "Red Dwarf",
          "Red Dwarf",
          "Red Dwarf",
          "Red Dwarf",
          "Red Dwarf",
          "Red Dwarf",
          "Red Dwarf",
          "Red Dwarf",
          "Red Dwarf",
          "White Dwarf",
          "White Dwarf",
          "White Dwarf",
          "White Dwarf",
          "White Dwarf",
          "White Dwarf",
          "White Dwarf",
          "White Dwarf",
          "White Dwarf",
          "White Dwarf",
          "Main Sequence",
          "Main Sequence",
          "Main Sequence",
          "Main Sequence",
          "Main Sequence",
          "Main Sequence",
          "Main Sequence",
          "Main Sequence",
          "Main Sequence",
          "Main Sequence",
          "Supergiants",
          "Supergiants",
          "Supergiants",
          "Supergiants",
          "Supergiants",
          "Supergiants",
          "Supergiants",
          "Supergiants",
          "Supergiants",
          "Supergiants",
          "Hypergiants",
          "Hypergiants",
          "Hypergiants",
          "Hypergiants",
          "Hypergiants",
          "Hypergiants",
          "Hypergiants",
          "Hypergiants",
          "Hypergiants",
          "Hypergiants",
          "Brown Dwarf",
          "Brown Dwarf",
          "Brown Dwarf",
          "Brown Dwarf",
          "Brown Dwarf",
          "Brown Dwarf",
          "Brown Dwarf",
          "Brown Dwarf",
          "Brown Dwarf",
          "Brown Dwarf",
          "Red Dwarf",
          "Red Dwarf",
          "Red Dwarf",
          "Red Dwarf",
          "Red Dwarf",
          "Red Dwarf",
          "Red Dwarf",
          "Red Dwarf",
          "Red Dwarf",
          "Red Dwarf",
          "White Dwarf",
          "White Dwarf",
          "White Dwarf",
          "White Dwarf",
          "White Dwarf",
          "White Dwarf",
          "White Dwarf",
          "White Dwarf",
          "White Dwarf",
          "White Dwarf",
          "Main Sequence",
          "Main Sequence",
          "Main Sequence",
          "Main Sequence",
          "Main Sequence",
          "Main Sequence",
          "Main Sequence",
          "Main Sequence",
          "Main Sequence",
          "Main Sequence",
          "Supergiants",
          "Supergiants",
          "Supergiants",
          "Supergiants",
          "Supergiants",
          "Supergiants",
          "Supergiants",
          "Supergiants",
          "Supergiants",
          "Supergiants",
          "Hypergiants",
          "Hypergiants",
          "Hypergiants",
          "Hypergiants",
          "Hypergiants",
          "Hypergiants",
          "Hypergiants",
          "Hypergiants",
          "Hypergiants",
          "Hypergiants"
         ],
         "xaxis": "x2",
         "y": [
          0.0024,
          0.0005,
          0.0003,
          0.0002,
          0.000138,
          0.00065,
          0.00073,
          0.0004,
          0.00069,
          0.00018,
          0.0029,
          0.0122,
          0.0004,
          0.0055,
          0.0006,
          0.0038,
          0.0018,
          0.00367,
          0.00362,
          0.039,
          0.056,
          0.00049,
          0.00017,
          0.0005,
          0.013,
          0.000085,
          0.00081,
          0.00011,
          0.00015,
          0.00008,
          204000,
          28840,
          1136,
          74,
          0.81,
          8.7,
          1.43,
          1.35,
          1.357,
          0.819,
          200000,
          340000,
          150000,
          195000,
          280000,
          320000,
          123000,
          200000,
          184000,
          220000,
          270000,
          283000,
          272000,
          550000,
          310000,
          263000,
          363000,
          174000,
          209000,
          195000,
          0.0056,
          0.00067,
          0.00024,
          0.00034,
          0.00014,
          0.00098,
          0.00032,
          0.00098,
          0.00036,
          0.00072,
          0.021,
          0.022,
          0.0085,
          0.0088,
          0.004,
          0.001,
          0.0034,
          0.0015,
          0.0006,
          0.00135,
          0.00029,
          0.00014,
          0.00056,
          0.00098,
          0.00067,
          0.00045,
          0.00078,
          0.00074,
          0.00018,
          0.0011,
          0.59,
          0.153,
          0.085,
          0.357,
          45,
          672,
          0.63,
          7.92,
          689,
          198000,
          240000,
          813000,
          127000,
          235000,
          112000,
          231000,
          363000,
          184000,
          142000,
          352000,
          100000,
          126000,
          200000,
          117000,
          132000,
          145000,
          282000,
          74000,
          229000,
          200000,
          0.00043,
          0.00093,
          0.00054,
          0.00015,
          0.00064,
          0.00076,
          0.00087,
          0.00019,
          0.000896,
          0.000437,
          0.00019,
          0.00023,
          0.008,
          0.0087,
          0.0009,
          0.0023,
          0.0081,
          0.0011,
          0.0034,
          0.0013,
          0.00059,
          0.0015,
          0.0013,
          0.00082,
          0.00067,
          0.00028,
          0.00071,
          0.00011,
          0.00014,
          0.00088,
          188000,
          38,
          1092,
          1278,
          14500,
          16790,
          14520,
          4720,
          998,
          202900,
          223000,
          251000,
          452000,
          245000,
          239000,
          131000,
          152000,
          198000,
          342900,
          424520,
          320000,
          138000,
          630000,
          316000,
          240000,
          145000,
          200000,
          170000,
          120000,
          248490,
          0.000231,
          0.000631,
          0.000245,
          0.000452,
          0.000621,
          0.000352,
          0.000461,
          0.000551,
          0.000849,
          0.000957,
          0.0053,
          0.0024,
          0.0072,
          0.0016,
          0.0054,
          0.0027,
          0.00132,
          0.00125,
          0.0065,
          0.0027,
          0.0014,
          0.00122,
          0.00118,
          0.00109,
          0.00134,
          0.00156,
          0.00159,
          0.00132,
          0.00111,
          0.00125,
          12450,
          552,
          788,
          6748,
          198200,
          173800,
          29,
          10920,
          883,
          9.25,
          244290,
          332520,
          342940,
          537430,
          246730,
          224780,
          593900,
          783930,
          347820,
          748890,
          382993,
          272830,
          648430,
          849420,
          748490,
          374830,
          834042,
          537493,
          404940,
          294903
         ],
         "yaxis": "y2"
        },
        {
         "name": "Radius(R/Ro)",
         "type": "box",
         "x": [
          "Brown Dwarf",
          "Brown Dwarf",
          "Brown Dwarf",
          "Brown Dwarf",
          "Brown Dwarf",
          "Brown Dwarf",
          "Brown Dwarf",
          "Brown Dwarf",
          "Brown Dwarf",
          "Brown Dwarf",
          "Red Dwarf",
          "Red Dwarf",
          "Red Dwarf",
          "Red Dwarf",
          "Red Dwarf",
          "Red Dwarf",
          "Red Dwarf",
          "Red Dwarf",
          "Red Dwarf",
          "Red Dwarf",
          "White Dwarf",
          "White Dwarf",
          "White Dwarf",
          "White Dwarf",
          "White Dwarf",
          "White Dwarf",
          "White Dwarf",
          "White Dwarf",
          "White Dwarf",
          "White Dwarf",
          "Main Sequence",
          "Main Sequence",
          "Main Sequence",
          "Main Sequence",
          "Main Sequence",
          "Main Sequence",
          "Main Sequence",
          "Main Sequence",
          "Main Sequence",
          "Main Sequence",
          "Supergiants",
          "Supergiants",
          "Supergiants",
          "Supergiants",
          "Supergiants",
          "Supergiants",
          "Supergiants",
          "Supergiants",
          "Supergiants",
          "Supergiants",
          "Hypergiants",
          "Hypergiants",
          "Hypergiants",
          "Hypergiants",
          "Hypergiants",
          "Hypergiants",
          "Hypergiants",
          "Hypergiants",
          "Hypergiants",
          "Hypergiants",
          "Brown Dwarf",
          "Brown Dwarf",
          "Brown Dwarf",
          "Brown Dwarf",
          "Brown Dwarf",
          "Brown Dwarf",
          "Brown Dwarf",
          "Brown Dwarf",
          "Brown Dwarf",
          "Brown Dwarf",
          "Red Dwarf",
          "Red Dwarf",
          "Red Dwarf",
          "Red Dwarf",
          "Red Dwarf",
          "Red Dwarf",
          "Red Dwarf",
          "Red Dwarf",
          "Red Dwarf",
          "Red Dwarf",
          "White Dwarf",
          "White Dwarf",
          "White Dwarf",
          "White Dwarf",
          "White Dwarf",
          "White Dwarf",
          "White Dwarf",
          "White Dwarf",
          "White Dwarf",
          "White Dwarf",
          "Main Sequence",
          "Main Sequence",
          "Main Sequence",
          "Main Sequence",
          "Main Sequence",
          "Main Sequence",
          "Main Sequence",
          "Main Sequence",
          "Main Sequence",
          "Main Sequence",
          "Supergiants",
          "Supergiants",
          "Supergiants",
          "Supergiants",
          "Supergiants",
          "Supergiants",
          "Supergiants",
          "Supergiants",
          "Supergiants",
          "Supergiants",
          "Hypergiants",
          "Hypergiants",
          "Hypergiants",
          "Hypergiants",
          "Hypergiants",
          "Hypergiants",
          "Hypergiants",
          "Hypergiants",
          "Hypergiants",
          "Hypergiants",
          "Brown Dwarf",
          "Brown Dwarf",
          "Brown Dwarf",
          "Brown Dwarf",
          "Brown Dwarf",
          "Brown Dwarf",
          "Brown Dwarf",
          "Brown Dwarf",
          "Brown Dwarf",
          "Brown Dwarf",
          "Red Dwarf",
          "Red Dwarf",
          "Red Dwarf",
          "Red Dwarf",
          "Red Dwarf",
          "Red Dwarf",
          "Red Dwarf",
          "Red Dwarf",
          "Red Dwarf",
          "Red Dwarf",
          "White Dwarf",
          "White Dwarf",
          "White Dwarf",
          "White Dwarf",
          "White Dwarf",
          "White Dwarf",
          "White Dwarf",
          "White Dwarf",
          "White Dwarf",
          "White Dwarf",
          "Main Sequence",
          "Main Sequence",
          "Main Sequence",
          "Main Sequence",
          "Main Sequence",
          "Main Sequence",
          "Main Sequence",
          "Main Sequence",
          "Main Sequence",
          "Main Sequence",
          "Supergiants",
          "Supergiants",
          "Supergiants",
          "Supergiants",
          "Supergiants",
          "Supergiants",
          "Supergiants",
          "Supergiants",
          "Supergiants",
          "Supergiants",
          "Hypergiants",
          "Hypergiants",
          "Hypergiants",
          "Hypergiants",
          "Hypergiants",
          "Hypergiants",
          "Hypergiants",
          "Hypergiants",
          "Hypergiants",
          "Hypergiants",
          "Brown Dwarf",
          "Brown Dwarf",
          "Brown Dwarf",
          "Brown Dwarf",
          "Brown Dwarf",
          "Brown Dwarf",
          "Brown Dwarf",
          "Brown Dwarf",
          "Brown Dwarf",
          "Brown Dwarf",
          "Red Dwarf",
          "Red Dwarf",
          "Red Dwarf",
          "Red Dwarf",
          "Red Dwarf",
          "Red Dwarf",
          "Red Dwarf",
          "Red Dwarf",
          "Red Dwarf",
          "Red Dwarf",
          "White Dwarf",
          "White Dwarf",
          "White Dwarf",
          "White Dwarf",
          "White Dwarf",
          "White Dwarf",
          "White Dwarf",
          "White Dwarf",
          "White Dwarf",
          "White Dwarf",
          "Main Sequence",
          "Main Sequence",
          "Main Sequence",
          "Main Sequence",
          "Main Sequence",
          "Main Sequence",
          "Main Sequence",
          "Main Sequence",
          "Main Sequence",
          "Main Sequence",
          "Supergiants",
          "Supergiants",
          "Supergiants",
          "Supergiants",
          "Supergiants",
          "Supergiants",
          "Supergiants",
          "Supergiants",
          "Supergiants",
          "Supergiants",
          "Hypergiants",
          "Hypergiants",
          "Hypergiants",
          "Hypergiants",
          "Hypergiants",
          "Hypergiants",
          "Hypergiants",
          "Hypergiants",
          "Hypergiants",
          "Hypergiants"
         ],
         "xaxis": "x3",
         "y": [
          0.17,
          0.1542,
          0.102,
          0.16,
          0.103,
          0.11,
          0.127,
          0.096,
          0.11,
          0.13,
          0.51,
          0.3761,
          0.196,
          0.393,
          0.14,
          0.24,
          0.16,
          0.47,
          0.1967,
          0.351,
          0.0084,
          0.01234,
          0.011,
          0.01,
          0.014,
          0.00984,
          0.0097,
          0.0128,
          0.011,
          0.013,
          10.6,
          6.3,
          7.2,
          2.89,
          0.9,
          1.8,
          1.12,
          0.98,
          1.106,
          0.99,
          19,
          23,
          88,
          17,
          25,
          29,
          45,
          89,
          84,
          26,
          1520,
          1260,
          1183,
          1648,
          1324,
          1349,
          1673,
          1284,
          955,
          1546,
          0.057,
          0.19,
          0.094,
          0.0918,
          0.116,
          0.132,
          0.093,
          0.0911,
          0.118,
          0.12,
          0.273,
          0.38,
          0.18,
          0.35,
          0.291,
          0.35,
          0.24,
          0.307,
          0.098,
          0.161,
          0.012,
          0.0092,
          0.0095,
          0.015,
          0.0089,
          0.0109,
          0.0092,
          0.0087,
          0.00892,
          0.0131,
          0.91,
          0.865,
          0.795,
          1.13,
          2.63,
          6.98,
          0.876,
          1.34,
          7.01,
          10.2,
          12,
          14,
          36,
          83,
          12,
          42,
          63,
          36,
          57,
          67,
          1289,
          1124,
          1635,
          1486,
          1522,
          1324,
          1534,
          876,
          1467,
          1324,
          0.0912,
          0.0976,
          0.11,
          0.0932,
          0.109,
          0.121,
          0.0932,
          0.0899,
          0.0782,
          0.0856,
          0.492,
          0.38,
          0.31,
          0.34,
          0.62,
          0.73,
          0.24,
          0.56,
          0.34,
          0.256,
          0.00981,
          0.0112,
          0.00934,
          0.00972,
          0.00898,
          0.00879,
          0.00945,
          0.00892,
          0.00878,
          0.00996,
          6.02,
          2.487,
          5.745,
          5.68,
          5.92,
          6.4,
          5.49,
          6.78,
          6.21,
          6.86,
          57,
          36,
          83,
          97,
          35,
          24,
          73,
          39,
          30,
          24,
          1480,
          1420,
          1315,
          1679,
          1190,
          1553,
          1045,
          1779,
          708.9,
          1134.5,
          0.0915,
          0.116,
          0.126,
          0.0987,
          0.0773,
          0.0973,
          0.119,
          0.0998,
          0.112,
          0.129,
          0.148,
          0.46,
          0.28,
          0.378,
          0.319,
          0.67,
          0.258,
          0.336,
          0.471,
          0.675,
          0.0121,
          0.0114,
          0.0113,
          0.0116,
          0.0124,
          0.0142,
          0.0127,
          0.0104,
          0.0106,
          0.00998,
          6.36,
          5.856,
          5.992,
          6.64,
          6.39,
          6.237,
          1.91,
          6.03,
          5.653,
          1.93,
          35,
          76,
          98,
          81,
          62,
          46,
          80,
          25,
          86,
          92,
          1494,
          1356,
          1948.5,
          1252,
          1130,
          1356,
          1194,
          1423,
          1112,
          1783
         ],
         "yaxis": "y3"
        },
        {
         "name": "Absolute magnitude(Mv)",
         "type": "box",
         "x": [
          "Brown Dwarf",
          "Brown Dwarf",
          "Brown Dwarf",
          "Brown Dwarf",
          "Brown Dwarf",
          "Brown Dwarf",
          "Brown Dwarf",
          "Brown Dwarf",
          "Brown Dwarf",
          "Brown Dwarf",
          "Red Dwarf",
          "Red Dwarf",
          "Red Dwarf",
          "Red Dwarf",
          "Red Dwarf",
          "Red Dwarf",
          "Red Dwarf",
          "Red Dwarf",
          "Red Dwarf",
          "Red Dwarf",
          "White Dwarf",
          "White Dwarf",
          "White Dwarf",
          "White Dwarf",
          "White Dwarf",
          "White Dwarf",
          "White Dwarf",
          "White Dwarf",
          "White Dwarf",
          "White Dwarf",
          "Main Sequence",
          "Main Sequence",
          "Main Sequence",
          "Main Sequence",
          "Main Sequence",
          "Main Sequence",
          "Main Sequence",
          "Main Sequence",
          "Main Sequence",
          "Main Sequence",
          "Supergiants",
          "Supergiants",
          "Supergiants",
          "Supergiants",
          "Supergiants",
          "Supergiants",
          "Supergiants",
          "Supergiants",
          "Supergiants",
          "Supergiants",
          "Hypergiants",
          "Hypergiants",
          "Hypergiants",
          "Hypergiants",
          "Hypergiants",
          "Hypergiants",
          "Hypergiants",
          "Hypergiants",
          "Hypergiants",
          "Hypergiants",
          "Brown Dwarf",
          "Brown Dwarf",
          "Brown Dwarf",
          "Brown Dwarf",
          "Brown Dwarf",
          "Brown Dwarf",
          "Brown Dwarf",
          "Brown Dwarf",
          "Brown Dwarf",
          "Brown Dwarf",
          "Red Dwarf",
          "Red Dwarf",
          "Red Dwarf",
          "Red Dwarf",
          "Red Dwarf",
          "Red Dwarf",
          "Red Dwarf",
          "Red Dwarf",
          "Red Dwarf",
          "Red Dwarf",
          "White Dwarf",
          "White Dwarf",
          "White Dwarf",
          "White Dwarf",
          "White Dwarf",
          "White Dwarf",
          "White Dwarf",
          "White Dwarf",
          "White Dwarf",
          "White Dwarf",
          "Main Sequence",
          "Main Sequence",
          "Main Sequence",
          "Main Sequence",
          "Main Sequence",
          "Main Sequence",
          "Main Sequence",
          "Main Sequence",
          "Main Sequence",
          "Main Sequence",
          "Supergiants",
          "Supergiants",
          "Supergiants",
          "Supergiants",
          "Supergiants",
          "Supergiants",
          "Supergiants",
          "Supergiants",
          "Supergiants",
          "Supergiants",
          "Hypergiants",
          "Hypergiants",
          "Hypergiants",
          "Hypergiants",
          "Hypergiants",
          "Hypergiants",
          "Hypergiants",
          "Hypergiants",
          "Hypergiants",
          "Hypergiants",
          "Brown Dwarf",
          "Brown Dwarf",
          "Brown Dwarf",
          "Brown Dwarf",
          "Brown Dwarf",
          "Brown Dwarf",
          "Brown Dwarf",
          "Brown Dwarf",
          "Brown Dwarf",
          "Brown Dwarf",
          "Red Dwarf",
          "Red Dwarf",
          "Red Dwarf",
          "Red Dwarf",
          "Red Dwarf",
          "Red Dwarf",
          "Red Dwarf",
          "Red Dwarf",
          "Red Dwarf",
          "Red Dwarf",
          "White Dwarf",
          "White Dwarf",
          "White Dwarf",
          "White Dwarf",
          "White Dwarf",
          "White Dwarf",
          "White Dwarf",
          "White Dwarf",
          "White Dwarf",
          "White Dwarf",
          "Main Sequence",
          "Main Sequence",
          "Main Sequence",
          "Main Sequence",
          "Main Sequence",
          "Main Sequence",
          "Main Sequence",
          "Main Sequence",
          "Main Sequence",
          "Main Sequence",
          "Supergiants",
          "Supergiants",
          "Supergiants",
          "Supergiants",
          "Supergiants",
          "Supergiants",
          "Supergiants",
          "Supergiants",
          "Supergiants",
          "Supergiants",
          "Hypergiants",
          "Hypergiants",
          "Hypergiants",
          "Hypergiants",
          "Hypergiants",
          "Hypergiants",
          "Hypergiants",
          "Hypergiants",
          "Hypergiants",
          "Hypergiants",
          "Brown Dwarf",
          "Brown Dwarf",
          "Brown Dwarf",
          "Brown Dwarf",
          "Brown Dwarf",
          "Brown Dwarf",
          "Brown Dwarf",
          "Brown Dwarf",
          "Brown Dwarf",
          "Brown Dwarf",
          "Red Dwarf",
          "Red Dwarf",
          "Red Dwarf",
          "Red Dwarf",
          "Red Dwarf",
          "Red Dwarf",
          "Red Dwarf",
          "Red Dwarf",
          "Red Dwarf",
          "Red Dwarf",
          "White Dwarf",
          "White Dwarf",
          "White Dwarf",
          "White Dwarf",
          "White Dwarf",
          "White Dwarf",
          "White Dwarf",
          "White Dwarf",
          "White Dwarf",
          "White Dwarf",
          "Main Sequence",
          "Main Sequence",
          "Main Sequence",
          "Main Sequence",
          "Main Sequence",
          "Main Sequence",
          "Main Sequence",
          "Main Sequence",
          "Main Sequence",
          "Main Sequence",
          "Supergiants",
          "Supergiants",
          "Supergiants",
          "Supergiants",
          "Supergiants",
          "Supergiants",
          "Supergiants",
          "Supergiants",
          "Supergiants",
          "Supergiants",
          "Hypergiants",
          "Hypergiants",
          "Hypergiants",
          "Hypergiants",
          "Hypergiants",
          "Hypergiants",
          "Hypergiants",
          "Hypergiants",
          "Hypergiants",
          "Hypergiants"
         ],
         "xaxis": "x4",
         "y": [
          16.12,
          16.6,
          18.7,
          16.65,
          20.06,
          16.98,
          17.22,
          17.4,
          17.45,
          16.05,
          10.69,
          11.79,
          13.21,
          10.48,
          11.782,
          13.07,
          14.79,
          10.8,
          13.53,
          11.18,
          10.58,
          14.02,
          14.23,
          14.5,
          11.89,
          12.23,
          14.2,
          14.47,
          12.59,
          14.08,
          -4.7,
          -4.2,
          -1.97,
          0.16,
          5.05,
          2.42,
          2.41,
          2.93,
          4.46,
          5.03,
          -6.93,
          -6.2,
          -6.02,
          -7.22,
          -6,
          -6.6,
          -6.78,
          -5.24,
          -6.74,
          -6.1,
          -9.4,
          -7.63,
          -9.2,
          -8.05,
          -7.79,
          -11.75,
          -11.92,
          -11.28,
          -11.24,
          -11.36,
          16.23,
          16.94,
          16.09,
          16.96,
          18.89,
          17.13,
          18.34,
          16.45,
          17.39,
          19.43,
          12.3,
          10.12,
          13.2,
          11.94,
          10.89,
          11.76,
          13.46,
          11.87,
          12.81,
          13.98,
          14.09,
          12.02,
          13.78,
          12.45,
          12.17,
          13.98,
          12.13,
          11.19,
          12.97,
          11.34,
          5.49,
          6.506,
          6.228,
          4.78,
          1.45,
          -2.3,
          4.68,
          2.44,
          0.02,
          -4.4,
          -6.5,
          -6.23,
          -5.76,
          -6.89,
          -5.91,
          -6.12,
          -5.83,
          -6.34,
          -6.24,
          -5.79,
          -10.7,
          -10.81,
          -11.33,
          -10.92,
          -10.86,
          -11.03,
          -11.39,
          -10.25,
          -10.07,
          -10.7,
          17.16,
          19.94,
          20.02,
          16.92,
          17.12,
          19.63,
          16.88,
          16.71,
          19.56,
          18.09,
          10.87,
          10.34,
          11.17,
          13.12,
          14.23,
          14.75,
          11.43,
          14.26,
          12.23,
          14.33,
          13.67,
          11.52,
          12.78,
          11.92,
          11.38,
          14.87,
          12.83,
          12.89,
          14.81,
          11.23,
          -4.01,
          0.12,
          -2.04,
          -3.32,
          -3.98,
          -4.09,
          -3.8,
          -3.4,
          -1.38,
          -4.56,
          -5.92,
          -6.245,
          -5.62,
          -6.63,
          -7.34,
          -7.22,
          -5.69,
          -5.83,
          -6.09,
          -5.99,
          -7.58,
          -8.18,
          -9.2,
          -9.1,
          -7.89,
          -7.71,
          -8.3,
          -9.9,
          -7.84,
          -8.24,
          16.21,
          18.39,
          17.56,
          17.34,
          17.08,
          16.93,
          17.45,
          16.67,
          19.45,
          16.35,
          11.47,
          10.73,
          13.45,
          12.854,
          12.43,
          13.667,
          14.12,
          14.94,
          12.78,
          14.776,
          12.87,
          11.92,
          12.23,
          12.9,
          11.22,
          11.34,
          10.55,
          10.18,
          11.66,
          11.62,
          -3.67,
          0.013,
          -0.12,
          -2.55,
          -4.57,
          -4.36,
          1.236,
          -3.08,
          -2.64,
          -0.98,
          -6.27,
          -7.02,
          -6.98,
          -5.975,
          -6.35,
          -7.45,
          -7.262,
          -6.224,
          -5.905,
          -7.346,
          -8.84,
          -9.29,
          -10.84,
          -7.59,
          -7.67,
          -9.93,
          -10.63,
          -10.73,
          -11.23,
          -7.8
         ],
         "yaxis": "y4"
        }
       ],
       "layout": {
        "annotations": [
         {
          "font": {
           "size": 16
          },
          "showarrow": false,
          "text": "Temperature (K)",
          "x": 0.10625,
          "xanchor": "center",
          "xref": "paper",
          "y": 1,
          "yanchor": "bottom",
          "yref": "paper"
         },
         {
          "font": {
           "size": 16
          },
          "showarrow": false,
          "text": "Luminosity(L/Lo)",
          "x": 0.36875,
          "xanchor": "center",
          "xref": "paper",
          "y": 1,
          "yanchor": "bottom",
          "yref": "paper"
         },
         {
          "font": {
           "size": 16
          },
          "showarrow": false,
          "text": "Radius(R/Ro)",
          "x": 0.6312500000000001,
          "xanchor": "center",
          "xref": "paper",
          "y": 1,
          "yanchor": "bottom",
          "yref": "paper"
         },
         {
          "font": {
           "size": 16
          },
          "showarrow": false,
          "text": "Absolute magnitude(Mv)",
          "x": 0.89375,
          "xanchor": "center",
          "xref": "paper",
          "y": 1,
          "yanchor": "bottom",
          "yref": "paper"
         }
        ],
        "height": 900,
        "showlegend": false,
        "template": {
         "data": {
          "bar": [
           {
            "error_x": {
             "color": "#2a3f5f"
            },
            "error_y": {
             "color": "#2a3f5f"
            },
            "marker": {
             "line": {
              "color": "#E5ECF6",
              "width": 0.5
             },
             "pattern": {
              "fillmode": "overlay",
              "size": 10,
              "solidity": 0.2
             }
            },
            "type": "bar"
           }
          ],
          "barpolar": [
           {
            "marker": {
             "line": {
              "color": "#E5ECF6",
              "width": 0.5
             },
             "pattern": {
              "fillmode": "overlay",
              "size": 10,
              "solidity": 0.2
             }
            },
            "type": "barpolar"
           }
          ],
          "carpet": [
           {
            "aaxis": {
             "endlinecolor": "#2a3f5f",
             "gridcolor": "white",
             "linecolor": "white",
             "minorgridcolor": "white",
             "startlinecolor": "#2a3f5f"
            },
            "baxis": {
             "endlinecolor": "#2a3f5f",
             "gridcolor": "white",
             "linecolor": "white",
             "minorgridcolor": "white",
             "startlinecolor": "#2a3f5f"
            },
            "type": "carpet"
           }
          ],
          "choropleth": [
           {
            "colorbar": {
             "outlinewidth": 0,
             "ticks": ""
            },
            "type": "choropleth"
           }
          ],
          "contour": [
           {
            "colorbar": {
             "outlinewidth": 0,
             "ticks": ""
            },
            "colorscale": [
             [
              0,
              "#0d0887"
             ],
             [
              0.1111111111111111,
              "#46039f"
             ],
             [
              0.2222222222222222,
              "#7201a8"
             ],
             [
              0.3333333333333333,
              "#9c179e"
             ],
             [
              0.4444444444444444,
              "#bd3786"
             ],
             [
              0.5555555555555556,
              "#d8576b"
             ],
             [
              0.6666666666666666,
              "#ed7953"
             ],
             [
              0.7777777777777778,
              "#fb9f3a"
             ],
             [
              0.8888888888888888,
              "#fdca26"
             ],
             [
              1,
              "#f0f921"
             ]
            ],
            "type": "contour"
           }
          ],
          "contourcarpet": [
           {
            "colorbar": {
             "outlinewidth": 0,
             "ticks": ""
            },
            "type": "contourcarpet"
           }
          ],
          "heatmap": [
           {
            "colorbar": {
             "outlinewidth": 0,
             "ticks": ""
            },
            "colorscale": [
             [
              0,
              "#0d0887"
             ],
             [
              0.1111111111111111,
              "#46039f"
             ],
             [
              0.2222222222222222,
              "#7201a8"
             ],
             [
              0.3333333333333333,
              "#9c179e"
             ],
             [
              0.4444444444444444,
              "#bd3786"
             ],
             [
              0.5555555555555556,
              "#d8576b"
             ],
             [
              0.6666666666666666,
              "#ed7953"
             ],
             [
              0.7777777777777778,
              "#fb9f3a"
             ],
             [
              0.8888888888888888,
              "#fdca26"
             ],
             [
              1,
              "#f0f921"
             ]
            ],
            "type": "heatmap"
           }
          ],
          "heatmapgl": [
           {
            "colorbar": {
             "outlinewidth": 0,
             "ticks": ""
            },
            "colorscale": [
             [
              0,
              "#0d0887"
             ],
             [
              0.1111111111111111,
              "#46039f"
             ],
             [
              0.2222222222222222,
              "#7201a8"
             ],
             [
              0.3333333333333333,
              "#9c179e"
             ],
             [
              0.4444444444444444,
              "#bd3786"
             ],
             [
              0.5555555555555556,
              "#d8576b"
             ],
             [
              0.6666666666666666,
              "#ed7953"
             ],
             [
              0.7777777777777778,
              "#fb9f3a"
             ],
             [
              0.8888888888888888,
              "#fdca26"
             ],
             [
              1,
              "#f0f921"
             ]
            ],
            "type": "heatmapgl"
           }
          ],
          "histogram": [
           {
            "marker": {
             "pattern": {
              "fillmode": "overlay",
              "size": 10,
              "solidity": 0.2
             }
            },
            "type": "histogram"
           }
          ],
          "histogram2d": [
           {
            "colorbar": {
             "outlinewidth": 0,
             "ticks": ""
            },
            "colorscale": [
             [
              0,
              "#0d0887"
             ],
             [
              0.1111111111111111,
              "#46039f"
             ],
             [
              0.2222222222222222,
              "#7201a8"
             ],
             [
              0.3333333333333333,
              "#9c179e"
             ],
             [
              0.4444444444444444,
              "#bd3786"
             ],
             [
              0.5555555555555556,
              "#d8576b"
             ],
             [
              0.6666666666666666,
              "#ed7953"
             ],
             [
              0.7777777777777778,
              "#fb9f3a"
             ],
             [
              0.8888888888888888,
              "#fdca26"
             ],
             [
              1,
              "#f0f921"
             ]
            ],
            "type": "histogram2d"
           }
          ],
          "histogram2dcontour": [
           {
            "colorbar": {
             "outlinewidth": 0,
             "ticks": ""
            },
            "colorscale": [
             [
              0,
              "#0d0887"
             ],
             [
              0.1111111111111111,
              "#46039f"
             ],
             [
              0.2222222222222222,
              "#7201a8"
             ],
             [
              0.3333333333333333,
              "#9c179e"
             ],
             [
              0.4444444444444444,
              "#bd3786"
             ],
             [
              0.5555555555555556,
              "#d8576b"
             ],
             [
              0.6666666666666666,
              "#ed7953"
             ],
             [
              0.7777777777777778,
              "#fb9f3a"
             ],
             [
              0.8888888888888888,
              "#fdca26"
             ],
             [
              1,
              "#f0f921"
             ]
            ],
            "type": "histogram2dcontour"
           }
          ],
          "mesh3d": [
           {
            "colorbar": {
             "outlinewidth": 0,
             "ticks": ""
            },
            "type": "mesh3d"
           }
          ],
          "parcoords": [
           {
            "line": {
             "colorbar": {
              "outlinewidth": 0,
              "ticks": ""
             }
            },
            "type": "parcoords"
           }
          ],
          "pie": [
           {
            "automargin": true,
            "type": "pie"
           }
          ],
          "scatter": [
           {
            "fillpattern": {
             "fillmode": "overlay",
             "size": 10,
             "solidity": 0.2
            },
            "type": "scatter"
           }
          ],
          "scatter3d": [
           {
            "line": {
             "colorbar": {
              "outlinewidth": 0,
              "ticks": ""
             }
            },
            "marker": {
             "colorbar": {
              "outlinewidth": 0,
              "ticks": ""
             }
            },
            "type": "scatter3d"
           }
          ],
          "scattercarpet": [
           {
            "marker": {
             "colorbar": {
              "outlinewidth": 0,
              "ticks": ""
             }
            },
            "type": "scattercarpet"
           }
          ],
          "scattergeo": [
           {
            "marker": {
             "colorbar": {
              "outlinewidth": 0,
              "ticks": ""
             }
            },
            "type": "scattergeo"
           }
          ],
          "scattergl": [
           {
            "marker": {
             "colorbar": {
              "outlinewidth": 0,
              "ticks": ""
             }
            },
            "type": "scattergl"
           }
          ],
          "scattermapbox": [
           {
            "marker": {
             "colorbar": {
              "outlinewidth": 0,
              "ticks": ""
             }
            },
            "type": "scattermapbox"
           }
          ],
          "scatterpolar": [
           {
            "marker": {
             "colorbar": {
              "outlinewidth": 0,
              "ticks": ""
             }
            },
            "type": "scatterpolar"
           }
          ],
          "scatterpolargl": [
           {
            "marker": {
             "colorbar": {
              "outlinewidth": 0,
              "ticks": ""
             }
            },
            "type": "scatterpolargl"
           }
          ],
          "scatterternary": [
           {
            "marker": {
             "colorbar": {
              "outlinewidth": 0,
              "ticks": ""
             }
            },
            "type": "scatterternary"
           }
          ],
          "surface": [
           {
            "colorbar": {
             "outlinewidth": 0,
             "ticks": ""
            },
            "colorscale": [
             [
              0,
              "#0d0887"
             ],
             [
              0.1111111111111111,
              "#46039f"
             ],
             [
              0.2222222222222222,
              "#7201a8"
             ],
             [
              0.3333333333333333,
              "#9c179e"
             ],
             [
              0.4444444444444444,
              "#bd3786"
             ],
             [
              0.5555555555555556,
              "#d8576b"
             ],
             [
              0.6666666666666666,
              "#ed7953"
             ],
             [
              0.7777777777777778,
              "#fb9f3a"
             ],
             [
              0.8888888888888888,
              "#fdca26"
             ],
             [
              1,
              "#f0f921"
             ]
            ],
            "type": "surface"
           }
          ],
          "table": [
           {
            "cells": {
             "fill": {
              "color": "#EBF0F8"
             },
             "line": {
              "color": "white"
             }
            },
            "header": {
             "fill": {
              "color": "#C8D4E3"
             },
             "line": {
              "color": "white"
             }
            },
            "type": "table"
           }
          ]
         },
         "layout": {
          "annotationdefaults": {
           "arrowcolor": "#2a3f5f",
           "arrowhead": 0,
           "arrowwidth": 1
          },
          "autotypenumbers": "strict",
          "coloraxis": {
           "colorbar": {
            "outlinewidth": 0,
            "ticks": ""
           }
          },
          "colorscale": {
           "diverging": [
            [
             0,
             "#8e0152"
            ],
            [
             0.1,
             "#c51b7d"
            ],
            [
             0.2,
             "#de77ae"
            ],
            [
             0.3,
             "#f1b6da"
            ],
            [
             0.4,
             "#fde0ef"
            ],
            [
             0.5,
             "#f7f7f7"
            ],
            [
             0.6,
             "#e6f5d0"
            ],
            [
             0.7,
             "#b8e186"
            ],
            [
             0.8,
             "#7fbc41"
            ],
            [
             0.9,
             "#4d9221"
            ],
            [
             1,
             "#276419"
            ]
           ],
           "sequential": [
            [
             0,
             "#0d0887"
            ],
            [
             0.1111111111111111,
             "#46039f"
            ],
            [
             0.2222222222222222,
             "#7201a8"
            ],
            [
             0.3333333333333333,
             "#9c179e"
            ],
            [
             0.4444444444444444,
             "#bd3786"
            ],
            [
             0.5555555555555556,
             "#d8576b"
            ],
            [
             0.6666666666666666,
             "#ed7953"
            ],
            [
             0.7777777777777778,
             "#fb9f3a"
            ],
            [
             0.8888888888888888,
             "#fdca26"
            ],
            [
             1,
             "#f0f921"
            ]
           ],
           "sequentialminus": [
            [
             0,
             "#0d0887"
            ],
            [
             0.1111111111111111,
             "#46039f"
            ],
            [
             0.2222222222222222,
             "#7201a8"
            ],
            [
             0.3333333333333333,
             "#9c179e"
            ],
            [
             0.4444444444444444,
             "#bd3786"
            ],
            [
             0.5555555555555556,
             "#d8576b"
            ],
            [
             0.6666666666666666,
             "#ed7953"
            ],
            [
             0.7777777777777778,
             "#fb9f3a"
            ],
            [
             0.8888888888888888,
             "#fdca26"
            ],
            [
             1,
             "#f0f921"
            ]
           ]
          },
          "colorway": [
           "#636efa",
           "#EF553B",
           "#00cc96",
           "#ab63fa",
           "#FFA15A",
           "#19d3f3",
           "#FF6692",
           "#B6E880",
           "#FF97FF",
           "#FECB52"
          ],
          "font": {
           "color": "#2a3f5f"
          },
          "geo": {
           "bgcolor": "white",
           "lakecolor": "white",
           "landcolor": "#E5ECF6",
           "showlakes": true,
           "showland": true,
           "subunitcolor": "white"
          },
          "hoverlabel": {
           "align": "left"
          },
          "hovermode": "closest",
          "mapbox": {
           "style": "light"
          },
          "paper_bgcolor": "white",
          "plot_bgcolor": "#E5ECF6",
          "polar": {
           "angularaxis": {
            "gridcolor": "white",
            "linecolor": "white",
            "ticks": ""
           },
           "bgcolor": "#E5ECF6",
           "radialaxis": {
            "gridcolor": "white",
            "linecolor": "white",
            "ticks": ""
           }
          },
          "scene": {
           "xaxis": {
            "backgroundcolor": "#E5ECF6",
            "gridcolor": "white",
            "gridwidth": 2,
            "linecolor": "white",
            "showbackground": true,
            "ticks": "",
            "zerolinecolor": "white"
           },
           "yaxis": {
            "backgroundcolor": "#E5ECF6",
            "gridcolor": "white",
            "gridwidth": 2,
            "linecolor": "white",
            "showbackground": true,
            "ticks": "",
            "zerolinecolor": "white"
           },
           "zaxis": {
            "backgroundcolor": "#E5ECF6",
            "gridcolor": "white",
            "gridwidth": 2,
            "linecolor": "white",
            "showbackground": true,
            "ticks": "",
            "zerolinecolor": "white"
           }
          },
          "shapedefaults": {
           "line": {
            "color": "#2a3f5f"
           }
          },
          "ternary": {
           "aaxis": {
            "gridcolor": "white",
            "linecolor": "white",
            "ticks": ""
           },
           "baxis": {
            "gridcolor": "white",
            "linecolor": "white",
            "ticks": ""
           },
           "bgcolor": "#E5ECF6",
           "caxis": {
            "gridcolor": "white",
            "linecolor": "white",
            "ticks": ""
           }
          },
          "title": {
           "x": 0.05
          },
          "xaxis": {
           "automargin": true,
           "gridcolor": "white",
           "linecolor": "white",
           "ticks": "",
           "title": {
            "standoff": 15
           },
           "zerolinecolor": "white",
           "zerolinewidth": 2
          },
          "yaxis": {
           "automargin": true,
           "gridcolor": "white",
           "linecolor": "white",
           "ticks": "",
           "title": {
            "standoff": 15
           },
           "zerolinecolor": "white",
           "zerolinewidth": 2
          }
         }
        },
        "title": {
         "text": "Visualizing the outliers in Numeric features of Star Type"
        },
        "width": 1800,
        "xaxis": {
         "anchor": "y",
         "domain": [
          0,
          0.2125
         ]
        },
        "xaxis2": {
         "anchor": "y2",
         "domain": [
          0.2625,
          0.475
         ]
        },
        "xaxis3": {
         "anchor": "y3",
         "domain": [
          0.525,
          0.7375
         ]
        },
        "xaxis4": {
         "anchor": "y4",
         "domain": [
          0.7875,
          1
         ]
        },
        "yaxis": {
         "anchor": "x",
         "domain": [
          0,
          1
         ]
        },
        "yaxis2": {
         "anchor": "x2",
         "domain": [
          0,
          1
         ]
        },
        "yaxis3": {
         "anchor": "x3",
         "domain": [
          0,
          1
         ]
        },
        "yaxis4": {
         "anchor": "x4",
         "domain": [
          0,
          1
         ]
        }
       }
      }
     },
     "metadata": {},
     "output_type": "display_data"
    }
   ],
   "source": [
    "# Assuming star_df is your DataFrame and base_dir is defined\n",
    "# Set up the subplot framework\n",
    "fig = make_subplots(rows=1, cols=4, subplot_titles=star_df.columns[:4])\n",
    "\n",
    "# Loop over the numeric features to create a box plot for each, grouped by 'Star type'\n",
    "for i, column in enumerate(star_df.columns[:4], start=1):\n",
    "    fig.add_trace(\n",
    "        go.Box(x=star_df['Star type label'], y=star_df[column], name=column),\n",
    "        row=1, col=i\n",
    "    )\n",
    "\n",
    "# Update layout to adjust the appearance\n",
    "fig.update_layout(\n",
    "    title_text=\"Visualizing the outliers in Numeric features of Star Type\",\n",
    "    showlegend=False,\n",
    "    width=1800,  # Approximate size to match your Matplotlib figure\n",
    "    height=900,\n",
    "    \n",
    ")\n",
    "\n",
    "fig.show()\n",
    "\n",
    "fig.write_image(base_dir + 'boxplot_star_type_plotly.png')  # Requires Orca and psutil\n",
    "\n",
    "# Alternatively, you can save it as an HTML file which can be opened in a browser and manually saved as PNG.\n",
    "fig.write_html(base_dir + 'boxplot_star_type_plotly.html')"
   ]
  },
  {
   "cell_type": "markdown",
   "metadata": {},
   "source": [
    "- With respect to star type we can see the statistical distribution of the numerical features."
   ]
  },
  {
   "cell_type": "markdown",
   "metadata": {},
   "source": [
    "### Create lineplots\n",
    "- Show how the values are distributed for each of the numeric features.\n",
    "- Again create a subplot but now with 4 rows and 1 col."
   ]
  },
  {
   "cell_type": "code",
   "execution_count": 172,
   "metadata": {},
   "outputs": [],
   "source": [
    "def line_subplot(star_df, colors, i):\n",
    "  \"\"\"\n",
    "  This will create subplot within for loop\n",
    "\n",
    "  Parameters\n",
    "  ----------\n",
    "  - star_df: data frame\n",
    "  - colors: colors to display on plot\n",
    "  - i: index of the iteration\n",
    "\n",
    "  Generates\n",
    "  ------\n",
    "  - subplot on all axes with respective plots and titles\n",
    "  \"\"\"\n",
    "  plt.subplot(4, 1, i+1)\n",
    "  plt.plot(star_df.iloc[:,i], color=colors[i])\n",
    "  plt.title(star_df.columns[i], color='red')"
   ]
  },
  {
   "cell_type": "code",
   "execution_count": 173,
   "metadata": {},
   "outputs": [
    {
     "data": {
      "image/png": "[encoded data removed]",
      "text/plain": [
       "<Figure size 1200x800 with 4 Axes>"
      ]
     },
     "metadata": {},
     "output_type": "display_data"
    }
   ],
   "source": [
    "# Line Plots\n",
    "\n",
    "# Colors to add in line plots\n",
    "colors = ['royalblue', 'gold', 'lime', 'magenta']\n",
    "\n",
    "# Add figure size and title to subplot\n",
    "plt.figure(figsize=(12,8))\n",
    "plt.suptitle('Visualizing the distribution of Numeric Features\\n',\n",
    "             color='tab:pink', fontsize=15, weight='bold')\n",
    "\n",
    "# Use for loop and the function that creates subplot of line plots\n",
    "for i in range(4):\n",
    "  line_subplot(star_df, colors, i)\n",
    "\n",
    "# Use tight_layout() to automatically adjust the spacing in subplot\n",
    "plt.tight_layout()\n",
    "\n",
    "# Save the figure\n",
    "plt.savefig(base_dir+'line_subplot.png')\n",
    "plt.show()"
   ]
  }
 ],
 "metadata": {
  "kernelspec": {
   "display_name": "Python 3",
   "language": "python",
   "name": "python3"
  },
  "language_info": {
   "codemirror_mode": {
    "name": "ipython",
    "version": 3
   },
   "file_extension": ".py",
   "mimetype": "text/x-python",
   "name": "python",
   "nbconvert_exporter": "python",
   "pygments_lexer": "ipython3",
   "version": "3.9.1"
  }
 },
 "nbformat": 4,
 "nbformat_minor": 2
}
