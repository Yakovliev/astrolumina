{
    "cells": [
        {
            "cell_type": "code",
            "execution_count": 21,
            "metadata": {},
            "outputs": [],
            "source": [
                "import pandas as pd\n",
                "import numpy as np\n",
                "import plotly.express as px\n",
                "import plotly.graph_objects as go\n",
                "from plotly.subplots import make_subplots\n",
                "import plotly.io as pio"
            ]
        },
        {
            "cell_type": "code",
            "execution_count": 22,
            "metadata": {},
            "outputs": [],
            "source": [
                "# Set a default template for all plots\n",
                "template = \"plotly_white\"\n",
                "\n",
                "base_dir = 'star_plots/'"
            ]
        },
        {
            "cell_type": "code",
            "execution_count": 23,
            "metadata": {},
            "outputs": [],
            "source": [
                "# Load the cleaned star data from CSV\n",
                "star_df = pd.read_csv('cleaned_star_data.csv')\n",
                "\n",
                "# Display first few rows of the dataframe\n",
                "# star_df.head()"
            ]
        },
        {
            "cell_type": "code",
            "execution_count": 24,
            "metadata": {},
            "outputs": [],
            "source": [
                "# star_df.info()"
            ]
        },
        {
            "cell_type": "code",
            "execution_count": 25,
            "metadata": {},
            "outputs": [],
            "source": [
                "# Map numeric Star type to category names if needed\n",
                "star_type_mapping = {\n",
                "    0: 'Brown Dwarf',\n",
                "    1: 'Red Dwarf',\n",
                "    2: 'White Dwarf',\n",
                "    3: 'Main Sequence',\n",
                "    4: 'Supergiants',\n",
                "    5: 'Hypergiants'\n",
                "}"
            ]
        },
        {
            "cell_type": "code",
            "execution_count": 26,
            "metadata": {},
            "outputs": [],
            "source": [
                "# Check if Star type is numeric and needs mapping\n",
                "if pd.api.types.is_numeric_dtype(star_df['Star type']):\n",
                "    star_df['Star type'] = star_df['Star type'].map(star_type_mapping)"
            ]
        },
        {
            "cell_type": "code",
            "execution_count": 27,
            "metadata": {},
            "outputs": [],
            "source": [
                "# 1. Bar chart for star types - Minimalistic version\n",
                "def create_star_type_bar_chart(star_df):\n",
                "    star_type_counts = star_df['Star type'].value_counts().reset_index()\n",
                "    star_type_counts.columns = ['Star type', 'Count']\n",
                "    \n",
                "    # Sort by star type if numeric\n",
                "    if pd.api.types.is_numeric_dtype(star_type_counts['Star type']):\n",
                "        star_type_counts = star_type_counts.sort_values('Star type')\n",
                "    \n",
                "    fig = px.bar(\n",
                "        star_type_counts, \n",
                "        x='Star type', \n",
                "        y='Count',\n",
                "        title='Star Types Count'\n",
                "    )\n",
                "    \n",
                "    fig.update_layout(\n",
                "        template=template,\n",
                "        title_x=0.5\n",
                "    )\n",
                "    \n",
                "    return fig"
            ]
        },
        {
            "cell_type": "code",
            "execution_count": 28,
            "metadata": {},
            "outputs": [],
            "source": [
                "# 2. Bar chart for star colors - Minimalistic version\n",
                "def create_star_color_bar_chart(star_df):\n",
                "    star_color_counts = star_df['Star color'].value_counts().reset_index()\n",
                "    star_color_counts.columns = ['Star color', 'Count']\n",
                "    \n",
                "    fig = px.bar(\n",
                "        star_color_counts, \n",
                "        x='Star color', \n",
                "        y='Count',\n",
                "        title='Star Colors Count'\n",
                "    )\n",
                "    \n",
                "    fig.update_layout(\n",
                "        template=template,\n",
                "        title_x=0.5\n",
                "    )\n",
                "    \n",
                "    return fig"
            ]
        },
        {
            "cell_type": "code",
            "execution_count": 29,
            "metadata": {},
            "outputs": [],
            "source": [
                "# 3. Box plots for numeric features - with star type grouping\n",
                "def create_boxplots(star_df):\n",
                "    numeric_features = ['Temperature (K)', 'Luminosity(L/Lo)', 'Radius(R/Ro)', 'Absolute magnitude(Mv)']\n",
                "    \n",
                "    # Let's create 2 rows, 2 columns for better spacing\n",
                "    fig = make_subplots(\n",
                "        rows=2, \n",
                "        cols=2,\n",
                "        subplot_titles=numeric_features,\n",
                "        vertical_spacing=0.15,\n",
                "        horizontal_spacing=0.1\n",
                "    )\n",
                "    \n",
                "    # Define colors for different star types for consistency\n",
                "    colors = {\n",
                "        'Brown Dwarf': 'brown',\n",
                "        'Red Dwarf': 'red',\n",
                "        'White Dwarf': 'lightskyblue',\n",
                "        'Main Sequence': 'yellow',\n",
                "        'Supergiants': 'blue',\n",
                "        'Hypergiants': 'orange'\n",
                "    }\n",
                "    \n",
                "    # Position mapping for 2x2 grid\n",
                "    positions = [(1,1), (1,2), (2,1), (2,2)]\n",
                "    \n",
                "    # Add box plots for each numeric feature grouped by star type\n",
                "    for i, feature in enumerate(numeric_features):\n",
                "        row, col = positions[i]\n",
                "        \n",
                "        for star_type in star_df['Star type'].unique():\n",
                "            # Filter data for this star type\n",
                "            subset = star_df[star_df['Star type'] == star_type]\n",
                "            \n",
                "            # Skip if there are no data points for this star type\n",
                "            if len(subset) == 0:\n",
                "                continue\n",
                "            \n",
                "            # Get color from mapping or use a default\n",
                "            color = colors.get(star_type, 'gray')\n",
                "            \n",
                "            fig.add_trace(\n",
                "                go.Box(\n",
                "                    y=subset[feature],\n",
                "                    name=star_type,\n",
                "                    marker_color=color,\n",
                "                    boxmean=True,\n",
                "                    boxpoints='outliers',  # Only show outlier points\n",
                "                    jitter=0,  # Remove jittering \n",
                "                    pointpos=0,  # Center points\n",
                "                    line_width=2,  # Make box border thicker\n",
                "                    fillcolor=color,  # Fill the box with color\n",
                "                    opacity=0.7,  # Add some transparency\n",
                "                    showlegend=i == 0,  # Only show legend for the first subplot\n",
                "                    # Increase the box width\n",
                "                    quartilemethod=\"linear\",  # Use the linear method for quartile calculation\n",
                "                    width=0.4  # Add this parameter to increase box width\n",
                "                ),\n",
                "                row=row, \n",
                "                col=col\n",
                "            )\n",
                "    \n",
                "    fig.update_layout(\n",
                "        template=template,\n",
                "        title='Boxplots of Numeric Features by Star Type',\n",
                "        title_x=0.5,\n",
                "        height=800,  # Increased height\n",
                "        width=1000,\n",
                "        boxmode='group',\n",
                "        boxgroupgap=0.2,  # Increase gap between box groups\n",
                "        boxgap=0.1,       # Increase gap between boxes\n",
                "        legend=dict(\n",
                "            orientation=\"h\",\n",
                "            yanchor=\"bottom\",\n",
                "            y=-0.15,\n",
                "            xanchor=\"center\",\n",
                "            x=0.5,\n",
                "            font=dict(size=10)\n",
                "        )\n",
                "    )\n",
                "    \n",
                "    # Add feature names as y-axis titles for clarity\n",
                "    for i, feature in enumerate(numeric_features):\n",
                "        row, col = positions[i]\n",
                "        fig.update_yaxes(title_text=feature, row=row, col=col)\n",
                "    \n",
                "    return fig"
            ]
        },
        {
            "cell_type": "code",
            "execution_count": 30,
            "metadata": {},
            "outputs": [],
            "source": [
                "# 4. Line plots for numeric features - Minimalistic version\n",
                "def create_line_plots(star_df):\n",
                "    numeric_features = ['Temperature (K)', 'Luminosity(L/Lo)', 'Radius(R/Ro)', 'Absolute magnitude(Mv)']\n",
                "    \n",
                "    fig = make_subplots(\n",
                "        rows=4, \n",
                "        cols=1,\n",
                "        subplot_titles=numeric_features,\n",
                "        vertical_spacing=0.1\n",
                "    )\n",
                "    \n",
                "    for i, feature in enumerate(numeric_features):\n",
                "        fig.add_trace(\n",
                "            go.Scatter(\n",
                "                y=star_df[feature],\n",
                "                mode='lines',\n",
                "                name=feature\n",
                "            ),\n",
                "            row=i+1, \n",
                "            col=1\n",
                "        )\n",
                "    \n",
                "    fig.update_layout(\n",
                "        template=template,\n",
                "        title='Distribution of Numeric Features',\n",
                "        title_x=0.5,\n",
                "        showlegend=False,\n",
                "        height=800,\n",
                "        width=800\n",
                "    )\n",
                "    \n",
                "    return fig"
            ]
        },
        {
            "cell_type": "code",
            "execution_count": 31,
            "metadata": {},
            "outputs": [],
            "source": [
                "# 5. Scatter plots matrix (improved pairplot)\n",
                "def create_scatter_matrix(star_df):\n",
                "    numeric_features = ['Temperature (K)', 'Luminosity(L/Lo)', 'Radius(R/Ro)', 'Absolute magnitude(Mv)']\n",
                "    \n",
                "    # Create the scatter matrix with improved parameters\n",
                "    fig = px.scatter_matrix(\n",
                "        star_df,\n",
                "        dimensions=numeric_features,\n",
                "        color='Spectral Class',\n",
                "        title='Scatter Matrix of Star Features',\n",
                "        opacity=0.7,  # Slightly higher opacity for better visibility\n",
                "        height=900,   # Increased height for better clarity\n",
                "        width=1000,   # Width to maintain proportion\n",
                "        color_discrete_sequence=px.colors.qualitative.Bold,  # Better color scheme\n",
                "        labels={col: col.split('(')[0].strip() for col in numeric_features}  # Shorter axis labels\n",
                "    )\n",
                "    \n",
                "    fig.update_layout(\n",
                "        template=template,\n",
                "        title_x=0.5,\n",
                "        title_font=dict(size=20),  # Larger title font\n",
                "        font=dict(size=12),        # Larger overall font size\n",
                "        dragmode='select',         # Enable box select mode\n",
                "        margin=dict(l=50, r=50, t=80, b=50)  # Adjust margins for better layout\n",
                "    )\n",
                "    \n",
                "    # Improve marker appearance\n",
                "    fig.update_traces(\n",
                "        marker=dict(\n",
                "            size=6,                # Slightly larger points\n",
                "            line=dict(width=0.5),  # Add thin line around markers for definition\n",
                "            symbol='circle'        # Consistent symbol\n",
                "        ),\n",
                "        diagonal_visible=True      # Ensure diagonals are visible\n",
                "    )\n",
                "    \n",
                "    # Improve readability of axis titles\n",
                "    for axis in fig.layout:\n",
                "        if axis.startswith('xaxis') or axis.startswith('yaxis'):\n",
                "            fig.layout[axis].title.font.size = 14\n",
                "    \n",
                "    # Add grid lines for better readability\n",
                "    fig.update_xaxes(showgrid=True, gridwidth=0.5, gridcolor='rgba(128,128,128,0.2)')\n",
                "    fig.update_yaxes(showgrid=True, gridwidth=0.5, gridcolor='rgba(128,128,128,0.2)')\n",
                "    \n",
                "    return fig"
            ]
        },
        {
            "cell_type": "code",
            "execution_count": 32,
            "metadata": {},
            "outputs": [],
            "source": [
                "# # 6. Hertzsprung-Russell Diagram - Minimalistic version\n",
                "# def create_hr_diagram(star_df):\n",
                "#     fig = px.scatter(\n",
                "#         star_df,\n",
                "#         x='Temperature (K)',\n",
                "#         y='Absolute magnitude(Mv)',\n",
                "#         color='Star type',\n",
                "#         title='Hertzsprung-Russell Diagram',\n",
                "#         size_max=10\n",
                "#     )\n",
                "    \n",
                "#     # Add the Sun\n",
                "#     fig.add_trace(go.Scatter(\n",
                "#         x=[5778],\n",
                "#         y=[4.83],\n",
                "#         mode='markers',\n",
                "#         name='Sun',\n",
                "#         marker=dict(size=10, color='gold')\n",
                "#     ))\n",
                "    \n",
                "#     fig.update_layout(\n",
                "#         template=template,\n",
                "#         title_x=0.5,\n",
                "#         xaxis=dict(autorange='reversed'),\n",
                "#         yaxis=dict(autorange='reversed')\n",
                "#     )\n",
                "    \n",
                "#     return fig\n",
                "\n",
                "def create_hr_diagram(star_df):\n",
                "    # Create base scatter plot\n",
                "    fig = px.scatter(\n",
                "        star_df, \n",
                "        x='Temperature (K)', \n",
                "        y='Absolute magnitude(Mv)', \n",
                "        color='Star type',\n",
                "        size='Radius (R_sun)' if 'Radius (R_sun)' in star_df.columns else None,  # Use star radius for size if available\n",
                "        hover_name='Star name' if 'Star name' in star_df.columns else None,  # Use star name for hover if available\n",
                "        hover_data=['Distance (ly)', 'Luminosity (L_sun)'] if all(col in star_df.columns for col in ['Distance (ly)', 'Luminosity (L_sun)']) else None,\n",
                "        title='Hertzsprung-Russell Diagram',\n",
                "        color_discrete_sequence=px.colors.qualitative.Bold,  # More vibrant color scheme\n",
                "        opacity=0.8,  # Slight transparency for better visibility when points overlap\n",
                "        size_max=15  # Slightly larger maximum size\n",
                "    )\n",
                "    \n",
                "    # Add the Sun with improved marker\n",
                "    fig.add_trace(go.Scatter(\n",
                "        x=[5778], \n",
                "        y=[4.83], \n",
                "        mode='markers+text',\n",
                "        name='Sun',\n",
                "        text=['Sun'],\n",
                "        textposition='top center',\n",
                "        marker=dict(\n",
                "            size=12,\n",
                "            color='gold',\n",
                "            line=dict(width=2, color='orange'),\n",
                "            symbol='star'  # Use star symbol for the Sun\n",
                "        )\n",
                "    ))\n",
                "    \n",
                "    # Improve layout\n",
                "    fig.update_layout(\n",
                "        template='plotly_dark',  # Dark theme suitable for astronomy\n",
                "        title={\n",
                "            'text': 'Hertzsprung-Russell Diagram',\n",
                "            'font': {'size': 24, 'family': 'Arial, sans-serif'}\n",
                "        },\n",
                "        title_x=0.5,\n",
                "        xaxis=dict(\n",
                "            title='Temperature (K)',\n",
                "            title_font={'size': 18},\n",
                "            autorange='reversed',\n",
                "            gridcolor='rgba(128, 128, 128, 0.2)',\n",
                "            minor_showgrid=True\n",
                "        ),\n",
                "        yaxis=dict(\n",
                "            title='Absolute Magnitude (Mv)',\n",
                "            title_font={'size': 18},\n",
                "            autorange='reversed',\n",
                "            gridcolor='rgba(128, 128, 128, 0.2)',\n",
                "            minor_showgrid=True\n",
                "        ),\n",
                "        legend=dict(\n",
                "            title='Star Type',\n",
                "            bordercolor='rgba(255, 255, 255, 0.3)',\n",
                "            borderwidth=1,\n",
                "            font=dict(size=12)\n",
                "        ),\n",
                "        plot_bgcolor='rgba(15, 15, 35, 1)',  # Dark blue background\n",
                "        paper_bgcolor='rgba(10, 10, 30, 1)',  # Darker blue for the surrounding area\n",
                "        margin=dict(l=80, r=80, t=100, b=80),\n",
                "        height=700,  # Larger plot height\n",
                "        width=900    # Larger plot width\n",
                "    )\n",
                "    \n",
                "    # Add star classification regions if desired (simplified version)\n",
                "    fig.add_annotation(\n",
                "        x=30000, y=0,\n",
                "        text=\"Hot Blue Stars\",\n",
                "        showarrow=False,\n",
                "        font=dict(size=14, color=\"lightblue\")\n",
                "    )\n",
                "    \n",
                "    fig.add_annotation(\n",
                "        x=6000, y=15,\n",
                "        text=\"Red Giants\",\n",
                "        showarrow=False,\n",
                "        font=dict(size=14, color=\"lightcoral\")\n",
                "    )\n",
                "    \n",
                "    fig.add_annotation(\n",
                "        x=6000, y=0,\n",
                "        text=\"Main Sequence\",\n",
                "        showarrow=False,\n",
                "        font=dict(size=14, color=\"white\")\n",
                "    )\n",
                "    \n",
                "    # Add a diagonal line for the main sequence (approximate)\n",
                "    temps = [3000, 30000]\n",
                "    mags = [10, -5]\n",
                "    fig.add_trace(go.Scatter(\n",
                "        x=temps,\n",
                "        y=mags,\n",
                "        mode='lines',\n",
                "        line=dict(dash='dot', width=1, color='rgba(255, 255, 255, 0.3)'),\n",
                "        name='Main Sequence Trend',\n",
                "        showlegend=False\n",
                "    ))\n",
                "    \n",
                "    return fig"
            ]
        },
        {
            "cell_type": "code",
            "execution_count": 33,
            "metadata": {},
            "outputs": [
                {
                    "data": {
                        "application/vnd.plotly.v1+json": {
                            "config": {
                                "plotlyServerURL": "https://plot.ly"
                            },
                            "data": [
                                {
                                    "hovertemplate": "Star type=%{x}<br>Count=%{y}<extra></extra>",
                                    "legendgroup": "",
                                    "marker": {
                                        "color": "#636efa",
                                        "pattern": {
                                            "shape": ""
                                        }
                                    },
                                    "name": "",
                                    "orientation": "v",
                                    "showlegend": false,
                                    "textposition": "auto",
                                    "type": "bar",
                                    "x": [
                                        "Brown Dwarf",
                                        "Red Dwarf",
                                        "White Dwarf",
                                        "Main Sequence",
                                        "Supergiants",
                                        "Hypergiants"
                                    ],
                                    "xaxis": "x",
                                    "y": {
                                        "bdata": "KCgoKCgo",
                                        "dtype": "i1"
                                    },
                                    "yaxis": "y"
                                }
                            ],
                            "layout": {
                                "barmode": "relative",
                                "legend": {
                                    "tracegroupgap": 0
                                },
                                "template": {
                                    "data": {
                                        "bar": [
                                            {
                                                "error_x": {
                                                    "color": "#2a3f5f"
                                                },
                                                "error_y": {
                                                    "color": "#2a3f5f"
                                                },
                                                "marker": {
                                                    "line": {
                                                        "color": "white",
                                                        "width": 0.5
                                                    },
                                                    "pattern": {
                                                        "fillmode": "overlay",
                                                        "size": 10,
                                                        "solidity": 0.2
                                                    }
                                                },
                                                "type": "bar"
                                            }
                                        ],
                                        "barpolar": [
                                            {
                                                "marker": {
                                                    "line": {
                                                        "color": "white",
                                                        "width": 0.5
                                                    },
                                                    "pattern": {
                                                        "fillmode": "overlay",
                                                        "size": 10,
                                                        "solidity": 0.2
                                                    }
                                                },
                                                "type": "barpolar"
                                            }
                                        ],
                                        "carpet": [
                                            {
                                                "aaxis": {
                                                    "endlinecolor": "#2a3f5f",
                                                    "gridcolor": "#C8D4E3",
                                                    "linecolor": "#C8D4E3",
                                                    "minorgridcolor": "#C8D4E3",
                                                    "startlinecolor": "#2a3f5f"
                                                },
                                                "baxis": {
                                                    "endlinecolor": "#2a3f5f",
                                                    "gridcolor": "#C8D4E3",
                                                    "linecolor": "#C8D4E3",
                                                    "minorgridcolor": "#C8D4E3",
                                                    "startlinecolor": "#2a3f5f"
                                                },
                                                "type": "carpet"
                                            }
                                        ],
                                        "choropleth": [
                                            {
                                                "colorbar": {
                                                    "outlinewidth": 0,
                                                    "ticks": ""
                                                },
                                                "type": "choropleth"
                                            }
                                        ],
                                        "contour": [
                                            {
                                                "colorbar": {
                                                    "outlinewidth": 0,
                                                    "ticks": ""
                                                },
                                                "colorscale": [
                                                    [
                                                        0,
                                                        "#0d0887"
                                                    ],
                                                    [
                                                        0.1111111111111111,
                                                        "#46039f"
                                                    ],
                                                    [
                                                        0.2222222222222222,
                                                        "#7201a8"
                                                    ],
                                                    [
                                                        0.3333333333333333,
                                                        "#9c179e"
                                                    ],
                                                    [
                                                        0.4444444444444444,
                                                        "#bd3786"
                                                    ],
                                                    [
                                                        0.5555555555555556,
                                                        "#d8576b"
                                                    ],
                                                    [
                                                        0.6666666666666666,
                                                        "#ed7953"
                                                    ],
                                                    [
                                                        0.7777777777777778,
                                                        "#fb9f3a"
                                                    ],
                                                    [
                                                        0.8888888888888888,
                                                        "#fdca26"
                                                    ],
                                                    [
                                                        1,
                                                        "#f0f921"
                                                    ]
                                                ],
                                                "type": "contour"
                                            }
                                        ],
                                        "contourcarpet": [
                                            {
                                                "colorbar": {
                                                    "outlinewidth": 0,
                                                    "ticks": ""
                                                },
                                                "type": "contourcarpet"
                                            }
                                        ],
                                        "heatmap": [
                                            {
                                                "colorbar": {
                                                    "outlinewidth": 0,
                                                    "ticks": ""
                                                },
                                                "colorscale": [
                                                    [
                                                        0,
                                                        "#0d0887"
                                                    ],
                                                    [
                                                        0.1111111111111111,
                                                        "#46039f"
                                                    ],
                                                    [
                                                        0.2222222222222222,
                                                        "#7201a8"
                                                    ],
                                                    [
                                                        0.3333333333333333,
                                                        "#9c179e"
                                                    ],
                                                    [
                                                        0.4444444444444444,
                                                        "#bd3786"
                                                    ],
                                                    [
                                                        0.5555555555555556,
                                                        "#d8576b"
                                                    ],
                                                    [
                                                        0.6666666666666666,
                                                        "#ed7953"
                                                    ],
                                                    [
                                                        0.7777777777777778,
                                                        "#fb9f3a"
                                                    ],
                                                    [
                                                        0.8888888888888888,
                                                        "#fdca26"
                                                    ],
                                                    [
                                                        1,
                                                        "#f0f921"
                                                    ]
                                                ],
                                                "type": "heatmap"
                                            }
                                        ],
                                        "histogram": [
                                            {
                                                "marker": {
                                                    "pattern": {
                                                        "fillmode": "overlay",
                                                        "size": 10,
                                                        "solidity": 0.2
                                                    }
                                                },
                                                "type": "histogram"
                                            }
                                        ],
                                        "histogram2d": [
                                            {
                                                "colorbar": {
                                                    "outlinewidth": 0,
                                                    "ticks": ""
                                                },
                                                "colorscale": [
                                                    [
                                                        0,
                                                        "#0d0887"
                                                    ],
                                                    [
                                                        0.1111111111111111,
                                                        "#46039f"
                                                    ],
                                                    [
                                                        0.2222222222222222,
                                                        "#7201a8"
                                                    ],
                                                    [
                                                        0.3333333333333333,
                                                        "#9c179e"
                                                    ],
                                                    [
                                                        0.4444444444444444,
                                                        "#bd3786"
                                                    ],
                                                    [
                                                        0.5555555555555556,
                                                        "#d8576b"
                                                    ],
                                                    [
                                                        0.6666666666666666,
                                                        "#ed7953"
                                                    ],
                                                    [
                                                        0.7777777777777778,
                                                        "#fb9f3a"
                                                    ],
                                                    [
                                                        0.8888888888888888,
                                                        "#fdca26"
                                                    ],
                                                    [
                                                        1,
                                                        "#f0f921"
                                                    ]
                                                ],
                                                "type": "histogram2d"
                                            }
                                        ],
                                        "histogram2dcontour": [
                                            {
                                                "colorbar": {
                                                    "outlinewidth": 0,
                                                    "ticks": ""
                                                },
                                                "colorscale": [
                                                    [
                                                        0,
                                                        "#0d0887"
                                                    ],
                                                    [
                                                        0.1111111111111111,
                                                        "#46039f"
                                                    ],
                                                    [
                                                        0.2222222222222222,
                                                        "#7201a8"
                                                    ],
                                                    [
                                                        0.3333333333333333,
                                                        "#9c179e"
                                                    ],
                                                    [
                                                        0.4444444444444444,
                                                        "#bd3786"
                                                    ],
                                                    [
                                                        0.5555555555555556,
                                                        "#d8576b"
                                                    ],
                                                    [
                                                        0.6666666666666666,
                                                        "#ed7953"
                                                    ],
                                                    [
                                                        0.7777777777777778,
                                                        "#fb9f3a"
                                                    ],
                                                    [
                                                        0.8888888888888888,
                                                        "#fdca26"
                                                    ],
                                                    [
                                                        1,
                                                        "#f0f921"
                                                    ]
                                                ],
                                                "type": "histogram2dcontour"
                                            }
                                        ],
                                        "mesh3d": [
                                            {
                                                "colorbar": {
                                                    "outlinewidth": 0,
                                                    "ticks": ""
                                                },
                                                "type": "mesh3d"
                                            }
                                        ],
                                        "parcoords": [
                                            {
                                                "line": {
                                                    "colorbar": {
                                                        "outlinewidth": 0,
                                                        "ticks": ""
                                                    }
                                                },
                                                "type": "parcoords"
                                            }
                                        ],
                                        "pie": [
                                            {
                                                "automargin": true,
                                                "type": "pie"
                                            }
                                        ],
                                        "scatter": [
                                            {
                                                "fillpattern": {
                                                    "fillmode": "overlay",
                                                    "size": 10,
                                                    "solidity": 0.2
                                                },
                                                "type": "scatter"
                                            }
                                        ],
                                        "scatter3d": [
                                            {
                                                "line": {
                                                    "colorbar": {
                                                        "outlinewidth": 0,
                                                        "ticks": ""
                                                    }
                                                },
                                                "marker": {
                                                    "colorbar": {
                                                        "outlinewidth": 0,
                                                        "ticks": ""
                                                    }
                                                },
                                                "type": "scatter3d"
                                            }
                                        ],
                                        "scattercarpet": [
                                            {
                                                "marker": {
                                                    "colorbar": {
                                                        "outlinewidth": 0,
                                                        "ticks": ""
                                                    }
                                                },
                                                "type": "scattercarpet"
                                            }
                                        ],
                                        "scattergeo": [
                                            {
                                                "marker": {
                                                    "colorbar": {
                                                        "outlinewidth": 0,
                                                        "ticks": ""
                                                    }
                                                },
                                                "type": "scattergeo"
                                            }
                                        ],
                                        "scattergl": [
                                            {
                                                "marker": {
                                                    "colorbar": {
                                                        "outlinewidth": 0,
                                                        "ticks": ""
                                                    }
                                                },
                                                "type": "scattergl"
                                            }
                                        ],
                                        "scattermap": [
                                            {
                                                "marker": {
                                                    "colorbar": {
                                                        "outlinewidth": 0,
                                                        "ticks": ""
                                                    }
                                                },
                                                "type": "scattermap"
                                            }
                                        ],
                                        "scattermapbox": [
                                            {
                                                "marker": {
                                                    "colorbar": {
                                                        "outlinewidth": 0,
                                                        "ticks": ""
                                                    }
                                                },
                                                "type": "scattermapbox"
                                            }
                                        ],
                                        "scatterpolar": [
                                            {
                                                "marker": {
                                                    "colorbar": {
                                                        "outlinewidth": 0,
                                                        "ticks": ""
                                                    }
                                                },
                                                "type": "scatterpolar"
                                            }
                                        ],
                                        "scatterpolargl": [
                                            {
                                                "marker": {
                                                    "colorbar": {
                                                        "outlinewidth": 0,
                                                        "ticks": ""
                                                    }
                                                },
                                                "type": "scatterpolargl"
                                            }
                                        ],
                                        "scatterternary": [
                                            {
                                                "marker": {
                                                    "colorbar": {
                                                        "outlinewidth": 0,
                                                        "ticks": ""
                                                    }
                                                },
                                                "type": "scatterternary"
                                            }
                                        ],
                                        "surface": [
                                            {
                                                "colorbar": {
                                                    "outlinewidth": 0,
                                                    "ticks": ""
                                                },
                                                "colorscale": [
                                                    [
                                                        0,
                                                        "#0d0887"
                                                    ],
                                                    [
                                                        0.1111111111111111,
                                                        "#46039f"
                                                    ],
                                                    [
                                                        0.2222222222222222,
                                                        "#7201a8"
                                                    ],
                                                    [
                                                        0.3333333333333333,
                                                        "#9c179e"
                                                    ],
                                                    [
                                                        0.4444444444444444,
                                                        "#bd3786"
                                                    ],
                                                    [
                                                        0.5555555555555556,
                                                        "#d8576b"
                                                    ],
                                                    [
                                                        0.6666666666666666,
                                                        "#ed7953"
                                                    ],
                                                    [
                                                        0.7777777777777778,
                                                        "#fb9f3a"
                                                    ],
                                                    [
                                                        0.8888888888888888,
                                                        "#fdca26"
                                                    ],
                                                    [
                                                        1,
                                                        "#f0f921"
                                                    ]
                                                ],
                                                "type": "surface"
                                            }
                                        ],
                                        "table": [
                                            {
                                                "cells": {
                                                    "fill": {
                                                        "color": "#EBF0F8"
                                                    },
                                                    "line": {
                                                        "color": "white"
                                                    }
                                                },
                                                "header": {
                                                    "fill": {
                                                        "color": "#C8D4E3"
                                                    },
                                                    "line": {
                                                        "color": "white"
                                                    }
                                                },
                                                "type": "table"
                                            }
                                        ]
                                    },
                                    "layout": {
                                        "annotationdefaults": {
                                            "arrowcolor": "#2a3f5f",
                                            "arrowhead": 0,
                                            "arrowwidth": 1
                                        },
                                        "autotypenumbers": "strict",
                                        "coloraxis": {
                                            "colorbar": {
                                                "outlinewidth": 0,
                                                "ticks": ""
                                            }
                                        },
                                        "colorscale": {
                                            "diverging": [
                                                [
                                                    0,
                                                    "#8e0152"
                                                ],
                                                [
                                                    0.1,
                                                    "#c51b7d"
                                                ],
                                                [
                                                    0.2,
                                                    "#de77ae"
                                                ],
                                                [
                                                    0.3,
                                                    "#f1b6da"
                                                ],
                                                [
                                                    0.4,
                                                    "#fde0ef"
                                                ],
                                                [
                                                    0.5,
                                                    "#f7f7f7"
                                                ],
                                                [
                                                    0.6,
                                                    "#e6f5d0"
                                                ],
                                                [
                                                    0.7,
                                                    "#b8e186"
                                                ],
                                                [
                                                    0.8,
                                                    "#7fbc41"
                                                ],
                                                [
                                                    0.9,
                                                    "#4d9221"
                                                ],
                                                [
                                                    1,
                                                    "#276419"
                                                ]
                                            ],
                                            "sequential": [
                                                [
                                                    0,
                                                    "#0d0887"
                                                ],
                                                [
                                                    0.1111111111111111,
                                                    "#46039f"
                                                ],
                                                [
                                                    0.2222222222222222,
                                                    "#7201a8"
                                                ],
                                                [
                                                    0.3333333333333333,
                                                    "#9c179e"
                                                ],
                                                [
                                                    0.4444444444444444,
                                                    "#bd3786"
                                                ],
                                                [
                                                    0.5555555555555556,
                                                    "#d8576b"
                                                ],
                                                [
                                                    0.6666666666666666,
                                                    "#ed7953"
                                                ],
                                                [
                                                    0.7777777777777778,
                                                    "#fb9f3a"
                                                ],
                                                [
                                                    0.8888888888888888,
                                                    "#fdca26"
                                                ],
                                                [
                                                    1,
                                                    "#f0f921"
                                                ]
                                            ],
                                            "sequentialminus": [
                                                [
                                                    0,
                                                    "#0d0887"
                                                ],
                                                [
                                                    0.1111111111111111,
                                                    "#46039f"
                                                ],
                                                [
                                                    0.2222222222222222,
                                                    "#7201a8"
                                                ],
                                                [
                                                    0.3333333333333333,
                                                    "#9c179e"
                                                ],
                                                [
                                                    0.4444444444444444,
                                                    "#bd3786"
                                                ],
                                                [
                                                    0.5555555555555556,
                                                    "#d8576b"
                                                ],
                                                [
                                                    0.6666666666666666,
                                                    "#ed7953"
                                                ],
                                                [
                                                    0.7777777777777778,
                                                    "#fb9f3a"
                                                ],
                                                [
                                                    0.8888888888888888,
                                                    "#fdca26"
                                                ],
                                                [
                                                    1,
                                                    "#f0f921"
                                                ]
                                            ]
                                        },
                                        "colorway": [
                                            "#636efa",
                                            "#EF553B",
                                            "#00cc96",
                                            "#ab63fa",
                                            "#FFA15A",
                                            "#19d3f3",
                                            "#FF6692",
                                            "#B6E880",
                                            "#FF97FF",
                                            "#FECB52"
                                        ],
                                        "font": {
                                            "color": "#2a3f5f"
                                        },
                                        "geo": {
                                            "bgcolor": "white",
                                            "lakecolor": "white",
                                            "landcolor": "white",
                                            "showlakes": true,
                                            "showland": true,
                                            "subunitcolor": "#C8D4E3"
                                        },
                                        "hoverlabel": {
                                            "align": "left"
                                        },
                                        "hovermode": "closest",
                                        "mapbox": {
                                            "style": "light"
                                        },
                                        "paper_bgcolor": "white",
                                        "plot_bgcolor": "white",
                                        "polar": {
                                            "angularaxis": {
                                                "gridcolor": "#EBF0F8",
                                                "linecolor": "#EBF0F8",
                                                "ticks": ""
                                            },
                                            "bgcolor": "white",
                                            "radialaxis": {
                                                "gridcolor": "#EBF0F8",
                                                "linecolor": "#EBF0F8",
                                                "ticks": ""
                                            }
                                        },
                                        "scene": {
                                            "xaxis": {
                                                "backgroundcolor": "white",
                                                "gridcolor": "#DFE8F3",
                                                "gridwidth": 2,
                                                "linecolor": "#EBF0F8",
                                                "showbackground": true,
                                                "ticks": "",
                                                "zerolinecolor": "#EBF0F8"
                                            },
                                            "yaxis": {
                                                "backgroundcolor": "white",
                                                "gridcolor": "#DFE8F3",
                                                "gridwidth": 2,
                                                "linecolor": "#EBF0F8",
                                                "showbackground": true,
                                                "ticks": "",
                                                "zerolinecolor": "#EBF0F8"
                                            },
                                            "zaxis": {
                                                "backgroundcolor": "white",
                                                "gridcolor": "#DFE8F3",
                                                "gridwidth": 2,
                                                "linecolor": "#EBF0F8",
                                                "showbackground": true,
                                                "ticks": "",
                                                "zerolinecolor": "#EBF0F8"
                                            }
                                        },
                                        "shapedefaults": {
                                            "line": {
                                                "color": "#2a3f5f"
                                            }
                                        },
                                        "ternary": {
                                            "aaxis": {
                                                "gridcolor": "#DFE8F3",
                                                "linecolor": "#A2B1C6",
                                                "ticks": ""
                                            },
                                            "baxis": {
                                                "gridcolor": "#DFE8F3",
                                                "linecolor": "#A2B1C6",
                                                "ticks": ""
                                            },
                                            "bgcolor": "white",
                                            "caxis": {
                                                "gridcolor": "#DFE8F3",
                                                "linecolor": "#A2B1C6",
                                                "ticks": ""
                                            }
                                        },
                                        "title": {
                                            "x": 0.05
                                        },
                                        "xaxis": {
                                            "automargin": true,
                                            "gridcolor": "#EBF0F8",
                                            "linecolor": "#EBF0F8",
                                            "ticks": "",
                                            "title": {
                                                "standoff": 15
                                            },
                                            "zerolinecolor": "#EBF0F8",
                                            "zerolinewidth": 2
                                        },
                                        "yaxis": {
                                            "automargin": true,
                                            "gridcolor": "#EBF0F8",
                                            "linecolor": "#EBF0F8",
                                            "ticks": "",
                                            "title": {
                                                "standoff": 15
                                            },
                                            "zerolinecolor": "#EBF0F8",
                                            "zerolinewidth": 2
                                        }
                                    }
                                },
                                "title": {
                                    "text": "Star Types Count",
                                    "x": 0.5
                                },
                                "xaxis": {
                                    "anchor": "y",
                                    "domain": [
                                        0,
                                        1
                                    ],
                                    "title": {
                                        "text": "Star type"
                                    }
                                },
                                "yaxis": {
                                    "anchor": "x",
                                    "domain": [
                                        0,
                                        1
                                    ],
                                    "title": {
                                        "text": "Count"
                                    }
                                }
                            }
                        }
                    },
                    "metadata": {},
                    "output_type": "display_data"
                }
            ],
            "source": [
                "fig1 = create_star_type_bar_chart(star_df)\n",
                "\n",
                "fig1.show()"
            ]
        },
        {
            "cell_type": "code",
            "execution_count": 34,
            "metadata": {},
            "outputs": [
                {
                    "data": {
                        "application/vnd.plotly.v1+json": {
                            "config": {
                                "plotlyServerURL": "https://plot.ly"
                            },
                            "data": [
                                {
                                    "hovertemplate": "Star color=%{x}<br>Count=%{y}<extra></extra>",
                                    "legendgroup": "",
                                    "marker": {
                                        "color": "#636efa",
                                        "pattern": {
                                            "shape": ""
                                        }
                                    },
                                    "name": "",
                                    "orientation": "v",
                                    "showlegend": false,
                                    "textposition": "auto",
                                    "type": "bar",
                                    "x": [
                                        "Red",
                                        "Blue",
                                        "Blue-White",
                                        "Yellow-White",
                                        "White"
                                    ],
                                    "xaxis": "x",
                                    "y": {
                                        "bdata": "dDgpDww=",
                                        "dtype": "i1"
                                    },
                                    "yaxis": "y"
                                }
                            ],
                            "layout": {
                                "barmode": "relative",
                                "legend": {
                                    "tracegroupgap": 0
                                },
                                "template": {
                                    "data": {
                                        "bar": [
                                            {
                                                "error_x": {
                                                    "color": "#2a3f5f"
                                                },
                                                "error_y": {
                                                    "color": "#2a3f5f"
                                                },
                                                "marker": {
                                                    "line": {
                                                        "color": "white",
                                                        "width": 0.5
                                                    },
                                                    "pattern": {
                                                        "fillmode": "overlay",
                                                        "size": 10,
                                                        "solidity": 0.2
                                                    }
                                                },
                                                "type": "bar"
                                            }
                                        ],
                                        "barpolar": [
                                            {
                                                "marker": {
                                                    "line": {
                                                        "color": "white",
                                                        "width": 0.5
                                                    },
                                                    "pattern": {
                                                        "fillmode": "overlay",
                                                        "size": 10,
                                                        "solidity": 0.2
                                                    }
                                                },
                                                "type": "barpolar"
                                            }
                                        ],
                                        "carpet": [
                                            {
                                                "aaxis": {
                                                    "endlinecolor": "#2a3f5f",
                                                    "gridcolor": "#C8D4E3",
                                                    "linecolor": "#C8D4E3",
                                                    "minorgridcolor": "#C8D4E3",
                                                    "startlinecolor": "#2a3f5f"
                                                },
                                                "baxis": {
                                                    "endlinecolor": "#2a3f5f",
                                                    "gridcolor": "#C8D4E3",
                                                    "linecolor": "#C8D4E3",
                                                    "minorgridcolor": "#C8D4E3",
                                                    "startlinecolor": "#2a3f5f"
                                                },
                                                "type": "carpet"
                                            }
                                        ],
                                        "choropleth": [
                                            {
                                                "colorbar": {
                                                    "outlinewidth": 0,
                                                    "ticks": ""
                                                },
                                                "type": "choropleth"
                                            }
                                        ],
                                        "contour": [
                                            {
                                                "colorbar": {
                                                    "outlinewidth": 0,
                                                    "ticks": ""
                                                },
                                                "colorscale": [
                                                    [
                                                        0,
                                                        "#0d0887"
                                                    ],
                                                    [
                                                        0.1111111111111111,
                                                        "#46039f"
                                                    ],
                                                    [
                                                        0.2222222222222222,
                                                        "#7201a8"
                                                    ],
                                                    [
                                                        0.3333333333333333,
                                                        "#9c179e"
                                                    ],
                                                    [
                                                        0.4444444444444444,
                                                        "#bd3786"
                                                    ],
                                                    [
                                                        0.5555555555555556,
                                                        "#d8576b"
                                                    ],
                                                    [
                                                        0.6666666666666666,
                                                        "#ed7953"
                                                    ],
                                                    [
                                                        0.7777777777777778,
                                                        "#fb9f3a"
                                                    ],
                                                    [
                                                        0.8888888888888888,
                                                        "#fdca26"
                                                    ],
                                                    [
                                                        1,
                                                        "#f0f921"
                                                    ]
                                                ],
                                                "type": "contour"
                                            }
                                        ],
                                        "contourcarpet": [
                                            {
                                                "colorbar": {
                                                    "outlinewidth": 0,
                                                    "ticks": ""
                                                },
                                                "type": "contourcarpet"
                                            }
                                        ],
                                        "heatmap": [
                                            {
                                                "colorbar": {
                                                    "outlinewidth": 0,
                                                    "ticks": ""
                                                },
                                                "colorscale": [
                                                    [
                                                        0,
                                                        "#0d0887"
                                                    ],
                                                    [
                                                        0.1111111111111111,
                                                        "#46039f"
                                                    ],
                                                    [
                                                        0.2222222222222222,
                                                        "#7201a8"
                                                    ],
                                                    [
                                                        0.3333333333333333,
                                                        "#9c179e"
                                                    ],
                                                    [
                                                        0.4444444444444444,
                                                        "#bd3786"
                                                    ],
                                                    [
                                                        0.5555555555555556,
                                                        "#d8576b"
                                                    ],
                                                    [
                                                        0.6666666666666666,
                                                        "#ed7953"
                                                    ],
                                                    [
                                                        0.7777777777777778,
                                                        "#fb9f3a"
                                                    ],
                                                    [
                                                        0.8888888888888888,
                                                        "#fdca26"
                                                    ],
                                                    [
                                                        1,
                                                        "#f0f921"
                                                    ]
                                                ],
                                                "type": "heatmap"
                                            }
                                        ],
                                        "histogram": [
                                            {
                                                "marker": {
                                                    "pattern": {
                                                        "fillmode": "overlay",
                                                        "size": 10,
                                                        "solidity": 0.2
                                                    }
                                                },
                                                "type": "histogram"
                                            }
                                        ],
                                        "histogram2d": [
                                            {
                                                "colorbar": {
                                                    "outlinewidth": 0,
                                                    "ticks": ""
                                                },
                                                "colorscale": [
                                                    [
                                                        0,
                                                        "#0d0887"
                                                    ],
                                                    [
                                                        0.1111111111111111,
                                                        "#46039f"
                                                    ],
                                                    [
                                                        0.2222222222222222,
                                                        "#7201a8"
                                                    ],
                                                    [
                                                        0.3333333333333333,
                                                        "#9c179e"
                                                    ],
                                                    [
                                                        0.4444444444444444,
                                                        "#bd3786"
                                                    ],
                                                    [
                                                        0.5555555555555556,
                                                        "#d8576b"
                                                    ],
                                                    [
                                                        0.6666666666666666,
                                                        "#ed7953"
                                                    ],
                                                    [
                                                        0.7777777777777778,
                                                        "#fb9f3a"
                                                    ],
                                                    [
                                                        0.8888888888888888,
                                                        "#fdca26"
                                                    ],
                                                    [
                                                        1,
                                                        "#f0f921"
                                                    ]
                                                ],
                                                "type": "histogram2d"
                                            }
                                        ],
                                        "histogram2dcontour": [
                                            {
                                                "colorbar": {
                                                    "outlinewidth": 0,
                                                    "ticks": ""
                                                },
                                                "colorscale": [
                                                    [
                                                        0,
                                                        "#0d0887"
                                                    ],
                                                    [
                                                        0.1111111111111111,
                                                        "#46039f"
                                                    ],
                                                    [
                                                        0.2222222222222222,
                                                        "#7201a8"
                                                    ],
                                                    [
                                                        0.3333333333333333,
                                                        "#9c179e"
                                                    ],
                                                    [
                                                        0.4444444444444444,
                                                        "#bd3786"
                                                    ],
                                                    [
                                                        0.5555555555555556,
                                                        "#d8576b"
                                                    ],
                                                    [
                                                        0.6666666666666666,
                                                        "#ed7953"
                                                    ],
                                                    [
                                                        0.7777777777777778,
                                                        "#fb9f3a"
                                                    ],
                                                    [
                                                        0.8888888888888888,
                                                        "#fdca26"
                                                    ],
                                                    [
                                                        1,
                                                        "#f0f921"
                                                    ]
                                                ],
                                                "type": "histogram2dcontour"
                                            }
                                        ],
                                        "mesh3d": [
                                            {
                                                "colorbar": {
                                                    "outlinewidth": 0,
                                                    "ticks": ""
                                                },
                                                "type": "mesh3d"
                                            }
                                        ],
                                        "parcoords": [
                                            {
                                                "line": {
                                                    "colorbar": {
                                                        "outlinewidth": 0,
                                                        "ticks": ""
                                                    }
                                                },
                                                "type": "parcoords"
                                            }
                                        ],
                                        "pie": [
                                            {
                                                "automargin": true,
                                                "type": "pie"
                                            }
                                        ],
                                        "scatter": [
                                            {
                                                "fillpattern": {
                                                    "fillmode": "overlay",
                                                    "size": 10,
                                                    "solidity": 0.2
                                                },
                                                "type": "scatter"
                                            }
                                        ],
                                        "scatter3d": [
                                            {
                                                "line": {
                                                    "colorbar": {
                                                        "outlinewidth": 0,
                                                        "ticks": ""
                                                    }
                                                },
                                                "marker": {
                                                    "colorbar": {
                                                        "outlinewidth": 0,
                                                        "ticks": ""
                                                    }
                                                },
                                                "type": "scatter3d"
                                            }
                                        ],
                                        "scattercarpet": [
                                            {
                                                "marker": {
                                                    "colorbar": {
                                                        "outlinewidth": 0,
                                                        "ticks": ""
                                                    }
                                                },
                                                "type": "scattercarpet"
                                            }
                                        ],
                                        "scattergeo": [
                                            {
                                                "marker": {
                                                    "colorbar": {
                                                        "outlinewidth": 0,
                                                        "ticks": ""
                                                    }
                                                },
                                                "type": "scattergeo"
                                            }
                                        ],
                                        "scattergl": [
                                            {
                                                "marker": {
                                                    "colorbar": {
                                                        "outlinewidth": 0,
                                                        "ticks": ""
                                                    }
                                                },
                                                "type": "scattergl"
                                            }
                                        ],
                                        "scattermap": [
                                            {
                                                "marker": {
                                                    "colorbar": {
                                                        "outlinewidth": 0,
                                                        "ticks": ""
                                                    }
                                                },
                                                "type": "scattermap"
                                            }
                                        ],
                                        "scattermapbox": [
                                            {
                                                "marker": {
                                                    "colorbar": {
                                                        "outlinewidth": 0,
                                                        "ticks": ""
                                                    }
                                                },
                                                "type": "scattermapbox"
                                            }
                                        ],
                                        "scatterpolar": [
                                            {
                                                "marker": {
                                                    "colorbar": {
                                                        "outlinewidth": 0,
                                                        "ticks": ""
                                                    }
                                                },
                                                "type": "scatterpolar"
                                            }
                                        ],
                                        "scatterpolargl": [
                                            {
                                                "marker": {
                                                    "colorbar": {
                                                        "outlinewidth": 0,
                                                        "ticks": ""
                                                    }
                                                },
                                                "type": "scatterpolargl"
                                            }
                                        ],
                                        "scatterternary": [
                                            {
                                                "marker": {
                                                    "colorbar": {
                                                        "outlinewidth": 0,
                                                        "ticks": ""
                                                    }
                                                },
                                                "type": "scatterternary"
                                            }
                                        ],
                                        "surface": [
                                            {
                                                "colorbar": {
                                                    "outlinewidth": 0,
                                                    "ticks": ""
                                                },
                                                "colorscale": [
                                                    [
                                                        0,
                                                        "#0d0887"
                                                    ],
                                                    [
                                                        0.1111111111111111,
                                                        "#46039f"
                                                    ],
                                                    [
                                                        0.2222222222222222,
                                                        "#7201a8"
                                                    ],
                                                    [
                                                        0.3333333333333333,
                                                        "#9c179e"
                                                    ],
                                                    [
                                                        0.4444444444444444,
                                                        "#bd3786"
                                                    ],
                                                    [
                                                        0.5555555555555556,
                                                        "#d8576b"
                                                    ],
                                                    [
                                                        0.6666666666666666,
                                                        "#ed7953"
                                                    ],
                                                    [
                                                        0.7777777777777778,
                                                        "#fb9f3a"
                                                    ],
                                                    [
                                                        0.8888888888888888,
                                                        "#fdca26"
                                                    ],
                                                    [
                                                        1,
                                                        "#f0f921"
                                                    ]
                                                ],
                                                "type": "surface"
                                            }
                                        ],
                                        "table": [
                                            {
                                                "cells": {
                                                    "fill": {
                                                        "color": "#EBF0F8"
                                                    },
                                                    "line": {
                                                        "color": "white"
                                                    }
                                                },
                                                "header": {
                                                    "fill": {
                                                        "color": "#C8D4E3"
                                                    },
                                                    "line": {
                                                        "color": "white"
                                                    }
                                                },
                                                "type": "table"
                                            }
                                        ]
                                    },
                                    "layout": {
                                        "annotationdefaults": {
                                            "arrowcolor": "#2a3f5f",
                                            "arrowhead": 0,
                                            "arrowwidth": 1
                                        },
                                        "autotypenumbers": "strict",
                                        "coloraxis": {
                                            "colorbar": {
                                                "outlinewidth": 0,
                                                "ticks": ""
                                            }
                                        },
                                        "colorscale": {
                                            "diverging": [
                                                [
                                                    0,
                                                    "#8e0152"
                                                ],
                                                [
                                                    0.1,
                                                    "#c51b7d"
                                                ],
                                                [
                                                    0.2,
                                                    "#de77ae"
                                                ],
                                                [
                                                    0.3,
                                                    "#f1b6da"
                                                ],
                                                [
                                                    0.4,
                                                    "#fde0ef"
                                                ],
                                                [
                                                    0.5,
                                                    "#f7f7f7"
                                                ],
                                                [
                                                    0.6,
                                                    "#e6f5d0"
                                                ],
                                                [
                                                    0.7,
                                                    "#b8e186"
                                                ],
                                                [
                                                    0.8,
                                                    "#7fbc41"
                                                ],
                                                [
                                                    0.9,
                                                    "#4d9221"
                                                ],
                                                [
                                                    1,
                                                    "#276419"
                                                ]
                                            ],
                                            "sequential": [
                                                [
                                                    0,
                                                    "#0d0887"
                                                ],
                                                [
                                                    0.1111111111111111,
                                                    "#46039f"
                                                ],
                                                [
                                                    0.2222222222222222,
                                                    "#7201a8"
                                                ],
                                                [
                                                    0.3333333333333333,
                                                    "#9c179e"
                                                ],
                                                [
                                                    0.4444444444444444,
                                                    "#bd3786"
                                                ],
                                                [
                                                    0.5555555555555556,
                                                    "#d8576b"
                                                ],
                                                [
                                                    0.6666666666666666,
                                                    "#ed7953"
                                                ],
                                                [
                                                    0.7777777777777778,
                                                    "#fb9f3a"
                                                ],
                                                [
                                                    0.8888888888888888,
                                                    "#fdca26"
                                                ],
                                                [
                                                    1,
                                                    "#f0f921"
                                                ]
                                            ],
                                            "sequentialminus": [
                                                [
                                                    0,
                                                    "#0d0887"
                                                ],
                                                [
                                                    0.1111111111111111,
                                                    "#46039f"
                                                ],
                                                [
                                                    0.2222222222222222,
                                                    "#7201a8"
                                                ],
                                                [
                                                    0.3333333333333333,
                                                    "#9c179e"
                                                ],
                                                [
                                                    0.4444444444444444,
                                                    "#bd3786"
                                                ],
                                                [
                                                    0.5555555555555556,
                                                    "#d8576b"
                                                ],
                                                [
                                                    0.6666666666666666,
                                                    "#ed7953"
                                                ],
                                                [
                                                    0.7777777777777778,
                                                    "#fb9f3a"
                                                ],
                                                [
                                                    0.8888888888888888,
                                                    "#fdca26"
                                                ],
                                                [
                                                    1,
                                                    "#f0f921"
                                                ]
                                            ]
                                        },
                                        "colorway": [
                                            "#636efa",
                                            "#EF553B",
                                            "#00cc96",
                                            "#ab63fa",
                                            "#FFA15A",
                                            "#19d3f3",
                                            "#FF6692",
                                            "#B6E880",
                                            "#FF97FF",
                                            "#FECB52"
                                        ],
                                        "font": {
                                            "color": "#2a3f5f"
                                        },
                                        "geo": {
                                            "bgcolor": "white",
                                            "lakecolor": "white",
                                            "landcolor": "white",
                                            "showlakes": true,
                                            "showland": true,
                                            "subunitcolor": "#C8D4E3"
                                        },
                                        "hoverlabel": {
                                            "align": "left"
                                        },
                                        "hovermode": "closest",
                                        "mapbox": {
                                            "style": "light"
                                        },
                                        "paper_bgcolor": "white",
                                        "plot_bgcolor": "white",
                                        "polar": {
                                            "angularaxis": {
                                                "gridcolor": "#EBF0F8",
                                                "linecolor": "#EBF0F8",
                                                "ticks": ""
                                            },
                                            "bgcolor": "white",
                                            "radialaxis": {
                                                "gridcolor": "#EBF0F8",
                                                "linecolor": "#EBF0F8",
                                                "ticks": ""
                                            }
                                        },
                                        "scene": {
                                            "xaxis": {
                                                "backgroundcolor": "white",
                                                "gridcolor": "#DFE8F3",
                                                "gridwidth": 2,
                                                "linecolor": "#EBF0F8",
                                                "showbackground": true,
                                                "ticks": "",
                                                "zerolinecolor": "#EBF0F8"
                                            },
                                            "yaxis": {
                                                "backgroundcolor": "white",
                                                "gridcolor": "#DFE8F3",
                                                "gridwidth": 2,
                                                "linecolor": "#EBF0F8",
                                                "showbackground": true,
                                                "ticks": "",
                                                "zerolinecolor": "#EBF0F8"
                                            },
                                            "zaxis": {
                                                "backgroundcolor": "white",
                                                "gridcolor": "#DFE8F3",
                                                "gridwidth": 2,
                                                "linecolor": "#EBF0F8",
                                                "showbackground": true,
                                                "ticks": "",
                                                "zerolinecolor": "#EBF0F8"
                                            }
                                        },
                                        "shapedefaults": {
                                            "line": {
                                                "color": "#2a3f5f"
                                            }
                                        },
                                        "ternary": {
                                            "aaxis": {
                                                "gridcolor": "#DFE8F3",
                                                "linecolor": "#A2B1C6",
                                                "ticks": ""
                                            },
                                            "baxis": {
                                                "gridcolor": "#DFE8F3",
                                                "linecolor": "#A2B1C6",
                                                "ticks": ""
                                            },
                                            "bgcolor": "white",
                                            "caxis": {
                                                "gridcolor": "#DFE8F3",
                                                "linecolor": "#A2B1C6",
                                                "ticks": ""
                                            }
                                        },
                                        "title": {
                                            "x": 0.05
                                        },
                                        "xaxis": {
                                            "automargin": true,
                                            "gridcolor": "#EBF0F8",
                                            "linecolor": "#EBF0F8",
                                            "ticks": "",
                                            "title": {
                                                "standoff": 15
                                            },
                                            "zerolinecolor": "#EBF0F8",
                                            "zerolinewidth": 2
                                        },
                                        "yaxis": {
                                            "automargin": true,
                                            "gridcolor": "#EBF0F8",
                                            "linecolor": "#EBF0F8",
                                            "ticks": "",
                                            "title": {
                                                "standoff": 15
                                            },
                                            "zerolinecolor": "#EBF0F8",
                                            "zerolinewidth": 2
                                        }
                                    }
                                },
                                "title": {
                                    "text": "Star Colors Count",
                                    "x": 0.5
                                },
                                "xaxis": {
                                    "anchor": "y",
                                    "domain": [
                                        0,
                                        1
                                    ],
                                    "title": {
                                        "text": "Star color"
                                    }
                                },
                                "yaxis": {
                                    "anchor": "x",
                                    "domain": [
                                        0,
                                        1
                                    ],
                                    "title": {
                                        "text": "Count"
                                    }
                                }
                            }
                        }
                    },
                    "metadata": {},
                    "output_type": "display_data"
                }
            ],
            "source": [
                "fig2 = create_star_color_bar_chart(star_df)\n",
                "\n",
                "fig2.show()"
            ]
        },
        {
            "cell_type": "code",
            "execution_count": 35,
            "metadata": {},
            "outputs": [
                {
                    "data": {
                        "application/vnd.plotly.v1+json": {
                            "config": {
                                "plotlyServerURL": "https://plot.ly"
                            },
                            "data": [
                                {
                                    "boxmean": true,
                                    "boxpoints": "outliers",
                                    "fillcolor": "brown",
                                    "jitter": 0,
                                    "line": {
                                        "width": 2
                                    },
                                    "marker": {
                                        "color": "brown"
                                    },
                                    "name": "Brown Dwarf",
                                    "opacity": 0.7,
                                    "pointpos": 0,
                                    "quartilemethod": "linear",
                                    "showlegend": true,
                                    "type": "box",
                                    "width": 0.4,
                                    "xaxis": "x",
                                    "y": {
                                        "bdata": "/AviCygK8AqTBxgLTQooCloKjAoNDWgNpwsTC3cL3wyBCwEL1go3C/sMyw2SDEoMtw2ZDHcLLQsoC6sKDwtiC1sNkgx9DUkLmAucDdoKww0=",
                                        "dtype": "i2"
                                    },
                                    "yaxis": "y"
                                },
                                {
                                    "boxmean": true,
                                    "boxpoints": "outliers",
                                    "fillcolor": "red",
                                    "jitter": 0,
                                    "line": {
                                        "width": 2
                                    },
                                    "marker": {
                                        "color": "red"
                                    },
                                    "name": "Red Dwarf",
                                    "opacity": 0.7,
                                    "pointpos": 0,
                                    "quartilemethod": "linear",
                                    "showlegend": true,
                                    "type": "box",
                                    "width": 0.4,
                                    "xaxis": "x",
                                    "y": {
                                        "bdata": "EA45DD4MLA5aCgwN7wpsDngMcQ0RDRcO6AxODN4NbAxKCw4NPQpWDBcMFw4cDK0L1g2rDBMMDg78DNUNhg25DLILjAzDDQ4ORgyoDfwMhw0=",
                                        "dtype": "i2"
                                    },
                                    "yaxis": "y"
                                },
                                {
                                    "boxmean": true,
                                    "boxpoints": "outliers",
                                    "fillcolor": "lightskyblue",
                                    "jitter": 0,
                                    "line": {
                                        "width": 2
                                    },
                                    "marker": {
                                        "color": "lightskyblue"
                                    },
                                    "name": "White Dwarf",
                                    "opacity": 0.7,
                                    "pointpos": 0,
                                    "quartilemethod": "linear",
                                    "showlegend": true,
                                    "type": "box",
                                    "width": 0.4,
                                    "xaxis": "x",
                                    "y": {
                                        "bdata": "qGE8HjQcNCF0QL4yeiEUHg4uPhy8G04p4iIwQxQ3yyXqLuQqmDWUTWw0HFJyR7g4fC7cInAyjDkrHrgylkFAPYY6HDSkR9BN1F00WgBGoEs=",
                                        "dtype": "i2"
                                    },
                                    "yaxis": "y"
                                },
                                {
                                    "boxmean": true,
                                    "boxpoints": "outliers",
                                    "fillcolor": "yellow",
                                    "jitter": 0,
                                    "line": {
                                        "width": 2
                                    },
                                    "marker": {
                                        "color": "yellow"
                                    },
                                    "name": "Main Sequence",
                                    "opacity": 0.7,
                                    "pointpos": 0,
                                    "quartilemethod": "linear",
                                    "showlegend": true,
                                    "type": "box",
                                    "width": 0.4,
                                    "xaxis": "x",
                                    "y": {
                                        "bdata": "WJgAADB1AACsOwAA5CUAAKgWAAB0HwAAZRoAAOwYAAAwFwAA0xUAALQUAACuEQAA7Q8AAHQTAABGIwAA8isAAPgTAAAoHgAAQi8AAAyNAAB4cwAA8SIAAOw2AAAGQAAA7mEAABxwAAAcZgAAmE4AAN8yAACokwAATlcAABwnAAAhMwAA/FUAAI6FAADMfgAAaCQAAMhLAAD0QgAAOiAAAA==",
                                        "dtype": "i4"
                                    },
                                    "yaxis": "y"
                                },
                                {
                                    "boxmean": true,
                                    "boxpoints": "outliers",
                                    "fillcolor": "blue",
                                    "jitter": 0,
                                    "line": {
                                        "width": 2
                                    },
                                    "marker": {
                                        "color": "blue"
                                    },
                                    "name": "Supergiants",
                                    "opacity": 0.7,
                                    "pointpos": 0,
                                    "quartilemethod": "linear",
                                    "showlegend": true,
                                    "type": "box",
                                    "width": 0.4,
                                    "xaxis": "x",
                                    "y": {
                                        "bdata": "8g4AACUNAADGDAAAgAwAAMALAAAQDgAA9w0AAPYNAAApDgAA1oMAABSCAABAnAAA2FkAAOBCAABYKwAApTcAADZgAABdMgAAGV8AAI2CAAAuYwAALy0AAIMxAAB4FgAA3yIAAHIcAADTTQAABWcAAOdDAACdJAAAflwAAM0xAACnJAAAkFsAAJNBAAAuSQAApCYAALIqAAA3WgAA6lQAAA==",
                                        "dtype": "i4"
                                    },
                                    "yaxis": "y"
                                },
                                {
                                    "boxmean": true,
                                    "boxpoints": "outliers",
                                    "fillcolor": "orange",
                                    "jitter": 0,
                                    "line": {
                                        "width": 2
                                    },
                                    "marker": {
                                        "color": "orange"
                                    },
                                    "name": "Hypergiants",
                                    "opacity": 0.7,
                                    "pointpos": 0,
                                    "quartilemethod": "linear",
                                    "showlegend": true,
                                    "type": "box",
                                    "width": 0.4,
                                    "xaxis": "x",
                                    "y": {
                                        "bdata": "og0AAKYOAAD6DgAApQ4AAEIOAAB6DQAATA4AAHoNAACoDgAAzw0AAIMNAAAVDgAAHw4AAEcNAAAaDgAA4Q0AAK8PAAApDgAAwhoAAMQOAADyDQAArA0AAL8QAACQZQAAEA4AAB4OAABQRgAA+CoAAEQvAACqXwAAUV4AAFqVAADpfgAAW2wAAJBVAAAcmAAAd3gAAH0iAAATJAAA+pMAAA==",
                                        "dtype": "i4"
                                    },
                                    "yaxis": "y"
                                },
                                {
                                    "boxmean": true,
                                    "boxpoints": "outliers",
                                    "fillcolor": "brown",
                                    "jitter": 0,
                                    "line": {
                                        "width": 2
                                    },
                                    "marker": {
                                        "color": "brown"
                                    },
                                    "name": "Brown Dwarf",
                                    "opacity": 0.7,
                                    "pointpos": 0,
                                    "quartilemethod": "linear",
                                    "showlegend": false,
                                    "type": "box",
                                    "width": 0.4,
                                    "xaxis": "x2",
                                    "y": {
                                        "bdata": "YTJVMCqpYz/8qfHSTWJAP2EyVTAqqTM/LUMc6+I2Kj8cJET5ghYiP5T2Bl+YTEU/smMjEK/rRz8tQxzr4jY6PyMtlbcjnEY/D9b/OcyXJz/HuriNBvB2P9wRTgte9EU/aR1VTRB1Lz+An3HhQEg2P9L7xteeWSI/WBzO/GoOUD/xaOOItfg0P1gczvxqDlA/D9b/OcyXNz8P1v85zJdHPwOV8e8zLjw/fnTqymd5Tj+L4H8r2bFBP2EyVTAqqSM/8WjjiLX4RD+eDI6SV+dIP6ciFcYWgkw/ngyOklfnKD+3Xz5ZMVxNP4KOVrWkozw/tVII5BJHLj9ENpAuNq1EP1gczvxqDjA/bTfBN02fPT+gqGxYU1lEP6Im+nyUETc/x5xn7Es2Pj8lyXN9Hw5CP2ms/Z3t0Us/hAzk2eVbTz8=",
                                        "dtype": "f8"
                                    },
                                    "yaxis": "y2"
                                },
                                {
                                    "boxmean": true,
                                    "boxpoints": "outliers",
                                    "fillcolor": "red",
                                    "jitter": 0,
                                    "line": {
                                        "width": 2
                                    },
                                    "marker": {
                                        "color": "red"
                                    },
                                    "name": "Red Dwarf",
                                    "opacity": 0.7,
                                    "pointpos": 0,
                                    "quartilemethod": "linear",
                                    "showlegend": false,
                                    "type": "box",
                                    "width": 0.4,
                                    "xaxis": "x2",
                                    "y": {
                                        "bdata": "4JwRpb3BZz8H8BZIUPyIPy1DHOviNjo/ukkMAiuHdj9hMlUwKqlDP8WPMXctIW8/kst/SL99XT9xAz4/jBBuP2SSkbOwp20/K4cW2c73oz8bL90kBoGVP7pJDAIrh5Y/nMQgsHJogT8vbqMBvAWCP/yp8dJNYnA//Knx0k1iUD9fB84ZUdprP/p+arx0k1g/YTJVMCqpQz+u2F92Tx5WP54MjpJX5yg/2ubG9IQlLj/8qfHSTWKAP6g1zTtO0YE/kst/SL99TT9IUPwYc9diP4Lix5i7loA/L26jAbwFUj9fB84ZUdprP5T2Bl+YTFU/oWez6nO1dT9hMlUwKqljP5LLf0i/fX0/LUMc6+I2Wj+u2F92Tx52P67YX3ZPHmY/OIQqNXugVT97FK5H4XpUPzm0yHa+n3o/rthfdk8eZj8=",
                                        "dtype": "f8"
                                    },
                                    "yaxis": "y2"
                                },
                                {
                                    "boxmean": true,
                                    "boxpoints": "outliers",
                                    "fillcolor": "lightskyblue",
                                    "jitter": 0,
                                    "line": {
                                        "width": 2
                                    },
                                    "marker": {
                                        "color": "lightskyblue"
                                    },
                                    "name": "White Dwarf",
                                    "opacity": 0.7,
                                    "pointpos": 0,
                                    "quartilemethod": "linear",
                                    "showlegend": false,
                                    "type": "box",
                                    "width": 0.4,
                                    "xaxis": "x2",
                                    "y": {
                                        "bdata": "eekmMQisrD9YHM78ag5AP4CfceFASCY//Knx0k1iQD85tMh2vp+KP4CfceFASBY/0NA/wcWKSj9LsDic+dUcP2EyVTAqqSM/8WjjiLX4FD8aFw6EZAEzP9L7xteeWSI/0vvG155ZQj9YHM78ag5QP9wRTgte9EU/kst/SL99PT/lJ9U+HY9JP1bxRuaRP0g/D9b/OcyXJz8vbqMBvAVSP76kMVpHVUM/+n5qvHSTWD+U9gZfmExVP3ReY5eo3ko/3BFOC170RT/S+8bXnlkyP2tI3GPpQ0c/S7A4nPnVHD/S+8bXnlkiP0uwOJz51Uw/x7q4jQbwVj8FwHgGDf1TP76kMVpHVVM/XaeRlsrbUT/cEU4LXvRVP+Un1T4dj1k/W3wKgPEMWj84hCo1e6BVPwE1tWytL1I/exSuR+F6VD8=",
                                        "dtype": "f8"
                                    },
                                    "yaxis": "y2"
                                },
                                {
                                    "boxmean": true,
                                    "boxpoints": "outliers",
                                    "fillcolor": "yellow",
                                    "jitter": 0,
                                    "line": {
                                        "width": 2
                                    },
                                    "marker": {
                                        "color": "yellow"
                                    },
                                    "name": "Main Sequence",
                                    "opacity": 0.7,
                                    "pointpos": 0,
                                    "quartilemethod": "linear",
                                    "showlegend": false,
                                    "type": "box",
                                    "width": 0.4,
                                    "xaxis": "x2",
                                    "y": {
                                        "bdata": "AAAAAADnCEEAAAAAACrcQAAAAAAAwJFAAAAAAACAUkDsUbgehevpP2ZmZmZmZiFA4XoUrkfh9j+amZmZmZn1P4PAyqFFtvU/aJHtfD816j/hehSuR+HiPy/dJAaBlcM/w/UoXI/CtT8MAiuHFtnWPwAAAAAAgEZAAAAAAAAAhUApXI/C9SjkP65H4XoUrh9AAAAAAACIhUAAAAAAgCsIQQAAAAAA8wZBAAAAAAAAQ0AAAAAAABCRQAAAAAAA+JNAAAAAAABSzEAAAAAAgGXQQAAAAAAAXMxAAAAAAABwskAAAAAAADCPQAAAAACgxAhBAAAAAABRyEAAAAAAAECBQAAAAAAAoIhAAAAAAABcukAAAAAAwDEIQQAAAABANwVBAAAAAAAAPUAAAAAAAFTFQAAAAAAAmItAAAAAAACAIkA=",
                                        "dtype": "f8"
                                    },
                                    "yaxis": "y2"
                                },
                                {
                                    "boxmean": true,
                                    "boxpoints": "outliers",
                                    "fillcolor": "blue",
                                    "jitter": 0,
                                    "line": {
                                        "width": 2
                                    },
                                    "marker": {
                                        "color": "blue"
                                    },
                                    "name": "Supergiants",
                                    "opacity": 0.7,
                                    "pointpos": 0,
                                    "quartilemethod": "linear",
                                    "showlegend": false,
                                    "type": "box",
                                    "width": 0.4,
                                    "xaxis": "x2",
                                    "y": {
                                        "bdata": "AAAAAABqCEEAAAAAgMAUQQAAAACATwJBAAAAAMDNB0EAAAAAABcRQQAAAAAAiBNBAAAAAIAH/kAAAAAAAGoIQQAAAAAAdgZBAAAAAADbCkEAAAAAAEwNQQAAAACQzyhBAAAAAIAB/0AAAAAAwK8MQQAAAAAAWPtAAAAAAMAyDEEAAAAA4CcWQQAAAAAAdgZBAAAAAIBVAUEAAAAAAHwVQQAAAADAOAtBAAAAAMCjDkEAAAAAgJYbQQAAAABA6A1BAAAAAMAsDUEAAAAAgPv/QAAAAAAAjgJBAAAAAIArCEEAAAAA0O0UQQAAAAAg6RlBAAAAABDSDUEAAAAAoEsUQQAAAABw7hRBAAAAAKxmIEEAAAAAUB4OQQAAAABgcAtBAAAAANgfIkEAAAAAdOwnQQAAAACwOhVBAAAAALTaJkE=",
                                        "dtype": "f8"
                                    },
                                    "yaxis": "y2"
                                },
                                {
                                    "boxmean": true,
                                    "boxpoints": "outliers",
                                    "fillcolor": "orange",
                                    "jitter": 0,
                                    "line": {
                                        "width": 2
                                    },
                                    "marker": {
                                        "color": "orange"
                                    },
                                    "name": "Hypergiants",
                                    "opacity": 0.7,
                                    "pointpos": 0,
                                    "quartilemethod": "linear",
                                    "showlegend": false,
                                    "type": "box",
                                    "width": 0.4,
                                    "xaxis": "x2",
                                    "y": {
                                        "bdata": "AAAAAMB6EEEAAAAA4EURQQAAAAAAmhBBAAAAAODIIEEAAAAAwOsSQQAAAABgDRBBAAAAAOAnFkEAAAAAgD0FQQAAAABAgwlBAAAAAMDNB0EAAAAAAGr4QAAAAAAAw/5AAAAAAABqCEEAAAAAgJD8QAAAAAAAHQBBAAAAAECzAUEAAAAAQDYRQQAAAAAAEfJAAAAAAED0C0EAAAAAAGoIQQAAAAAAiBNBAAAAAIDYAEEAAAAA4DkjQQAAAACASRNBAAAAAABMDUEAAAAAQLMBQQAAAAAAaghBAAAAAIDABEEAAAAAAEz9QAAAAABQVQ5BAAAAAERgF0EAAAAA+KYQQQAAAADcySNBAAAAABjsKUEAAAAAlNcmQQAAAAC44BZBAAAAAPRzKUEAAAAAKmcgQQAAAAAwtxhBAAAAANz/EUE=",
                                        "dtype": "f8"
                                    },
                                    "yaxis": "y2"
                                },
                                {
                                    "boxmean": true,
                                    "boxpoints": "outliers",
                                    "fillcolor": "brown",
                                    "jitter": 0,
                                    "line": {
                                        "width": 2
                                    },
                                    "marker": {
                                        "color": "brown"
                                    },
                                    "name": "Brown Dwarf",
                                    "opacity": 0.7,
                                    "pointpos": 0,
                                    "quartilemethod": "linear",
                                    "showlegend": false,
                                    "type": "box",
                                    "width": 0.4,
                                    "xaxis": "x3",
                                    "y": {
                                        "bdata": "w/UoXI/CxT+Uh4Va07zDP+kmMQisHLo/exSuR+F6xD+R7Xw/NV66Pylcj8L1KLw/qMZLN4lBwD/6fmq8dJO4Pylcj8L1KLw/pHA9CtejwD/Jdr6fGi+tP1K4HoXrUcg/qvHSTWIQuD851sVtNIC3PxkEVg4tsr0/TDeJQWDlwD8CK4cW2c63P8NkqmBUUrc/aJHtfD81vj+4HoXrUbi+P9QrZRniWLc/B/AWSFD8uD8pXI/C9Si8PyS5/If027c/gZVDi2znuz9g5dAi2/m+PyS5/If027c/+Q/pt68Dtz9NFYxK6gS0PyegibDh6bU/BoGVQ4tstz8ZBFYOLbK9P1TjpZvEIMA/v30dOGdEuT+1FfvL7smzP9Sa5h2n6Lg/EFg5tMh2vj94CyQofoy5P3npJjEIrLw/UI2XbhKDwD8=",
                                        "dtype": "f8"
                                    },
                                    "yaxis": "y3"
                                },
                                {
                                    "boxmean": true,
                                    "boxpoints": "outliers",
                                    "fillcolor": "red",
                                    "jitter": 0,
                                    "line": {
                                        "width": 2
                                    },
                                    "marker": {
                                        "color": "red"
                                    },
                                    "name": "Red Dwarf",
                                    "opacity": 0.7,
                                    "pointpos": 0,
                                    "quartilemethod": "linear",
                                    "showlegend": false,
                                    "type": "box",
                                    "width": 0.4,
                                    "xaxis": "x3",
                                    "y": {
                                        "bdata": "UrgehetR4D9uowG8BRLYP0oMAiuHFsk/9P3UeOkm2T/sUbgehevBP7gehetRuM4/exSuR+F6xD8UrkfhehTePwXFjzF3Lck/EFg5tMh21j9GtvP91HjRP1K4HoXrUdg/CtejcD0Kxz9mZmZmZmbWPzm0yHa+n9I/ZmZmZmZm1j+4HoXrUbjOP9nO91PjpdM/SgwCK4cWuT/P91PjpZvEP7ByaJHtfN8/UrgehetR2D/Xo3A9CtfTP8P1KFyPwtU/16NwPQrX4z9cj8L1KFznP7gehetRuM4/7FG4HoXr4T/D9Shcj8LVP/yp8dJNYtA/i2zn+6nxwj9xPQrXo3DdP+xRuB6F69E//tR46SYx2D/RItv5fmrUP3E9CtejcOU/UI2XbhKD0D8bL90kBoHVP76fGi/dJN4/mpmZmZmZ5T8=",
                                        "dtype": "f8"
                                    },
                                    "yaxis": "y3"
                                },
                                {
                                    "boxmean": true,
                                    "boxpoints": "outliers",
                                    "fillcolor": "lightskyblue",
                                    "jitter": 0,
                                    "line": {
                                        "width": 2
                                    },
                                    "marker": {
                                        "color": "lightskyblue"
                                    },
                                    "name": "White Dwarf",
                                    "opacity": 0.7,
                                    "pointpos": 0,
                                    "quartilemethod": "linear",
                                    "showlegend": false,
                                    "type": "box",
                                    "width": 0.4,
                                    "xaxis": "x3",
                                    "y": {
                                        "bdata": "FYxK6gQ0gT/2C3bDtkWJP7pJDAIrh4Y/exSuR+F6hD956SYxCKyMP9eGinH+JoQ/6Gor9pfdgz8tQxzr4jaKP7pJDAIrh4Y/ObTIdr6fij/6fmq8dJOIP0hQ/Bhz14I/2/l+arx0gz+4HoXrUbiOP7WmeccpOoI/NBE2PL1Shj9IUPwYc9eCP6g1zTtO0YE/ahg+IqZEgj/A7J48LNSKP0jcY+lDF4Q/x7q4jQbwhj83bFuU2SCDP5zc71AU6IM/h22LMhtkgj9UNUHUfQCCP5jdk4eFWoM/ahg+IqZEgj96/N6mP/uBPxIxJZLoZYQ/gLdAguLHiD/UK2UZ4liHP03zjlN0JIc/4JwRpb3Bhz8TYcPTK2WJP4Za07zjFI0/pgpGJXUCij+U9gZfmEyFP6Fns+pztYU/xqLp7GRwhD8=",
                                        "dtype": "f8"
                                    },
                                    "yaxis": "y3"
                                },
                                {
                                    "boxmean": true,
                                    "boxpoints": "outliers",
                                    "fillcolor": "yellow",
                                    "jitter": 0,
                                    "line": {
                                        "width": 2
                                    },
                                    "marker": {
                                        "color": "yellow"
                                    },
                                    "name": "Main Sequence",
                                    "opacity": 0.7,
                                    "pointpos": 0,
                                    "quartilemethod": "linear",
                                    "showlegend": false,
                                    "type": "box",
                                    "width": 0.4,
                                    "xaxis": "x3",
                                    "y": {
                                        "bdata": "MzMzMzMzJUAzMzMzMzMZQM3MzMzMzBxAH4XrUbgeB0DNzMzMzMzsP83MzMzMzPw/7FG4HoXr8T9cj8L1KFzvPxkEVg4tsvE/rkfhehSu7z8fhetRuB7tP65H4XoUrus/cT0K16Nw6T8UrkfhehTyPwrXo3A9CgVA7FG4HoXrG0DVeOkmMQjsP3E9CtejcPU/CtejcD0KHEBmZmZmZmYkQBSuR+F6FBhATDeJQWDlA0B7FK5H4foWQLgehetRuBZArkfhehSuF0CamZmZmZkZQPYoXI/C9RVAH4XrUbgeG0DXo3A9CtcYQHE9CtejcBtAcT0K16NwGUAGgZVDi2wXQCuHFtnO9xdAj8L1KFyPGkCPwvUoXI8ZQKabxCCw8hhAj8L1KFyP/j8fhetRuB4YQOkmMQisnBZA4XoUrkfh/j8=",
                                        "dtype": "f8"
                                    },
                                    "yaxis": "y3"
                                },
                                {
                                    "boxmean": true,
                                    "boxpoints": "outliers",
                                    "fillcolor": "blue",
                                    "jitter": 0,
                                    "line": {
                                        "width": 2
                                    },
                                    "marker": {
                                        "color": "blue"
                                    },
                                    "name": "Supergiants",
                                    "opacity": 0.7,
                                    "pointpos": 0,
                                    "quartilemethod": "linear",
                                    "showlegend": false,
                                    "type": "box",
                                    "width": 0.4,
                                    "xaxis": "x3",
                                    "y": {
                                        "bdata": "AAAAAAAAM0AAAAAAAAA3QAAAAAAAAFZAAAAAAAAAMUAAAAAAAAA5QAAAAAAAAD1AAAAAAACARkAAAAAAAEBWQAAAAAAAAFVAAAAAAAAAOkAAAAAAAAAoQAAAAAAAACxAAAAAAAAAQkAAAAAAAMBUQAAAAAAAAChAAAAAAAAARUAAAAAAAIBPQAAAAAAAAEJAAAAAAACATEAAAAAAAMBQQAAAAAAAgExAAAAAAAAAQkAAAAAAAMBUQAAAAAAAQFhAAAAAAACAQUAAAAAAAAA4QAAAAAAAQFJAAAAAAACAQ0AAAAAAAAA+QAAAAAAAADhAAAAAAACAQUAAAAAAAABTQAAAAAAAgFhAAAAAAABAVEAAAAAAAABPQAAAAAAAAEdAAAAAAAAAVEAAAAAAAAA5QAAAAAAAgFVAAAAAAAAAV0A=",
                                        "dtype": "f8"
                                    },
                                    "yaxis": "y3"
                                },
                                {
                                    "boxmean": true,
                                    "boxpoints": "outliers",
                                    "fillcolor": "orange",
                                    "jitter": 0,
                                    "line": {
                                        "width": 2
                                    },
                                    "marker": {
                                        "color": "orange"
                                    },
                                    "name": "Hypergiants",
                                    "opacity": 0.7,
                                    "pointpos": 0,
                                    "quartilemethod": "linear",
                                    "showlegend": false,
                                    "type": "box",
                                    "width": 0.4,
                                    "xaxis": "x3",
                                    "y": {
                                        "bdata": "AAAAAADAl0AAAAAAALCTQAAAAAAAfJJAAAAAAADAmUAAAAAAALCUQAAAAAAAFJVAAAAAAAAkmkAAAAAAABCUQAAAAAAA2I1AAAAAAAAomEAAAAAAACSUQAAAAAAAkJFAAAAAAACMmUAAAAAAADiXQAAAAAAAyJdAAAAAAACwlEAAAAAAAPiXQAAAAAAAYItAAAAAAADslkAAAAAAALCUQAAAAAAAIJdAAAAAAAAwlkAAAAAAAIyUQAAAAAAAPJpAAAAAAACYkkAAAAAAAESYQAAAAAAAVJBAAAAAAADMm0AzMzMzMyeGQAAAAAAAupFAAAAAAABYl0AAAAAAADCVQAAAAAAAcp5AAAAAAACQk0AAAAAAAKiRQAAAAAAAMJVAAAAAAACokkAAAAAAADyWQAAAAAAAYJFAAAAAAADcm0A=",
                                        "dtype": "f8"
                                    },
                                    "yaxis": "y3"
                                },
                                {
                                    "boxmean": true,
                                    "boxpoints": "outliers",
                                    "fillcolor": "brown",
                                    "jitter": 0,
                                    "line": {
                                        "width": 2
                                    },
                                    "marker": {
                                        "color": "brown"
                                    },
                                    "name": "Brown Dwarf",
                                    "opacity": 0.7,
                                    "pointpos": 0,
                                    "quartilemethod": "linear",
                                    "showlegend": false,
                                    "type": "box",
                                    "width": 0.4,
                                    "xaxis": "x4",
                                    "y": {
                                        "bdata": "H4XrUbgeMECamZmZmZkwQDMzMzMzszJAZmZmZmamMECPwvUoXA80QHsUrkfh+jBAuB6F61E4MUBmZmZmZmYxQDMzMzMzczFAzczMzMwMMEB7FK5H4TowQHE9Ctej8DBA16NwPQoXMED2KFyPwvUwQKRwPQrX4zJA4XoUrkchMUDXo3A9ClcyQDMzMzMzczBApHA9CtdjMUCuR+F6FG4zQClcj8L1KDFAcT0K16PwM0CF61G4HgU0QOxRuB6F6zBAH4XrUbgeMUDhehSuR6EzQOF6FK5H4TBA9ihcj8K1MECPwvUoXI8zQNejcD0KFzJA9ihcj8I1MECkcD0K12MyQI/C9ShcjzFA16NwPQpXMUAUrkfhehQxQK5H4XoU7jBAMzMzMzNzMUDsUbgehaswQDMzMzMzczNAmpmZmZlZMEA=",
                                        "dtype": "f8"
                                    },
                                    "yaxis": "y4"
                                },
                                {
                                    "boxmean": true,
                                    "boxpoints": "outliers",
                                    "fillcolor": "red",
                                    "jitter": 0,
                                    "line": {
                                        "width": 2
                                    },
                                    "marker": {
                                        "color": "red"
                                    },
                                    "name": "Red Dwarf",
                                    "opacity": 0.7,
                                    "pointpos": 0,
                                    "quartilemethod": "linear",
                                    "showlegend": false,
                                    "type": "box",
                                    "width": 0.4,
                                    "xaxis": "x4",
                                    "y": {
                                        "bdata": "4XoUrkdhJUAUrkfhepQnQOxRuB6FaypA9ihcj8L1JECq8dJNYpAnQKRwPQrXIypAFK5H4XqULUCamZmZmZklQI/C9ShcDytAXI/C9ShcJkCamZmZmZkoQD0K16NwPSRAZmZmZmZmKkDhehSuR+EnQEjhehSuxyVAhetRuB6FJ0DsUbgehesqQD0K16NwvSdAH4XrUbieKUD2KFyPwvUrQD0K16NwvSVArkfhehSuJEDXo3A9ClcmQD0K16NwPSpA9ihcj8J1LEAAAAAAAIAtQFyPwvUo3CZAhetRuB6FLED2KFyPwnUoQClcj8L1qCxAcT0K16PwJkD2KFyPwnUlQGZmZmZm5ipAaJHtfD+1KUBcj8L1KNwoQC/dJAaBVStAPQrXo3A9LEDhehSuR+EtQI/C9ShcjylAWmQ730+NLUA=",
                                        "dtype": "f8"
                                    },
                                    "yaxis": "y4"
                                },
                                {
                                    "boxmean": true,
                                    "boxpoints": "outliers",
                                    "fillcolor": "lightskyblue",
                                    "jitter": 0,
                                    "line": {
                                        "width": 2
                                    },
                                    "marker": {
                                        "color": "lightskyblue"
                                    },
                                    "name": "White Dwarf",
                                    "opacity": 0.7,
                                    "pointpos": 0,
                                    "quartilemethod": "linear",
                                    "showlegend": false,
                                    "type": "box",
                                    "width": 0.4,
                                    "xaxis": "x4",
                                    "y": {
                                        "bdata": "KVyPwvUoJUAK16NwPQosQPYoXI/CdSxAAAAAAAAALUBI4XoUrscnQPYoXI/CdShAZmZmZmZmLEBxPQrXo/AsQK5H4XoULilAKVyPwvUoLECuR+F6FC4sQArXo3A9CihAj8L1KFyPK0BmZmZmZuYoQNejcD0KVyhA9ihcj8L1K0DD9Shcj0IoQOF6FK5HYSZAcT0K16PwKUCuR+F6FK4mQNejcD0KVytACtejcD0KJ0CPwvUoXI8pQNejcD0K1ydAw/UoXI/CJkA9CtejcL0tQClcj8L1qClASOF6FK7HKUAfhetRuJ4tQPYoXI/CdSZAPQrXo3C9KUDXo3A9CtcnQPYoXI/CdShAzczMzMzMKUBxPQrXo3AmQK5H4XoUriZAmpmZmZkZJUBcj8L1KFwkQFK4HoXrUSdAPQrXo3A9J0A=",
                                        "dtype": "f8"
                                    },
                                    "yaxis": "y4"
                                },
                                {
                                    "boxmean": true,
                                    "boxpoints": "outliers",
                                    "fillcolor": "yellow",
                                    "jitter": 0,
                                    "line": {
                                        "width": 2
                                    },
                                    "marker": {
                                        "color": "yellow"
                                    },
                                    "name": "Main Sequence",
                                    "opacity": 0.7,
                                    "pointpos": 0,
                                    "quartilemethod": "linear",
                                    "showlegend": false,
                                    "type": "box",
                                    "width": 0.4,
                                    "xaxis": "x4",
                                    "y": {
                                        "bdata": "zczMzMzMEsDNzMzMzMwQwIXrUbgehf+/exSuR+F6xD8zMzMzMzMUQFyPwvUoXANASOF6FK5HA0BxPQrXo3AHQNejcD0K1xFAH4XrUbgeFED2KFyPwvUVQKAaL90kBhpAtvP91HjpGEAfhetRuB4TQDMzMzMzM/c/ZmZmZmZmAsC4HoXrUbgSQIXrUbgehQNAexSuR+F6lD+amZmZmZkRwArXo3A9ChDAuB6F61G4vj9SuB6F61EAwI/C9ShcjwrA16NwPQrXD8Bcj8L1KFwQwGZmZmZmZg7AMzMzMzMzC8AUrkfhehT2vz0K16NwPRLAXI/C9ShcDcA5tMh2vp+KP7gehetRuL6/ZmZmZmZmBMBI4XoUrkcSwHE9CtejcBHALbKd76fG8z+kcD0K16MIwB+F61G4HgXAXI/C9Shc778=",
                                        "dtype": "f8"
                                    },
                                    "yaxis": "y4"
                                },
                                {
                                    "boxmean": true,
                                    "boxpoints": "outliers",
                                    "fillcolor": "blue",
                                    "jitter": 0,
                                    "line": {
                                        "width": 2
                                    },
                                    "marker": {
                                        "color": "blue"
                                    },
                                    "name": "Supergiants",
                                    "opacity": 0.7,
                                    "pointpos": 0,
                                    "quartilemethod": "linear",
                                    "showlegend": false,
                                    "type": "box",
                                    "width": 0.4,
                                    "xaxis": "x4",
                                    "y": {
                                        "bdata": "uB6F61G4G8DNzMzMzMwYwBSuR+F6FBjA4XoUrkfhHMAAAAAAAAAYwGZmZmZmZhrAH4XrUbgeG8D2KFyPwvUUwPYoXI/C9RrAZmZmZmZmGMAAAAAAAAAawOxRuB6F6xjACtejcD0KF8CPwvUoXI8bwKRwPQrXoxfAexSuR+F6GMBSuB6F61EXwFyPwvUoXBnA9ihcj8L1GMApXI/C9SgXwK5H4XoUrhfAexSuR+H6GMB7FK5H4XoWwIXrUbgehRrAXI/C9ShcHcDhehSuR+EcwMP1KFyPwhbAUrgehetRF8Bcj8L1KFwYwPYoXI/C9RfAFK5H4XoUGcAUrkfhehQcwOxRuB6F6xvAZmZmZmbmF8BmZmZmZmYZwM3MzMzMzB3APzVeukkMHcBMN4lBYOUYwB+F61G4nhfA/Knx0k1iHcA=",
                                        "dtype": "f8"
                                    },
                                    "yaxis": "y4"
                                },
                                {
                                    "boxmean": true,
                                    "boxpoints": "outliers",
                                    "fillcolor": "orange",
                                    "jitter": 0,
                                    "line": {
                                        "width": 2
                                    },
                                    "marker": {
                                        "color": "orange"
                                    },
                                    "name": "Hypergiants",
                                    "opacity": 0.7,
                                    "pointpos": 0,
                                    "quartilemethod": "linear",
                                    "showlegend": false,
                                    "type": "box",
                                    "width": 0.4,
                                    "xaxis": "x4",
                                    "y": {
                                        "bdata": "zczMzMzMIsCF61G4HoUewGZmZmZmZiLAmpmZmZkZIMApXI/C9SgfwAAAAAAAgCfA16NwPQrXJ8CPwvUoXI8mwHsUrkfheibAuB6F61G4JsBmZmZmZmYlwB+F61G4niXAKVyPwvWoJsDXo3A9CtclwLgehetRuCXAj8L1KFwPJsBI4XoUrscmwAAAAAAAgCTApHA9CtcjJMBmZmZmZmYlwFK4HoXrUR7AXI/C9ShcIMBmZmZmZmYiwDMzMzMzMyLAj8L1KFyPH8DXo3A9CtcewJqZmZmZmSDAzczMzMzMI8Bcj8L1KFwfwHsUrkfheiDArkfhehSuIcAUrkfhepQiwK5H4XoUriXAXI/C9ShcHsCuR+F6FK4ewFyPwvUo3CPAw/UoXI9CJcD2KFyPwnUlwPYoXI/CdSbAMzMzMzMzH8A=",
                                        "dtype": "f8"
                                    },
                                    "yaxis": "y4"
                                }
                            ],
                            "layout": {
                                "annotations": [
                                    {
                                        "font": {
                                            "size": 16
                                        },
                                        "showarrow": false,
                                        "text": "Temperature (K)",
                                        "x": 0.225,
                                        "xanchor": "center",
                                        "xref": "paper",
                                        "y": 1,
                                        "yanchor": "bottom",
                                        "yref": "paper"
                                    },
                                    {
                                        "font": {
                                            "size": 16
                                        },
                                        "showarrow": false,
                                        "text": "Luminosity(L/Lo)",
                                        "x": 0.775,
                                        "xanchor": "center",
                                        "xref": "paper",
                                        "y": 1,
                                        "yanchor": "bottom",
                                        "yref": "paper"
                                    },
                                    {
                                        "font": {
                                            "size": 16
                                        },
                                        "showarrow": false,
                                        "text": "Radius(R/Ro)",
                                        "x": 0.225,
                                        "xanchor": "center",
                                        "xref": "paper",
                                        "y": 0.425,
                                        "yanchor": "bottom",
                                        "yref": "paper"
                                    },
                                    {
                                        "font": {
                                            "size": 16
                                        },
                                        "showarrow": false,
                                        "text": "Absolute magnitude(Mv)",
                                        "x": 0.775,
                                        "xanchor": "center",
                                        "xref": "paper",
                                        "y": 0.425,
                                        "yanchor": "bottom",
                                        "yref": "paper"
                                    }
                                ],
                                "boxgap": 0.1,
                                "boxgroupgap": 0.2,
                                "boxmode": "group",
                                "height": 800,
                                "legend": {
                                    "font": {
                                        "size": 10
                                    },
                                    "orientation": "h",
                                    "x": 0.5,
                                    "xanchor": "center",
                                    "y": -0.15,
                                    "yanchor": "bottom"
                                },
                                "template": {
                                    "data": {
                                        "bar": [
                                            {
                                                "error_x": {
                                                    "color": "#2a3f5f"
                                                },
                                                "error_y": {
                                                    "color": "#2a3f5f"
                                                },
                                                "marker": {
                                                    "line": {
                                                        "color": "white",
                                                        "width": 0.5
                                                    },
                                                    "pattern": {
                                                        "fillmode": "overlay",
                                                        "size": 10,
                                                        "solidity": 0.2
                                                    }
                                                },
                                                "type": "bar"
                                            }
                                        ],
                                        "barpolar": [
                                            {
                                                "marker": {
                                                    "line": {
                                                        "color": "white",
                                                        "width": 0.5
                                                    },
                                                    "pattern": {
                                                        "fillmode": "overlay",
                                                        "size": 10,
                                                        "solidity": 0.2
                                                    }
                                                },
                                                "type": "barpolar"
                                            }
                                        ],
                                        "carpet": [
                                            {
                                                "aaxis": {
                                                    "endlinecolor": "#2a3f5f",
                                                    "gridcolor": "#C8D4E3",
                                                    "linecolor": "#C8D4E3",
                                                    "minorgridcolor": "#C8D4E3",
                                                    "startlinecolor": "#2a3f5f"
                                                },
                                                "baxis": {
                                                    "endlinecolor": "#2a3f5f",
                                                    "gridcolor": "#C8D4E3",
                                                    "linecolor": "#C8D4E3",
                                                    "minorgridcolor": "#C8D4E3",
                                                    "startlinecolor": "#2a3f5f"
                                                },
                                                "type": "carpet"
                                            }
                                        ],
                                        "choropleth": [
                                            {
                                                "colorbar": {
                                                    "outlinewidth": 0,
                                                    "ticks": ""
                                                },
                                                "type": "choropleth"
                                            }
                                        ],
                                        "contour": [
                                            {
                                                "colorbar": {
                                                    "outlinewidth": 0,
                                                    "ticks": ""
                                                },
                                                "colorscale": [
                                                    [
                                                        0,
                                                        "#0d0887"
                                                    ],
                                                    [
                                                        0.1111111111111111,
                                                        "#46039f"
                                                    ],
                                                    [
                                                        0.2222222222222222,
                                                        "#7201a8"
                                                    ],
                                                    [
                                                        0.3333333333333333,
                                                        "#9c179e"
                                                    ],
                                                    [
                                                        0.4444444444444444,
                                                        "#bd3786"
                                                    ],
                                                    [
                                                        0.5555555555555556,
                                                        "#d8576b"
                                                    ],
                                                    [
                                                        0.6666666666666666,
                                                        "#ed7953"
                                                    ],
                                                    [
                                                        0.7777777777777778,
                                                        "#fb9f3a"
                                                    ],
                                                    [
                                                        0.8888888888888888,
                                                        "#fdca26"
                                                    ],
                                                    [
                                                        1,
                                                        "#f0f921"
                                                    ]
                                                ],
                                                "type": "contour"
                                            }
                                        ],
                                        "contourcarpet": [
                                            {
                                                "colorbar": {
                                                    "outlinewidth": 0,
                                                    "ticks": ""
                                                },
                                                "type": "contourcarpet"
                                            }
                                        ],
                                        "heatmap": [
                                            {
                                                "colorbar": {
                                                    "outlinewidth": 0,
                                                    "ticks": ""
                                                },
                                                "colorscale": [
                                                    [
                                                        0,
                                                        "#0d0887"
                                                    ],
                                                    [
                                                        0.1111111111111111,
                                                        "#46039f"
                                                    ],
                                                    [
                                                        0.2222222222222222,
                                                        "#7201a8"
                                                    ],
                                                    [
                                                        0.3333333333333333,
                                                        "#9c179e"
                                                    ],
                                                    [
                                                        0.4444444444444444,
                                                        "#bd3786"
                                                    ],
                                                    [
                                                        0.5555555555555556,
                                                        "#d8576b"
                                                    ],
                                                    [
                                                        0.6666666666666666,
                                                        "#ed7953"
                                                    ],
                                                    [
                                                        0.7777777777777778,
                                                        "#fb9f3a"
                                                    ],
                                                    [
                                                        0.8888888888888888,
                                                        "#fdca26"
                                                    ],
                                                    [
                                                        1,
                                                        "#f0f921"
                                                    ]
                                                ],
                                                "type": "heatmap"
                                            }
                                        ],
                                        "histogram": [
                                            {
                                                "marker": {
                                                    "pattern": {
                                                        "fillmode": "overlay",
                                                        "size": 10,
                                                        "solidity": 0.2
                                                    }
                                                },
                                                "type": "histogram"
                                            }
                                        ],
                                        "histogram2d": [
                                            {
                                                "colorbar": {
                                                    "outlinewidth": 0,
                                                    "ticks": ""
                                                },
                                                "colorscale": [
                                                    [
                                                        0,
                                                        "#0d0887"
                                                    ],
                                                    [
                                                        0.1111111111111111,
                                                        "#46039f"
                                                    ],
                                                    [
                                                        0.2222222222222222,
                                                        "#7201a8"
                                                    ],
                                                    [
                                                        0.3333333333333333,
                                                        "#9c179e"
                                                    ],
                                                    [
                                                        0.4444444444444444,
                                                        "#bd3786"
                                                    ],
                                                    [
                                                        0.5555555555555556,
                                                        "#d8576b"
                                                    ],
                                                    [
                                                        0.6666666666666666,
                                                        "#ed7953"
                                                    ],
                                                    [
                                                        0.7777777777777778,
                                                        "#fb9f3a"
                                                    ],
                                                    [
                                                        0.8888888888888888,
                                                        "#fdca26"
                                                    ],
                                                    [
                                                        1,
                                                        "#f0f921"
                                                    ]
                                                ],
                                                "type": "histogram2d"
                                            }
                                        ],
                                        "histogram2dcontour": [
                                            {
                                                "colorbar": {
                                                    "outlinewidth": 0,
                                                    "ticks": ""
                                                },
                                                "colorscale": [
                                                    [
                                                        0,
                                                        "#0d0887"
                                                    ],
                                                    [
                                                        0.1111111111111111,
                                                        "#46039f"
                                                    ],
                                                    [
                                                        0.2222222222222222,
                                                        "#7201a8"
                                                    ],
                                                    [
                                                        0.3333333333333333,
                                                        "#9c179e"
                                                    ],
                                                    [
                                                        0.4444444444444444,
                                                        "#bd3786"
                                                    ],
                                                    [
                                                        0.5555555555555556,
                                                        "#d8576b"
                                                    ],
                                                    [
                                                        0.6666666666666666,
                                                        "#ed7953"
                                                    ],
                                                    [
                                                        0.7777777777777778,
                                                        "#fb9f3a"
                                                    ],
                                                    [
                                                        0.8888888888888888,
                                                        "#fdca26"
                                                    ],
                                                    [
                                                        1,
                                                        "#f0f921"
                                                    ]
                                                ],
                                                "type": "histogram2dcontour"
                                            }
                                        ],
                                        "mesh3d": [
                                            {
                                                "colorbar": {
                                                    "outlinewidth": 0,
                                                    "ticks": ""
                                                },
                                                "type": "mesh3d"
                                            }
                                        ],
                                        "parcoords": [
                                            {
                                                "line": {
                                                    "colorbar": {
                                                        "outlinewidth": 0,
                                                        "ticks": ""
                                                    }
                                                },
                                                "type": "parcoords"
                                            }
                                        ],
                                        "pie": [
                                            {
                                                "automargin": true,
                                                "type": "pie"
                                            }
                                        ],
                                        "scatter": [
                                            {
                                                "fillpattern": {
                                                    "fillmode": "overlay",
                                                    "size": 10,
                                                    "solidity": 0.2
                                                },
                                                "type": "scatter"
                                            }
                                        ],
                                        "scatter3d": [
                                            {
                                                "line": {
                                                    "colorbar": {
                                                        "outlinewidth": 0,
                                                        "ticks": ""
                                                    }
                                                },
                                                "marker": {
                                                    "colorbar": {
                                                        "outlinewidth": 0,
                                                        "ticks": ""
                                                    }
                                                },
                                                "type": "scatter3d"
                                            }
                                        ],
                                        "scattercarpet": [
                                            {
                                                "marker": {
                                                    "colorbar": {
                                                        "outlinewidth": 0,
                                                        "ticks": ""
                                                    }
                                                },
                                                "type": "scattercarpet"
                                            }
                                        ],
                                        "scattergeo": [
                                            {
                                                "marker": {
                                                    "colorbar": {
                                                        "outlinewidth": 0,
                                                        "ticks": ""
                                                    }
                                                },
                                                "type": "scattergeo"
                                            }
                                        ],
                                        "scattergl": [
                                            {
                                                "marker": {
                                                    "colorbar": {
                                                        "outlinewidth": 0,
                                                        "ticks": ""
                                                    }
                                                },
                                                "type": "scattergl"
                                            }
                                        ],
                                        "scattermap": [
                                            {
                                                "marker": {
                                                    "colorbar": {
                                                        "outlinewidth": 0,
                                                        "ticks": ""
                                                    }
                                                },
                                                "type": "scattermap"
                                            }
                                        ],
                                        "scattermapbox": [
                                            {
                                                "marker": {
                                                    "colorbar": {
                                                        "outlinewidth": 0,
                                                        "ticks": ""
                                                    }
                                                },
                                                "type": "scattermapbox"
                                            }
                                        ],
                                        "scatterpolar": [
                                            {
                                                "marker": {
                                                    "colorbar": {
                                                        "outlinewidth": 0,
                                                        "ticks": ""
                                                    }
                                                },
                                                "type": "scatterpolar"
                                            }
                                        ],
                                        "scatterpolargl": [
                                            {
                                                "marker": {
                                                    "colorbar": {
                                                        "outlinewidth": 0,
                                                        "ticks": ""
                                                    }
                                                },
                                                "type": "scatterpolargl"
                                            }
                                        ],
                                        "scatterternary": [
                                            {
                                                "marker": {
                                                    "colorbar": {
                                                        "outlinewidth": 0,
                                                        "ticks": ""
                                                    }
                                                },
                                                "type": "scatterternary"
                                            }
                                        ],
                                        "surface": [
                                            {
                                                "colorbar": {
                                                    "outlinewidth": 0,
                                                    "ticks": ""
                                                },
                                                "colorscale": [
                                                    [
                                                        0,
                                                        "#0d0887"
                                                    ],
                                                    [
                                                        0.1111111111111111,
                                                        "#46039f"
                                                    ],
                                                    [
                                                        0.2222222222222222,
                                                        "#7201a8"
                                                    ],
                                                    [
                                                        0.3333333333333333,
                                                        "#9c179e"
                                                    ],
                                                    [
                                                        0.4444444444444444,
                                                        "#bd3786"
                                                    ],
                                                    [
                                                        0.5555555555555556,
                                                        "#d8576b"
                                                    ],
                                                    [
                                                        0.6666666666666666,
                                                        "#ed7953"
                                                    ],
                                                    [
                                                        0.7777777777777778,
                                                        "#fb9f3a"
                                                    ],
                                                    [
                                                        0.8888888888888888,
                                                        "#fdca26"
                                                    ],
                                                    [
                                                        1,
                                                        "#f0f921"
                                                    ]
                                                ],
                                                "type": "surface"
                                            }
                                        ],
                                        "table": [
                                            {
                                                "cells": {
                                                    "fill": {
                                                        "color": "#EBF0F8"
                                                    },
                                                    "line": {
                                                        "color": "white"
                                                    }
                                                },
                                                "header": {
                                                    "fill": {
                                                        "color": "#C8D4E3"
                                                    },
                                                    "line": {
                                                        "color": "white"
                                                    }
                                                },
                                                "type": "table"
                                            }
                                        ]
                                    },
                                    "layout": {
                                        "annotationdefaults": {
                                            "arrowcolor": "#2a3f5f",
                                            "arrowhead": 0,
                                            "arrowwidth": 1
                                        },
                                        "autotypenumbers": "strict",
                                        "coloraxis": {
                                            "colorbar": {
                                                "outlinewidth": 0,
                                                "ticks": ""
                                            }
                                        },
                                        "colorscale": {
                                            "diverging": [
                                                [
                                                    0,
                                                    "#8e0152"
                                                ],
                                                [
                                                    0.1,
                                                    "#c51b7d"
                                                ],
                                                [
                                                    0.2,
                                                    "#de77ae"
                                                ],
                                                [
                                                    0.3,
                                                    "#f1b6da"
                                                ],
                                                [
                                                    0.4,
                                                    "#fde0ef"
                                                ],
                                                [
                                                    0.5,
                                                    "#f7f7f7"
                                                ],
                                                [
                                                    0.6,
                                                    "#e6f5d0"
                                                ],
                                                [
                                                    0.7,
                                                    "#b8e186"
                                                ],
                                                [
                                                    0.8,
                                                    "#7fbc41"
                                                ],
                                                [
                                                    0.9,
                                                    "#4d9221"
                                                ],
                                                [
                                                    1,
                                                    "#276419"
                                                ]
                                            ],
                                            "sequential": [
                                                [
                                                    0,
                                                    "#0d0887"
                                                ],
                                                [
                                                    0.1111111111111111,
                                                    "#46039f"
                                                ],
                                                [
                                                    0.2222222222222222,
                                                    "#7201a8"
                                                ],
                                                [
                                                    0.3333333333333333,
                                                    "#9c179e"
                                                ],
                                                [
                                                    0.4444444444444444,
                                                    "#bd3786"
                                                ],
                                                [
                                                    0.5555555555555556,
                                                    "#d8576b"
                                                ],
                                                [
                                                    0.6666666666666666,
                                                    "#ed7953"
                                                ],
                                                [
                                                    0.7777777777777778,
                                                    "#fb9f3a"
                                                ],
                                                [
                                                    0.8888888888888888,
                                                    "#fdca26"
                                                ],
                                                [
                                                    1,
                                                    "#f0f921"
                                                ]
                                            ],
                                            "sequentialminus": [
                                                [
                                                    0,
                                                    "#0d0887"
                                                ],
                                                [
                                                    0.1111111111111111,
                                                    "#46039f"
                                                ],
                                                [
                                                    0.2222222222222222,
                                                    "#7201a8"
                                                ],
                                                [
                                                    0.3333333333333333,
                                                    "#9c179e"
                                                ],
                                                [
                                                    0.4444444444444444,
                                                    "#bd3786"
                                                ],
                                                [
                                                    0.5555555555555556,
                                                    "#d8576b"
                                                ],
                                                [
                                                    0.6666666666666666,
                                                    "#ed7953"
                                                ],
                                                [
                                                    0.7777777777777778,
                                                    "#fb9f3a"
                                                ],
                                                [
                                                    0.8888888888888888,
                                                    "#fdca26"
                                                ],
                                                [
                                                    1,
                                                    "#f0f921"
                                                ]
                                            ]
                                        },
                                        "colorway": [
                                            "#636efa",
                                            "#EF553B",
                                            "#00cc96",
                                            "#ab63fa",
                                            "#FFA15A",
                                            "#19d3f3",
                                            "#FF6692",
                                            "#B6E880",
                                            "#FF97FF",
                                            "#FECB52"
                                        ],
                                        "font": {
                                            "color": "#2a3f5f"
                                        },
                                        "geo": {
                                            "bgcolor": "white",
                                            "lakecolor": "white",
                                            "landcolor": "white",
                                            "showlakes": true,
                                            "showland": true,
                                            "subunitcolor": "#C8D4E3"
                                        },
                                        "hoverlabel": {
                                            "align": "left"
                                        },
                                        "hovermode": "closest",
                                        "mapbox": {
                                            "style": "light"
                                        },
                                        "paper_bgcolor": "white",
                                        "plot_bgcolor": "white",
                                        "polar": {
                                            "angularaxis": {
                                                "gridcolor": "#EBF0F8",
                                                "linecolor": "#EBF0F8",
                                                "ticks": ""
                                            },
                                            "bgcolor": "white",
                                            "radialaxis": {
                                                "gridcolor": "#EBF0F8",
                                                "linecolor": "#EBF0F8",
                                                "ticks": ""
                                            }
                                        },
                                        "scene": {
                                            "xaxis": {
                                                "backgroundcolor": "white",
                                                "gridcolor": "#DFE8F3",
                                                "gridwidth": 2,
                                                "linecolor": "#EBF0F8",
                                                "showbackground": true,
                                                "ticks": "",
                                                "zerolinecolor": "#EBF0F8"
                                            },
                                            "yaxis": {
                                                "backgroundcolor": "white",
                                                "gridcolor": "#DFE8F3",
                                                "gridwidth": 2,
                                                "linecolor": "#EBF0F8",
                                                "showbackground": true,
                                                "ticks": "",
                                                "zerolinecolor": "#EBF0F8"
                                            },
                                            "zaxis": {
                                                "backgroundcolor": "white",
                                                "gridcolor": "#DFE8F3",
                                                "gridwidth": 2,
                                                "linecolor": "#EBF0F8",
                                                "showbackground": true,
                                                "ticks": "",
                                                "zerolinecolor": "#EBF0F8"
                                            }
                                        },
                                        "shapedefaults": {
                                            "line": {
                                                "color": "#2a3f5f"
                                            }
                                        },
                                        "ternary": {
                                            "aaxis": {
                                                "gridcolor": "#DFE8F3",
                                                "linecolor": "#A2B1C6",
                                                "ticks": ""
                                            },
                                            "baxis": {
                                                "gridcolor": "#DFE8F3",
                                                "linecolor": "#A2B1C6",
                                                "ticks": ""
                                            },
                                            "bgcolor": "white",
                                            "caxis": {
                                                "gridcolor": "#DFE8F3",
                                                "linecolor": "#A2B1C6",
                                                "ticks": ""
                                            }
                                        },
                                        "title": {
                                            "x": 0.05
                                        },
                                        "xaxis": {
                                            "automargin": true,
                                            "gridcolor": "#EBF0F8",
                                            "linecolor": "#EBF0F8",
                                            "ticks": "",
                                            "title": {
                                                "standoff": 15
                                            },
                                            "zerolinecolor": "#EBF0F8",
                                            "zerolinewidth": 2
                                        },
                                        "yaxis": {
                                            "automargin": true,
                                            "gridcolor": "#EBF0F8",
                                            "linecolor": "#EBF0F8",
                                            "ticks": "",
                                            "title": {
                                                "standoff": 15
                                            },
                                            "zerolinecolor": "#EBF0F8",
                                            "zerolinewidth": 2
                                        }
                                    }
                                },
                                "title": {
                                    "text": "Boxplots of Numeric Features by Star Type",
                                    "x": 0.5
                                },
                                "width": 1000,
                                "xaxis": {
                                    "anchor": "y",
                                    "domain": [
                                        0,
                                        0.45
                                    ]
                                },
                                "xaxis2": {
                                    "anchor": "y2",
                                    "domain": [
                                        0.55,
                                        1
                                    ]
                                },
                                "xaxis3": {
                                    "anchor": "y3",
                                    "domain": [
                                        0,
                                        0.45
                                    ]
                                },
                                "xaxis4": {
                                    "anchor": "y4",
                                    "domain": [
                                        0.55,
                                        1
                                    ]
                                },
                                "yaxis": {
                                    "anchor": "x",
                                    "domain": [
                                        0.575,
                                        1
                                    ],
                                    "title": {
                                        "text": "Temperature (K)"
                                    }
                                },
                                "yaxis2": {
                                    "anchor": "x2",
                                    "domain": [
                                        0.575,
                                        1
                                    ],
                                    "title": {
                                        "text": "Luminosity(L/Lo)"
                                    }
                                },
                                "yaxis3": {
                                    "anchor": "x3",
                                    "domain": [
                                        0,
                                        0.425
                                    ],
                                    "title": {
                                        "text": "Radius(R/Ro)"
                                    }
                                },
                                "yaxis4": {
                                    "anchor": "x4",
                                    "domain": [
                                        0,
                                        0.425
                                    ],
                                    "title": {
                                        "text": "Absolute magnitude(Mv)"
                                    }
                                }
                            }
                        }
                    },
                    "metadata": {},
                    "output_type": "display_data"
                }
            ],
            "source": [
                "fig3 = create_boxplots(star_df)\n",
                "\n",
                "fig3.show()"
            ]
        },
        {
            "cell_type": "code",
            "execution_count": 36,
            "metadata": {},
            "outputs": [
                {
                    "data": {
                        "application/vnd.plotly.v1+json": {
                            "config": {
                                "plotlyServerURL": "https://plot.ly"
                            },
                            "data": [
                                {
                                    "mode": "lines",
                                    "name": "Temperature (K)",
                                    "type": "scatter",
                                    "xaxis": "x",
                                    "y": {
                                        "bdata": "/AsAAOILAAAoCgAA8AoAAJMHAAAYCwAATQoAACgKAABaCgAAjAoAABAOAAA5DAAAPgwAACwOAABaCgAADA0AAO8KAABsDgAAeAwAAHENAACoYQAAPB4AADQcAAA0IQAAdEAAAL4yAAB6IQAAFB4AAA4uAAA+HAAAWJgAADB1AACsOwAA5CUAAKgWAAB0HwAAZRoAAOwYAAAwFwAA0xUAAPIOAAAlDQAAxgwAAIAMAADACwAAEA4AAPcNAAD2DQAAKQ4AANaDAACiDQAApg4AAPoOAAClDgAAQg4AAHoNAABMDgAAeg0AAKgOAADPDQAADQ0AAGgNAACnCwAAEwsAAHcLAADfDAAAgQsAAAELAADWCgAANwsAABENAAAXDgAA6AwAAE4MAADeDQAAbAwAAEoLAAAODQAAPQoAAFYMAAC8GwAATikAAOIiAAAwQwAAFDcAAMslAADqLgAA5CoAAJg1AACUTQAAtBQAAK4RAADtDwAAdBMAAEYjAADyKwAA+BMAACgeAABCLwAADI0AABSCAABAnAAA2FkAAOBCAABYKwAApTcAADZgAABdMgAAGV8AAI2CAACDDQAAFQ4AAB8OAABHDQAAGg4AAOENAACvDwAAKQ4AAMIaAADEDgAA+wwAAMsNAACSDAAASgwAALcNAACZDAAAdwsAAC0LAAAoCwAAqwoAABcMAAAXDgAAHAwAAK0LAADWDQAAqwwAABMMAAAODgAA/AwAANUNAABsNAAAHFIAAHJHAAC4OAAAfC4AANwiAABwMgAAjDkAACseAAC4MgAAeHMAAPEiAADsNgAABkAAAO5hAAAccAAAHGYAAJhOAADfMgAAqJMAAC5jAAAvLQAAgzEAAHgWAADfIgAAchwAANNNAAAFZwAA50MAAJ0kAADyDQAArA0AAL8QAACQZQAAEA4AAB4OAABQRgAA+CoAAEQvAACqXwAADwsAAGILAABbDQAAkgwAAH0NAABJCwAAmAsAAJwNAADaCgAAww0AAIYNAAC5DAAAsgsAAIwMAADDDQAADg4AAEYMAACoDQAA/AwAAIcNAACWQQAAQD0AAIY6AAAcNAAApEcAANBNAADUXQAANFoAAABGAACgSwAATlcAABwnAAAhMwAA/FUAAI6FAADMfgAAaCQAAMhLAAD0QgAAOiAAAH5cAADNMQAApyQAAJBbAACTQQAALkkAAKQmAACyKgAAN1oAAOpUAABRXgAAWpUAAOl+AABbbAAAkFUAAByYAAB3eAAAfSIAABMkAAD6kwAA",
                                        "dtype": "i4"
                                    },
                                    "yaxis": "y"
                                },
                                {
                                    "mode": "lines",
                                    "name": "Luminosity(L/Lo)",
                                    "type": "scatter",
                                    "xaxis": "x2",
                                    "y": {
                                        "bdata": "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",
                                        "dtype": "f8"
                                    },
                                    "yaxis": "y2"
                                },
                                {
                                    "mode": "lines",
                                    "name": "Radius(R/Ro)",
                                    "type": "scatter",
                                    "xaxis": "x3",
                                    "y": {
                                        "bdata": "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",
                                        "dtype": "f8"
                                    },
                                    "yaxis": "y3"
                                },
                                {
                                    "mode": "lines",
                                    "name": "Absolute magnitude(Mv)",
                                    "type": "scatter",
                                    "xaxis": "x4",
                                    "y": {
                                        "bdata": "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",
                                        "dtype": "f8"
                                    },
                                    "yaxis": "y4"
                                }
                            ],
                            "layout": {
                                "annotations": [
                                    {
                                        "font": {
                                            "size": 16
                                        },
                                        "showarrow": false,
                                        "text": "Temperature (K)",
                                        "x": 0.5,
                                        "xanchor": "center",
                                        "xref": "paper",
                                        "y": 1,
                                        "yanchor": "bottom",
                                        "yref": "paper"
                                    },
                                    {
                                        "font": {
                                            "size": 16
                                        },
                                        "showarrow": false,
                                        "text": "Luminosity(L/Lo)",
                                        "x": 0.5,
                                        "xanchor": "center",
                                        "xref": "paper",
                                        "y": 0.7250000000000001,
                                        "yanchor": "bottom",
                                        "yref": "paper"
                                    },
                                    {
                                        "font": {
                                            "size": 16
                                        },
                                        "showarrow": false,
                                        "text": "Radius(R/Ro)",
                                        "x": 0.5,
                                        "xanchor": "center",
                                        "xref": "paper",
                                        "y": 0.45,
                                        "yanchor": "bottom",
                                        "yref": "paper"
                                    },
                                    {
                                        "font": {
                                            "size": 16
                                        },
                                        "showarrow": false,
                                        "text": "Absolute magnitude(Mv)",
                                        "x": 0.5,
                                        "xanchor": "center",
                                        "xref": "paper",
                                        "y": 0.175,
                                        "yanchor": "bottom",
                                        "yref": "paper"
                                    }
                                ],
                                "height": 800,
                                "showlegend": false,
                                "template": {
                                    "data": {
                                        "bar": [
                                            {
                                                "error_x": {
                                                    "color": "#2a3f5f"
                                                },
                                                "error_y": {
                                                    "color": "#2a3f5f"
                                                },
                                                "marker": {
                                                    "line": {
                                                        "color": "white",
                                                        "width": 0.5
                                                    },
                                                    "pattern": {
                                                        "fillmode": "overlay",
                                                        "size": 10,
                                                        "solidity": 0.2
                                                    }
                                                },
                                                "type": "bar"
                                            }
                                        ],
                                        "barpolar": [
                                            {
                                                "marker": {
                                                    "line": {
                                                        "color": "white",
                                                        "width": 0.5
                                                    },
                                                    "pattern": {
                                                        "fillmode": "overlay",
                                                        "size": 10,
                                                        "solidity": 0.2
                                                    }
                                                },
                                                "type": "barpolar"
                                            }
                                        ],
                                        "carpet": [
                                            {
                                                "aaxis": {
                                                    "endlinecolor": "#2a3f5f",
                                                    "gridcolor": "#C8D4E3",
                                                    "linecolor": "#C8D4E3",
                                                    "minorgridcolor": "#C8D4E3",
                                                    "startlinecolor": "#2a3f5f"
                                                },
                                                "baxis": {
                                                    "endlinecolor": "#2a3f5f",
                                                    "gridcolor": "#C8D4E3",
                                                    "linecolor": "#C8D4E3",
                                                    "minorgridcolor": "#C8D4E3",
                                                    "startlinecolor": "#2a3f5f"
                                                },
                                                "type": "carpet"
                                            }
                                        ],
                                        "choropleth": [
                                            {
                                                "colorbar": {
                                                    "outlinewidth": 0,
                                                    "ticks": ""
                                                },
                                                "type": "choropleth"
                                            }
                                        ],
                                        "contour": [
                                            {
                                                "colorbar": {
                                                    "outlinewidth": 0,
                                                    "ticks": ""
                                                },
                                                "colorscale": [
                                                    [
                                                        0,
                                                        "#0d0887"
                                                    ],
                                                    [
                                                        0.1111111111111111,
                                                        "#46039f"
                                                    ],
                                                    [
                                                        0.2222222222222222,
                                                        "#7201a8"
                                                    ],
                                                    [
                                                        0.3333333333333333,
                                                        "#9c179e"
                                                    ],
                                                    [
                                                        0.4444444444444444,
                                                        "#bd3786"
                                                    ],
                                                    [
                                                        0.5555555555555556,
                                                        "#d8576b"
                                                    ],
                                                    [
                                                        0.6666666666666666,
                                                        "#ed7953"
                                                    ],
                                                    [
                                                        0.7777777777777778,
                                                        "#fb9f3a"
                                                    ],
                                                    [
                                                        0.8888888888888888,
                                                        "#fdca26"
                                                    ],
                                                    [
                                                        1,
                                                        "#f0f921"
                                                    ]
                                                ],
                                                "type": "contour"
                                            }
                                        ],
                                        "contourcarpet": [
                                            {
                                                "colorbar": {
                                                    "outlinewidth": 0,
                                                    "ticks": ""
                                                },
                                                "type": "contourcarpet"
                                            }
                                        ],
                                        "heatmap": [
                                            {
                                                "colorbar": {
                                                    "outlinewidth": 0,
                                                    "ticks": ""
                                                },
                                                "colorscale": [
                                                    [
                                                        0,
                                                        "#0d0887"
                                                    ],
                                                    [
                                                        0.1111111111111111,
                                                        "#46039f"
                                                    ],
                                                    [
                                                        0.2222222222222222,
                                                        "#7201a8"
                                                    ],
                                                    [
                                                        0.3333333333333333,
                                                        "#9c179e"
                                                    ],
                                                    [
                                                        0.4444444444444444,
                                                        "#bd3786"
                                                    ],
                                                    [
                                                        0.5555555555555556,
                                                        "#d8576b"
                                                    ],
                                                    [
                                                        0.6666666666666666,
                                                        "#ed7953"
                                                    ],
                                                    [
                                                        0.7777777777777778,
                                                        "#fb9f3a"
                                                    ],
                                                    [
                                                        0.8888888888888888,
                                                        "#fdca26"
                                                    ],
                                                    [
                                                        1,
                                                        "#f0f921"
                                                    ]
                                                ],
                                                "type": "heatmap"
                                            }
                                        ],
                                        "histogram": [
                                            {
                                                "marker": {
                                                    "pattern": {
                                                        "fillmode": "overlay",
                                                        "size": 10,
                                                        "solidity": 0.2
                                                    }
                                                },
                                                "type": "histogram"
                                            }
                                        ],
                                        "histogram2d": [
                                            {
                                                "colorbar": {
                                                    "outlinewidth": 0,
                                                    "ticks": ""
                                                },
                                                "colorscale": [
                                                    [
                                                        0,
                                                        "#0d0887"
                                                    ],
                                                    [
                                                        0.1111111111111111,
                                                        "#46039f"
                                                    ],
                                                    [
                                                        0.2222222222222222,
                                                        "#7201a8"
                                                    ],
                                                    [
                                                        0.3333333333333333,
                                                        "#9c179e"
                                                    ],
                                                    [
                                                        0.4444444444444444,
                                                        "#bd3786"
                                                    ],
                                                    [
                                                        0.5555555555555556,
                                                        "#d8576b"
                                                    ],
                                                    [
                                                        0.6666666666666666,
                                                        "#ed7953"
                                                    ],
                                                    [
                                                        0.7777777777777778,
                                                        "#fb9f3a"
                                                    ],
                                                    [
                                                        0.8888888888888888,
                                                        "#fdca26"
                                                    ],
                                                    [
                                                        1,
                                                        "#f0f921"
                                                    ]
                                                ],
                                                "type": "histogram2d"
                                            }
                                        ],
                                        "histogram2dcontour": [
                                            {
                                                "colorbar": {
                                                    "outlinewidth": 0,
                                                    "ticks": ""
                                                },
                                                "colorscale": [
                                                    [
                                                        0,
                                                        "#0d0887"
                                                    ],
                                                    [
                                                        0.1111111111111111,
                                                        "#46039f"
                                                    ],
                                                    [
                                                        0.2222222222222222,
                                                        "#7201a8"
                                                    ],
                                                    [
                                                        0.3333333333333333,
                                                        "#9c179e"
                                                    ],
                                                    [
                                                        0.4444444444444444,
                                                        "#bd3786"
                                                    ],
                                                    [
                                                        0.5555555555555556,
                                                        "#d8576b"
                                                    ],
                                                    [
                                                        0.6666666666666666,
                                                        "#ed7953"
                                                    ],
                                                    [
                                                        0.7777777777777778,
                                                        "#fb9f3a"
                                                    ],
                                                    [
                                                        0.8888888888888888,
                                                        "#fdca26"
                                                    ],
                                                    [
                                                        1,
                                                        "#f0f921"
                                                    ]
                                                ],
                                                "type": "histogram2dcontour"
                                            }
                                        ],
                                        "mesh3d": [
                                            {
                                                "colorbar": {
                                                    "outlinewidth": 0,
                                                    "ticks": ""
                                                },
                                                "type": "mesh3d"
                                            }
                                        ],
                                        "parcoords": [
                                            {
                                                "line": {
                                                    "colorbar": {
                                                        "outlinewidth": 0,
                                                        "ticks": ""
                                                    }
                                                },
                                                "type": "parcoords"
                                            }
                                        ],
                                        "pie": [
                                            {
                                                "automargin": true,
                                                "type": "pie"
                                            }
                                        ],
                                        "scatter": [
                                            {
                                                "fillpattern": {
                                                    "fillmode": "overlay",
                                                    "size": 10,
                                                    "solidity": 0.2
                                                },
                                                "type": "scatter"
                                            }
                                        ],
                                        "scatter3d": [
                                            {
                                                "line": {
                                                    "colorbar": {
                                                        "outlinewidth": 0,
                                                        "ticks": ""
                                                    }
                                                },
                                                "marker": {
                                                    "colorbar": {
                                                        "outlinewidth": 0,
                                                        "ticks": ""
                                                    }
                                                },
                                                "type": "scatter3d"
                                            }
                                        ],
                                        "scattercarpet": [
                                            {
                                                "marker": {
                                                    "colorbar": {
                                                        "outlinewidth": 0,
                                                        "ticks": ""
                                                    }
                                                },
                                                "type": "scattercarpet"
                                            }
                                        ],
                                        "scattergeo": [
                                            {
                                                "marker": {
                                                    "colorbar": {
                                                        "outlinewidth": 0,
                                                        "ticks": ""
                                                    }
                                                },
                                                "type": "scattergeo"
                                            }
                                        ],
                                        "scattergl": [
                                            {
                                                "marker": {
                                                    "colorbar": {
                                                        "outlinewidth": 0,
                                                        "ticks": ""
                                                    }
                                                },
                                                "type": "scattergl"
                                            }
                                        ],
                                        "scattermap": [
                                            {
                                                "marker": {
                                                    "colorbar": {
                                                        "outlinewidth": 0,
                                                        "ticks": ""
                                                    }
                                                },
                                                "type": "scattermap"
                                            }
                                        ],
                                        "scattermapbox": [
                                            {
                                                "marker": {
                                                    "colorbar": {
                                                        "outlinewidth": 0,
                                                        "ticks": ""
                                                    }
                                                },
                                                "type": "scattermapbox"
                                            }
                                        ],
                                        "scatterpolar": [
                                            {
                                                "marker": {
                                                    "colorbar": {
                                                        "outlinewidth": 0,
                                                        "ticks": ""
                                                    }
                                                },
                                                "type": "scatterpolar"
                                            }
                                        ],
                                        "scatterpolargl": [
                                            {
                                                "marker": {
                                                    "colorbar": {
                                                        "outlinewidth": 0,
                                                        "ticks": ""
                                                    }
                                                },
                                                "type": "scatterpolargl"
                                            }
                                        ],
                                        "scatterternary": [
                                            {
                                                "marker": {
                                                    "colorbar": {
                                                        "outlinewidth": 0,
                                                        "ticks": ""
                                                    }
                                                },
                                                "type": "scatterternary"
                                            }
                                        ],
                                        "surface": [
                                            {
                                                "colorbar": {
                                                    "outlinewidth": 0,
                                                    "ticks": ""
                                                },
                                                "colorscale": [
                                                    [
                                                        0,
                                                        "#0d0887"
                                                    ],
                                                    [
                                                        0.1111111111111111,
                                                        "#46039f"
                                                    ],
                                                    [
                                                        0.2222222222222222,
                                                        "#7201a8"
                                                    ],
                                                    [
                                                        0.3333333333333333,
                                                        "#9c179e"
                                                    ],
                                                    [
                                                        0.4444444444444444,
                                                        "#bd3786"
                                                    ],
                                                    [
                                                        0.5555555555555556,
                                                        "#d8576b"
                                                    ],
                                                    [
                                                        0.6666666666666666,
                                                        "#ed7953"
                                                    ],
                                                    [
                                                        0.7777777777777778,
                                                        "#fb9f3a"
                                                    ],
                                                    [
                                                        0.8888888888888888,
                                                        "#fdca26"
                                                    ],
                                                    [
                                                        1,
                                                        "#f0f921"
                                                    ]
                                                ],
                                                "type": "surface"
                                            }
                                        ],
                                        "table": [
                                            {
                                                "cells": {
                                                    "fill": {
                                                        "color": "#EBF0F8"
                                                    },
                                                    "line": {
                                                        "color": "white"
                                                    }
                                                },
                                                "header": {
                                                    "fill": {
                                                        "color": "#C8D4E3"
                                                    },
                                                    "line": {
                                                        "color": "white"
                                                    }
                                                },
                                                "type": "table"
                                            }
                                        ]
                                    },
                                    "layout": {
                                        "annotationdefaults": {
                                            "arrowcolor": "#2a3f5f",
                                            "arrowhead": 0,
                                            "arrowwidth": 1
                                        },
                                        "autotypenumbers": "strict",
                                        "coloraxis": {
                                            "colorbar": {
                                                "outlinewidth": 0,
                                                "ticks": ""
                                            }
                                        },
                                        "colorscale": {
                                            "diverging": [
                                                [
                                                    0,
                                                    "#8e0152"
                                                ],
                                                [
                                                    0.1,
                                                    "#c51b7d"
                                                ],
                                                [
                                                    0.2,
                                                    "#de77ae"
                                                ],
                                                [
                                                    0.3,
                                                    "#f1b6da"
                                                ],
                                                [
                                                    0.4,
                                                    "#fde0ef"
                                                ],
                                                [
                                                    0.5,
                                                    "#f7f7f7"
                                                ],
                                                [
                                                    0.6,
                                                    "#e6f5d0"
                                                ],
                                                [
                                                    0.7,
                                                    "#b8e186"
                                                ],
                                                [
                                                    0.8,
                                                    "#7fbc41"
                                                ],
                                                [
                                                    0.9,
                                                    "#4d9221"
                                                ],
                                                [
                                                    1,
                                                    "#276419"
                                                ]
                                            ],
                                            "sequential": [
                                                [
                                                    0,
                                                    "#0d0887"
                                                ],
                                                [
                                                    0.1111111111111111,
                                                    "#46039f"
                                                ],
                                                [
                                                    0.2222222222222222,
                                                    "#7201a8"
                                                ],
                                                [
                                                    0.3333333333333333,
                                                    "#9c179e"
                                                ],
                                                [
                                                    0.4444444444444444,
                                                    "#bd3786"
                                                ],
                                                [
                                                    0.5555555555555556,
                                                    "#d8576b"
                                                ],
                                                [
                                                    0.6666666666666666,
                                                    "#ed7953"
                                                ],
                                                [
                                                    0.7777777777777778,
                                                    "#fb9f3a"
                                                ],
                                                [
                                                    0.8888888888888888,
                                                    "#fdca26"
                                                ],
                                                [
                                                    1,
                                                    "#f0f921"
                                                ]
                                            ],
                                            "sequentialminus": [
                                                [
                                                    0,
                                                    "#0d0887"
                                                ],
                                                [
                                                    0.1111111111111111,
                                                    "#46039f"
                                                ],
                                                [
                                                    0.2222222222222222,
                                                    "#7201a8"
                                                ],
                                                [
                                                    0.3333333333333333,
                                                    "#9c179e"
                                                ],
                                                [
                                                    0.4444444444444444,
                                                    "#bd3786"
                                                ],
                                                [
                                                    0.5555555555555556,
                                                    "#d8576b"
                                                ],
                                                [
                                                    0.6666666666666666,
                                                    "#ed7953"
                                                ],
                                                [
                                                    0.7777777777777778,
                                                    "#fb9f3a"
                                                ],
                                                [
                                                    0.8888888888888888,
                                                    "#fdca26"
                                                ],
                                                [
                                                    1,
                                                    "#f0f921"
                                                ]
                                            ]
                                        },
                                        "colorway": [
                                            "#636efa",
                                            "#EF553B",
                                            "#00cc96",
                                            "#ab63fa",
                                            "#FFA15A",
                                            "#19d3f3",
                                            "#FF6692",
                                            "#B6E880",
                                            "#FF97FF",
                                            "#FECB52"
                                        ],
                                        "font": {
                                            "color": "#2a3f5f"
                                        },
                                        "geo": {
                                            "bgcolor": "white",
                                            "lakecolor": "white",
                                            "landcolor": "white",
                                            "showlakes": true,
                                            "showland": true,
                                            "subunitcolor": "#C8D4E3"
                                        },
                                        "hoverlabel": {
                                            "align": "left"
                                        },
                                        "hovermode": "closest",
                                        "mapbox": {
                                            "style": "light"
                                        },
                                        "paper_bgcolor": "white",
                                        "plot_bgcolor": "white",
                                        "polar": {
                                            "angularaxis": {
                                                "gridcolor": "#EBF0F8",
                                                "linecolor": "#EBF0F8",
                                                "ticks": ""
                                            },
                                            "bgcolor": "white",
                                            "radialaxis": {
                                                "gridcolor": "#EBF0F8",
                                                "linecolor": "#EBF0F8",
                                                "ticks": ""
                                            }
                                        },
                                        "scene": {
                                            "xaxis": {
                                                "backgroundcolor": "white",
                                                "gridcolor": "#DFE8F3",
                                                "gridwidth": 2,
                                                "linecolor": "#EBF0F8",
                                                "showbackground": true,
                                                "ticks": "",
                                                "zerolinecolor": "#EBF0F8"
                                            },
                                            "yaxis": {
                                                "backgroundcolor": "white",
                                                "gridcolor": "#DFE8F3",
                                                "gridwidth": 2,
                                                "linecolor": "#EBF0F8",
                                                "showbackground": true,
                                                "ticks": "",
                                                "zerolinecolor": "#EBF0F8"
                                            },
                                            "zaxis": {
                                                "backgroundcolor": "white",
                                                "gridcolor": "#DFE8F3",
                                                "gridwidth": 2,
                                                "linecolor": "#EBF0F8",
                                                "showbackground": true,
                                                "ticks": "",
                                                "zerolinecolor": "#EBF0F8"
                                            }
                                        },
                                        "shapedefaults": {
                                            "line": {
                                                "color": "#2a3f5f"
                                            }
                                        },
                                        "ternary": {
                                            "aaxis": {
                                                "gridcolor": "#DFE8F3",
                                                "linecolor": "#A2B1C6",
                                                "ticks": ""
                                            },
                                            "baxis": {
                                                "gridcolor": "#DFE8F3",
                                                "linecolor": "#A2B1C6",
                                                "ticks": ""
                                            },
                                            "bgcolor": "white",
                                            "caxis": {
                                                "gridcolor": "#DFE8F3",
                                                "linecolor": "#A2B1C6",
                                                "ticks": ""
                                            }
                                        },
                                        "title": {
                                            "x": 0.05
                                        },
                                        "xaxis": {
                                            "automargin": true,
                                            "gridcolor": "#EBF0F8",
                                            "linecolor": "#EBF0F8",
                                            "ticks": "",
                                            "title": {
                                                "standoff": 15
                                            },
                                            "zerolinecolor": "#EBF0F8",
                                            "zerolinewidth": 2
                                        },
                                        "yaxis": {
                                            "automargin": true,
                                            "gridcolor": "#EBF0F8",
                                            "linecolor": "#EBF0F8",
                                            "ticks": "",
                                            "title": {
                                                "standoff": 15
                                            },
                                            "zerolinecolor": "#EBF0F8",
                                            "zerolinewidth": 2
                                        }
                                    }
                                },
                                "title": {
                                    "text": "Distribution of Numeric Features",
                                    "x": 0.5
                                },
                                "width": 800,
                                "xaxis": {
                                    "anchor": "y",
                                    "domain": [
                                        0,
                                        1
                                    ]
                                },
                                "xaxis2": {
                                    "anchor": "y2",
                                    "domain": [
                                        0,
                                        1
                                    ]
                                },
                                "xaxis3": {
                                    "anchor": "y3",
                                    "domain": [
                                        0,
                                        1
                                    ]
                                },
                                "xaxis4": {
                                    "anchor": "y4",
                                    "domain": [
                                        0,
                                        1
                                    ]
                                },
                                "yaxis": {
                                    "anchor": "x",
                                    "domain": [
                                        0.825,
                                        1
                                    ]
                                },
                                "yaxis2": {
                                    "anchor": "x2",
                                    "domain": [
                                        0.55,
                                        0.7250000000000001
                                    ]
                                },
                                "yaxis3": {
                                    "anchor": "x3",
                                    "domain": [
                                        0.275,
                                        0.45
                                    ]
                                },
                                "yaxis4": {
                                    "anchor": "x4",
                                    "domain": [
                                        0,
                                        0.175
                                    ]
                                }
                            }
                        }
                    },
                    "metadata": {},
                    "output_type": "display_data"
                }
            ],
            "source": [
                "fig4 = create_line_plots(star_df)\n",
                "\n",
                "fig4.show()"
            ]
        },
        {
            "cell_type": "code",
            "execution_count": 37,
            "metadata": {},
            "outputs": [
                {
                    "data": {
                        "application/vnd.plotly.v1+json": {
                            "config": {
                                "plotlyServerURL": "https://plot.ly"
                            },
                            "data": [
                                {
                                    "diagonal": {
                                        "visible": true
                                    },
                                    "dimensions": [
                                        {
                                            "axis": {
                                                "matches": true
                                            },
                                            "label": "Temperature",
                                            "values": {
                                                "bdata": "/AviCygK8AqTBxgLTQooCloKjAoQDjkMPgwsDloKDA3vCmwOeAxxDfIOJQ3GDIAMwAsQDvcN9g0pDqINpg76DqUOQg56DUwOeg2oDs8NDQ1oDacLEwt3C98MgQsBC9YKNwsRDRcO6AxODN4NbAxKCw4NPQpWDIMNFQ4fDkcNGg7hDSkOxA77DMsNkgxKDLcNmQx3Cy0LKAurChcMFw4cDK0L1g2rDBMMDg78DNUN8g2sDRAOHg4PC2ILWw2SDH0NSQuYC5wN2grDDYYNuQyyC4wMww0ODkYMqA38DIcN",
                                                "dtype": "i2"
                                            }
                                        },
                                        {
                                            "axis": {
                                                "matches": true
                                            },
                                            "label": "Luminosity",
                                            "values": {
                                                "bdata": "YTJVMCqpYz/8qfHSTWJAP2EyVTAqqTM/LUMc6+I2Kj8cJET5ghYiP5T2Bl+YTEU/smMjEK/rRz8tQxzr4jY6PyMtlbcjnEY/D9b/OcyXJz/gnBGlvcFnPwfwFkhQ/Ig/LUMc6+I2Oj+6SQwCK4d2P2EyVTAqqUM/xY8xdy0hbz+Sy39Iv31dP3EDPj+MEG4/ZJKRs7CnbT8rhxbZzvejPwAAAAAAaghBAAAAAIDAFEEAAAAAgE8CQQAAAADAzQdBAAAAAAAXEUEAAAAAAIgTQQAAAACAB/5AAAAAAABqCEEAAAAAAHYGQQAAAADAehBBAAAAAOBFEUEAAAAAAJoQQQAAAADgyCBBAAAAAMDrEkEAAAAAYA0QQQAAAADgJxZBAAAAAIA9BUEAAAAAQIMJQQAAAADAzQdBx7q4jQbwdj/cEU4LXvRFP2kdVU0QdS8/gJ9x4UBINj/S+8bXnlkiP1gczvxqDlA/8WjjiLX4ND9YHM78ag5QPw/W/znMlzc/D9b/OcyXRz8bL90kBoGVP7pJDAIrh5Y/nMQgsHJogT8vbqMBvAWCP/yp8dJNYnA//Knx0k1iUD9fB84ZUdprP/p+arx0k1g/YTJVMCqpQz+u2F92Tx5WPwAAAAAAavhAAAAAAADD/kAAAAAAAGoIQQAAAACAkPxAAAAAAAAdAEEAAAAAQLMBQQAAAAAAEfJAAAAAAABqCEEDlfHvMy48P3506spneU4/i+B/K9mxQT9hMlUwKqkjP/Fo44i1+EQ/ngyOklfnSD+nIhXGFoJMP54MjpJX5yg/t18+WTFcTT+Cjla1pKM8P54MjpJX5yg/2ubG9IQlLj/8qfHSTWKAP6g1zTtO0YE/kst/SL99TT9IUPwYc9diP4Lix5i7loA/L26jAbwFUj9fB84ZUdprP5T2Bl+YTFU/AAAAAACIE0EAAAAAgNgAQQAAAAAATA1BAAAAAECzAUG1UgjkEkcuP0Q2kC42rUQ/WBzO/GoOMD9tN8E3TZ89P6CobFhTWUQ/oib6fJQRNz/HnGfsSzY+PyXJc30fDkI/aaz9ne3RSz+EDOTZ5VtPP6Fns+pztXU/YTJVMCqpYz+Sy39Iv319Py1DHOviNlo/rthfdk8edj+u2F92Tx5mPziEKjV7oFU/exSuR+F6VD85tMh2vp96P67YX3ZPHmY/",
                                                "dtype": "f8"
                                            }
                                        },
                                        {
                                            "axis": {
                                                "matches": true
                                            },
                                            "label": "Radius",
                                            "values": {
                                                "bdata": "w/UoXI/CxT+Uh4Va07zDP+kmMQisHLo/exSuR+F6xD+R7Xw/NV66Pylcj8L1KLw/qMZLN4lBwD/6fmq8dJO4Pylcj8L1KLw/pHA9CtejwD9SuB6F61HgP26jAbwFEtg/SgwCK4cWyT/0/dR46SbZP+xRuB6F68E/uB6F61G4zj97FK5H4XrEPxSuR+F6FN4/BcWPMXctyT8QWDm0yHbWPwAAAAAAADNAAAAAAAAAN0AAAAAAAABWQAAAAAAAADFAAAAAAAAAOUAAAAAAAAA9QAAAAAAAgEZAAAAAAABAVkAAAAAAAABVQAAAAAAAwJdAAAAAAACwk0AAAAAAAHySQAAAAAAAwJlAAAAAAACwlEAAAAAAABSVQAAAAAAAJJpAAAAAAAAQlEAAAAAAANiNQAAAAAAAKJhAyXa+nxovrT9SuB6F61HIP6rx0k1iELg/OdbFbTSAtz8ZBFYOLbK9P0w3iUFg5cA/AiuHFtnOtz/DZKpgVFK3P2iR7Xw/Nb4/uB6F61G4vj9GtvP91HjRP1K4HoXrUdg/CtejcD0Kxz9mZmZmZmbWPzm0yHa+n9I/ZmZmZmZm1j+4HoXrUbjOP9nO91PjpdM/SgwCK4cWuT/P91PjpZvEPwAAAAAAJJRAAAAAAACQkUAAAAAAAIyZQAAAAAAAOJdAAAAAAADIl0AAAAAAALCUQAAAAAAAYItAAAAAAACwlEDUK2UZ4li3PwfwFkhQ/Lg/KVyPwvUovD8kufyH9Nu3P4GVQ4ts57s/YOXQItv5vj8kufyH9Nu3P/kP6bevA7c/TRWMSuoEtD8noImw4em1P7ByaJHtfN8/UrgehetR2D/Xo3A9CtfTP8P1KFyPwtU/16NwPQrX4z9cj8L1KFznP7gehetRuM4/7FG4HoXr4T/D9Shcj8LVP/yp8dJNYtA/AAAAAAAgl0AAAAAAADCWQAAAAAAAmJJAAAAAAABEmEAGgZVDi2y3PxkEVg4tsr0/VOOlm8QgwD+/fR04Z0S5P7UV+8vuybM/1JrmHafouD8QWDm0yHa+P3gLJCh+jLk/eekmMQisvD9QjZduEoPAP4ts5/up8cI/cT0K16Nw3T/sUbgehevRP/7UeOkmMdg/0SLb+X5q1D9xPQrXo3DlP1CNl24Sg9A/Gy/dJAaB1T++nxov3STeP5qZmZmZmeU/",
                                                "dtype": "f8"
                                            }
                                        },
                                        {
                                            "axis": {
                                                "matches": true
                                            },
                                            "label": "Absolute magnitude",
                                            "values": {
                                                "bdata": "H4XrUbgeMECamZmZmZkwQDMzMzMzszJAZmZmZmamMECPwvUoXA80QHsUrkfh+jBAuB6F61E4MUBmZmZmZmYxQDMzMzMzczFAzczMzMwMMEDhehSuR2ElQBSuR+F6lCdA7FG4HoVrKkD2KFyPwvUkQKrx0k1ikCdApHA9CtcjKkAUrkfhepQtQJqZmZmZmSVAj8L1KFwPK0Bcj8L1KFwmQLgehetRuBvAzczMzMzMGMAUrkfhehQYwOF6FK5H4RzAAAAAAAAAGMBmZmZmZmYawB+F61G4HhvA9ihcj8L1FMD2KFyPwvUawM3MzMzMzCLAhetRuB6FHsBmZmZmZmYiwJqZmZmZGSDAKVyPwvUoH8AAAAAAAIAnwNejcD0K1yfAj8L1KFyPJsB7FK5H4XomwLgehetRuCbAexSuR+E6MEBxPQrXo/AwQNejcD0KFzBA9ihcj8L1MECkcD0K1+MyQOF6FK5HITFA16NwPQpXMkAzMzMzM3MwQKRwPQrXYzFArkfhehRuM0CamZmZmZkoQD0K16NwPSRAZmZmZmZmKkDhehSuR+EnQEjhehSuxyVAhetRuB6FJ0DsUbgehesqQD0K16NwvSdAH4XrUbieKUD2KFyPwvUrQGZmZmZmZiXAH4XrUbieJcApXI/C9agmwNejcD0K1yXAuB6F61G4JcCPwvUoXA8mwAAAAAAAgCTAZmZmZmZmJcApXI/C9SgxQHE9Ctej8DNAhetRuB4FNEDsUbgeheswQB+F61G4HjFA4XoUrkehM0DhehSuR+EwQPYoXI/CtTBAj8L1KFyPM0DXo3A9ChcyQD0K16NwvSVArkfhehSuJEDXo3A9ClcmQD0K16NwPSpA9ihcj8J1LEAAAAAAAIAtQFyPwvUo3CZAhetRuB6FLED2KFyPwnUoQClcj8L1qCxAUrgehetRHsBcj8L1KFwgwI/C9Shcjx/A16NwPQrXHsD2KFyPwjUwQKRwPQrXYzJAj8L1KFyPMUDXo3A9ClcxQBSuR+F6FDFArkfhehTuMEAzMzMzM3MxQOxRuB6FqzBAMzMzMzNzM0CamZmZmVkwQHE9Ctej8CZA9ihcj8J1JUBmZmZmZuYqQGiR7Xw/tSlAXI/C9SjcKEAv3SQGgVUrQD0K16NwPSxA4XoUrkfhLUCPwvUoXI8pQFpkO99PjS1A",
                                                "dtype": "f8"
                                            }
                                        }
                                    ],
                                    "hovertemplate": "Spectral Class=M<br>%{xaxis.title.text}=%{x}<br>%{yaxis.title.text}=%{y}<extra></extra>",
                                    "legendgroup": "M",
                                    "marker": {
                                        "color": "rgb(127, 60, 141)",
                                        "line": {
                                            "width": 0.5
                                        },
                                        "opacity": 0.7,
                                        "size": 6,
                                        "symbol": "circle"
                                    },
                                    "name": "M",
                                    "showlegend": true,
                                    "type": "splom"
                                },
                                {
                                    "diagonal": {
                                        "visible": true
                                    },
                                    "dimensions": [
                                        {
                                            "axis": {
                                                "matches": true
                                            },
                                            "label": "Temperature",
                                            "values": {
                                                "bdata": "qGEAAHRAAAAwdQAArDsAAOQlAADWgwAAMEMAABQ3AADqLgAA5CoAAJRNAAAUggAAbDQAABxSAAByRwAAuDgAAHwuAABwMgAAuDIAAHhzAAAGQAAA7mEAABxwAAAcZgAAmE4AAJBlAAD4KgAARC8AAKpfAACWQQAAQD0AAIY6AAAcNAAApEcAANBNAADUXQAANFoAAABGAACgSwAATlcAAPxVAADISwAA9EIAAFFeAABbbAAAkFUAAA==",
                                                "dtype": "i4"
                                            }
                                        },
                                        {
                                            "axis": {
                                                "matches": true
                                            },
                                            "label": "Luminosity",
                                            "values": {
                                                "bdata": "eekmMQisrD85tMh2vp+KPwAAAAAAKtxAAAAAAADAkUAAAAAAAIBSQAAAAAAA2wpBWBzO/GoOUD/cEU4LXvRFP+Un1T4dj0k/VvFG5pE/SD8vbqMBvAVSPwAAAAAATA1BvqQxWkdVQz/6fmq8dJNYP5T2Bl+YTFU/dF5jl6jeSj/cEU4LXvRFP2tI3GPpQ0c/S7A4nPnVTD8AAAAAAPMGQQAAAAAA+JNAAAAAAABSzEAAAAAAgGXQQAAAAAAAXMxAAAAAAABwskAAAAAAgEkTQQAAAACAwARBAAAAAABM/UAAAAAAUFUOQce6uI0G8FY/BcB4Bg39Uz++pDFaR1VTP12nkZbK21E/3BFOC170VT/lJ9U+HY9ZP1t8CoDxDFo/OIQqNXugVT8BNbVsrS9SP3sUrkfhelQ/AAAAAABRyEAAAAAAAFy6QAAAAAAAVMVAAAAAAACYi0AAAAAARGAXQQAAAAAY7ClBAAAAAJTXJkE=",
                                                "dtype": "f8"
                                            }
                                        },
                                        {
                                            "axis": {
                                                "matches": true
                                            },
                                            "label": "Radius",
                                            "values": {
                                                "bdata": "FYxK6gQ0gT956SYxCKyMPzMzMzMzMxlAzczMzMzMHEAfhetRuB4HQAAAAAAAADpAuB6F61G4jj+1pnnHKTqCP0hQ/Bhz14I/qDXNO07RgT/A7J48LNSKPwAAAAAAAChASNxj6UMXhD/HuriNBvCGPzdsW5TZIIM/nNzvUBTogz+HbYsyG2SCP5jdk4eFWoM/EjElkuhlhD8UrkfhehQYQLgehetRuBZArkfhehSuF0CamZmZmZkZQPYoXI/C9RVAH4XrUbgeG0AAAAAAADyaQAAAAAAAzJtAMzMzMzMnhkAAAAAAALqRQIC3QILix4g/1CtlGeJYhz9N845TdCSHP+CcEaW9wYc/E2HD0ytliT+GWtO84xSNP6YKRiV1Aoo/lPYGX5hMhT+hZ7Pqc7WFP8ai6exkcIQ/cT0K16NwGUCPwvUoXI8aQB+F61G4HhhA6SYxCKycFkAAAAAAAFiXQAAAAAAAkJNAAAAAAACokUA=",
                                                "dtype": "f8"
                                            }
                                        },
                                        {
                                            "axis": {
                                                "matches": true
                                            },
                                            "label": "Absolute magnitude",
                                            "values": {
                                                "bdata": "KVyPwvUoJUBI4XoUrscnQM3MzMzMzBDAhetRuB6F/797FK5H4XrEP2ZmZmZmZhjAZmZmZmbmKEDXo3A9ClcoQMP1KFyPQihA4XoUrkdhJkCuR+F6FK4mQAAAAAAAABrA16NwPQpXK0AK16NwPQonQI/C9ShcjylA16NwPQrXJ0DD9Shcj8ImQClcj8L1qClA9ihcj8J1JkAK16NwPQoQwI/C9ShcjwrA16NwPQrXD8Bcj8L1KFwQwGZmZmZmZg7AMzMzMzMzC8AzMzMzMzMiwM3MzMzMzCPAXI/C9ShcH8B7FK5H4XogwD0K16NwvSlA16NwPQrXJ0D2KFyPwnUoQM3MzMzMzClAcT0K16NwJkCuR+F6FK4mQJqZmZmZGSVAXI/C9ShcJEBSuB6F61EnQD0K16NwPSdAXI/C9ShcDcBmZmZmZmYEwKRwPQrXowjAH4XrUbgeBcCuR+F6FK4hwFyPwvUoXB7ArkfhehSuHsA=",
                                                "dtype": "f8"
                                            }
                                        }
                                    ],
                                    "hovertemplate": "Spectral Class=B<br>%{xaxis.title.text}=%{x}<br>%{yaxis.title.text}=%{y}<extra></extra>",
                                    "legendgroup": "B",
                                    "marker": {
                                        "color": "rgb(17, 165, 121)",
                                        "line": {
                                            "width": 0.5
                                        },
                                        "opacity": 0.7,
                                        "size": 6,
                                        "symbol": "circle"
                                    },
                                    "name": "B",
                                    "showlegend": true,
                                    "type": "splom"
                                },
                                {
                                    "diagonal": {
                                        "visible": true
                                    },
                                    "dimensions": [
                                        {
                                            "axis": {
                                                "matches": true
                                            },
                                            "label": "Temperature",
                                            "values": {
                                                "bdata": "PB40IXohdB/iIsslRiPyK0Iv3CIrHvEi7DbfMhwnITNoJH0iEyQ=",
                                                "dtype": "i2"
                                            }
                                        },
                                        {
                                            "axis": {
                                                "matches": true
                                            },
                                            "label": "Luminosity",
                                            "values": {
                                                "bdata": "WBzO/GoOQD/8qfHSTWJAP9DQP8HFiko/ZmZmZmZmIUDS+8bXnllCP5LLf0i/fT0/AAAAAACARkAAAAAAAACFQAAAAAAAiIVA0vvG155ZMj/S+8bXnlkiPwAAAAAAAENAAAAAAAAQkUAAAAAAADCPQAAAAAAAQIFAAAAAAACgiEAAAAAAAAA9QAAAAAAqZyBBAAAAADC3GEE=",
                                                "dtype": "f8"
                                            }
                                        },
                                        {
                                            "axis": {
                                                "matches": true
                                            },
                                            "label": "Radius",
                                            "values": {
                                                "bdata": "9gt2w7ZFiT97FK5H4XqEP+hqK/aX3YM/zczMzMzM/D/b+X5qvHSDPzQRNjy9UoY/CtejcD0KBUDsUbgehesbQArXo3A9ChxAVDVB1H0Agj96/N6mP/uBP0w3iUFg5QNAexSuR+H6FkDXo3A9CtcYQAaBlUOLbBdAK4cW2c73F0CPwvUoXI/+PwAAAAAAPJZAAAAAAABgkUA=",
                                                "dtype": "f8"
                                            }
                                        },
                                        {
                                            "axis": {
                                                "matches": true
                                            },
                                            "label": "Absolute magnitude",
                                            "values": {
                                                "bdata": "CtejcD0KLEAAAAAAAAAtQGZmZmZmZixAXI/C9ShcA0CPwvUoXI8rQPYoXI/C9StAMzMzMzMz9z9mZmZmZmYCwHsUrkfhepQ/PQrXo3C9LUAfhetRuJ4tQLgehetRuL4/UrgehetRAMAUrkfhehT2vzm0yHa+n4o/uB6F61G4vr8tsp3vp8bzP/YoXI/CdSXA9ihcj8J1JsA=",
                                                "dtype": "f8"
                                            }
                                        }
                                    ],
                                    "hovertemplate": "Spectral Class=A<br>%{xaxis.title.text}=%{x}<br>%{yaxis.title.text}=%{y}<extra></extra>",
                                    "legendgroup": "A",
                                    "marker": {
                                        "color": "rgb(57, 105, 172)",
                                        "line": {
                                            "width": 0.5
                                        },
                                        "opacity": 0.7,
                                        "size": 6,
                                        "symbol": "circle"
                                    },
                                    "name": "A",
                                    "showlegend": true,
                                    "type": "splom"
                                },
                                {
                                    "diagonal": {
                                        "visible": true
                                    },
                                    "dimensions": [
                                        {
                                            "axis": {
                                                "matches": true
                                            },
                                            "label": "Temperature",
                                            "values": {
                                                "bdata": "NBy+MhQeDi4+HKgWZRrsGDAX0xW8G04pmDW0FCgejDk6IA==",
                                                "dtype": "i2"
                                            }
                                        },
                                        {
                                            "axis": {
                                                "matches": true
                                            },
                                            "label": "Luminosity",
                                            "values": {
                                                "bdata": "gJ9x4UBIJj+An3HhQEgWP0uwOJz51Rw/YTJVMCqpIz/xaOOItfgUP+xRuB6F6+k/4XoUrkfh9j+amZmZmZn1P4PAyqFFtvU/aJHtfD816j8aFw6EZAEzP9L7xteeWSI/D9b/OcyXJz/hehSuR+HiP65H4XoUrh9AS7A4nPnVHD8AAAAAAIAiQA==",
                                                "dtype": "f8"
                                            }
                                        },
                                        {
                                            "axis": {
                                                "matches": true
                                            },
                                            "label": "Radius",
                                            "values": {
                                                "bdata": "ukkMAiuHhj/Xhopx/iaEPy1DHOviNoo/ukkMAiuHhj85tMh2vp+KP83MzMzMzOw/7FG4HoXr8T9cj8L1KFzvPxkEVg4tsvE/rkfhehSu7z/6fmq8dJOIP0hQ/Bhz14I/ahg+IqZEgj8fhetRuB7tP3E9CtejcPU/ahg+IqZEgj/hehSuR+H+Pw==",
                                                "dtype": "f8"
                                            }
                                        },
                                        {
                                            "axis": {
                                                "matches": true
                                            },
                                            "label": "Absolute magnitude",
                                            "values": {
                                                "bdata": "9ihcj8J1LED2KFyPwnUoQHE9Ctej8CxArkfhehQuKUApXI/C9SgsQDMzMzMzMxRASOF6FK5HA0BxPQrXo3AHQNejcD0K1xFAH4XrUbgeFECuR+F6FC4sQArXo3A9CihAcT0K16PwKUD2KFyPwvUVQIXrUbgehQNASOF6FK7HKUBcj8L1KFzvvw==",
                                                "dtype": "f8"
                                            }
                                        }
                                    ],
                                    "hovertemplate": "Spectral Class=F<br>%{xaxis.title.text}=%{x}<br>%{yaxis.title.text}=%{y}<extra></extra>",
                                    "legendgroup": "F",
                                    "marker": {
                                        "color": "rgb(242, 183, 1)",
                                        "line": {
                                            "width": 0.5
                                        },
                                        "opacity": 0.7,
                                        "size": 6,
                                        "symbol": "circle"
                                    },
                                    "name": "F",
                                    "showlegend": true,
                                    "type": "splom"
                                },
                                {
                                    "diagonal": {
                                        "visible": true
                                    },
                                    "dimensions": [
                                        {
                                            "axis": {
                                                "matches": true
                                            },
                                            "label": "Temperature",
                                            "values": {
                                                "bdata": "WJgAAAyNAABAnAAA2FkAAOBCAABYKwAApTcAADZgAABdMgAAGV8AAI2CAACokwAALmMAAC8tAACDMQAAeBYAAN8iAAByHAAA000AAAVnAADnQwAAnSQAAFBGAACOhQAAzH4AAH5cAADNMQAApyQAAJBbAACTQQAALkkAAKQmAACyKgAAN1oAAOpUAABalQAA6X4AAByYAAB3eAAA+pMAAA==",
                                                "dtype": "i4"
                                            }
                                        },
                                        {
                                            "axis": {
                                                "matches": true
                                            },
                                            "label": "Luminosity",
                                            "values": {
                                                "bdata": "AAAAAADnCEEAAAAAgCsIQQAAAACQzyhBAAAAAIAB/0AAAAAAwK8MQQAAAAAAWPtAAAAAAMAyDEEAAAAA4CcWQQAAAAAAdgZBAAAAAIBVAUEAAAAAAHwVQQAAAACgxAhBAAAAAMA4C0EAAAAAwKMOQQAAAACAlhtBAAAAAEDoDUEAAAAAwCwNQQAAAACA+/9AAAAAAACOAkEAAAAAgCsIQQAAAADQ7RRBAAAAACDpGUEAAAAAAGoIQQAAAADAMQhBAAAAAEA3BUEAAAAAENINQQAAAACgSxRBAAAAAHDuFEEAAAAArGYgQQAAAABQHg5BAAAAAGBwC0EAAAAA2B8iQQAAAAB07CdBAAAAALA6FUEAAAAAtNomQQAAAAD4phBBAAAAANzJI0EAAAAAuOAWQQAAAAD0cylBAAAAANz/EUE=",
                                                "dtype": "f8"
                                            }
                                        },
                                        {
                                            "axis": {
                                                "matches": true
                                            },
                                            "label": "Radius",
                                            "values": {
                                                "bdata": "MzMzMzMzJUBmZmZmZmYkQAAAAAAAACxAAAAAAAAAQkAAAAAAAMBUQAAAAAAAAChAAAAAAAAARUAAAAAAAIBPQAAAAAAAAEJAAAAAAACATEAAAAAAAMBQQHE9CtejcBtAAAAAAACATEAAAAAAAABCQAAAAAAAwFRAAAAAAABAWEAAAAAAAIBBQAAAAAAAADhAAAAAAABAUkAAAAAAAIBDQAAAAAAAAD5AAAAAAAAAOEAAAAAAAFSQQI/C9ShcjxlAppvEILDyGEAAAAAAAIBBQAAAAAAAAFNAAAAAAACAWEAAAAAAAEBUQAAAAAAAAE9AAAAAAAAAR0AAAAAAAABUQAAAAAAAADlAAAAAAACAVUAAAAAAAABXQAAAAAAAMJVAAAAAAABynkAAAAAAADCVQAAAAAAAqJJAAAAAAADcm0A=",
                                                "dtype": "f8"
                                            }
                                        },
                                        {
                                            "axis": {
                                                "matches": true
                                            },
                                            "label": "Absolute magnitude",
                                            "values": {
                                                "bdata": "zczMzMzMEsCamZmZmZkRwOxRuB6F6xjACtejcD0KF8CPwvUoXI8bwKRwPQrXoxfAexSuR+F6GMBSuB6F61EXwFyPwvUoXBnA9ihcj8L1GMApXI/C9SgXwD0K16NwPRLArkfhehSuF8B7FK5H4foYwHsUrkfhehbAhetRuB6FGsBcj8L1KFwdwOF6FK5H4RzAw/UoXI/CFsBSuB6F61EXwFyPwvUoXBjA9ihcj8L1F8CamZmZmZkgwEjhehSuRxLAcT0K16NwEcAUrkfhehQZwBSuR+F6FBzA7FG4HoXrG8BmZmZmZuYXwGZmZmZmZhnAzczMzMzMHcA/NV66SQwdwEw3iUFg5RjAH4XrUbieF8D8qfHSTWIdwBSuR+F6lCLArkfhehSuJcBcj8L1KNwjwMP1KFyPQiXAMzMzMzMzH8A=",
                                                "dtype": "f8"
                                            }
                                        }
                                    ],
                                    "hovertemplate": "Spectral Class=O<br>%{xaxis.title.text}=%{x}<br>%{yaxis.title.text}=%{y}<extra></extra>",
                                    "legendgroup": "O",
                                    "marker": {
                                        "color": "rgb(231, 63, 116)",
                                        "line": {
                                            "width": 0.5
                                        },
                                        "opacity": 0.7,
                                        "size": 6,
                                        "symbol": "circle"
                                    },
                                    "name": "O",
                                    "showlegend": true,
                                    "type": "splom"
                                },
                                {
                                    "diagonal": {
                                        "visible": true
                                    },
                                    "dimensions": [
                                        {
                                            "axis": {
                                                "matches": true
                                            },
                                            "label": "Temperature",
                                            "values": {
                                                "bdata": "rhHtD3QT+BOvD78Q",
                                                "dtype": "i2"
                                            }
                                        },
                                        {
                                            "axis": {
                                                "matches": true
                                            },
                                            "label": "Luminosity",
                                            "values": {
                                                "bdata": "L90kBoGVwz/D9Shcj8K1PwwCK4cW2dY/KVyPwvUo5D8AAAAAQDYRQQAAAADgOSNB",
                                                "dtype": "f8"
                                            }
                                        },
                                        {
                                            "axis": {
                                                "matches": true
                                            },
                                            "label": "Radius",
                                            "values": {
                                                "bdata": "rkfhehSu6z9xPQrXo3DpPxSuR+F6FPI/1XjpJjEI7D8AAAAAAPiXQAAAAAAAjJRA",
                                                "dtype": "f8"
                                            }
                                        },
                                        {
                                            "axis": {
                                                "matches": true
                                            },
                                            "label": "Absolute magnitude",
                                            "values": {
                                                "bdata": "oBov3SQGGkC28/3UeOkYQB+F61G4HhNAuB6F61G4EkBI4XoUrscmwGZmZmZmZiLA",
                                                "dtype": "f8"
                                            }
                                        }
                                    ],
                                    "hovertemplate": "Spectral Class=K<br>%{xaxis.title.text}=%{x}<br>%{yaxis.title.text}=%{y}<extra></extra>",
                                    "legendgroup": "K",
                                    "marker": {
                                        "color": "rgb(128, 186, 90)",
                                        "line": {
                                            "width": 0.5
                                        },
                                        "opacity": 0.7,
                                        "size": 6,
                                        "symbol": "circle"
                                    },
                                    "name": "K",
                                    "showlegend": true,
                                    "type": "splom"
                                },
                                {
                                    "diagonal": {
                                        "visible": true
                                    },
                                    "dimensions": [
                                        {
                                            "axis": {
                                                "matches": true
                                            },
                                            "label": "Temperature",
                                            "values": {
                                                "bdata": "who=",
                                                "dtype": "i2"
                                            }
                                        },
                                        {
                                            "axis": {
                                                "matches": true
                                            },
                                            "label": "Luminosity",
                                            "values": {
                                                "bdata": "AAAAAED0C0E=",
                                                "dtype": "f8"
                                            }
                                        },
                                        {
                                            "axis": {
                                                "matches": true
                                            },
                                            "label": "Radius",
                                            "values": {
                                                "bdata": "AAAAAADslkA=",
                                                "dtype": "f8"
                                            }
                                        },
                                        {
                                            "axis": {
                                                "matches": true
                                            },
                                            "label": "Absolute magnitude",
                                            "values": {
                                                "bdata": "pHA9CtcjJMA=",
                                                "dtype": "f8"
                                            }
                                        }
                                    ],
                                    "hovertemplate": "Spectral Class=G<br>%{xaxis.title.text}=%{x}<br>%{yaxis.title.text}=%{y}<extra></extra>",
                                    "legendgroup": "G",
                                    "marker": {
                                        "color": "rgb(230, 131, 16)",
                                        "line": {
                                            "width": 0.5
                                        },
                                        "opacity": 0.7,
                                        "size": 6,
                                        "symbol": "circle"
                                    },
                                    "name": "G",
                                    "showlegend": true,
                                    "type": "splom"
                                }
                            ],
                            "layout": {
                                "dragmode": "select",
                                "font": {
                                    "size": 12
                                },
                                "height": 900,
                                "legend": {
                                    "title": {
                                        "text": "Spectral Class"
                                    },
                                    "tracegroupgap": 0
                                },
                                "margin": {
                                    "b": 50,
                                    "l": 50,
                                    "r": 50,
                                    "t": 80
                                },
                                "template": {
                                    "data": {
                                        "bar": [
                                            {
                                                "error_x": {
                                                    "color": "#2a3f5f"
                                                },
                                                "error_y": {
                                                    "color": "#2a3f5f"
                                                },
                                                "marker": {
                                                    "line": {
                                                        "color": "white",
                                                        "width": 0.5
                                                    },
                                                    "pattern": {
                                                        "fillmode": "overlay",
                                                        "size": 10,
                                                        "solidity": 0.2
                                                    }
                                                },
                                                "type": "bar"
                                            }
                                        ],
                                        "barpolar": [
                                            {
                                                "marker": {
                                                    "line": {
                                                        "color": "white",
                                                        "width": 0.5
                                                    },
                                                    "pattern": {
                                                        "fillmode": "overlay",
                                                        "size": 10,
                                                        "solidity": 0.2
                                                    }
                                                },
                                                "type": "barpolar"
                                            }
                                        ],
                                        "carpet": [
                                            {
                                                "aaxis": {
                                                    "endlinecolor": "#2a3f5f",
                                                    "gridcolor": "#C8D4E3",
                                                    "linecolor": "#C8D4E3",
                                                    "minorgridcolor": "#C8D4E3",
                                                    "startlinecolor": "#2a3f5f"
                                                },
                                                "baxis": {
                                                    "endlinecolor": "#2a3f5f",
                                                    "gridcolor": "#C8D4E3",
                                                    "linecolor": "#C8D4E3",
                                                    "minorgridcolor": "#C8D4E3",
                                                    "startlinecolor": "#2a3f5f"
                                                },
                                                "type": "carpet"
                                            }
                                        ],
                                        "choropleth": [
                                            {
                                                "colorbar": {
                                                    "outlinewidth": 0,
                                                    "ticks": ""
                                                },
                                                "type": "choropleth"
                                            }
                                        ],
                                        "contour": [
                                            {
                                                "colorbar": {
                                                    "outlinewidth": 0,
                                                    "ticks": ""
                                                },
                                                "colorscale": [
                                                    [
                                                        0,
                                                        "#0d0887"
                                                    ],
                                                    [
                                                        0.1111111111111111,
                                                        "#46039f"
                                                    ],
                                                    [
                                                        0.2222222222222222,
                                                        "#7201a8"
                                                    ],
                                                    [
                                                        0.3333333333333333,
                                                        "#9c179e"
                                                    ],
                                                    [
                                                        0.4444444444444444,
                                                        "#bd3786"
                                                    ],
                                                    [
                                                        0.5555555555555556,
                                                        "#d8576b"
                                                    ],
                                                    [
                                                        0.6666666666666666,
                                                        "#ed7953"
                                                    ],
                                                    [
                                                        0.7777777777777778,
                                                        "#fb9f3a"
                                                    ],
                                                    [
                                                        0.8888888888888888,
                                                        "#fdca26"
                                                    ],
                                                    [
                                                        1,
                                                        "#f0f921"
                                                    ]
                                                ],
                                                "type": "contour"
                                            }
                                        ],
                                        "contourcarpet": [
                                            {
                                                "colorbar": {
                                                    "outlinewidth": 0,
                                                    "ticks": ""
                                                },
                                                "type": "contourcarpet"
                                            }
                                        ],
                                        "heatmap": [
                                            {
                                                "colorbar": {
                                                    "outlinewidth": 0,
                                                    "ticks": ""
                                                },
                                                "colorscale": [
                                                    [
                                                        0,
                                                        "#0d0887"
                                                    ],
                                                    [
                                                        0.1111111111111111,
                                                        "#46039f"
                                                    ],
                                                    [
                                                        0.2222222222222222,
                                                        "#7201a8"
                                                    ],
                                                    [
                                                        0.3333333333333333,
                                                        "#9c179e"
                                                    ],
                                                    [
                                                        0.4444444444444444,
                                                        "#bd3786"
                                                    ],
                                                    [
                                                        0.5555555555555556,
                                                        "#d8576b"
                                                    ],
                                                    [
                                                        0.6666666666666666,
                                                        "#ed7953"
                                                    ],
                                                    [
                                                        0.7777777777777778,
                                                        "#fb9f3a"
                                                    ],
                                                    [
                                                        0.8888888888888888,
                                                        "#fdca26"
                                                    ],
                                                    [
                                                        1,
                                                        "#f0f921"
                                                    ]
                                                ],
                                                "type": "heatmap"
                                            }
                                        ],
                                        "histogram": [
                                            {
                                                "marker": {
                                                    "pattern": {
                                                        "fillmode": "overlay",
                                                        "size": 10,
                                                        "solidity": 0.2
                                                    }
                                                },
                                                "type": "histogram"
                                            }
                                        ],
                                        "histogram2d": [
                                            {
                                                "colorbar": {
                                                    "outlinewidth": 0,
                                                    "ticks": ""
                                                },
                                                "colorscale": [
                                                    [
                                                        0,
                                                        "#0d0887"
                                                    ],
                                                    [
                                                        0.1111111111111111,
                                                        "#46039f"
                                                    ],
                                                    [
                                                        0.2222222222222222,
                                                        "#7201a8"
                                                    ],
                                                    [
                                                        0.3333333333333333,
                                                        "#9c179e"
                                                    ],
                                                    [
                                                        0.4444444444444444,
                                                        "#bd3786"
                                                    ],
                                                    [
                                                        0.5555555555555556,
                                                        "#d8576b"
                                                    ],
                                                    [
                                                        0.6666666666666666,
                                                        "#ed7953"
                                                    ],
                                                    [
                                                        0.7777777777777778,
                                                        "#fb9f3a"
                                                    ],
                                                    [
                                                        0.8888888888888888,
                                                        "#fdca26"
                                                    ],
                                                    [
                                                        1,
                                                        "#f0f921"
                                                    ]
                                                ],
                                                "type": "histogram2d"
                                            }
                                        ],
                                        "histogram2dcontour": [
                                            {
                                                "colorbar": {
                                                    "outlinewidth": 0,
                                                    "ticks": ""
                                                },
                                                "colorscale": [
                                                    [
                                                        0,
                                                        "#0d0887"
                                                    ],
                                                    [
                                                        0.1111111111111111,
                                                        "#46039f"
                                                    ],
                                                    [
                                                        0.2222222222222222,
                                                        "#7201a8"
                                                    ],
                                                    [
                                                        0.3333333333333333,
                                                        "#9c179e"
                                                    ],
                                                    [
                                                        0.4444444444444444,
                                                        "#bd3786"
                                                    ],
                                                    [
                                                        0.5555555555555556,
                                                        "#d8576b"
                                                    ],
                                                    [
                                                        0.6666666666666666,
                                                        "#ed7953"
                                                    ],
                                                    [
                                                        0.7777777777777778,
                                                        "#fb9f3a"
                                                    ],
                                                    [
                                                        0.8888888888888888,
                                                        "#fdca26"
                                                    ],
                                                    [
                                                        1,
                                                        "#f0f921"
                                                    ]
                                                ],
                                                "type": "histogram2dcontour"
                                            }
                                        ],
                                        "mesh3d": [
                                            {
                                                "colorbar": {
                                                    "outlinewidth": 0,
                                                    "ticks": ""
                                                },
                                                "type": "mesh3d"
                                            }
                                        ],
                                        "parcoords": [
                                            {
                                                "line": {
                                                    "colorbar": {
                                                        "outlinewidth": 0,
                                                        "ticks": ""
                                                    }
                                                },
                                                "type": "parcoords"
                                            }
                                        ],
                                        "pie": [
                                            {
                                                "automargin": true,
                                                "type": "pie"
                                            }
                                        ],
                                        "scatter": [
                                            {
                                                "fillpattern": {
                                                    "fillmode": "overlay",
                                                    "size": 10,
                                                    "solidity": 0.2
                                                },
                                                "type": "scatter"
                                            }
                                        ],
                                        "scatter3d": [
                                            {
                                                "line": {
                                                    "colorbar": {
                                                        "outlinewidth": 0,
                                                        "ticks": ""
                                                    }
                                                },
                                                "marker": {
                                                    "colorbar": {
                                                        "outlinewidth": 0,
                                                        "ticks": ""
                                                    }
                                                },
                                                "type": "scatter3d"
                                            }
                                        ],
                                        "scattercarpet": [
                                            {
                                                "marker": {
                                                    "colorbar": {
                                                        "outlinewidth": 0,
                                                        "ticks": ""
                                                    }
                                                },
                                                "type": "scattercarpet"
                                            }
                                        ],
                                        "scattergeo": [
                                            {
                                                "marker": {
                                                    "colorbar": {
                                                        "outlinewidth": 0,
                                                        "ticks": ""
                                                    }
                                                },
                                                "type": "scattergeo"
                                            }
                                        ],
                                        "scattergl": [
                                            {
                                                "marker": {
                                                    "colorbar": {
                                                        "outlinewidth": 0,
                                                        "ticks": ""
                                                    }
                                                },
                                                "type": "scattergl"
                                            }
                                        ],
                                        "scattermap": [
                                            {
                                                "marker": {
                                                    "colorbar": {
                                                        "outlinewidth": 0,
                                                        "ticks": ""
                                                    }
                                                },
                                                "type": "scattermap"
                                            }
                                        ],
                                        "scattermapbox": [
                                            {
                                                "marker": {
                                                    "colorbar": {
                                                        "outlinewidth": 0,
                                                        "ticks": ""
                                                    }
                                                },
                                                "type": "scattermapbox"
                                            }
                                        ],
                                        "scatterpolar": [
                                            {
                                                "marker": {
                                                    "colorbar": {
                                                        "outlinewidth": 0,
                                                        "ticks": ""
                                                    }
                                                },
                                                "type": "scatterpolar"
                                            }
                                        ],
                                        "scatterpolargl": [
                                            {
                                                "marker": {
                                                    "colorbar": {
                                                        "outlinewidth": 0,
                                                        "ticks": ""
                                                    }
                                                },
                                                "type": "scatterpolargl"
                                            }
                                        ],
                                        "scatterternary": [
                                            {
                                                "marker": {
                                                    "colorbar": {
                                                        "outlinewidth": 0,
                                                        "ticks": ""
                                                    }
                                                },
                                                "type": "scatterternary"
                                            }
                                        ],
                                        "surface": [
                                            {
                                                "colorbar": {
                                                    "outlinewidth": 0,
                                                    "ticks": ""
                                                },
                                                "colorscale": [
                                                    [
                                                        0,
                                                        "#0d0887"
                                                    ],
                                                    [
                                                        0.1111111111111111,
                                                        "#46039f"
                                                    ],
                                                    [
                                                        0.2222222222222222,
                                                        "#7201a8"
                                                    ],
                                                    [
                                                        0.3333333333333333,
                                                        "#9c179e"
                                                    ],
                                                    [
                                                        0.4444444444444444,
                                                        "#bd3786"
                                                    ],
                                                    [
                                                        0.5555555555555556,
                                                        "#d8576b"
                                                    ],
                                                    [
                                                        0.6666666666666666,
                                                        "#ed7953"
                                                    ],
                                                    [
                                                        0.7777777777777778,
                                                        "#fb9f3a"
                                                    ],
                                                    [
                                                        0.8888888888888888,
                                                        "#fdca26"
                                                    ],
                                                    [
                                                        1,
                                                        "#f0f921"
                                                    ]
                                                ],
                                                "type": "surface"
                                            }
                                        ],
                                        "table": [
                                            {
                                                "cells": {
                                                    "fill": {
                                                        "color": "#EBF0F8"
                                                    },
                                                    "line": {
                                                        "color": "white"
                                                    }
                                                },
                                                "header": {
                                                    "fill": {
                                                        "color": "#C8D4E3"
                                                    },
                                                    "line": {
                                                        "color": "white"
                                                    }
                                                },
                                                "type": "table"
                                            }
                                        ]
                                    },
                                    "layout": {
                                        "annotationdefaults": {
                                            "arrowcolor": "#2a3f5f",
                                            "arrowhead": 0,
                                            "arrowwidth": 1
                                        },
                                        "autotypenumbers": "strict",
                                        "coloraxis": {
                                            "colorbar": {
                                                "outlinewidth": 0,
                                                "ticks": ""
                                            }
                                        },
                                        "colorscale": {
                                            "diverging": [
                                                [
                                                    0,
                                                    "#8e0152"
                                                ],
                                                [
                                                    0.1,
                                                    "#c51b7d"
                                                ],
                                                [
                                                    0.2,
                                                    "#de77ae"
                                                ],
                                                [
                                                    0.3,
                                                    "#f1b6da"
                                                ],
                                                [
                                                    0.4,
                                                    "#fde0ef"
                                                ],
                                                [
                                                    0.5,
                                                    "#f7f7f7"
                                                ],
                                                [
                                                    0.6,
                                                    "#e6f5d0"
                                                ],
                                                [
                                                    0.7,
                                                    "#b8e186"
                                                ],
                                                [
                                                    0.8,
                                                    "#7fbc41"
                                                ],
                                                [
                                                    0.9,
                                                    "#4d9221"
                                                ],
                                                [
                                                    1,
                                                    "#276419"
                                                ]
                                            ],
                                            "sequential": [
                                                [
                                                    0,
                                                    "#0d0887"
                                                ],
                                                [
                                                    0.1111111111111111,
                                                    "#46039f"
                                                ],
                                                [
                                                    0.2222222222222222,
                                                    "#7201a8"
                                                ],
                                                [
                                                    0.3333333333333333,
                                                    "#9c179e"
                                                ],
                                                [
                                                    0.4444444444444444,
                                                    "#bd3786"
                                                ],
                                                [
                                                    0.5555555555555556,
                                                    "#d8576b"
                                                ],
                                                [
                                                    0.6666666666666666,
                                                    "#ed7953"
                                                ],
                                                [
                                                    0.7777777777777778,
                                                    "#fb9f3a"
                                                ],
                                                [
                                                    0.8888888888888888,
                                                    "#fdca26"
                                                ],
                                                [
                                                    1,
                                                    "#f0f921"
                                                ]
                                            ],
                                            "sequentialminus": [
                                                [
                                                    0,
                                                    "#0d0887"
                                                ],
                                                [
                                                    0.1111111111111111,
                                                    "#46039f"
                                                ],
                                                [
                                                    0.2222222222222222,
                                                    "#7201a8"
                                                ],
                                                [
                                                    0.3333333333333333,
                                                    "#9c179e"
                                                ],
                                                [
                                                    0.4444444444444444,
                                                    "#bd3786"
                                                ],
                                                [
                                                    0.5555555555555556,
                                                    "#d8576b"
                                                ],
                                                [
                                                    0.6666666666666666,
                                                    "#ed7953"
                                                ],
                                                [
                                                    0.7777777777777778,
                                                    "#fb9f3a"
                                                ],
                                                [
                                                    0.8888888888888888,
                                                    "#fdca26"
                                                ],
                                                [
                                                    1,
                                                    "#f0f921"
                                                ]
                                            ]
                                        },
                                        "colorway": [
                                            "#636efa",
                                            "#EF553B",
                                            "#00cc96",
                                            "#ab63fa",
                                            "#FFA15A",
                                            "#19d3f3",
                                            "#FF6692",
                                            "#B6E880",
                                            "#FF97FF",
                                            "#FECB52"
                                        ],
                                        "font": {
                                            "color": "#2a3f5f"
                                        },
                                        "geo": {
                                            "bgcolor": "white",
                                            "lakecolor": "white",
                                            "landcolor": "white",
                                            "showlakes": true,
                                            "showland": true,
                                            "subunitcolor": "#C8D4E3"
                                        },
                                        "hoverlabel": {
                                            "align": "left"
                                        },
                                        "hovermode": "closest",
                                        "mapbox": {
                                            "style": "light"
                                        },
                                        "paper_bgcolor": "white",
                                        "plot_bgcolor": "white",
                                        "polar": {
                                            "angularaxis": {
                                                "gridcolor": "#EBF0F8",
                                                "linecolor": "#EBF0F8",
                                                "ticks": ""
                                            },
                                            "bgcolor": "white",
                                            "radialaxis": {
                                                "gridcolor": "#EBF0F8",
                                                "linecolor": "#EBF0F8",
                                                "ticks": ""
                                            }
                                        },
                                        "scene": {
                                            "xaxis": {
                                                "backgroundcolor": "white",
                                                "gridcolor": "#DFE8F3",
                                                "gridwidth": 2,
                                                "linecolor": "#EBF0F8",
                                                "showbackground": true,
                                                "ticks": "",
                                                "zerolinecolor": "#EBF0F8"
                                            },
                                            "yaxis": {
                                                "backgroundcolor": "white",
                                                "gridcolor": "#DFE8F3",
                                                "gridwidth": 2,
                                                "linecolor": "#EBF0F8",
                                                "showbackground": true,
                                                "ticks": "",
                                                "zerolinecolor": "#EBF0F8"
                                            },
                                            "zaxis": {
                                                "backgroundcolor": "white",
                                                "gridcolor": "#DFE8F3",
                                                "gridwidth": 2,
                                                "linecolor": "#EBF0F8",
                                                "showbackground": true,
                                                "ticks": "",
                                                "zerolinecolor": "#EBF0F8"
                                            }
                                        },
                                        "shapedefaults": {
                                            "line": {
                                                "color": "#2a3f5f"
                                            }
                                        },
                                        "ternary": {
                                            "aaxis": {
                                                "gridcolor": "#DFE8F3",
                                                "linecolor": "#A2B1C6",
                                                "ticks": ""
                                            },
                                            "baxis": {
                                                "gridcolor": "#DFE8F3",
                                                "linecolor": "#A2B1C6",
                                                "ticks": ""
                                            },
                                            "bgcolor": "white",
                                            "caxis": {
                                                "gridcolor": "#DFE8F3",
                                                "linecolor": "#A2B1C6",
                                                "ticks": ""
                                            }
                                        },
                                        "title": {
                                            "x": 0.05
                                        },
                                        "xaxis": {
                                            "automargin": true,
                                            "gridcolor": "#EBF0F8",
                                            "linecolor": "#EBF0F8",
                                            "ticks": "",
                                            "title": {
                                                "standoff": 15
                                            },
                                            "zerolinecolor": "#EBF0F8",
                                            "zerolinewidth": 2
                                        },
                                        "yaxis": {
                                            "automargin": true,
                                            "gridcolor": "#EBF0F8",
                                            "linecolor": "#EBF0F8",
                                            "ticks": "",
                                            "title": {
                                                "standoff": 15
                                            },
                                            "zerolinecolor": "#EBF0F8",
                                            "zerolinewidth": 2
                                        }
                                    }
                                },
                                "title": {
                                    "font": {
                                        "size": 20
                                    },
                                    "text": "Scatter Matrix of Star Features",
                                    "x": 0.5
                                },
                                "width": 1000,
                                "xaxis": {
                                    "gridcolor": "rgba(128,128,128,0.2)",
                                    "gridwidth": 0.5,
                                    "showgrid": true,
                                    "title": {
                                        "font": {
                                            "size": 14
                                        }
                                    }
                                },
                                "yaxis": {
                                    "gridcolor": "rgba(128,128,128,0.2)",
                                    "gridwidth": 0.5,
                                    "showgrid": true,
                                    "title": {
                                        "font": {
                                            "size": 14
                                        }
                                    }
                                }
                            }
                        }
                    },
                    "metadata": {},
                    "output_type": "display_data"
                }
            ],
            "source": [
                "fig5 = create_scatter_matrix(star_df)\n",
                "\n",
                "fig5.show()"
            ]
        },
        {
            "cell_type": "code",
            "execution_count": 38,
            "metadata": {},
            "outputs": [
                {
                    "data": {
                        "application/vnd.plotly.v1+json": {
                            "config": {
                                "plotlyServerURL": "https://plot.ly"
                            },
                            "data": [
                                {
                                    "hovertemplate": "Star type=Brown Dwarf<br>Temperature (K)=%{x}<br>Absolute magnitude(Mv)=%{y}<extra></extra>",
                                    "legendgroup": "Brown Dwarf",
                                    "marker": {
                                        "color": "rgb(127, 60, 141)",
                                        "opacity": 0.8,
                                        "symbol": "circle"
                                    },
                                    "mode": "markers",
                                    "name": "Brown Dwarf",
                                    "orientation": "v",
                                    "showlegend": true,
                                    "type": "scatter",
                                    "x": {
                                        "bdata": "/AviCygK8AqTBxgLTQooCloKjAoNDWgNpwsTC3cL3wyBCwEL1go3C/sMyw2SDEoMtw2ZDHcLLQsoC6sKDwtiC1sNkgx9DUkLmAucDdoKww0=",
                                        "dtype": "i2"
                                    },
                                    "xaxis": "x",
                                    "y": {
                                        "bdata": "H4XrUbgeMECamZmZmZkwQDMzMzMzszJAZmZmZmamMECPwvUoXA80QHsUrkfh+jBAuB6F61E4MUBmZmZmZmYxQDMzMzMzczFAzczMzMwMMEB7FK5H4TowQHE9Ctej8DBA16NwPQoXMED2KFyPwvUwQKRwPQrX4zJA4XoUrkchMUDXo3A9ClcyQDMzMzMzczBApHA9CtdjMUCuR+F6FG4zQClcj8L1KDFAcT0K16PwM0CF61G4HgU0QOxRuB6F6zBAH4XrUbgeMUDhehSuR6EzQOF6FK5H4TBA9ihcj8K1MECPwvUoXI8zQNejcD0KFzJA9ihcj8I1MECkcD0K12MyQI/C9ShcjzFA16NwPQpXMUAUrkfhehQxQK5H4XoU7jBAMzMzMzNzMUDsUbgehaswQDMzMzMzczNAmpmZmZlZMEA=",
                                        "dtype": "f8"
                                    },
                                    "yaxis": "y"
                                },
                                {
                                    "hovertemplate": "Star type=Red Dwarf<br>Temperature (K)=%{x}<br>Absolute magnitude(Mv)=%{y}<extra></extra>",
                                    "legendgroup": "Red Dwarf",
                                    "marker": {
                                        "color": "rgb(17, 165, 121)",
                                        "opacity": 0.8,
                                        "symbol": "circle"
                                    },
                                    "mode": "markers",
                                    "name": "Red Dwarf",
                                    "orientation": "v",
                                    "showlegend": true,
                                    "type": "scatter",
                                    "x": {
                                        "bdata": "EA45DD4MLA5aCgwN7wpsDngMcQ0RDRcO6AxODN4NbAxKCw4NPQpWDBcMFw4cDK0L1g2rDBMMDg78DNUNhg25DLILjAzDDQ4ORgyoDfwMhw0=",
                                        "dtype": "i2"
                                    },
                                    "xaxis": "x",
                                    "y": {
                                        "bdata": "4XoUrkdhJUAUrkfhepQnQOxRuB6FaypA9ihcj8L1JECq8dJNYpAnQKRwPQrXIypAFK5H4XqULUCamZmZmZklQI/C9ShcDytAXI/C9ShcJkCamZmZmZkoQD0K16NwPSRAZmZmZmZmKkDhehSuR+EnQEjhehSuxyVAhetRuB6FJ0DsUbgehesqQD0K16NwvSdAH4XrUbieKUD2KFyPwvUrQD0K16NwvSVArkfhehSuJEDXo3A9ClcmQD0K16NwPSpA9ihcj8J1LEAAAAAAAIAtQFyPwvUo3CZAhetRuB6FLED2KFyPwnUoQClcj8L1qCxAcT0K16PwJkD2KFyPwnUlQGZmZmZm5ipAaJHtfD+1KUBcj8L1KNwoQC/dJAaBVStAPQrXo3A9LEDhehSuR+EtQI/C9ShcjylAWmQ730+NLUA=",
                                        "dtype": "f8"
                                    },
                                    "yaxis": "y"
                                },
                                {
                                    "hovertemplate": "Star type=White Dwarf<br>Temperature (K)=%{x}<br>Absolute magnitude(Mv)=%{y}<extra></extra>",
                                    "legendgroup": "White Dwarf",
                                    "marker": {
                                        "color": "rgb(57, 105, 172)",
                                        "opacity": 0.8,
                                        "symbol": "circle"
                                    },
                                    "mode": "markers",
                                    "name": "White Dwarf",
                                    "orientation": "v",
                                    "showlegend": true,
                                    "type": "scatter",
                                    "x": {
                                        "bdata": "qGE8HjQcNCF0QL4yeiEUHg4uPhy8G04p4iIwQxQ3yyXqLuQqmDWUTWw0HFJyR7g4fC7cInAyjDkrHrgylkFAPYY6HDSkR9BN1F00WgBGoEs=",
                                        "dtype": "i2"
                                    },
                                    "xaxis": "x",
                                    "y": {
                                        "bdata": "KVyPwvUoJUAK16NwPQosQPYoXI/CdSxAAAAAAAAALUBI4XoUrscnQPYoXI/CdShAZmZmZmZmLEBxPQrXo/AsQK5H4XoULilAKVyPwvUoLECuR+F6FC4sQArXo3A9CihAj8L1KFyPK0BmZmZmZuYoQNejcD0KVyhA9ihcj8L1K0DD9Shcj0IoQOF6FK5HYSZAcT0K16PwKUCuR+F6FK4mQNejcD0KVytACtejcD0KJ0CPwvUoXI8pQNejcD0K1ydAw/UoXI/CJkA9CtejcL0tQClcj8L1qClASOF6FK7HKUAfhetRuJ4tQPYoXI/CdSZAPQrXo3C9KUDXo3A9CtcnQPYoXI/CdShAzczMzMzMKUBxPQrXo3AmQK5H4XoUriZAmpmZmZkZJUBcj8L1KFwkQFK4HoXrUSdAPQrXo3A9J0A=",
                                        "dtype": "f8"
                                    },
                                    "yaxis": "y"
                                },
                                {
                                    "hovertemplate": "Star type=Main Sequence<br>Temperature (K)=%{x}<br>Absolute magnitude(Mv)=%{y}<extra></extra>",
                                    "legendgroup": "Main Sequence",
                                    "marker": {
                                        "color": "rgb(242, 183, 1)",
                                        "opacity": 0.8,
                                        "symbol": "circle"
                                    },
                                    "mode": "markers",
                                    "name": "Main Sequence",
                                    "orientation": "v",
                                    "showlegend": true,
                                    "type": "scatter",
                                    "x": {
                                        "bdata": "WJgAADB1AACsOwAA5CUAAKgWAAB0HwAAZRoAAOwYAAAwFwAA0xUAALQUAACuEQAA7Q8AAHQTAABGIwAA8isAAPgTAAAoHgAAQi8AAAyNAAB4cwAA8SIAAOw2AAAGQAAA7mEAABxwAAAcZgAAmE4AAN8yAACokwAATlcAABwnAAAhMwAA/FUAAI6FAADMfgAAaCQAAMhLAAD0QgAAOiAAAA==",
                                        "dtype": "i4"
                                    },
                                    "xaxis": "x",
                                    "y": {
                                        "bdata": "zczMzMzMEsDNzMzMzMwQwIXrUbgehf+/exSuR+F6xD8zMzMzMzMUQFyPwvUoXANASOF6FK5HA0BxPQrXo3AHQNejcD0K1xFAH4XrUbgeFED2KFyPwvUVQKAaL90kBhpAtvP91HjpGEAfhetRuB4TQDMzMzMzM/c/ZmZmZmZmAsC4HoXrUbgSQIXrUbgehQNAexSuR+F6lD+amZmZmZkRwArXo3A9ChDAuB6F61G4vj9SuB6F61EAwI/C9ShcjwrA16NwPQrXD8Bcj8L1KFwQwGZmZmZmZg7AMzMzMzMzC8AUrkfhehT2vz0K16NwPRLAXI/C9ShcDcA5tMh2vp+KP7gehetRuL6/ZmZmZmZmBMBI4XoUrkcSwHE9CtejcBHALbKd76fG8z+kcD0K16MIwB+F61G4HgXAXI/C9Shc778=",
                                        "dtype": "f8"
                                    },
                                    "yaxis": "y"
                                },
                                {
                                    "hovertemplate": "Star type=Supergiants<br>Temperature (K)=%{x}<br>Absolute magnitude(Mv)=%{y}<extra></extra>",
                                    "legendgroup": "Supergiants",
                                    "marker": {
                                        "color": "rgb(231, 63, 116)",
                                        "opacity": 0.8,
                                        "symbol": "circle"
                                    },
                                    "mode": "markers",
                                    "name": "Supergiants",
                                    "orientation": "v",
                                    "showlegend": true,
                                    "type": "scatter",
                                    "x": {
                                        "bdata": "8g4AACUNAADGDAAAgAwAAMALAAAQDgAA9w0AAPYNAAApDgAA1oMAABSCAABAnAAA2FkAAOBCAABYKwAApTcAADZgAABdMgAAGV8AAI2CAAAuYwAALy0AAIMxAAB4FgAA3yIAAHIcAADTTQAABWcAAOdDAACdJAAAflwAAM0xAACnJAAAkFsAAJNBAAAuSQAApCYAALIqAAA3WgAA6lQAAA==",
                                        "dtype": "i4"
                                    },
                                    "xaxis": "x",
                                    "y": {
                                        "bdata": "uB6F61G4G8DNzMzMzMwYwBSuR+F6FBjA4XoUrkfhHMAAAAAAAAAYwGZmZmZmZhrAH4XrUbgeG8D2KFyPwvUUwPYoXI/C9RrAZmZmZmZmGMAAAAAAAAAawOxRuB6F6xjACtejcD0KF8CPwvUoXI8bwKRwPQrXoxfAexSuR+F6GMBSuB6F61EXwFyPwvUoXBnA9ihcj8L1GMApXI/C9SgXwK5H4XoUrhfAexSuR+H6GMB7FK5H4XoWwIXrUbgehRrAXI/C9ShcHcDhehSuR+EcwMP1KFyPwhbAUrgehetRF8Bcj8L1KFwYwPYoXI/C9RfAFK5H4XoUGcAUrkfhehQcwOxRuB6F6xvAZmZmZmbmF8BmZmZmZmYZwM3MzMzMzB3APzVeukkMHcBMN4lBYOUYwB+F61G4nhfA/Knx0k1iHcA=",
                                        "dtype": "f8"
                                    },
                                    "yaxis": "y"
                                },
                                {
                                    "hovertemplate": "Star type=Hypergiants<br>Temperature (K)=%{x}<br>Absolute magnitude(Mv)=%{y}<extra></extra>",
                                    "legendgroup": "Hypergiants",
                                    "marker": {
                                        "color": "rgb(128, 186, 90)",
                                        "opacity": 0.8,
                                        "symbol": "circle"
                                    },
                                    "mode": "markers",
                                    "name": "Hypergiants",
                                    "orientation": "v",
                                    "showlegend": true,
                                    "type": "scatter",
                                    "x": {
                                        "bdata": "og0AAKYOAAD6DgAApQ4AAEIOAAB6DQAATA4AAHoNAACoDgAAzw0AAIMNAAAVDgAAHw4AAEcNAAAaDgAA4Q0AAK8PAAApDgAAwhoAAMQOAADyDQAArA0AAL8QAACQZQAAEA4AAB4OAABQRgAA+CoAAEQvAACqXwAAUV4AAFqVAADpfgAAW2wAAJBVAAAcmAAAd3gAAH0iAAATJAAA+pMAAA==",
                                        "dtype": "i4"
                                    },
                                    "xaxis": "x",
                                    "y": {
                                        "bdata": "zczMzMzMIsCF61G4HoUewGZmZmZmZiLAmpmZmZkZIMApXI/C9SgfwAAAAAAAgCfA16NwPQrXJ8CPwvUoXI8mwHsUrkfheibAuB6F61G4JsBmZmZmZmYlwB+F61G4niXAKVyPwvWoJsDXo3A9CtclwLgehetRuCXAj8L1KFwPJsBI4XoUrscmwAAAAAAAgCTApHA9CtcjJMBmZmZmZmYlwFK4HoXrUR7AXI/C9ShcIMBmZmZmZmYiwDMzMzMzMyLAj8L1KFyPH8DXo3A9CtcewJqZmZmZmSDAzczMzMzMI8Bcj8L1KFwfwHsUrkfheiDArkfhehSuIcAUrkfhepQiwK5H4XoUriXAXI/C9ShcHsCuR+F6FK4ewFyPwvUo3CPAw/UoXI9CJcD2KFyPwnUlwPYoXI/CdSbAMzMzMzMzH8A=",
                                        "dtype": "f8"
                                    },
                                    "yaxis": "y"
                                },
                                {
                                    "marker": {
                                        "color": "gold",
                                        "line": {
                                            "color": "orange",
                                            "width": 2
                                        },
                                        "size": 12,
                                        "symbol": "star"
                                    },
                                    "mode": "markers+text",
                                    "name": "Sun",
                                    "text": [
                                        "Sun"
                                    ],
                                    "textposition": "top center",
                                    "type": "scatter",
                                    "x": [
                                        5778
                                    ],
                                    "y": [
                                        4.83
                                    ]
                                },
                                {
                                    "line": {
                                        "color": "rgba(255, 255, 255, 0.3)",
                                        "dash": "dot",
                                        "width": 1
                                    },
                                    "mode": "lines",
                                    "name": "Main Sequence Trend",
                                    "showlegend": false,
                                    "type": "scatter",
                                    "x": [
                                        3000,
                                        30000
                                    ],
                                    "y": [
                                        10,
                                        -5
                                    ]
                                }
                            ],
                            "layout": {
                                "annotations": [
                                    {
                                        "font": {
                                            "color": "lightblue",
                                            "size": 14
                                        },
                                        "showarrow": false,
                                        "text": "Hot Blue Stars",
                                        "x": 30000,
                                        "y": 0
                                    },
                                    {
                                        "font": {
                                            "color": "lightcoral",
                                            "size": 14
                                        },
                                        "showarrow": false,
                                        "text": "Red Giants",
                                        "x": 6000,
                                        "y": 15
                                    },
                                    {
                                        "font": {
                                            "color": "white",
                                            "size": 14
                                        },
                                        "showarrow": false,
                                        "text": "Main Sequence",
                                        "x": 6000,
                                        "y": 0
                                    }
                                ],
                                "height": 700,
                                "legend": {
                                    "bordercolor": "rgba(255, 255, 255, 0.3)",
                                    "borderwidth": 1,
                                    "font": {
                                        "size": 12
                                    },
                                    "title": {
                                        "text": "Star Type"
                                    },
                                    "tracegroupgap": 0
                                },
                                "margin": {
                                    "b": 80,
                                    "l": 80,
                                    "r": 80,
                                    "t": 100
                                },
                                "paper_bgcolor": "rgba(10, 10, 30, 1)",
                                "plot_bgcolor": "rgba(15, 15, 35, 1)",
                                "template": {
                                    "data": {
                                        "bar": [
                                            {
                                                "error_x": {
                                                    "color": "#f2f5fa"
                                                },
                                                "error_y": {
                                                    "color": "#f2f5fa"
                                                },
                                                "marker": {
                                                    "line": {
                                                        "color": "rgb(17,17,17)",
                                                        "width": 0.5
                                                    },
                                                    "pattern": {
                                                        "fillmode": "overlay",
                                                        "size": 10,
                                                        "solidity": 0.2
                                                    }
                                                },
                                                "type": "bar"
                                            }
                                        ],
                                        "barpolar": [
                                            {
                                                "marker": {
                                                    "line": {
                                                        "color": "rgb(17,17,17)",
                                                        "width": 0.5
                                                    },
                                                    "pattern": {
                                                        "fillmode": "overlay",
                                                        "size": 10,
                                                        "solidity": 0.2
                                                    }
                                                },
                                                "type": "barpolar"
                                            }
                                        ],
                                        "carpet": [
                                            {
                                                "aaxis": {
                                                    "endlinecolor": "#A2B1C6",
                                                    "gridcolor": "#506784",
                                                    "linecolor": "#506784",
                                                    "minorgridcolor": "#506784",
                                                    "startlinecolor": "#A2B1C6"
                                                },
                                                "baxis": {
                                                    "endlinecolor": "#A2B1C6",
                                                    "gridcolor": "#506784",
                                                    "linecolor": "#506784",
                                                    "minorgridcolor": "#506784",
                                                    "startlinecolor": "#A2B1C6"
                                                },
                                                "type": "carpet"
                                            }
                                        ],
                                        "choropleth": [
                                            {
                                                "colorbar": {
                                                    "outlinewidth": 0,
                                                    "ticks": ""
                                                },
                                                "type": "choropleth"
                                            }
                                        ],
                                        "contour": [
                                            {
                                                "colorbar": {
                                                    "outlinewidth": 0,
                                                    "ticks": ""
                                                },
                                                "colorscale": [
                                                    [
                                                        0,
                                                        "#0d0887"
                                                    ],
                                                    [
                                                        0.1111111111111111,
                                                        "#46039f"
                                                    ],
                                                    [
                                                        0.2222222222222222,
                                                        "#7201a8"
                                                    ],
                                                    [
                                                        0.3333333333333333,
                                                        "#9c179e"
                                                    ],
                                                    [
                                                        0.4444444444444444,
                                                        "#bd3786"
                                                    ],
                                                    [
                                                        0.5555555555555556,
                                                        "#d8576b"
                                                    ],
                                                    [
                                                        0.6666666666666666,
                                                        "#ed7953"
                                                    ],
                                                    [
                                                        0.7777777777777778,
                                                        "#fb9f3a"
                                                    ],
                                                    [
                                                        0.8888888888888888,
                                                        "#fdca26"
                                                    ],
                                                    [
                                                        1,
                                                        "#f0f921"
                                                    ]
                                                ],
                                                "type": "contour"
                                            }
                                        ],
                                        "contourcarpet": [
                                            {
                                                "colorbar": {
                                                    "outlinewidth": 0,
                                                    "ticks": ""
                                                },
                                                "type": "contourcarpet"
                                            }
                                        ],
                                        "heatmap": [
                                            {
                                                "colorbar": {
                                                    "outlinewidth": 0,
                                                    "ticks": ""
                                                },
                                                "colorscale": [
                                                    [
                                                        0,
                                                        "#0d0887"
                                                    ],
                                                    [
                                                        0.1111111111111111,
                                                        "#46039f"
                                                    ],
                                                    [
                                                        0.2222222222222222,
                                                        "#7201a8"
                                                    ],
                                                    [
                                                        0.3333333333333333,
                                                        "#9c179e"
                                                    ],
                                                    [
                                                        0.4444444444444444,
                                                        "#bd3786"
                                                    ],
                                                    [
                                                        0.5555555555555556,
                                                        "#d8576b"
                                                    ],
                                                    [
                                                        0.6666666666666666,
                                                        "#ed7953"
                                                    ],
                                                    [
                                                        0.7777777777777778,
                                                        "#fb9f3a"
                                                    ],
                                                    [
                                                        0.8888888888888888,
                                                        "#fdca26"
                                                    ],
                                                    [
                                                        1,
                                                        "#f0f921"
                                                    ]
                                                ],
                                                "type": "heatmap"
                                            }
                                        ],
                                        "histogram": [
                                            {
                                                "marker": {
                                                    "pattern": {
                                                        "fillmode": "overlay",
                                                        "size": 10,
                                                        "solidity": 0.2
                                                    }
                                                },
                                                "type": "histogram"
                                            }
                                        ],
                                        "histogram2d": [
                                            {
                                                "colorbar": {
                                                    "outlinewidth": 0,
                                                    "ticks": ""
                                                },
                                                "colorscale": [
                                                    [
                                                        0,
                                                        "#0d0887"
                                                    ],
                                                    [
                                                        0.1111111111111111,
                                                        "#46039f"
                                                    ],
                                                    [
                                                        0.2222222222222222,
                                                        "#7201a8"
                                                    ],
                                                    [
                                                        0.3333333333333333,
                                                        "#9c179e"
                                                    ],
                                                    [
                                                        0.4444444444444444,
                                                        "#bd3786"
                                                    ],
                                                    [
                                                        0.5555555555555556,
                                                        "#d8576b"
                                                    ],
                                                    [
                                                        0.6666666666666666,
                                                        "#ed7953"
                                                    ],
                                                    [
                                                        0.7777777777777778,
                                                        "#fb9f3a"
                                                    ],
                                                    [
                                                        0.8888888888888888,
                                                        "#fdca26"
                                                    ],
                                                    [
                                                        1,
                                                        "#f0f921"
                                                    ]
                                                ],
                                                "type": "histogram2d"
                                            }
                                        ],
                                        "histogram2dcontour": [
                                            {
                                                "colorbar": {
                                                    "outlinewidth": 0,
                                                    "ticks": ""
                                                },
                                                "colorscale": [
                                                    [
                                                        0,
                                                        "#0d0887"
                                                    ],
                                                    [
                                                        0.1111111111111111,
                                                        "#46039f"
                                                    ],
                                                    [
                                                        0.2222222222222222,
                                                        "#7201a8"
                                                    ],
                                                    [
                                                        0.3333333333333333,
                                                        "#9c179e"
                                                    ],
                                                    [
                                                        0.4444444444444444,
                                                        "#bd3786"
                                                    ],
                                                    [
                                                        0.5555555555555556,
                                                        "#d8576b"
                                                    ],
                                                    [
                                                        0.6666666666666666,
                                                        "#ed7953"
                                                    ],
                                                    [
                                                        0.7777777777777778,
                                                        "#fb9f3a"
                                                    ],
                                                    [
                                                        0.8888888888888888,
                                                        "#fdca26"
                                                    ],
                                                    [
                                                        1,
                                                        "#f0f921"
                                                    ]
                                                ],
                                                "type": "histogram2dcontour"
                                            }
                                        ],
                                        "mesh3d": [
                                            {
                                                "colorbar": {
                                                    "outlinewidth": 0,
                                                    "ticks": ""
                                                },
                                                "type": "mesh3d"
                                            }
                                        ],
                                        "parcoords": [
                                            {
                                                "line": {
                                                    "colorbar": {
                                                        "outlinewidth": 0,
                                                        "ticks": ""
                                                    }
                                                },
                                                "type": "parcoords"
                                            }
                                        ],
                                        "pie": [
                                            {
                                                "automargin": true,
                                                "type": "pie"
                                            }
                                        ],
                                        "scatter": [
                                            {
                                                "marker": {
                                                    "line": {
                                                        "color": "#283442"
                                                    }
                                                },
                                                "type": "scatter"
                                            }
                                        ],
                                        "scatter3d": [
                                            {
                                                "line": {
                                                    "colorbar": {
                                                        "outlinewidth": 0,
                                                        "ticks": ""
                                                    }
                                                },
                                                "marker": {
                                                    "colorbar": {
                                                        "outlinewidth": 0,
                                                        "ticks": ""
                                                    }
                                                },
                                                "type": "scatter3d"
                                            }
                                        ],
                                        "scattercarpet": [
                                            {
                                                "marker": {
                                                    "colorbar": {
                                                        "outlinewidth": 0,
                                                        "ticks": ""
                                                    }
                                                },
                                                "type": "scattercarpet"
                                            }
                                        ],
                                        "scattergeo": [
                                            {
                                                "marker": {
                                                    "colorbar": {
                                                        "outlinewidth": 0,
                                                        "ticks": ""
                                                    }
                                                },
                                                "type": "scattergeo"
                                            }
                                        ],
                                        "scattergl": [
                                            {
                                                "marker": {
                                                    "line": {
                                                        "color": "#283442"
                                                    }
                                                },
                                                "type": "scattergl"
                                            }
                                        ],
                                        "scattermap": [
                                            {
                                                "marker": {
                                                    "colorbar": {
                                                        "outlinewidth": 0,
                                                        "ticks": ""
                                                    }
                                                },
                                                "type": "scattermap"
                                            }
                                        ],
                                        "scattermapbox": [
                                            {
                                                "marker": {
                                                    "colorbar": {
                                                        "outlinewidth": 0,
                                                        "ticks": ""
                                                    }
                                                },
                                                "type": "scattermapbox"
                                            }
                                        ],
                                        "scatterpolar": [
                                            {
                                                "marker": {
                                                    "colorbar": {
                                                        "outlinewidth": 0,
                                                        "ticks": ""
                                                    }
                                                },
                                                "type": "scatterpolar"
                                            }
                                        ],
                                        "scatterpolargl": [
                                            {
                                                "marker": {
                                                    "colorbar": {
                                                        "outlinewidth": 0,
                                                        "ticks": ""
                                                    }
                                                },
                                                "type": "scatterpolargl"
                                            }
                                        ],
                                        "scatterternary": [
                                            {
                                                "marker": {
                                                    "colorbar": {
                                                        "outlinewidth": 0,
                                                        "ticks": ""
                                                    }
                                                },
                                                "type": "scatterternary"
                                            }
                                        ],
                                        "surface": [
                                            {
                                                "colorbar": {
                                                    "outlinewidth": 0,
                                                    "ticks": ""
                                                },
                                                "colorscale": [
                                                    [
                                                        0,
                                                        "#0d0887"
                                                    ],
                                                    [
                                                        0.1111111111111111,
                                                        "#46039f"
                                                    ],
                                                    [
                                                        0.2222222222222222,
                                                        "#7201a8"
                                                    ],
                                                    [
                                                        0.3333333333333333,
                                                        "#9c179e"
                                                    ],
                                                    [
                                                        0.4444444444444444,
                                                        "#bd3786"
                                                    ],
                                                    [
                                                        0.5555555555555556,
                                                        "#d8576b"
                                                    ],
                                                    [
                                                        0.6666666666666666,
                                                        "#ed7953"
                                                    ],
                                                    [
                                                        0.7777777777777778,
                                                        "#fb9f3a"
                                                    ],
                                                    [
                                                        0.8888888888888888,
                                                        "#fdca26"
                                                    ],
                                                    [
                                                        1,
                                                        "#f0f921"
                                                    ]
                                                ],
                                                "type": "surface"
                                            }
                                        ],
                                        "table": [
                                            {
                                                "cells": {
                                                    "fill": {
                                                        "color": "#506784"
                                                    },
                                                    "line": {
                                                        "color": "rgb(17,17,17)"
                                                    }
                                                },
                                                "header": {
                                                    "fill": {
                                                        "color": "#2a3f5f"
                                                    },
                                                    "line": {
                                                        "color": "rgb(17,17,17)"
                                                    }
                                                },
                                                "type": "table"
                                            }
                                        ]
                                    },
                                    "layout": {
                                        "annotationdefaults": {
                                            "arrowcolor": "#f2f5fa",
                                            "arrowhead": 0,
                                            "arrowwidth": 1
                                        },
                                        "autotypenumbers": "strict",
                                        "coloraxis": {
                                            "colorbar": {
                                                "outlinewidth": 0,
                                                "ticks": ""
                                            }
                                        },
                                        "colorscale": {
                                            "diverging": [
                                                [
                                                    0,
                                                    "#8e0152"
                                                ],
                                                [
                                                    0.1,
                                                    "#c51b7d"
                                                ],
                                                [
                                                    0.2,
                                                    "#de77ae"
                                                ],
                                                [
                                                    0.3,
                                                    "#f1b6da"
                                                ],
                                                [
                                                    0.4,
                                                    "#fde0ef"
                                                ],
                                                [
                                                    0.5,
                                                    "#f7f7f7"
                                                ],
                                                [
                                                    0.6,
                                                    "#e6f5d0"
                                                ],
                                                [
                                                    0.7,
                                                    "#b8e186"
                                                ],
                                                [
                                                    0.8,
                                                    "#7fbc41"
                                                ],
                                                [
                                                    0.9,
                                                    "#4d9221"
                                                ],
                                                [
                                                    1,
                                                    "#276419"
                                                ]
                                            ],
                                            "sequential": [
                                                [
                                                    0,
                                                    "#0d0887"
                                                ],
                                                [
                                                    0.1111111111111111,
                                                    "#46039f"
                                                ],
                                                [
                                                    0.2222222222222222,
                                                    "#7201a8"
                                                ],
                                                [
                                                    0.3333333333333333,
                                                    "#9c179e"
                                                ],
                                                [
                                                    0.4444444444444444,
                                                    "#bd3786"
                                                ],
                                                [
                                                    0.5555555555555556,
                                                    "#d8576b"
                                                ],
                                                [
                                                    0.6666666666666666,
                                                    "#ed7953"
                                                ],
                                                [
                                                    0.7777777777777778,
                                                    "#fb9f3a"
                                                ],
                                                [
                                                    0.8888888888888888,
                                                    "#fdca26"
                                                ],
                                                [
                                                    1,
                                                    "#f0f921"
                                                ]
                                            ],
                                            "sequentialminus": [
                                                [
                                                    0,
                                                    "#0d0887"
                                                ],
                                                [
                                                    0.1111111111111111,
                                                    "#46039f"
                                                ],
                                                [
                                                    0.2222222222222222,
                                                    "#7201a8"
                                                ],
                                                [
                                                    0.3333333333333333,
                                                    "#9c179e"
                                                ],
                                                [
                                                    0.4444444444444444,
                                                    "#bd3786"
                                                ],
                                                [
                                                    0.5555555555555556,
                                                    "#d8576b"
                                                ],
                                                [
                                                    0.6666666666666666,
                                                    "#ed7953"
                                                ],
                                                [
                                                    0.7777777777777778,
                                                    "#fb9f3a"
                                                ],
                                                [
                                                    0.8888888888888888,
                                                    "#fdca26"
                                                ],
                                                [
                                                    1,
                                                    "#f0f921"
                                                ]
                                            ]
                                        },
                                        "colorway": [
                                            "#636efa",
                                            "#EF553B",
                                            "#00cc96",
                                            "#ab63fa",
                                            "#FFA15A",
                                            "#19d3f3",
                                            "#FF6692",
                                            "#B6E880",
                                            "#FF97FF",
                                            "#FECB52"
                                        ],
                                        "font": {
                                            "color": "#f2f5fa"
                                        },
                                        "geo": {
                                            "bgcolor": "rgb(17,17,17)",
                                            "lakecolor": "rgb(17,17,17)",
                                            "landcolor": "rgb(17,17,17)",
                                            "showlakes": true,
                                            "showland": true,
                                            "subunitcolor": "#506784"
                                        },
                                        "hoverlabel": {
                                            "align": "left"
                                        },
                                        "hovermode": "closest",
                                        "mapbox": {
                                            "style": "dark"
                                        },
                                        "paper_bgcolor": "rgb(17,17,17)",
                                        "plot_bgcolor": "rgb(17,17,17)",
                                        "polar": {
                                            "angularaxis": {
                                                "gridcolor": "#506784",
                                                "linecolor": "#506784",
                                                "ticks": ""
                                            },
                                            "bgcolor": "rgb(17,17,17)",
                                            "radialaxis": {
                                                "gridcolor": "#506784",
                                                "linecolor": "#506784",
                                                "ticks": ""
                                            }
                                        },
                                        "scene": {
                                            "xaxis": {
                                                "backgroundcolor": "rgb(17,17,17)",
                                                "gridcolor": "#506784",
                                                "gridwidth": 2,
                                                "linecolor": "#506784",
                                                "showbackground": true,
                                                "ticks": "",
                                                "zerolinecolor": "#C8D4E3"
                                            },
                                            "yaxis": {
                                                "backgroundcolor": "rgb(17,17,17)",
                                                "gridcolor": "#506784",
                                                "gridwidth": 2,
                                                "linecolor": "#506784",
                                                "showbackground": true,
                                                "ticks": "",
                                                "zerolinecolor": "#C8D4E3"
                                            },
                                            "zaxis": {
                                                "backgroundcolor": "rgb(17,17,17)",
                                                "gridcolor": "#506784",
                                                "gridwidth": 2,
                                                "linecolor": "#506784",
                                                "showbackground": true,
                                                "ticks": "",
                                                "zerolinecolor": "#C8D4E3"
                                            }
                                        },
                                        "shapedefaults": {
                                            "line": {
                                                "color": "#f2f5fa"
                                            }
                                        },
                                        "sliderdefaults": {
                                            "bgcolor": "#C8D4E3",
                                            "bordercolor": "rgb(17,17,17)",
                                            "borderwidth": 1,
                                            "tickwidth": 0
                                        },
                                        "ternary": {
                                            "aaxis": {
                                                "gridcolor": "#506784",
                                                "linecolor": "#506784",
                                                "ticks": ""
                                            },
                                            "baxis": {
                                                "gridcolor": "#506784",
                                                "linecolor": "#506784",
                                                "ticks": ""
                                            },
                                            "bgcolor": "rgb(17,17,17)",
                                            "caxis": {
                                                "gridcolor": "#506784",
                                                "linecolor": "#506784",
                                                "ticks": ""
                                            }
                                        },
                                        "title": {
                                            "x": 0.05
                                        },
                                        "updatemenudefaults": {
                                            "bgcolor": "#506784",
                                            "borderwidth": 0
                                        },
                                        "xaxis": {
                                            "automargin": true,
                                            "gridcolor": "#283442",
                                            "linecolor": "#506784",
                                            "ticks": "",
                                            "title": {
                                                "standoff": 15
                                            },
                                            "zerolinecolor": "#283442",
                                            "zerolinewidth": 2
                                        },
                                        "yaxis": {
                                            "automargin": true,
                                            "gridcolor": "#283442",
                                            "linecolor": "#506784",
                                            "ticks": "",
                                            "title": {
                                                "standoff": 15
                                            },
                                            "zerolinecolor": "#283442",
                                            "zerolinewidth": 2
                                        }
                                    }
                                },
                                "title": {
                                    "font": {
                                        "family": "Arial, sans-serif",
                                        "size": 24
                                    },
                                    "text": "Hertzsprung-Russell Diagram",
                                    "x": 0.5
                                },
                                "width": 900,
                                "xaxis": {
                                    "anchor": "y",
                                    "autorange": "reversed",
                                    "domain": [
                                        0,
                                        1
                                    ],
                                    "gridcolor": "rgba(128, 128, 128, 0.2)",
                                    "minor": {
                                        "showgrid": true
                                    },
                                    "title": {
                                        "font": {
                                            "size": 18
                                        },
                                        "text": "Temperature (K)"
                                    }
                                },
                                "yaxis": {
                                    "anchor": "x",
                                    "autorange": "reversed",
                                    "domain": [
                                        0,
                                        1
                                    ],
                                    "gridcolor": "rgba(128, 128, 128, 0.2)",
                                    "minor": {
                                        "showgrid": true
                                    },
                                    "title": {
                                        "font": {
                                            "size": 18
                                        },
                                        "text": "Absolute Magnitude (Mv)"
                                    }
                                }
                            }
                        }
                    },
                    "metadata": {},
                    "output_type": "display_data"
                }
            ],
            "source": [
                "fig6 = create_hr_diagram(star_df)\n",
                "\n",
                "fig6.show()"
            ]
        },
        {
            "cell_type": "code",
            "execution_count": 41,
            "metadata": {},
            "outputs": [],
            "source": [
                "def create_hr_diagram_improved(star_df):\n",
                "    # Create base scatter plot\n",
                "    fig = px.scatter(\n",
                "        star_df, \n",
                "        x='Temperature (K)', \n",
                "        y='Absolute magnitude(Mv)', \n",
                "        color='Star type',\n",
                "        title='Hertzsprung-Russell Diagram',\n",
                "        opacity=0.8,\n",
                "        color_discrete_sequence=px.colors.qualitative.Vivid\n",
                "    )\n",
                "    \n",
                "    # Add the Sun with improved marker\n",
                "    fig.add_trace(go.Scatter(\n",
                "        x=[5778], \n",
                "        y=[4.83], \n",
                "        mode='markers+text',\n",
                "        name='Sun',\n",
                "        text=['Sun'],\n",
                "        textposition='top center',\n",
                "        marker=dict(\n",
                "            size=12,\n",
                "            color='gold',\n",
                "            line=dict(width=2, color='orange'),\n",
                "            symbol='star'\n",
                "        )\n",
                "    ))\n",
                "    \n",
                "    # Add famous stars with their properties\n",
                "    famous_stars = {\n",
                "        'Sirius': {'temp': 9940, 'mag': 1.42, 'color': 'rgb(170, 170, 255)'},\n",
                "        'Betelgeuse': {'temp': 3600, 'mag': -5.85, 'color': 'rgb(255, 100, 50)'},\n",
                "        'Vega': {'temp': 9602, 'mag': 0.58, 'color': 'rgb(200, 200, 255)'},\n",
                "        'Proxima Centauri': {'temp': 3042, 'mag': 15.6, 'color': 'rgb(255, 120, 100)'},\n",
                "    }\n",
                "    \n",
                "    for star, props in famous_stars.items():\n",
                "        fig.add_trace(go.Scatter(\n",
                "            x=[props['temp']], \n",
                "            y=[props['mag']], \n",
                "            mode='markers+text',\n",
                "            name=star,\n",
                "            text=[star],\n",
                "            textposition='top right',\n",
                "            marker=dict(\n",
                "                size=10,\n",
                "                color=props['color'],\n",
                "                symbol='star'\n",
                "            )\n",
                "        ))\n",
                "    \n",
                "    # Improve layout\n",
                "    fig.update_layout(\n",
                "        template='plotly_dark',\n",
                "        title={\n",
                "            'text': 'Interactive Hertzsprung-Russell Diagram',\n",
                "            'font': {'size': 24}\n",
                "        },\n",
                "        title_x=0.5,\n",
                "        xaxis=dict(\n",
                "            title='Temperature (K)',\n",
                "            autorange='reversed',\n",
                "            gridcolor='rgba(128, 128, 128, 0.2)'\n",
                "        ),\n",
                "        yaxis=dict(\n",
                "            title='Absolute Magnitude (Mv)',\n",
                "            autorange='reversed',\n",
                "            gridcolor='rgba(128, 128, 128, 0.2)'\n",
                "        ),\n",
                "        legend=dict(\n",
                "            title='Star Type',\n",
                "            bordercolor='rgba(255, 255, 255, 0.3)',\n",
                "            borderwidth=1\n",
                "        ),\n",
                "        plot_bgcolor='rgb(10, 10, 35)',\n",
                "        paper_bgcolor='rgb(5, 5, 25)',\n",
                "        height=700,\n",
                "        width=900\n",
                "    )\n",
                "    \n",
                "    # Add main sequence line (simplified)\n",
                "    main_sequence_temps = [30000, 20000, 10000, 7500, 6000, 5000, 3500]\n",
                "    main_sequence_mags = [-5, -2.5, 0, 2, 4, 6, 9]\n",
                "    \n",
                "    fig.add_trace(go.Scatter(\n",
                "        x=main_sequence_temps,\n",
                "        y=main_sequence_mags,\n",
                "        mode='lines',\n",
                "        line=dict(dash='solid', width=2, color='white'),\n",
                "        name='Main Sequence'\n",
                "    ))\n",
                "    \n",
                "    # Add simple annotations for star types\n",
                "    annotations = [\n",
                "        dict(x=25000, y=-3, text=\"Blue Giants\", showarrow=False, font=dict(color=\"lightblue\")),\n",
                "        dict(x=4000, y=-3, text=\"Red Giants\", showarrow=False, font=dict(color=\"lightcoral\")),\n",
                "        dict(x=15000, y=2, text=\"Main Sequence\", showarrow=False, font=dict(color=\"white\")),\n",
                "        dict(x=10000, y=12, text=\"White Dwarfs\", showarrow=False, font=dict(color=\"white\"))\n",
                "    ]\n",
                "    \n",
                "    for annotation in annotations:\n",
                "        fig.add_annotation(annotation)\n",
                "    \n",
                "    return fig"
            ]
        },
        {
            "cell_type": "code",
            "execution_count": 42,
            "metadata": {},
            "outputs": [
                {
                    "data": {
                        "application/vnd.plotly.v1+json": {
                            "config": {
                                "plotlyServerURL": "https://plot.ly"
                            },
                            "data": [
                                {
                                    "hovertemplate": "Star type=Brown Dwarf<br>Temperature (K)=%{x}<br>Absolute magnitude(Mv)=%{y}<extra></extra>",
                                    "legendgroup": "Brown Dwarf",
                                    "marker": {
                                        "color": "rgb(229, 134, 6)",
                                        "opacity": 0.8,
                                        "symbol": "circle"
                                    },
                                    "mode": "markers",
                                    "name": "Brown Dwarf",
                                    "orientation": "v",
                                    "showlegend": true,
                                    "type": "scatter",
                                    "x": {
                                        "bdata": "/AviCygK8AqTBxgLTQooCloKjAoNDWgNpwsTC3cL3wyBCwEL1go3C/sMyw2SDEoMtw2ZDHcLLQsoC6sKDwtiC1sNkgx9DUkLmAucDdoKww0=",
                                        "dtype": "i2"
                                    },
                                    "xaxis": "x",
                                    "y": {
                                        "bdata": "H4XrUbgeMECamZmZmZkwQDMzMzMzszJAZmZmZmamMECPwvUoXA80QHsUrkfh+jBAuB6F61E4MUBmZmZmZmYxQDMzMzMzczFAzczMzMwMMEB7FK5H4TowQHE9Ctej8DBA16NwPQoXMED2KFyPwvUwQKRwPQrX4zJA4XoUrkchMUDXo3A9ClcyQDMzMzMzczBApHA9CtdjMUCuR+F6FG4zQClcj8L1KDFAcT0K16PwM0CF61G4HgU0QOxRuB6F6zBAH4XrUbgeMUDhehSuR6EzQOF6FK5H4TBA9ihcj8K1MECPwvUoXI8zQNejcD0KFzJA9ihcj8I1MECkcD0K12MyQI/C9ShcjzFA16NwPQpXMUAUrkfhehQxQK5H4XoU7jBAMzMzMzNzMUDsUbgehaswQDMzMzMzczNAmpmZmZlZMEA=",
                                        "dtype": "f8"
                                    },
                                    "yaxis": "y"
                                },
                                {
                                    "hovertemplate": "Star type=Red Dwarf<br>Temperature (K)=%{x}<br>Absolute magnitude(Mv)=%{y}<extra></extra>",
                                    "legendgroup": "Red Dwarf",
                                    "marker": {
                                        "color": "rgb(93, 105, 177)",
                                        "opacity": 0.8,
                                        "symbol": "circle"
                                    },
                                    "mode": "markers",
                                    "name": "Red Dwarf",
                                    "orientation": "v",
                                    "showlegend": true,
                                    "type": "scatter",
                                    "x": {
                                        "bdata": "EA45DD4MLA5aCgwN7wpsDngMcQ0RDRcO6AxODN4NbAxKCw4NPQpWDBcMFw4cDK0L1g2rDBMMDg78DNUNhg25DLILjAzDDQ4ORgyoDfwMhw0=",
                                        "dtype": "i2"
                                    },
                                    "xaxis": "x",
                                    "y": {
                                        "bdata": "4XoUrkdhJUAUrkfhepQnQOxRuB6FaypA9ihcj8L1JECq8dJNYpAnQKRwPQrXIypAFK5H4XqULUCamZmZmZklQI/C9ShcDytAXI/C9ShcJkCamZmZmZkoQD0K16NwPSRAZmZmZmZmKkDhehSuR+EnQEjhehSuxyVAhetRuB6FJ0DsUbgehesqQD0K16NwvSdAH4XrUbieKUD2KFyPwvUrQD0K16NwvSVArkfhehSuJEDXo3A9ClcmQD0K16NwPSpA9ihcj8J1LEAAAAAAAIAtQFyPwvUo3CZAhetRuB6FLED2KFyPwnUoQClcj8L1qCxAcT0K16PwJkD2KFyPwnUlQGZmZmZm5ipAaJHtfD+1KUBcj8L1KNwoQC/dJAaBVStAPQrXo3A9LEDhehSuR+EtQI/C9ShcjylAWmQ730+NLUA=",
                                        "dtype": "f8"
                                    },
                                    "yaxis": "y"
                                },
                                {
                                    "hovertemplate": "Star type=White Dwarf<br>Temperature (K)=%{x}<br>Absolute magnitude(Mv)=%{y}<extra></extra>",
                                    "legendgroup": "White Dwarf",
                                    "marker": {
                                        "color": "rgb(82, 188, 163)",
                                        "opacity": 0.8,
                                        "symbol": "circle"
                                    },
                                    "mode": "markers",
                                    "name": "White Dwarf",
                                    "orientation": "v",
                                    "showlegend": true,
                                    "type": "scatter",
                                    "x": {
                                        "bdata": "qGE8HjQcNCF0QL4yeiEUHg4uPhy8G04p4iIwQxQ3yyXqLuQqmDWUTWw0HFJyR7g4fC7cInAyjDkrHrgylkFAPYY6HDSkR9BN1F00WgBGoEs=",
                                        "dtype": "i2"
                                    },
                                    "xaxis": "x",
                                    "y": {
                                        "bdata": "KVyPwvUoJUAK16NwPQosQPYoXI/CdSxAAAAAAAAALUBI4XoUrscnQPYoXI/CdShAZmZmZmZmLEBxPQrXo/AsQK5H4XoULilAKVyPwvUoLECuR+F6FC4sQArXo3A9CihAj8L1KFyPK0BmZmZmZuYoQNejcD0KVyhA9ihcj8L1K0DD9Shcj0IoQOF6FK5HYSZAcT0K16PwKUCuR+F6FK4mQNejcD0KVytACtejcD0KJ0CPwvUoXI8pQNejcD0K1ydAw/UoXI/CJkA9CtejcL0tQClcj8L1qClASOF6FK7HKUAfhetRuJ4tQPYoXI/CdSZAPQrXo3C9KUDXo3A9CtcnQPYoXI/CdShAzczMzMzMKUBxPQrXo3AmQK5H4XoUriZAmpmZmZkZJUBcj8L1KFwkQFK4HoXrUSdAPQrXo3A9J0A=",
                                        "dtype": "f8"
                                    },
                                    "yaxis": "y"
                                },
                                {
                                    "hovertemplate": "Star type=Main Sequence<br>Temperature (K)=%{x}<br>Absolute magnitude(Mv)=%{y}<extra></extra>",
                                    "legendgroup": "Main Sequence",
                                    "marker": {
                                        "color": "rgb(153, 201, 69)",
                                        "opacity": 0.8,
                                        "symbol": "circle"
                                    },
                                    "mode": "markers",
                                    "name": "Main Sequence",
                                    "orientation": "v",
                                    "showlegend": true,
                                    "type": "scatter",
                                    "x": {
                                        "bdata": "WJgAADB1AACsOwAA5CUAAKgWAAB0HwAAZRoAAOwYAAAwFwAA0xUAALQUAACuEQAA7Q8AAHQTAABGIwAA8isAAPgTAAAoHgAAQi8AAAyNAAB4cwAA8SIAAOw2AAAGQAAA7mEAABxwAAAcZgAAmE4AAN8yAACokwAATlcAABwnAAAhMwAA/FUAAI6FAADMfgAAaCQAAMhLAAD0QgAAOiAAAA==",
                                        "dtype": "i4"
                                    },
                                    "xaxis": "x",
                                    "y": {
                                        "bdata": "zczMzMzMEsDNzMzMzMwQwIXrUbgehf+/exSuR+F6xD8zMzMzMzMUQFyPwvUoXANASOF6FK5HA0BxPQrXo3AHQNejcD0K1xFAH4XrUbgeFED2KFyPwvUVQKAaL90kBhpAtvP91HjpGEAfhetRuB4TQDMzMzMzM/c/ZmZmZmZmAsC4HoXrUbgSQIXrUbgehQNAexSuR+F6lD+amZmZmZkRwArXo3A9ChDAuB6F61G4vj9SuB6F61EAwI/C9ShcjwrA16NwPQrXD8Bcj8L1KFwQwGZmZmZmZg7AMzMzMzMzC8AUrkfhehT2vz0K16NwPRLAXI/C9ShcDcA5tMh2vp+KP7gehetRuL6/ZmZmZmZmBMBI4XoUrkcSwHE9CtejcBHALbKd76fG8z+kcD0K16MIwB+F61G4HgXAXI/C9Shc778=",
                                        "dtype": "f8"
                                    },
                                    "yaxis": "y"
                                },
                                {
                                    "hovertemplate": "Star type=Supergiants<br>Temperature (K)=%{x}<br>Absolute magnitude(Mv)=%{y}<extra></extra>",
                                    "legendgroup": "Supergiants",
                                    "marker": {
                                        "color": "rgb(204, 97, 176)",
                                        "opacity": 0.8,
                                        "symbol": "circle"
                                    },
                                    "mode": "markers",
                                    "name": "Supergiants",
                                    "orientation": "v",
                                    "showlegend": true,
                                    "type": "scatter",
                                    "x": {
                                        "bdata": "8g4AACUNAADGDAAAgAwAAMALAAAQDgAA9w0AAPYNAAApDgAA1oMAABSCAABAnAAA2FkAAOBCAABYKwAApTcAADZgAABdMgAAGV8AAI2CAAAuYwAALy0AAIMxAAB4FgAA3yIAAHIcAADTTQAABWcAAOdDAACdJAAAflwAAM0xAACnJAAAkFsAAJNBAAAuSQAApCYAALIqAAA3WgAA6lQAAA==",
                                        "dtype": "i4"
                                    },
                                    "xaxis": "x",
                                    "y": {
                                        "bdata": "uB6F61G4G8DNzMzMzMwYwBSuR+F6FBjA4XoUrkfhHMAAAAAAAAAYwGZmZmZmZhrAH4XrUbgeG8D2KFyPwvUUwPYoXI/C9RrAZmZmZmZmGMAAAAAAAAAawOxRuB6F6xjACtejcD0KF8CPwvUoXI8bwKRwPQrXoxfAexSuR+F6GMBSuB6F61EXwFyPwvUoXBnA9ihcj8L1GMApXI/C9SgXwK5H4XoUrhfAexSuR+H6GMB7FK5H4XoWwIXrUbgehRrAXI/C9ShcHcDhehSuR+EcwMP1KFyPwhbAUrgehetRF8Bcj8L1KFwYwPYoXI/C9RfAFK5H4XoUGcAUrkfhehQcwOxRuB6F6xvAZmZmZmbmF8BmZmZmZmYZwM3MzMzMzB3APzVeukkMHcBMN4lBYOUYwB+F61G4nhfA/Knx0k1iHcA=",
                                        "dtype": "f8"
                                    },
                                    "yaxis": "y"
                                },
                                {
                                    "hovertemplate": "Star type=Hypergiants<br>Temperature (K)=%{x}<br>Absolute magnitude(Mv)=%{y}<extra></extra>",
                                    "legendgroup": "Hypergiants",
                                    "marker": {
                                        "color": "rgb(36, 121, 108)",
                                        "opacity": 0.8,
                                        "symbol": "circle"
                                    },
                                    "mode": "markers",
                                    "name": "Hypergiants",
                                    "orientation": "v",
                                    "showlegend": true,
                                    "type": "scatter",
                                    "x": {
                                        "bdata": "og0AAKYOAAD6DgAApQ4AAEIOAAB6DQAATA4AAHoNAACoDgAAzw0AAIMNAAAVDgAAHw4AAEcNAAAaDgAA4Q0AAK8PAAApDgAAwhoAAMQOAADyDQAArA0AAL8QAACQZQAAEA4AAB4OAABQRgAA+CoAAEQvAACqXwAAUV4AAFqVAADpfgAAW2wAAJBVAAAcmAAAd3gAAH0iAAATJAAA+pMAAA==",
                                        "dtype": "i4"
                                    },
                                    "xaxis": "x",
                                    "y": {
                                        "bdata": "zczMzMzMIsCF61G4HoUewGZmZmZmZiLAmpmZmZkZIMApXI/C9SgfwAAAAAAAgCfA16NwPQrXJ8CPwvUoXI8mwHsUrkfheibAuB6F61G4JsBmZmZmZmYlwB+F61G4niXAKVyPwvWoJsDXo3A9CtclwLgehetRuCXAj8L1KFwPJsBI4XoUrscmwAAAAAAAgCTApHA9CtcjJMBmZmZmZmYlwFK4HoXrUR7AXI/C9ShcIMBmZmZmZmYiwDMzMzMzMyLAj8L1KFyPH8DXo3A9CtcewJqZmZmZmSDAzczMzMzMI8Bcj8L1KFwfwHsUrkfheiDArkfhehSuIcAUrkfhepQiwK5H4XoUriXAXI/C9ShcHsCuR+F6FK4ewFyPwvUo3CPAw/UoXI9CJcD2KFyPwnUlwPYoXI/CdSbAMzMzMzMzH8A=",
                                        "dtype": "f8"
                                    },
                                    "yaxis": "y"
                                },
                                {
                                    "marker": {
                                        "color": "gold",
                                        "line": {
                                            "color": "orange",
                                            "width": 2
                                        },
                                        "size": 12,
                                        "symbol": "star"
                                    },
                                    "mode": "markers+text",
                                    "name": "Sun",
                                    "text": [
                                        "Sun"
                                    ],
                                    "textposition": "top center",
                                    "type": "scatter",
                                    "x": [
                                        5778
                                    ],
                                    "y": [
                                        4.83
                                    ]
                                },
                                {
                                    "marker": {
                                        "color": "rgb(170, 170, 255)",
                                        "size": 10,
                                        "symbol": "star"
                                    },
                                    "mode": "markers+text",
                                    "name": "Sirius",
                                    "text": [
                                        "Sirius"
                                    ],
                                    "textposition": "top right",
                                    "type": "scatter",
                                    "x": [
                                        9940
                                    ],
                                    "y": [
                                        1.42
                                    ]
                                },
                                {
                                    "marker": {
                                        "color": "rgb(255, 100, 50)",
                                        "size": 10,
                                        "symbol": "star"
                                    },
                                    "mode": "markers+text",
                                    "name": "Betelgeuse",
                                    "text": [
                                        "Betelgeuse"
                                    ],
                                    "textposition": "top right",
                                    "type": "scatter",
                                    "x": [
                                        3600
                                    ],
                                    "y": [
                                        -5.85
                                    ]
                                },
                                {
                                    "marker": {
                                        "color": "rgb(200, 200, 255)",
                                        "size": 10,
                                        "symbol": "star"
                                    },
                                    "mode": "markers+text",
                                    "name": "Vega",
                                    "text": [
                                        "Vega"
                                    ],
                                    "textposition": "top right",
                                    "type": "scatter",
                                    "x": [
                                        9602
                                    ],
                                    "y": [
                                        0.58
                                    ]
                                },
                                {
                                    "marker": {
                                        "color": "rgb(255, 120, 100)",
                                        "size": 10,
                                        "symbol": "star"
                                    },
                                    "mode": "markers+text",
                                    "name": "Proxima Centauri",
                                    "text": [
                                        "Proxima Centauri"
                                    ],
                                    "textposition": "top right",
                                    "type": "scatter",
                                    "x": [
                                        3042
                                    ],
                                    "y": [
                                        15.6
                                    ]
                                },
                                {
                                    "line": {
                                        "color": "white",
                                        "dash": "solid",
                                        "width": 2
                                    },
                                    "mode": "lines",
                                    "name": "Main Sequence",
                                    "type": "scatter",
                                    "x": [
                                        30000,
                                        20000,
                                        10000,
                                        7500,
                                        6000,
                                        5000,
                                        3500
                                    ],
                                    "y": [
                                        -5,
                                        -2.5,
                                        0,
                                        2,
                                        4,
                                        6,
                                        9
                                    ]
                                }
                            ],
                            "layout": {
                                "annotations": [
                                    {
                                        "font": {
                                            "color": "lightblue"
                                        },
                                        "showarrow": false,
                                        "text": "Blue Giants",
                                        "x": 25000,
                                        "y": -3
                                    },
                                    {
                                        "font": {
                                            "color": "lightcoral"
                                        },
                                        "showarrow": false,
                                        "text": "Red Giants",
                                        "x": 4000,
                                        "y": -3
                                    },
                                    {
                                        "font": {
                                            "color": "white"
                                        },
                                        "showarrow": false,
                                        "text": "Main Sequence",
                                        "x": 15000,
                                        "y": 2
                                    },
                                    {
                                        "font": {
                                            "color": "white"
                                        },
                                        "showarrow": false,
                                        "text": "White Dwarfs",
                                        "x": 10000,
                                        "y": 12
                                    }
                                ],
                                "height": 700,
                                "legend": {
                                    "bordercolor": "rgba(255, 255, 255, 0.3)",
                                    "borderwidth": 1,
                                    "title": {
                                        "text": "Star Type"
                                    },
                                    "tracegroupgap": 0
                                },
                                "paper_bgcolor": "rgb(5, 5, 25)",
                                "plot_bgcolor": "rgb(10, 10, 35)",
                                "template": {
                                    "data": {
                                        "bar": [
                                            {
                                                "error_x": {
                                                    "color": "#f2f5fa"
                                                },
                                                "error_y": {
                                                    "color": "#f2f5fa"
                                                },
                                                "marker": {
                                                    "line": {
                                                        "color": "rgb(17,17,17)",
                                                        "width": 0.5
                                                    },
                                                    "pattern": {
                                                        "fillmode": "overlay",
                                                        "size": 10,
                                                        "solidity": 0.2
                                                    }
                                                },
                                                "type": "bar"
                                            }
                                        ],
                                        "barpolar": [
                                            {
                                                "marker": {
                                                    "line": {
                                                        "color": "rgb(17,17,17)",
                                                        "width": 0.5
                                                    },
                                                    "pattern": {
                                                        "fillmode": "overlay",
                                                        "size": 10,
                                                        "solidity": 0.2
                                                    }
                                                },
                                                "type": "barpolar"
                                            }
                                        ],
                                        "carpet": [
                                            {
                                                "aaxis": {
                                                    "endlinecolor": "#A2B1C6",
                                                    "gridcolor": "#506784",
                                                    "linecolor": "#506784",
                                                    "minorgridcolor": "#506784",
                                                    "startlinecolor": "#A2B1C6"
                                                },
                                                "baxis": {
                                                    "endlinecolor": "#A2B1C6",
                                                    "gridcolor": "#506784",
                                                    "linecolor": "#506784",
                                                    "minorgridcolor": "#506784",
                                                    "startlinecolor": "#A2B1C6"
                                                },
                                                "type": "carpet"
                                            }
                                        ],
                                        "choropleth": [
                                            {
                                                "colorbar": {
                                                    "outlinewidth": 0,
                                                    "ticks": ""
                                                },
                                                "type": "choropleth"
                                            }
                                        ],
                                        "contour": [
                                            {
                                                "colorbar": {
                                                    "outlinewidth": 0,
                                                    "ticks": ""
                                                },
                                                "colorscale": [
                                                    [
                                                        0,
                                                        "#0d0887"
                                                    ],
                                                    [
                                                        0.1111111111111111,
                                                        "#46039f"
                                                    ],
                                                    [
                                                        0.2222222222222222,
                                                        "#7201a8"
                                                    ],
                                                    [
                                                        0.3333333333333333,
                                                        "#9c179e"
                                                    ],
                                                    [
                                                        0.4444444444444444,
                                                        "#bd3786"
                                                    ],
                                                    [
                                                        0.5555555555555556,
                                                        "#d8576b"
                                                    ],
                                                    [
                                                        0.6666666666666666,
                                                        "#ed7953"
                                                    ],
                                                    [
                                                        0.7777777777777778,
                                                        "#fb9f3a"
                                                    ],
                                                    [
                                                        0.8888888888888888,
                                                        "#fdca26"
                                                    ],
                                                    [
                                                        1,
                                                        "#f0f921"
                                                    ]
                                                ],
                                                "type": "contour"
                                            }
                                        ],
                                        "contourcarpet": [
                                            {
                                                "colorbar": {
                                                    "outlinewidth": 0,
                                                    "ticks": ""
                                                },
                                                "type": "contourcarpet"
                                            }
                                        ],
                                        "heatmap": [
                                            {
                                                "colorbar": {
                                                    "outlinewidth": 0,
                                                    "ticks": ""
                                                },
                                                "colorscale": [
                                                    [
                                                        0,
                                                        "#0d0887"
                                                    ],
                                                    [
                                                        0.1111111111111111,
                                                        "#46039f"
                                                    ],
                                                    [
                                                        0.2222222222222222,
                                                        "#7201a8"
                                                    ],
                                                    [
                                                        0.3333333333333333,
                                                        "#9c179e"
                                                    ],
                                                    [
                                                        0.4444444444444444,
                                                        "#bd3786"
                                                    ],
                                                    [
                                                        0.5555555555555556,
                                                        "#d8576b"
                                                    ],
                                                    [
                                                        0.6666666666666666,
                                                        "#ed7953"
                                                    ],
                                                    [
                                                        0.7777777777777778,
                                                        "#fb9f3a"
                                                    ],
                                                    [
                                                        0.8888888888888888,
                                                        "#fdca26"
                                                    ],
                                                    [
                                                        1,
                                                        "#f0f921"
                                                    ]
                                                ],
                                                "type": "heatmap"
                                            }
                                        ],
                                        "histogram": [
                                            {
                                                "marker": {
                                                    "pattern": {
                                                        "fillmode": "overlay",
                                                        "size": 10,
                                                        "solidity": 0.2
                                                    }
                                                },
                                                "type": "histogram"
                                            }
                                        ],
                                        "histogram2d": [
                                            {
                                                "colorbar": {
                                                    "outlinewidth": 0,
                                                    "ticks": ""
                                                },
                                                "colorscale": [
                                                    [
                                                        0,
                                                        "#0d0887"
                                                    ],
                                                    [
                                                        0.1111111111111111,
                                                        "#46039f"
                                                    ],
                                                    [
                                                        0.2222222222222222,
                                                        "#7201a8"
                                                    ],
                                                    [
                                                        0.3333333333333333,
                                                        "#9c179e"
                                                    ],
                                                    [
                                                        0.4444444444444444,
                                                        "#bd3786"
                                                    ],
                                                    [
                                                        0.5555555555555556,
                                                        "#d8576b"
                                                    ],
                                                    [
                                                        0.6666666666666666,
                                                        "#ed7953"
                                                    ],
                                                    [
                                                        0.7777777777777778,
                                                        "#fb9f3a"
                                                    ],
                                                    [
                                                        0.8888888888888888,
                                                        "#fdca26"
                                                    ],
                                                    [
                                                        1,
                                                        "#f0f921"
                                                    ]
                                                ],
                                                "type": "histogram2d"
                                            }
                                        ],
                                        "histogram2dcontour": [
                                            {
                                                "colorbar": {
                                                    "outlinewidth": 0,
                                                    "ticks": ""
                                                },
                                                "colorscale": [
                                                    [
                                                        0,
                                                        "#0d0887"
                                                    ],
                                                    [
                                                        0.1111111111111111,
                                                        "#46039f"
                                                    ],
                                                    [
                                                        0.2222222222222222,
                                                        "#7201a8"
                                                    ],
                                                    [
                                                        0.3333333333333333,
                                                        "#9c179e"
                                                    ],
                                                    [
                                                        0.4444444444444444,
                                                        "#bd3786"
                                                    ],
                                                    [
                                                        0.5555555555555556,
                                                        "#d8576b"
                                                    ],
                                                    [
                                                        0.6666666666666666,
                                                        "#ed7953"
                                                    ],
                                                    [
                                                        0.7777777777777778,
                                                        "#fb9f3a"
                                                    ],
                                                    [
                                                        0.8888888888888888,
                                                        "#fdca26"
                                                    ],
                                                    [
                                                        1,
                                                        "#f0f921"
                                                    ]
                                                ],
                                                "type": "histogram2dcontour"
                                            }
                                        ],
                                        "mesh3d": [
                                            {
                                                "colorbar": {
                                                    "outlinewidth": 0,
                                                    "ticks": ""
                                                },
                                                "type": "mesh3d"
                                            }
                                        ],
                                        "parcoords": [
                                            {
                                                "line": {
                                                    "colorbar": {
                                                        "outlinewidth": 0,
                                                        "ticks": ""
                                                    }
                                                },
                                                "type": "parcoords"
                                            }
                                        ],
                                        "pie": [
                                            {
                                                "automargin": true,
                                                "type": "pie"
                                            }
                                        ],
                                        "scatter": [
                                            {
                                                "marker": {
                                                    "line": {
                                                        "color": "#283442"
                                                    }
                                                },
                                                "type": "scatter"
                                            }
                                        ],
                                        "scatter3d": [
                                            {
                                                "line": {
                                                    "colorbar": {
                                                        "outlinewidth": 0,
                                                        "ticks": ""
                                                    }
                                                },
                                                "marker": {
                                                    "colorbar": {
                                                        "outlinewidth": 0,
                                                        "ticks": ""
                                                    }
                                                },
                                                "type": "scatter3d"
                                            }
                                        ],
                                        "scattercarpet": [
                                            {
                                                "marker": {
                                                    "colorbar": {
                                                        "outlinewidth": 0,
                                                        "ticks": ""
                                                    }
                                                },
                                                "type": "scattercarpet"
                                            }
                                        ],
                                        "scattergeo": [
                                            {
                                                "marker": {
                                                    "colorbar": {
                                                        "outlinewidth": 0,
                                                        "ticks": ""
                                                    }
                                                },
                                                "type": "scattergeo"
                                            }
                                        ],
                                        "scattergl": [
                                            {
                                                "marker": {
                                                    "line": {
                                                        "color": "#283442"
                                                    }
                                                },
                                                "type": "scattergl"
                                            }
                                        ],
                                        "scattermap": [
                                            {
                                                "marker": {
                                                    "colorbar": {
                                                        "outlinewidth": 0,
                                                        "ticks": ""
                                                    }
                                                },
                                                "type": "scattermap"
                                            }
                                        ],
                                        "scattermapbox": [
                                            {
                                                "marker": {
                                                    "colorbar": {
                                                        "outlinewidth": 0,
                                                        "ticks": ""
                                                    }
                                                },
                                                "type": "scattermapbox"
                                            }
                                        ],
                                        "scatterpolar": [
                                            {
                                                "marker": {
                                                    "colorbar": {
                                                        "outlinewidth": 0,
                                                        "ticks": ""
                                                    }
                                                },
                                                "type": "scatterpolar"
                                            }
                                        ],
                                        "scatterpolargl": [
                                            {
                                                "marker": {
                                                    "colorbar": {
                                                        "outlinewidth": 0,
                                                        "ticks": ""
                                                    }
                                                },
                                                "type": "scatterpolargl"
                                            }
                                        ],
                                        "scatterternary": [
                                            {
                                                "marker": {
                                                    "colorbar": {
                                                        "outlinewidth": 0,
                                                        "ticks": ""
                                                    }
                                                },
                                                "type": "scatterternary"
                                            }
                                        ],
                                        "surface": [
                                            {
                                                "colorbar": {
                                                    "outlinewidth": 0,
                                                    "ticks": ""
                                                },
                                                "colorscale": [
                                                    [
                                                        0,
                                                        "#0d0887"
                                                    ],
                                                    [
                                                        0.1111111111111111,
                                                        "#46039f"
                                                    ],
                                                    [
                                                        0.2222222222222222,
                                                        "#7201a8"
                                                    ],
                                                    [
                                                        0.3333333333333333,
                                                        "#9c179e"
                                                    ],
                                                    [
                                                        0.4444444444444444,
                                                        "#bd3786"
                                                    ],
                                                    [
                                                        0.5555555555555556,
                                                        "#d8576b"
                                                    ],
                                                    [
                                                        0.6666666666666666,
                                                        "#ed7953"
                                                    ],
                                                    [
                                                        0.7777777777777778,
                                                        "#fb9f3a"
                                                    ],
                                                    [
                                                        0.8888888888888888,
                                                        "#fdca26"
                                                    ],
                                                    [
                                                        1,
                                                        "#f0f921"
                                                    ]
                                                ],
                                                "type": "surface"
                                            }
                                        ],
                                        "table": [
                                            {
                                                "cells": {
                                                    "fill": {
                                                        "color": "#506784"
                                                    },
                                                    "line": {
                                                        "color": "rgb(17,17,17)"
                                                    }
                                                },
                                                "header": {
                                                    "fill": {
                                                        "color": "#2a3f5f"
                                                    },
                                                    "line": {
                                                        "color": "rgb(17,17,17)"
                                                    }
                                                },
                                                "type": "table"
                                            }
                                        ]
                                    },
                                    "layout": {
                                        "annotationdefaults": {
                                            "arrowcolor": "#f2f5fa",
                                            "arrowhead": 0,
                                            "arrowwidth": 1
                                        },
                                        "autotypenumbers": "strict",
                                        "coloraxis": {
                                            "colorbar": {
                                                "outlinewidth": 0,
                                                "ticks": ""
                                            }
                                        },
                                        "colorscale": {
                                            "diverging": [
                                                [
                                                    0,
                                                    "#8e0152"
                                                ],
                                                [
                                                    0.1,
                                                    "#c51b7d"
                                                ],
                                                [
                                                    0.2,
                                                    "#de77ae"
                                                ],
                                                [
                                                    0.3,
                                                    "#f1b6da"
                                                ],
                                                [
                                                    0.4,
                                                    "#fde0ef"
                                                ],
                                                [
                                                    0.5,
                                                    "#f7f7f7"
                                                ],
                                                [
                                                    0.6,
                                                    "#e6f5d0"
                                                ],
                                                [
                                                    0.7,
                                                    "#b8e186"
                                                ],
                                                [
                                                    0.8,
                                                    "#7fbc41"
                                                ],
                                                [
                                                    0.9,
                                                    "#4d9221"
                                                ],
                                                [
                                                    1,
                                                    "#276419"
                                                ]
                                            ],
                                            "sequential": [
                                                [
                                                    0,
                                                    "#0d0887"
                                                ],
                                                [
                                                    0.1111111111111111,
                                                    "#46039f"
                                                ],
                                                [
                                                    0.2222222222222222,
                                                    "#7201a8"
                                                ],
                                                [
                                                    0.3333333333333333,
                                                    "#9c179e"
                                                ],
                                                [
                                                    0.4444444444444444,
                                                    "#bd3786"
                                                ],
                                                [
                                                    0.5555555555555556,
                                                    "#d8576b"
                                                ],
                                                [
                                                    0.6666666666666666,
                                                    "#ed7953"
                                                ],
                                                [
                                                    0.7777777777777778,
                                                    "#fb9f3a"
                                                ],
                                                [
                                                    0.8888888888888888,
                                                    "#fdca26"
                                                ],
                                                [
                                                    1,
                                                    "#f0f921"
                                                ]
                                            ],
                                            "sequentialminus": [
                                                [
                                                    0,
                                                    "#0d0887"
                                                ],
                                                [
                                                    0.1111111111111111,
                                                    "#46039f"
                                                ],
                                                [
                                                    0.2222222222222222,
                                                    "#7201a8"
                                                ],
                                                [
                                                    0.3333333333333333,
                                                    "#9c179e"
                                                ],
                                                [
                                                    0.4444444444444444,
                                                    "#bd3786"
                                                ],
                                                [
                                                    0.5555555555555556,
                                                    "#d8576b"
                                                ],
                                                [
                                                    0.6666666666666666,
                                                    "#ed7953"
                                                ],
                                                [
                                                    0.7777777777777778,
                                                    "#fb9f3a"
                                                ],
                                                [
                                                    0.8888888888888888,
                                                    "#fdca26"
                                                ],
                                                [
                                                    1,
                                                    "#f0f921"
                                                ]
                                            ]
                                        },
                                        "colorway": [
                                            "#636efa",
                                            "#EF553B",
                                            "#00cc96",
                                            "#ab63fa",
                                            "#FFA15A",
                                            "#19d3f3",
                                            "#FF6692",
                                            "#B6E880",
                                            "#FF97FF",
                                            "#FECB52"
                                        ],
                                        "font": {
                                            "color": "#f2f5fa"
                                        },
                                        "geo": {
                                            "bgcolor": "rgb(17,17,17)",
                                            "lakecolor": "rgb(17,17,17)",
                                            "landcolor": "rgb(17,17,17)",
                                            "showlakes": true,
                                            "showland": true,
                                            "subunitcolor": "#506784"
                                        },
                                        "hoverlabel": {
                                            "align": "left"
                                        },
                                        "hovermode": "closest",
                                        "mapbox": {
                                            "style": "dark"
                                        },
                                        "paper_bgcolor": "rgb(17,17,17)",
                                        "plot_bgcolor": "rgb(17,17,17)",
                                        "polar": {
                                            "angularaxis": {
                                                "gridcolor": "#506784",
                                                "linecolor": "#506784",
                                                "ticks": ""
                                            },
                                            "bgcolor": "rgb(17,17,17)",
                                            "radialaxis": {
                                                "gridcolor": "#506784",
                                                "linecolor": "#506784",
                                                "ticks": ""
                                            }
                                        },
                                        "scene": {
                                            "xaxis": {
                                                "backgroundcolor": "rgb(17,17,17)",
                                                "gridcolor": "#506784",
                                                "gridwidth": 2,
                                                "linecolor": "#506784",
                                                "showbackground": true,
                                                "ticks": "",
                                                "zerolinecolor": "#C8D4E3"
                                            },
                                            "yaxis": {
                                                "backgroundcolor": "rgb(17,17,17)",
                                                "gridcolor": "#506784",
                                                "gridwidth": 2,
                                                "linecolor": "#506784",
                                                "showbackground": true,
                                                "ticks": "",
                                                "zerolinecolor": "#C8D4E3"
                                            },
                                            "zaxis": {
                                                "backgroundcolor": "rgb(17,17,17)",
                                                "gridcolor": "#506784",
                                                "gridwidth": 2,
                                                "linecolor": "#506784",
                                                "showbackground": true,
                                                "ticks": "",
                                                "zerolinecolor": "#C8D4E3"
                                            }
                                        },
                                        "shapedefaults": {
                                            "line": {
                                                "color": "#f2f5fa"
                                            }
                                        },
                                        "sliderdefaults": {
                                            "bgcolor": "#C8D4E3",
                                            "bordercolor": "rgb(17,17,17)",
                                            "borderwidth": 1,
                                            "tickwidth": 0
                                        },
                                        "ternary": {
                                            "aaxis": {
                                                "gridcolor": "#506784",
                                                "linecolor": "#506784",
                                                "ticks": ""
                                            },
                                            "baxis": {
                                                "gridcolor": "#506784",
                                                "linecolor": "#506784",
                                                "ticks": ""
                                            },
                                            "bgcolor": "rgb(17,17,17)",
                                            "caxis": {
                                                "gridcolor": "#506784",
                                                "linecolor": "#506784",
                                                "ticks": ""
                                            }
                                        },
                                        "title": {
                                            "x": 0.05
                                        },
                                        "updatemenudefaults": {
                                            "bgcolor": "#506784",
                                            "borderwidth": 0
                                        },
                                        "xaxis": {
                                            "automargin": true,
                                            "gridcolor": "#283442",
                                            "linecolor": "#506784",
                                            "ticks": "",
                                            "title": {
                                                "standoff": 15
                                            },
                                            "zerolinecolor": "#283442",
                                            "zerolinewidth": 2
                                        },
                                        "yaxis": {
                                            "automargin": true,
                                            "gridcolor": "#283442",
                                            "linecolor": "#506784",
                                            "ticks": "",
                                            "title": {
                                                "standoff": 15
                                            },
                                            "zerolinecolor": "#283442",
                                            "zerolinewidth": 2
                                        }
                                    }
                                },
                                "title": {
                                    "font": {
                                        "size": 24
                                    },
                                    "text": "Interactive Hertzsprung-Russell Diagram",
                                    "x": 0.5
                                },
                                "width": 900,
                                "xaxis": {
                                    "anchor": "y",
                                    "autorange": "reversed",
                                    "domain": [
                                        0,
                                        1
                                    ],
                                    "gridcolor": "rgba(128, 128, 128, 0.2)",
                                    "title": {
                                        "text": "Temperature (K)"
                                    }
                                },
                                "yaxis": {
                                    "anchor": "x",
                                    "autorange": "reversed",
                                    "domain": [
                                        0,
                                        1
                                    ],
                                    "gridcolor": "rgba(128, 128, 128, 0.2)",
                                    "title": {
                                        "text": "Absolute Magnitude (Mv)"
                                    }
                                }
                            }
                        }
                    },
                    "metadata": {},
                    "output_type": "display_data"
                }
            ],
            "source": [
                "fig7 = create_hr_diagram_improved(star_df)\n",
                "\n",
                "fig7.show()"
            ]
        }
    ],
    "metadata": {
        "kernelspec": {
            "display_name": "venv",
            "language": "python",
            "name": "python3"
        },
        "language_info": {
            "codemirror_mode": {
                "name": "ipython",
                "version": 3
            },
            "file_extension": ".py",
            "mimetype": "text/x-python",
            "name": "python",
            "nbconvert_exporter": "python",
            "pygments_lexer": "ipython3",
            "version": "3.13.1"
        }
    },
    "nbformat": 4,
    "nbformat_minor": 2
}
