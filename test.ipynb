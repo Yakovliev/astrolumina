{
    "cells": [
        {
            "cell_type": "code",
            "execution_count": 14,
            "metadata": {},
            "outputs": [],
            "source": [
                "import pandas as pd\n",
                "import numpy as np\n",
                "import plotly.express as px\n",
                "import plotly.graph_objects as go\n",
                "from plotly.subplots import make_subplots\n",
                "import plotly.io as pio"
            ]
        },
        {
            "cell_type": "code",
            "execution_count": 15,
            "metadata": {},
            "outputs": [],
            "source": [
                "# Set a default template for all plots\n",
                "pio.templates.default = \"plotly_dark\"\n",
                "\n",
                "base_dir = 'star_plots/'"
            ]
        },
        {
            "cell_type": "code",
            "execution_count": 16,
            "metadata": {},
            "outputs": [],
            "source": [
                "# Load the cleaned star data from CSV\n",
                "star_df = pd.read_csv('cleaned_star_data.csv')\n",
                "\n",
                "# Display first few rows of the dataframe\n",
                "# star_df.head()"
            ]
        },
        {
            "cell_type": "code",
            "execution_count": 17,
            "metadata": {},
            "outputs": [],
            "source": [
                "# star_df.info()"
            ]
        },
        {
            "cell_type": "code",
            "execution_count": 18,
            "metadata": {},
            "outputs": [],
            "source": [
                "# Map numeric Star type to category names if needed\n",
                "star_type_mapping = {\n",
                "    0: 'Brown Dwarf',\n",
                "    1: 'Red Dwarf',\n",
                "    2: 'White Dwarf',\n",
                "    3: 'Main Sequence',\n",
                "    4: 'Supergiants',\n",
                "    5: 'Hypergiants'\n",
                "}"
            ]
        },
        {
            "cell_type": "code",
            "execution_count": 19,
            "metadata": {},
            "outputs": [],
            "source": [
                "# Check if Star type is numeric and needs mapping\n",
                "if pd.api.types.is_numeric_dtype(star_df['Star type']):\n",
                "    star_df['Star type'] = star_df['Star type'].map(star_type_mapping)"
            ]
        },
        {
            "cell_type": "code",
            "execution_count": 20,
            "metadata": {},
            "outputs": [
                {
                    "data": {
                        "application/vnd.microsoft.datawrangler.viewer.v0+json": {
                            "columns": [
                                {
                                    "name": "index",
                                    "rawType": "int64",
                                    "type": "integer"
                                },
                                {
                                    "name": "Temperature (K)",
                                    "rawType": "int64",
                                    "type": "integer"
                                },
                                {
                                    "name": "Luminosity(L/Lo)",
                                    "rawType": "float64",
                                    "type": "float"
                                },
                                {
                                    "name": "Radius(R/Ro)",
                                    "rawType": "float64",
                                    "type": "float"
                                },
                                {
                                    "name": "Absolute magnitude(Mv)",
                                    "rawType": "float64",
                                    "type": "float"
                                },
                                {
                                    "name": "Star type",
                                    "rawType": "object",
                                    "type": "string"
                                },
                                {
                                    "name": "Star color",
                                    "rawType": "object",
                                    "type": "string"
                                },
                                {
                                    "name": "Spectral Class",
                                    "rawType": "object",
                                    "type": "string"
                                }
                            ],
                            "conversionMethod": "pd.DataFrame",
                            "ref": "37ec41e5-43fb-47e1-956b-7e12f6b4f51e",
                            "rows": [
                                [
                                    "0",
                                    "3068",
                                    "0.0024",
                                    "0.17",
                                    "16.12",
                                    "Brown Dwarf",
                                    "Red",
                                    "M"
                                ],
                                [
                                    "1",
                                    "3042",
                                    "0.0005",
                                    "0.1542",
                                    "16.6",
                                    "Brown Dwarf",
                                    "Red",
                                    "M"
                                ],
                                [
                                    "2",
                                    "2600",
                                    "0.0003",
                                    "0.102",
                                    "18.7",
                                    "Brown Dwarf",
                                    "Red",
                                    "M"
                                ],
                                [
                                    "3",
                                    "2800",
                                    "0.0002",
                                    "0.16",
                                    "16.65",
                                    "Brown Dwarf",
                                    "Red",
                                    "M"
                                ],
                                [
                                    "4",
                                    "1939",
                                    "0.000138",
                                    "0.103",
                                    "20.06",
                                    "Brown Dwarf",
                                    "Red",
                                    "M"
                                ],
                                [
                                    "5",
                                    "2840",
                                    "0.00065",
                                    "0.11",
                                    "16.98",
                                    "Brown Dwarf",
                                    "Red",
                                    "M"
                                ],
                                [
                                    "6",
                                    "2637",
                                    "0.00073",
                                    "0.127",
                                    "17.22",
                                    "Brown Dwarf",
                                    "Red",
                                    "M"
                                ],
                                [
                                    "7",
                                    "2600",
                                    "0.0004",
                                    "0.096",
                                    "17.4",
                                    "Brown Dwarf",
                                    "Red",
                                    "M"
                                ],
                                [
                                    "8",
                                    "2650",
                                    "0.00069",
                                    "0.11",
                                    "17.45",
                                    "Brown Dwarf",
                                    "Red",
                                    "M"
                                ],
                                [
                                    "9",
                                    "2700",
                                    "0.00018",
                                    "0.13",
                                    "16.05",
                                    "Brown Dwarf",
                                    "Red",
                                    "M"
                                ],
                                [
                                    "10",
                                    "3600",
                                    "0.0029",
                                    "0.51",
                                    "10.69",
                                    "Red Dwarf",
                                    "Red",
                                    "M"
                                ],
                                [
                                    "11",
                                    "3129",
                                    "0.0122",
                                    "0.3761",
                                    "11.79",
                                    "Red Dwarf",
                                    "Red",
                                    "M"
                                ],
                                [
                                    "12",
                                    "3134",
                                    "0.0004",
                                    "0.196",
                                    "13.21",
                                    "Red Dwarf",
                                    "Red",
                                    "M"
                                ],
                                [
                                    "13",
                                    "3628",
                                    "0.0055",
                                    "0.393",
                                    "10.48",
                                    "Red Dwarf",
                                    "Red",
                                    "M"
                                ],
                                [
                                    "14",
                                    "2650",
                                    "0.0006",
                                    "0.14",
                                    "11.782",
                                    "Red Dwarf",
                                    "Red",
                                    "M"
                                ],
                                [
                                    "15",
                                    "3340",
                                    "0.0038",
                                    "0.24",
                                    "13.07",
                                    "Red Dwarf",
                                    "Red",
                                    "M"
                                ],
                                [
                                    "16",
                                    "2799",
                                    "0.0018",
                                    "0.16",
                                    "14.79",
                                    "Red Dwarf",
                                    "Red",
                                    "M"
                                ],
                                [
                                    "17",
                                    "3692",
                                    "0.00367",
                                    "0.47",
                                    "10.8",
                                    "Red Dwarf",
                                    "Red",
                                    "M"
                                ],
                                [
                                    "18",
                                    "3192",
                                    "0.00362",
                                    "0.1967",
                                    "13.53",
                                    "Red Dwarf",
                                    "Red",
                                    "M"
                                ],
                                [
                                    "19",
                                    "3441",
                                    "0.039",
                                    "0.351",
                                    "11.18",
                                    "Red Dwarf",
                                    "Red",
                                    "M"
                                ],
                                [
                                    "20",
                                    "25000",
                                    "0.056",
                                    "0.0084",
                                    "10.58",
                                    "White Dwarf",
                                    "Blue-White",
                                    "B"
                                ],
                                [
                                    "21",
                                    "7740",
                                    "0.00049",
                                    "0.01234",
                                    "14.02",
                                    "White Dwarf",
                                    "White",
                                    "A"
                                ],
                                [
                                    "22",
                                    "7220",
                                    "0.00017",
                                    "0.011",
                                    "14.23",
                                    "White Dwarf",
                                    "White",
                                    "F"
                                ],
                                [
                                    "23",
                                    "8500",
                                    "0.0005",
                                    "0.01",
                                    "14.5",
                                    "White Dwarf",
                                    "White",
                                    "A"
                                ],
                                [
                                    "24",
                                    "16500",
                                    "0.013",
                                    "0.014",
                                    "11.89",
                                    "White Dwarf",
                                    "Blue-White",
                                    "B"
                                ],
                                [
                                    "25",
                                    "12990",
                                    "8.5e-05",
                                    "0.00984",
                                    "12.23",
                                    "White Dwarf",
                                    "Yellow-White",
                                    "F"
                                ],
                                [
                                    "26",
                                    "8570",
                                    "0.00081",
                                    "0.0097",
                                    "14.2",
                                    "White Dwarf",
                                    "Blue-White",
                                    "A"
                                ],
                                [
                                    "27",
                                    "7700",
                                    "0.00011",
                                    "0.0128",
                                    "14.47",
                                    "White Dwarf",
                                    "Yellow-White",
                                    "F"
                                ],
                                [
                                    "28",
                                    "11790",
                                    "0.00015",
                                    "0.011",
                                    "12.59",
                                    "White Dwarf",
                                    "Yellow-White",
                                    "F"
                                ],
                                [
                                    "29",
                                    "7230",
                                    "8e-05",
                                    "0.013",
                                    "14.08",
                                    "White Dwarf",
                                    "Red",
                                    "F"
                                ],
                                [
                                    "30",
                                    "39000",
                                    "204000.0",
                                    "10.6",
                                    "-4.7",
                                    "Main Sequence",
                                    "Blue",
                                    "O"
                                ],
                                [
                                    "31",
                                    "30000",
                                    "28840.0",
                                    "6.3",
                                    "-4.2",
                                    "Main Sequence",
                                    "Blue-White",
                                    "B"
                                ],
                                [
                                    "32",
                                    "15276",
                                    "1136.0",
                                    "7.2",
                                    "-1.97",
                                    "Main Sequence",
                                    "Blue-White",
                                    "B"
                                ],
                                [
                                    "33",
                                    "9700",
                                    "74.0",
                                    "2.89",
                                    "0.16",
                                    "Main Sequence",
                                    "White",
                                    "B"
                                ],
                                [
                                    "34",
                                    "5800",
                                    "0.81",
                                    "0.9",
                                    "5.05",
                                    "Main Sequence",
                                    "Yellow-White",
                                    "F"
                                ],
                                [
                                    "35",
                                    "8052",
                                    "8.7",
                                    "1.8",
                                    "2.42",
                                    "Main Sequence",
                                    "White",
                                    "A"
                                ],
                                [
                                    "36",
                                    "6757",
                                    "1.43",
                                    "1.12",
                                    "2.41",
                                    "Main Sequence",
                                    "Yellow-White",
                                    "F"
                                ],
                                [
                                    "37",
                                    "6380",
                                    "1.35",
                                    "0.98",
                                    "2.93",
                                    "Main Sequence",
                                    "Yellow-White",
                                    "F"
                                ],
                                [
                                    "38",
                                    "5936",
                                    "1.357",
                                    "1.106",
                                    "4.46",
                                    "Main Sequence",
                                    "Yellow-White",
                                    "F"
                                ],
                                [
                                    "39",
                                    "5587",
                                    "0.819",
                                    "0.99",
                                    "5.03",
                                    "Main Sequence",
                                    "Yellow-White",
                                    "F"
                                ],
                                [
                                    "40",
                                    "3826",
                                    "200000.0",
                                    "19.0",
                                    "-6.93",
                                    "Supergiants",
                                    "Red",
                                    "M"
                                ],
                                [
                                    "41",
                                    "3365",
                                    "340000.0",
                                    "23.0",
                                    "-6.2",
                                    "Supergiants",
                                    "Red",
                                    "M"
                                ],
                                [
                                    "42",
                                    "3270",
                                    "150000.0",
                                    "88.0",
                                    "-6.02",
                                    "Supergiants",
                                    "Red",
                                    "M"
                                ],
                                [
                                    "43",
                                    "3200",
                                    "195000.0",
                                    "17.0",
                                    "-7.22",
                                    "Supergiants",
                                    "Red",
                                    "M"
                                ],
                                [
                                    "44",
                                    "3008",
                                    "280000.0",
                                    "25.0",
                                    "-6.0",
                                    "Supergiants",
                                    "Red",
                                    "M"
                                ],
                                [
                                    "45",
                                    "3600",
                                    "320000.0",
                                    "29.0",
                                    "-6.6",
                                    "Supergiants",
                                    "Red",
                                    "M"
                                ],
                                [
                                    "46",
                                    "3575",
                                    "123000.0",
                                    "45.0",
                                    "-6.78",
                                    "Supergiants",
                                    "Red",
                                    "M"
                                ],
                                [
                                    "47",
                                    "3574",
                                    "200000.0",
                                    "89.0",
                                    "-5.24",
                                    "Supergiants",
                                    "Red",
                                    "M"
                                ],
                                [
                                    "48",
                                    "3625",
                                    "184000.0",
                                    "84.0",
                                    "-6.74",
                                    "Supergiants",
                                    "Red",
                                    "M"
                                ],
                                [
                                    "49",
                                    "33750",
                                    "220000.0",
                                    "26.0",
                                    "-6.1",
                                    "Supergiants",
                                    "Blue",
                                    "B"
                                ]
                            ],
                            "shape": {
                                "columns": 7,
                                "rows": 240
                            }
                        },
                        "text/html": [
                            "<div>\n",
                            "<style scoped>\n",
                            "    .dataframe tbody tr th:only-of-type {\n",
                            "        vertical-align: middle;\n",
                            "    }\n",
                            "\n",
                            "    .dataframe tbody tr th {\n",
                            "        vertical-align: top;\n",
                            "    }\n",
                            "\n",
                            "    .dataframe thead th {\n",
                            "        text-align: right;\n",
                            "    }\n",
                            "</style>\n",
                            "<table border=\"1\" class=\"dataframe\">\n",
                            "  <thead>\n",
                            "    <tr style=\"text-align: right;\">\n",
                            "      <th></th>\n",
                            "      <th>Temperature (K)</th>\n",
                            "      <th>Luminosity(L/Lo)</th>\n",
                            "      <th>Radius(R/Ro)</th>\n",
                            "      <th>Absolute magnitude(Mv)</th>\n",
                            "      <th>Star type</th>\n",
                            "      <th>Star color</th>\n",
                            "      <th>Spectral Class</th>\n",
                            "    </tr>\n",
                            "  </thead>\n",
                            "  <tbody>\n",
                            "    <tr>\n",
                            "      <th>0</th>\n",
                            "      <td>3068</td>\n",
                            "      <td>0.002400</td>\n",
                            "      <td>0.1700</td>\n",
                            "      <td>16.12</td>\n",
                            "      <td>Brown Dwarf</td>\n",
                            "      <td>Red</td>\n",
                            "      <td>M</td>\n",
                            "    </tr>\n",
                            "    <tr>\n",
                            "      <th>1</th>\n",
                            "      <td>3042</td>\n",
                            "      <td>0.000500</td>\n",
                            "      <td>0.1542</td>\n",
                            "      <td>16.60</td>\n",
                            "      <td>Brown Dwarf</td>\n",
                            "      <td>Red</td>\n",
                            "      <td>M</td>\n",
                            "    </tr>\n",
                            "    <tr>\n",
                            "      <th>2</th>\n",
                            "      <td>2600</td>\n",
                            "      <td>0.000300</td>\n",
                            "      <td>0.1020</td>\n",
                            "      <td>18.70</td>\n",
                            "      <td>Brown Dwarf</td>\n",
                            "      <td>Red</td>\n",
                            "      <td>M</td>\n",
                            "    </tr>\n",
                            "    <tr>\n",
                            "      <th>3</th>\n",
                            "      <td>2800</td>\n",
                            "      <td>0.000200</td>\n",
                            "      <td>0.1600</td>\n",
                            "      <td>16.65</td>\n",
                            "      <td>Brown Dwarf</td>\n",
                            "      <td>Red</td>\n",
                            "      <td>M</td>\n",
                            "    </tr>\n",
                            "    <tr>\n",
                            "      <th>4</th>\n",
                            "      <td>1939</td>\n",
                            "      <td>0.000138</td>\n",
                            "      <td>0.1030</td>\n",
                            "      <td>20.06</td>\n",
                            "      <td>Brown Dwarf</td>\n",
                            "      <td>Red</td>\n",
                            "      <td>M</td>\n",
                            "    </tr>\n",
                            "    <tr>\n",
                            "      <th>...</th>\n",
                            "      <td>...</td>\n",
                            "      <td>...</td>\n",
                            "      <td>...</td>\n",
                            "      <td>...</td>\n",
                            "      <td>...</td>\n",
                            "      <td>...</td>\n",
                            "      <td>...</td>\n",
                            "    </tr>\n",
                            "    <tr>\n",
                            "      <th>235</th>\n",
                            "      <td>38940</td>\n",
                            "      <td>374830.000000</td>\n",
                            "      <td>1356.0000</td>\n",
                            "      <td>-9.93</td>\n",
                            "      <td>Hypergiants</td>\n",
                            "      <td>Blue</td>\n",
                            "      <td>O</td>\n",
                            "    </tr>\n",
                            "    <tr>\n",
                            "      <th>236</th>\n",
                            "      <td>30839</td>\n",
                            "      <td>834042.000000</td>\n",
                            "      <td>1194.0000</td>\n",
                            "      <td>-10.63</td>\n",
                            "      <td>Hypergiants</td>\n",
                            "      <td>Blue</td>\n",
                            "      <td>O</td>\n",
                            "    </tr>\n",
                            "    <tr>\n",
                            "      <th>237</th>\n",
                            "      <td>8829</td>\n",
                            "      <td>537493.000000</td>\n",
                            "      <td>1423.0000</td>\n",
                            "      <td>-10.73</td>\n",
                            "      <td>Hypergiants</td>\n",
                            "      <td>White</td>\n",
                            "      <td>A</td>\n",
                            "    </tr>\n",
                            "    <tr>\n",
                            "      <th>238</th>\n",
                            "      <td>9235</td>\n",
                            "      <td>404940.000000</td>\n",
                            "      <td>1112.0000</td>\n",
                            "      <td>-11.23</td>\n",
                            "      <td>Hypergiants</td>\n",
                            "      <td>White</td>\n",
                            "      <td>A</td>\n",
                            "    </tr>\n",
                            "    <tr>\n",
                            "      <th>239</th>\n",
                            "      <td>37882</td>\n",
                            "      <td>294903.000000</td>\n",
                            "      <td>1783.0000</td>\n",
                            "      <td>-7.80</td>\n",
                            "      <td>Hypergiants</td>\n",
                            "      <td>Blue</td>\n",
                            "      <td>O</td>\n",
                            "    </tr>\n",
                            "  </tbody>\n",
                            "</table>\n",
                            "<p>240 rows × 7 columns</p>\n",
                            "</div>"
                        ],
                        "text/plain": [
                            "     Temperature (K)  Luminosity(L/Lo)  Radius(R/Ro)  Absolute magnitude(Mv)  \\\n",
                            "0               3068          0.002400        0.1700                   16.12   \n",
                            "1               3042          0.000500        0.1542                   16.60   \n",
                            "2               2600          0.000300        0.1020                   18.70   \n",
                            "3               2800          0.000200        0.1600                   16.65   \n",
                            "4               1939          0.000138        0.1030                   20.06   \n",
                            "..               ...               ...           ...                     ...   \n",
                            "235            38940     374830.000000     1356.0000                   -9.93   \n",
                            "236            30839     834042.000000     1194.0000                  -10.63   \n",
                            "237             8829     537493.000000     1423.0000                  -10.73   \n",
                            "238             9235     404940.000000     1112.0000                  -11.23   \n",
                            "239            37882     294903.000000     1783.0000                   -7.80   \n",
                            "\n",
                            "       Star type Star color Spectral Class  \n",
                            "0    Brown Dwarf        Red              M  \n",
                            "1    Brown Dwarf        Red              M  \n",
                            "2    Brown Dwarf        Red              M  \n",
                            "3    Brown Dwarf        Red              M  \n",
                            "4    Brown Dwarf        Red              M  \n",
                            "..           ...        ...            ...  \n",
                            "235  Hypergiants       Blue              O  \n",
                            "236  Hypergiants       Blue              O  \n",
                            "237  Hypergiants      White              A  \n",
                            "238  Hypergiants      White              A  \n",
                            "239  Hypergiants       Blue              O  \n",
                            "\n",
                            "[240 rows x 7 columns]"
                        ]
                    },
                    "execution_count": 20,
                    "metadata": {},
                    "output_type": "execute_result"
                }
            ],
            "source": [
                "star_df"
            ]
        },
        {
            "cell_type": "code",
            "execution_count": 21,
            "metadata": {},
            "outputs": [
                {
                    "data": {
                        "application/vnd.plotly.v1+json": {
                            "config": {
                                "plotlyServerURL": "https://plot.ly"
                            },
                            "data": [
                                {
                                    "hovertemplate": "Star type=%{x}<br>Count=%{y}<extra></extra>",
                                    "legendgroup": "Brown Dwarf",
                                    "marker": {
                                        "color": "brown",
                                        "pattern": {
                                            "shape": ""
                                        }
                                    },
                                    "name": "Brown Dwarf",
                                    "orientation": "v",
                                    "showlegend": true,
                                    "textposition": "auto",
                                    "type": "bar",
                                    "x": [
                                        "Brown Dwarf"
                                    ],
                                    "xaxis": "x",
                                    "y": {
                                        "bdata": "KA==",
                                        "dtype": "i1"
                                    },
                                    "yaxis": "y"
                                },
                                {
                                    "hovertemplate": "Star type=%{x}<br>Count=%{y}<extra></extra>",
                                    "legendgroup": "Red Dwarf",
                                    "marker": {
                                        "color": "red",
                                        "pattern": {
                                            "shape": ""
                                        }
                                    },
                                    "name": "Red Dwarf",
                                    "orientation": "v",
                                    "showlegend": true,
                                    "textposition": "auto",
                                    "type": "bar",
                                    "x": [
                                        "Red Dwarf"
                                    ],
                                    "xaxis": "x",
                                    "y": {
                                        "bdata": "KA==",
                                        "dtype": "i1"
                                    },
                                    "yaxis": "y"
                                },
                                {
                                    "hovertemplate": "Star type=%{x}<br>Count=%{y}<extra></extra>",
                                    "legendgroup": "White Dwarf",
                                    "marker": {
                                        "color": "white",
                                        "pattern": {
                                            "shape": ""
                                        }
                                    },
                                    "name": "White Dwarf",
                                    "orientation": "v",
                                    "showlegend": true,
                                    "textposition": "auto",
                                    "type": "bar",
                                    "x": [
                                        "White Dwarf"
                                    ],
                                    "xaxis": "x",
                                    "y": {
                                        "bdata": "KA==",
                                        "dtype": "i1"
                                    },
                                    "yaxis": "y"
                                },
                                {
                                    "hovertemplate": "Star type=%{x}<br>Count=%{y}<extra></extra>",
                                    "legendgroup": "Main Sequence",
                                    "marker": {
                                        "color": "yellow",
                                        "pattern": {
                                            "shape": ""
                                        }
                                    },
                                    "name": "Main Sequence",
                                    "orientation": "v",
                                    "showlegend": true,
                                    "textposition": "auto",
                                    "type": "bar",
                                    "x": [
                                        "Main Sequence"
                                    ],
                                    "xaxis": "x",
                                    "y": {
                                        "bdata": "KA==",
                                        "dtype": "i1"
                                    },
                                    "yaxis": "y"
                                },
                                {
                                    "hovertemplate": "Star type=%{x}<br>Count=%{y}<extra></extra>",
                                    "legendgroup": "Supergiants",
                                    "marker": {
                                        "color": "lightskyblue",
                                        "pattern": {
                                            "shape": ""
                                        }
                                    },
                                    "name": "Supergiants",
                                    "orientation": "v",
                                    "showlegend": true,
                                    "textposition": "auto",
                                    "type": "bar",
                                    "x": [
                                        "Supergiants"
                                    ],
                                    "xaxis": "x",
                                    "y": {
                                        "bdata": "KA==",
                                        "dtype": "i1"
                                    },
                                    "yaxis": "y"
                                },
                                {
                                    "hovertemplate": "Star type=%{x}<br>Count=%{y}<extra></extra>",
                                    "legendgroup": "Hypergiants",
                                    "marker": {
                                        "color": "orange",
                                        "pattern": {
                                            "shape": ""
                                        }
                                    },
                                    "name": "Hypergiants",
                                    "orientation": "v",
                                    "showlegend": true,
                                    "textposition": "auto",
                                    "type": "bar",
                                    "x": [
                                        "Hypergiants"
                                    ],
                                    "xaxis": "x",
                                    "y": {
                                        "bdata": "KA==",
                                        "dtype": "i1"
                                    },
                                    "yaxis": "y"
                                }
                            ],
                            "layout": {
                                "annotations": [
                                    {
                                        "font": {
                                            "color": "red",
                                            "size": 14,
                                            "weight": "bold"
                                        },
                                        "showarrow": false,
                                        "text": "40",
                                        "x": "Brown Dwarf",
                                        "y": 40,
                                        "yshift": 10
                                    },
                                    {
                                        "font": {
                                            "color": "red",
                                            "size": 14,
                                            "weight": "bold"
                                        },
                                        "showarrow": false,
                                        "text": "40",
                                        "x": "Red Dwarf",
                                        "y": 40,
                                        "yshift": 10
                                    },
                                    {
                                        "font": {
                                            "color": "red",
                                            "size": 14,
                                            "weight": "bold"
                                        },
                                        "showarrow": false,
                                        "text": "40",
                                        "x": "White Dwarf",
                                        "y": 40,
                                        "yshift": 10
                                    },
                                    {
                                        "font": {
                                            "color": "red",
                                            "size": 14,
                                            "weight": "bold"
                                        },
                                        "showarrow": false,
                                        "text": "40",
                                        "x": "Main Sequence",
                                        "y": 40,
                                        "yshift": 10
                                    },
                                    {
                                        "font": {
                                            "color": "red",
                                            "size": 14,
                                            "weight": "bold"
                                        },
                                        "showarrow": false,
                                        "text": "40",
                                        "x": "Supergiants",
                                        "y": 40,
                                        "yshift": 10
                                    },
                                    {
                                        "font": {
                                            "color": "red",
                                            "size": 14,
                                            "weight": "bold"
                                        },
                                        "showarrow": false,
                                        "text": "40",
                                        "x": "Hypergiants",
                                        "y": 40,
                                        "yshift": 10
                                    }
                                ],
                                "barmode": "relative",
                                "legend": {
                                    "title": {
                                        "text": "Star type"
                                    },
                                    "tracegroupgap": 0
                                },
                                "paper_bgcolor": "rgba(0,0,0,0.8)",
                                "plot_bgcolor": "rgba(0,0,0,0.8)",
                                "template": {
                                    "data": {
                                        "bar": [
                                            {
                                                "error_x": {
                                                    "color": "#f2f5fa"
                                                },
                                                "error_y": {
                                                    "color": "#f2f5fa"
                                                },
                                                "marker": {
                                                    "line": {
                                                        "color": "rgb(17,17,17)",
                                                        "width": 0.5
                                                    },
                                                    "pattern": {
                                                        "fillmode": "overlay",
                                                        "size": 10,
                                                        "solidity": 0.2
                                                    }
                                                },
                                                "type": "bar"
                                            }
                                        ],
                                        "barpolar": [
                                            {
                                                "marker": {
                                                    "line": {
                                                        "color": "rgb(17,17,17)",
                                                        "width": 0.5
                                                    },
                                                    "pattern": {
                                                        "fillmode": "overlay",
                                                        "size": 10,
                                                        "solidity": 0.2
                                                    }
                                                },
                                                "type": "barpolar"
                                            }
                                        ],
                                        "carpet": [
                                            {
                                                "aaxis": {
                                                    "endlinecolor": "#A2B1C6",
                                                    "gridcolor": "#506784",
                                                    "linecolor": "#506784",
                                                    "minorgridcolor": "#506784",
                                                    "startlinecolor": "#A2B1C6"
                                                },
                                                "baxis": {
                                                    "endlinecolor": "#A2B1C6",
                                                    "gridcolor": "#506784",
                                                    "linecolor": "#506784",
                                                    "minorgridcolor": "#506784",
                                                    "startlinecolor": "#A2B1C6"
                                                },
                                                "type": "carpet"
                                            }
                                        ],
                                        "choropleth": [
                                            {
                                                "colorbar": {
                                                    "outlinewidth": 0,
                                                    "ticks": ""
                                                },
                                                "type": "choropleth"
                                            }
                                        ],
                                        "contour": [
                                            {
                                                "colorbar": {
                                                    "outlinewidth": 0,
                                                    "ticks": ""
                                                },
                                                "colorscale": [
                                                    [
                                                        0,
                                                        "#0d0887"
                                                    ],
                                                    [
                                                        0.1111111111111111,
                                                        "#46039f"
                                                    ],
                                                    [
                                                        0.2222222222222222,
                                                        "#7201a8"
                                                    ],
                                                    [
                                                        0.3333333333333333,
                                                        "#9c179e"
                                                    ],
                                                    [
                                                        0.4444444444444444,
                                                        "#bd3786"
                                                    ],
                                                    [
                                                        0.5555555555555556,
                                                        "#d8576b"
                                                    ],
                                                    [
                                                        0.6666666666666666,
                                                        "#ed7953"
                                                    ],
                                                    [
                                                        0.7777777777777778,
                                                        "#fb9f3a"
                                                    ],
                                                    [
                                                        0.8888888888888888,
                                                        "#fdca26"
                                                    ],
                                                    [
                                                        1,
                                                        "#f0f921"
                                                    ]
                                                ],
                                                "type": "contour"
                                            }
                                        ],
                                        "contourcarpet": [
                                            {
                                                "colorbar": {
                                                    "outlinewidth": 0,
                                                    "ticks": ""
                                                },
                                                "type": "contourcarpet"
                                            }
                                        ],
                                        "heatmap": [
                                            {
                                                "colorbar": {
                                                    "outlinewidth": 0,
                                                    "ticks": ""
                                                },
                                                "colorscale": [
                                                    [
                                                        0,
                                                        "#0d0887"
                                                    ],
                                                    [
                                                        0.1111111111111111,
                                                        "#46039f"
                                                    ],
                                                    [
                                                        0.2222222222222222,
                                                        "#7201a8"
                                                    ],
                                                    [
                                                        0.3333333333333333,
                                                        "#9c179e"
                                                    ],
                                                    [
                                                        0.4444444444444444,
                                                        "#bd3786"
                                                    ],
                                                    [
                                                        0.5555555555555556,
                                                        "#d8576b"
                                                    ],
                                                    [
                                                        0.6666666666666666,
                                                        "#ed7953"
                                                    ],
                                                    [
                                                        0.7777777777777778,
                                                        "#fb9f3a"
                                                    ],
                                                    [
                                                        0.8888888888888888,
                                                        "#fdca26"
                                                    ],
                                                    [
                                                        1,
                                                        "#f0f921"
                                                    ]
                                                ],
                                                "type": "heatmap"
                                            }
                                        ],
                                        "histogram": [
                                            {
                                                "marker": {
                                                    "pattern": {
                                                        "fillmode": "overlay",
                                                        "size": 10,
                                                        "solidity": 0.2
                                                    }
                                                },
                                                "type": "histogram"
                                            }
                                        ],
                                        "histogram2d": [
                                            {
                                                "colorbar": {
                                                    "outlinewidth": 0,
                                                    "ticks": ""
                                                },
                                                "colorscale": [
                                                    [
                                                        0,
                                                        "#0d0887"
                                                    ],
                                                    [
                                                        0.1111111111111111,
                                                        "#46039f"
                                                    ],
                                                    [
                                                        0.2222222222222222,
                                                        "#7201a8"
                                                    ],
                                                    [
                                                        0.3333333333333333,
                                                        "#9c179e"
                                                    ],
                                                    [
                                                        0.4444444444444444,
                                                        "#bd3786"
                                                    ],
                                                    [
                                                        0.5555555555555556,
                                                        "#d8576b"
                                                    ],
                                                    [
                                                        0.6666666666666666,
                                                        "#ed7953"
                                                    ],
                                                    [
                                                        0.7777777777777778,
                                                        "#fb9f3a"
                                                    ],
                                                    [
                                                        0.8888888888888888,
                                                        "#fdca26"
                                                    ],
                                                    [
                                                        1,
                                                        "#f0f921"
                                                    ]
                                                ],
                                                "type": "histogram2d"
                                            }
                                        ],
                                        "histogram2dcontour": [
                                            {
                                                "colorbar": {
                                                    "outlinewidth": 0,
                                                    "ticks": ""
                                                },
                                                "colorscale": [
                                                    [
                                                        0,
                                                        "#0d0887"
                                                    ],
                                                    [
                                                        0.1111111111111111,
                                                        "#46039f"
                                                    ],
                                                    [
                                                        0.2222222222222222,
                                                        "#7201a8"
                                                    ],
                                                    [
                                                        0.3333333333333333,
                                                        "#9c179e"
                                                    ],
                                                    [
                                                        0.4444444444444444,
                                                        "#bd3786"
                                                    ],
                                                    [
                                                        0.5555555555555556,
                                                        "#d8576b"
                                                    ],
                                                    [
                                                        0.6666666666666666,
                                                        "#ed7953"
                                                    ],
                                                    [
                                                        0.7777777777777778,
                                                        "#fb9f3a"
                                                    ],
                                                    [
                                                        0.8888888888888888,
                                                        "#fdca26"
                                                    ],
                                                    [
                                                        1,
                                                        "#f0f921"
                                                    ]
                                                ],
                                                "type": "histogram2dcontour"
                                            }
                                        ],
                                        "mesh3d": [
                                            {
                                                "colorbar": {
                                                    "outlinewidth": 0,
                                                    "ticks": ""
                                                },
                                                "type": "mesh3d"
                                            }
                                        ],
                                        "parcoords": [
                                            {
                                                "line": {
                                                    "colorbar": {
                                                        "outlinewidth": 0,
                                                        "ticks": ""
                                                    }
                                                },
                                                "type": "parcoords"
                                            }
                                        ],
                                        "pie": [
                                            {
                                                "automargin": true,
                                                "type": "pie"
                                            }
                                        ],
                                        "scatter": [
                                            {
                                                "marker": {
                                                    "line": {
                                                        "color": "#283442"
                                                    }
                                                },
                                                "type": "scatter"
                                            }
                                        ],
                                        "scatter3d": [
                                            {
                                                "line": {
                                                    "colorbar": {
                                                        "outlinewidth": 0,
                                                        "ticks": ""
                                                    }
                                                },
                                                "marker": {
                                                    "colorbar": {
                                                        "outlinewidth": 0,
                                                        "ticks": ""
                                                    }
                                                },
                                                "type": "scatter3d"
                                            }
                                        ],
                                        "scattercarpet": [
                                            {
                                                "marker": {
                                                    "colorbar": {
                                                        "outlinewidth": 0,
                                                        "ticks": ""
                                                    }
                                                },
                                                "type": "scattercarpet"
                                            }
                                        ],
                                        "scattergeo": [
                                            {
                                                "marker": {
                                                    "colorbar": {
                                                        "outlinewidth": 0,
                                                        "ticks": ""
                                                    }
                                                },
                                                "type": "scattergeo"
                                            }
                                        ],
                                        "scattergl": [
                                            {
                                                "marker": {
                                                    "line": {
                                                        "color": "#283442"
                                                    }
                                                },
                                                "type": "scattergl"
                                            }
                                        ],
                                        "scattermap": [
                                            {
                                                "marker": {
                                                    "colorbar": {
                                                        "outlinewidth": 0,
                                                        "ticks": ""
                                                    }
                                                },
                                                "type": "scattermap"
                                            }
                                        ],
                                        "scattermapbox": [
                                            {
                                                "marker": {
                                                    "colorbar": {
                                                        "outlinewidth": 0,
                                                        "ticks": ""
                                                    }
                                                },
                                                "type": "scattermapbox"
                                            }
                                        ],
                                        "scatterpolar": [
                                            {
                                                "marker": {
                                                    "colorbar": {
                                                        "outlinewidth": 0,
                                                        "ticks": ""
                                                    }
                                                },
                                                "type": "scatterpolar"
                                            }
                                        ],
                                        "scatterpolargl": [
                                            {
                                                "marker": {
                                                    "colorbar": {
                                                        "outlinewidth": 0,
                                                        "ticks": ""
                                                    }
                                                },
                                                "type": "scatterpolargl"
                                            }
                                        ],
                                        "scatterternary": [
                                            {
                                                "marker": {
                                                    "colorbar": {
                                                        "outlinewidth": 0,
                                                        "ticks": ""
                                                    }
                                                },
                                                "type": "scatterternary"
                                            }
                                        ],
                                        "surface": [
                                            {
                                                "colorbar": {
                                                    "outlinewidth": 0,
                                                    "ticks": ""
                                                },
                                                "colorscale": [
                                                    [
                                                        0,
                                                        "#0d0887"
                                                    ],
                                                    [
                                                        0.1111111111111111,
                                                        "#46039f"
                                                    ],
                                                    [
                                                        0.2222222222222222,
                                                        "#7201a8"
                                                    ],
                                                    [
                                                        0.3333333333333333,
                                                        "#9c179e"
                                                    ],
                                                    [
                                                        0.4444444444444444,
                                                        "#bd3786"
                                                    ],
                                                    [
                                                        0.5555555555555556,
                                                        "#d8576b"
                                                    ],
                                                    [
                                                        0.6666666666666666,
                                                        "#ed7953"
                                                    ],
                                                    [
                                                        0.7777777777777778,
                                                        "#fb9f3a"
                                                    ],
                                                    [
                                                        0.8888888888888888,
                                                        "#fdca26"
                                                    ],
                                                    [
                                                        1,
                                                        "#f0f921"
                                                    ]
                                                ],
                                                "type": "surface"
                                            }
                                        ],
                                        "table": [
                                            {
                                                "cells": {
                                                    "fill": {
                                                        "color": "#506784"
                                                    },
                                                    "line": {
                                                        "color": "rgb(17,17,17)"
                                                    }
                                                },
                                                "header": {
                                                    "fill": {
                                                        "color": "#2a3f5f"
                                                    },
                                                    "line": {
                                                        "color": "rgb(17,17,17)"
                                                    }
                                                },
                                                "type": "table"
                                            }
                                        ]
                                    },
                                    "layout": {
                                        "annotationdefaults": {
                                            "arrowcolor": "#f2f5fa",
                                            "arrowhead": 0,
                                            "arrowwidth": 1
                                        },
                                        "autotypenumbers": "strict",
                                        "coloraxis": {
                                            "colorbar": {
                                                "outlinewidth": 0,
                                                "ticks": ""
                                            }
                                        },
                                        "colorscale": {
                                            "diverging": [
                                                [
                                                    0,
                                                    "#8e0152"
                                                ],
                                                [
                                                    0.1,
                                                    "#c51b7d"
                                                ],
                                                [
                                                    0.2,
                                                    "#de77ae"
                                                ],
                                                [
                                                    0.3,
                                                    "#f1b6da"
                                                ],
                                                [
                                                    0.4,
                                                    "#fde0ef"
                                                ],
                                                [
                                                    0.5,
                                                    "#f7f7f7"
                                                ],
                                                [
                                                    0.6,
                                                    "#e6f5d0"
                                                ],
                                                [
                                                    0.7,
                                                    "#b8e186"
                                                ],
                                                [
                                                    0.8,
                                                    "#7fbc41"
                                                ],
                                                [
                                                    0.9,
                                                    "#4d9221"
                                                ],
                                                [
                                                    1,
                                                    "#276419"
                                                ]
                                            ],
                                            "sequential": [
                                                [
                                                    0,
                                                    "#0d0887"
                                                ],
                                                [
                                                    0.1111111111111111,
                                                    "#46039f"
                                                ],
                                                [
                                                    0.2222222222222222,
                                                    "#7201a8"
                                                ],
                                                [
                                                    0.3333333333333333,
                                                    "#9c179e"
                                                ],
                                                [
                                                    0.4444444444444444,
                                                    "#bd3786"
                                                ],
                                                [
                                                    0.5555555555555556,
                                                    "#d8576b"
                                                ],
                                                [
                                                    0.6666666666666666,
                                                    "#ed7953"
                                                ],
                                                [
                                                    0.7777777777777778,
                                                    "#fb9f3a"
                                                ],
                                                [
                                                    0.8888888888888888,
                                                    "#fdca26"
                                                ],
                                                [
                                                    1,
                                                    "#f0f921"
                                                ]
                                            ],
                                            "sequentialminus": [
                                                [
                                                    0,
                                                    "#0d0887"
                                                ],
                                                [
                                                    0.1111111111111111,
                                                    "#46039f"
                                                ],
                                                [
                                                    0.2222222222222222,
                                                    "#7201a8"
                                                ],
                                                [
                                                    0.3333333333333333,
                                                    "#9c179e"
                                                ],
                                                [
                                                    0.4444444444444444,
                                                    "#bd3786"
                                                ],
                                                [
                                                    0.5555555555555556,
                                                    "#d8576b"
                                                ],
                                                [
                                                    0.6666666666666666,
                                                    "#ed7953"
                                                ],
                                                [
                                                    0.7777777777777778,
                                                    "#fb9f3a"
                                                ],
                                                [
                                                    0.8888888888888888,
                                                    "#fdca26"
                                                ],
                                                [
                                                    1,
                                                    "#f0f921"
                                                ]
                                            ]
                                        },
                                        "colorway": [
                                            "#636efa",
                                            "#EF553B",
                                            "#00cc96",
                                            "#ab63fa",
                                            "#FFA15A",
                                            "#19d3f3",
                                            "#FF6692",
                                            "#B6E880",
                                            "#FF97FF",
                                            "#FECB52"
                                        ],
                                        "font": {
                                            "color": "#f2f5fa"
                                        },
                                        "geo": {
                                            "bgcolor": "rgb(17,17,17)",
                                            "lakecolor": "rgb(17,17,17)",
                                            "landcolor": "rgb(17,17,17)",
                                            "showlakes": true,
                                            "showland": true,
                                            "subunitcolor": "#506784"
                                        },
                                        "hoverlabel": {
                                            "align": "left"
                                        },
                                        "hovermode": "closest",
                                        "mapbox": {
                                            "style": "dark"
                                        },
                                        "paper_bgcolor": "rgb(17,17,17)",
                                        "plot_bgcolor": "rgb(17,17,17)",
                                        "polar": {
                                            "angularaxis": {
                                                "gridcolor": "#506784",
                                                "linecolor": "#506784",
                                                "ticks": ""
                                            },
                                            "bgcolor": "rgb(17,17,17)",
                                            "radialaxis": {
                                                "gridcolor": "#506784",
                                                "linecolor": "#506784",
                                                "ticks": ""
                                            }
                                        },
                                        "scene": {
                                            "xaxis": {
                                                "backgroundcolor": "rgb(17,17,17)",
                                                "gridcolor": "#506784",
                                                "gridwidth": 2,
                                                "linecolor": "#506784",
                                                "showbackground": true,
                                                "ticks": "",
                                                "zerolinecolor": "#C8D4E3"
                                            },
                                            "yaxis": {
                                                "backgroundcolor": "rgb(17,17,17)",
                                                "gridcolor": "#506784",
                                                "gridwidth": 2,
                                                "linecolor": "#506784",
                                                "showbackground": true,
                                                "ticks": "",
                                                "zerolinecolor": "#C8D4E3"
                                            },
                                            "zaxis": {
                                                "backgroundcolor": "rgb(17,17,17)",
                                                "gridcolor": "#506784",
                                                "gridwidth": 2,
                                                "linecolor": "#506784",
                                                "showbackground": true,
                                                "ticks": "",
                                                "zerolinecolor": "#C8D4E3"
                                            }
                                        },
                                        "shapedefaults": {
                                            "line": {
                                                "color": "#f2f5fa"
                                            }
                                        },
                                        "sliderdefaults": {
                                            "bgcolor": "#C8D4E3",
                                            "bordercolor": "rgb(17,17,17)",
                                            "borderwidth": 1,
                                            "tickwidth": 0
                                        },
                                        "ternary": {
                                            "aaxis": {
                                                "gridcolor": "#506784",
                                                "linecolor": "#506784",
                                                "ticks": ""
                                            },
                                            "baxis": {
                                                "gridcolor": "#506784",
                                                "linecolor": "#506784",
                                                "ticks": ""
                                            },
                                            "bgcolor": "rgb(17,17,17)",
                                            "caxis": {
                                                "gridcolor": "#506784",
                                                "linecolor": "#506784",
                                                "ticks": ""
                                            }
                                        },
                                        "title": {
                                            "x": 0.05
                                        },
                                        "updatemenudefaults": {
                                            "bgcolor": "#506784",
                                            "borderwidth": 0
                                        },
                                        "xaxis": {
                                            "automargin": true,
                                            "gridcolor": "#283442",
                                            "linecolor": "#506784",
                                            "ticks": "",
                                            "title": {
                                                "standoff": 15
                                            },
                                            "zerolinecolor": "#283442",
                                            "zerolinewidth": 2
                                        },
                                        "yaxis": {
                                            "automargin": true,
                                            "gridcolor": "#283442",
                                            "linecolor": "#506784",
                                            "ticks": "",
                                            "title": {
                                                "standoff": 15
                                            },
                                            "zerolinecolor": "#283442",
                                            "zerolinewidth": 2
                                        }
                                    }
                                },
                                "title": {
                                    "font": {
                                        "color": "royalblue",
                                        "family": "Arial",
                                        "size": 20,
                                        "weight": "bold"
                                    },
                                    "text": "Visualize star count per star type",
                                    "x": 0.5
                                },
                                "xaxis": {
                                    "anchor": "y",
                                    "categoryarray": [
                                        "Brown Dwarf",
                                        "Red Dwarf",
                                        "White Dwarf",
                                        "Main Sequence",
                                        "Supergiants",
                                        "Hypergiants"
                                    ],
                                    "categoryorder": "array",
                                    "domain": [
                                        0,
                                        1
                                    ],
                                    "tickangle": 45,
                                    "tickfont": {
                                        "color": "lime"
                                    },
                                    "title": {
                                        "text": ""
                                    }
                                },
                                "yaxis": {
                                    "anchor": "x",
                                    "domain": [
                                        0,
                                        1
                                    ],
                                    "tickfont": {
                                        "color": "pink"
                                    },
                                    "title": {
                                        "text": "# of Stars"
                                    }
                                }
                            }
                        }
                    },
                    "metadata": {},
                    "output_type": "display_data"
                }
            ],
            "source": [
                "# 1. Bar chart to visualize the count of stars with respective type\n",
                "star_type_counts = star_df['Star type'].value_counts().reset_index()\n",
                "star_type_counts.columns = ['Star type', 'Count']\n",
                "\n",
                "# Sort the data to match the original visualization order\n",
                "star_type_counts['Order'] = star_type_counts['Star type'].map({\n",
                "    'Brown Dwarf': 0,\n",
                "    'Red Dwarf': 1,\n",
                "    'White Dwarf': 2, \n",
                "    'Main Sequence': 3,\n",
                "    'Supergiants': 4,\n",
                "    'Hypergiants': 5\n",
                "})\n",
                "star_type_counts = star_type_counts.sort_values('Order')\n",
                "\n",
                "# Create the customized bar chart\n",
                "fig_bar = px.bar(\n",
                "    star_type_counts, \n",
                "    x='Star type', \n",
                "    y='Count',\n",
                "    title='Visualize star count per star type',\n",
                "    color='Star type',\n",
                "    color_discrete_sequence=['brown', 'red', 'white', 'yellow', 'lightskyblue', 'orange']\n",
                ")\n",
                "\n",
                "# Customize further\n",
                "fig_bar.update_layout(\n",
                "    title_font=dict(color='royalblue', size=20, family='Arial', weight='bold'),\n",
                "    title_x=0.5,\n",
                "    plot_bgcolor='rgba(0,0,0,0.8)',\n",
                "    paper_bgcolor='rgba(0,0,0,0.8)', \n",
                "    yaxis_title=\"# of Stars\",\n",
                "    xaxis_title=\"\",\n",
                "    xaxis=dict(tickangle=45, tickfont=dict(color='lime')),\n",
                "    yaxis=dict(tickfont=dict(color='pink')),\n",
                ")\n",
                "\n",
                "# Add labels on top of bars\n",
                "for i, row in star_type_counts.iterrows():\n",
                "    fig_bar.add_annotation(\n",
                "        x=row['Star type'],\n",
                "        y=row['Count'],\n",
                "        text=str(row['Count']),\n",
                "        font=dict(color='red', size=14, weight='bold'),\n",
                "        showarrow=False,\n",
                "        yshift=10\n",
                "    )\n",
                "\n",
                "fig_bar.show()\n",
                "\n",
                "fig_bar.write_image(base_dir + \"plotly_barplot_star_count.png\")\n"
            ]
        },
        {
            "cell_type": "code",
            "execution_count": 22,
            "metadata": {},
            "outputs": [
                {
                    "data": {
                        "application/vnd.plotly.v1+json": {
                            "config": {
                                "plotlyServerURL": "https://plot.ly"
                            },
                            "data": [
                                {
                                    "hovertemplate": "Star color=%{x}<br>Count=%{y}<extra></extra>",
                                    "legendgroup": "Red",
                                    "marker": {
                                        "color": "#636efa",
                                        "pattern": {
                                            "shape": ""
                                        }
                                    },
                                    "name": "Red",
                                    "orientation": "v",
                                    "showlegend": true,
                                    "textposition": "auto",
                                    "type": "bar",
                                    "x": [
                                        "Red"
                                    ],
                                    "xaxis": "x",
                                    "y": {
                                        "bdata": "dA==",
                                        "dtype": "i1"
                                    },
                                    "yaxis": "y"
                                },
                                {
                                    "hovertemplate": "Star color=%{x}<br>Count=%{y}<extra></extra>",
                                    "legendgroup": "Blue",
                                    "marker": {
                                        "color": "#EF553B",
                                        "pattern": {
                                            "shape": ""
                                        }
                                    },
                                    "name": "Blue",
                                    "orientation": "v",
                                    "showlegend": true,
                                    "textposition": "auto",
                                    "type": "bar",
                                    "x": [
                                        "Blue"
                                    ],
                                    "xaxis": "x",
                                    "y": {
                                        "bdata": "OA==",
                                        "dtype": "i1"
                                    },
                                    "yaxis": "y"
                                },
                                {
                                    "hovertemplate": "Star color=%{x}<br>Count=%{y}<extra></extra>",
                                    "legendgroup": "Blue-White",
                                    "marker": {
                                        "color": "#00cc96",
                                        "pattern": {
                                            "shape": ""
                                        }
                                    },
                                    "name": "Blue-White",
                                    "orientation": "v",
                                    "showlegend": true,
                                    "textposition": "auto",
                                    "type": "bar",
                                    "x": [
                                        "Blue-White"
                                    ],
                                    "xaxis": "x",
                                    "y": {
                                        "bdata": "KQ==",
                                        "dtype": "i1"
                                    },
                                    "yaxis": "y"
                                },
                                {
                                    "hovertemplate": "Star color=%{x}<br>Count=%{y}<extra></extra>",
                                    "legendgroup": "Yellow-White",
                                    "marker": {
                                        "color": "#ab63fa",
                                        "pattern": {
                                            "shape": ""
                                        }
                                    },
                                    "name": "Yellow-White",
                                    "orientation": "v",
                                    "showlegend": true,
                                    "textposition": "auto",
                                    "type": "bar",
                                    "x": [
                                        "Yellow-White"
                                    ],
                                    "xaxis": "x",
                                    "y": {
                                        "bdata": "Dw==",
                                        "dtype": "i1"
                                    },
                                    "yaxis": "y"
                                },
                                {
                                    "hovertemplate": "Star color=%{x}<br>Count=%{y}<extra></extra>",
                                    "legendgroup": "White",
                                    "marker": {
                                        "color": "#FFA15A",
                                        "pattern": {
                                            "shape": ""
                                        }
                                    },
                                    "name": "White",
                                    "orientation": "v",
                                    "showlegend": true,
                                    "textposition": "auto",
                                    "type": "bar",
                                    "x": [
                                        "White"
                                    ],
                                    "xaxis": "x",
                                    "y": {
                                        "bdata": "DA==",
                                        "dtype": "i1"
                                    },
                                    "yaxis": "y"
                                }
                            ],
                            "layout": {
                                "annotations": [
                                    {
                                        "font": {
                                            "color": "red",
                                            "size": 14,
                                            "weight": "bold"
                                        },
                                        "showarrow": false,
                                        "text": "116",
                                        "x": "Red",
                                        "y": 116,
                                        "yshift": 10
                                    },
                                    {
                                        "font": {
                                            "color": "red",
                                            "size": 14,
                                            "weight": "bold"
                                        },
                                        "showarrow": false,
                                        "text": "56",
                                        "x": "Blue",
                                        "y": 56,
                                        "yshift": 10
                                    },
                                    {
                                        "font": {
                                            "color": "red",
                                            "size": 14,
                                            "weight": "bold"
                                        },
                                        "showarrow": false,
                                        "text": "41",
                                        "x": "Blue-White",
                                        "y": 41,
                                        "yshift": 10
                                    },
                                    {
                                        "font": {
                                            "color": "red",
                                            "size": 14,
                                            "weight": "bold"
                                        },
                                        "showarrow": false,
                                        "text": "15",
                                        "x": "Yellow-White",
                                        "y": 15,
                                        "yshift": 10
                                    },
                                    {
                                        "font": {
                                            "color": "red",
                                            "size": 14,
                                            "weight": "bold"
                                        },
                                        "showarrow": false,
                                        "text": "12",
                                        "x": "White",
                                        "y": 12,
                                        "yshift": 10
                                    }
                                ],
                                "barmode": "relative",
                                "legend": {
                                    "title": {
                                        "text": "Star color"
                                    },
                                    "tracegroupgap": 0
                                },
                                "paper_bgcolor": "rgba(0,0,0,0.8)",
                                "plot_bgcolor": "rgba(0,0,0,0.8)",
                                "template": {
                                    "data": {
                                        "bar": [
                                            {
                                                "error_x": {
                                                    "color": "#f2f5fa"
                                                },
                                                "error_y": {
                                                    "color": "#f2f5fa"
                                                },
                                                "marker": {
                                                    "line": {
                                                        "color": "rgb(17,17,17)",
                                                        "width": 0.5
                                                    },
                                                    "pattern": {
                                                        "fillmode": "overlay",
                                                        "size": 10,
                                                        "solidity": 0.2
                                                    }
                                                },
                                                "type": "bar"
                                            }
                                        ],
                                        "barpolar": [
                                            {
                                                "marker": {
                                                    "line": {
                                                        "color": "rgb(17,17,17)",
                                                        "width": 0.5
                                                    },
                                                    "pattern": {
                                                        "fillmode": "overlay",
                                                        "size": 10,
                                                        "solidity": 0.2
                                                    }
                                                },
                                                "type": "barpolar"
                                            }
                                        ],
                                        "carpet": [
                                            {
                                                "aaxis": {
                                                    "endlinecolor": "#A2B1C6",
                                                    "gridcolor": "#506784",
                                                    "linecolor": "#506784",
                                                    "minorgridcolor": "#506784",
                                                    "startlinecolor": "#A2B1C6"
                                                },
                                                "baxis": {
                                                    "endlinecolor": "#A2B1C6",
                                                    "gridcolor": "#506784",
                                                    "linecolor": "#506784",
                                                    "minorgridcolor": "#506784",
                                                    "startlinecolor": "#A2B1C6"
                                                },
                                                "type": "carpet"
                                            }
                                        ],
                                        "choropleth": [
                                            {
                                                "colorbar": {
                                                    "outlinewidth": 0,
                                                    "ticks": ""
                                                },
                                                "type": "choropleth"
                                            }
                                        ],
                                        "contour": [
                                            {
                                                "colorbar": {
                                                    "outlinewidth": 0,
                                                    "ticks": ""
                                                },
                                                "colorscale": [
                                                    [
                                                        0,
                                                        "#0d0887"
                                                    ],
                                                    [
                                                        0.1111111111111111,
                                                        "#46039f"
                                                    ],
                                                    [
                                                        0.2222222222222222,
                                                        "#7201a8"
                                                    ],
                                                    [
                                                        0.3333333333333333,
                                                        "#9c179e"
                                                    ],
                                                    [
                                                        0.4444444444444444,
                                                        "#bd3786"
                                                    ],
                                                    [
                                                        0.5555555555555556,
                                                        "#d8576b"
                                                    ],
                                                    [
                                                        0.6666666666666666,
                                                        "#ed7953"
                                                    ],
                                                    [
                                                        0.7777777777777778,
                                                        "#fb9f3a"
                                                    ],
                                                    [
                                                        0.8888888888888888,
                                                        "#fdca26"
                                                    ],
                                                    [
                                                        1,
                                                        "#f0f921"
                                                    ]
                                                ],
                                                "type": "contour"
                                            }
                                        ],
                                        "contourcarpet": [
                                            {
                                                "colorbar": {
                                                    "outlinewidth": 0,
                                                    "ticks": ""
                                                },
                                                "type": "contourcarpet"
                                            }
                                        ],
                                        "heatmap": [
                                            {
                                                "colorbar": {
                                                    "outlinewidth": 0,
                                                    "ticks": ""
                                                },
                                                "colorscale": [
                                                    [
                                                        0,
                                                        "#0d0887"
                                                    ],
                                                    [
                                                        0.1111111111111111,
                                                        "#46039f"
                                                    ],
                                                    [
                                                        0.2222222222222222,
                                                        "#7201a8"
                                                    ],
                                                    [
                                                        0.3333333333333333,
                                                        "#9c179e"
                                                    ],
                                                    [
                                                        0.4444444444444444,
                                                        "#bd3786"
                                                    ],
                                                    [
                                                        0.5555555555555556,
                                                        "#d8576b"
                                                    ],
                                                    [
                                                        0.6666666666666666,
                                                        "#ed7953"
                                                    ],
                                                    [
                                                        0.7777777777777778,
                                                        "#fb9f3a"
                                                    ],
                                                    [
                                                        0.8888888888888888,
                                                        "#fdca26"
                                                    ],
                                                    [
                                                        1,
                                                        "#f0f921"
                                                    ]
                                                ],
                                                "type": "heatmap"
                                            }
                                        ],
                                        "histogram": [
                                            {
                                                "marker": {
                                                    "pattern": {
                                                        "fillmode": "overlay",
                                                        "size": 10,
                                                        "solidity": 0.2
                                                    }
                                                },
                                                "type": "histogram"
                                            }
                                        ],
                                        "histogram2d": [
                                            {
                                                "colorbar": {
                                                    "outlinewidth": 0,
                                                    "ticks": ""
                                                },
                                                "colorscale": [
                                                    [
                                                        0,
                                                        "#0d0887"
                                                    ],
                                                    [
                                                        0.1111111111111111,
                                                        "#46039f"
                                                    ],
                                                    [
                                                        0.2222222222222222,
                                                        "#7201a8"
                                                    ],
                                                    [
                                                        0.3333333333333333,
                                                        "#9c179e"
                                                    ],
                                                    [
                                                        0.4444444444444444,
                                                        "#bd3786"
                                                    ],
                                                    [
                                                        0.5555555555555556,
                                                        "#d8576b"
                                                    ],
                                                    [
                                                        0.6666666666666666,
                                                        "#ed7953"
                                                    ],
                                                    [
                                                        0.7777777777777778,
                                                        "#fb9f3a"
                                                    ],
                                                    [
                                                        0.8888888888888888,
                                                        "#fdca26"
                                                    ],
                                                    [
                                                        1,
                                                        "#f0f921"
                                                    ]
                                                ],
                                                "type": "histogram2d"
                                            }
                                        ],
                                        "histogram2dcontour": [
                                            {
                                                "colorbar": {
                                                    "outlinewidth": 0,
                                                    "ticks": ""
                                                },
                                                "colorscale": [
                                                    [
                                                        0,
                                                        "#0d0887"
                                                    ],
                                                    [
                                                        0.1111111111111111,
                                                        "#46039f"
                                                    ],
                                                    [
                                                        0.2222222222222222,
                                                        "#7201a8"
                                                    ],
                                                    [
                                                        0.3333333333333333,
                                                        "#9c179e"
                                                    ],
                                                    [
                                                        0.4444444444444444,
                                                        "#bd3786"
                                                    ],
                                                    [
                                                        0.5555555555555556,
                                                        "#d8576b"
                                                    ],
                                                    [
                                                        0.6666666666666666,
                                                        "#ed7953"
                                                    ],
                                                    [
                                                        0.7777777777777778,
                                                        "#fb9f3a"
                                                    ],
                                                    [
                                                        0.8888888888888888,
                                                        "#fdca26"
                                                    ],
                                                    [
                                                        1,
                                                        "#f0f921"
                                                    ]
                                                ],
                                                "type": "histogram2dcontour"
                                            }
                                        ],
                                        "mesh3d": [
                                            {
                                                "colorbar": {
                                                    "outlinewidth": 0,
                                                    "ticks": ""
                                                },
                                                "type": "mesh3d"
                                            }
                                        ],
                                        "parcoords": [
                                            {
                                                "line": {
                                                    "colorbar": {
                                                        "outlinewidth": 0,
                                                        "ticks": ""
                                                    }
                                                },
                                                "type": "parcoords"
                                            }
                                        ],
                                        "pie": [
                                            {
                                                "automargin": true,
                                                "type": "pie"
                                            }
                                        ],
                                        "scatter": [
                                            {
                                                "marker": {
                                                    "line": {
                                                        "color": "#283442"
                                                    }
                                                },
                                                "type": "scatter"
                                            }
                                        ],
                                        "scatter3d": [
                                            {
                                                "line": {
                                                    "colorbar": {
                                                        "outlinewidth": 0,
                                                        "ticks": ""
                                                    }
                                                },
                                                "marker": {
                                                    "colorbar": {
                                                        "outlinewidth": 0,
                                                        "ticks": ""
                                                    }
                                                },
                                                "type": "scatter3d"
                                            }
                                        ],
                                        "scattercarpet": [
                                            {
                                                "marker": {
                                                    "colorbar": {
                                                        "outlinewidth": 0,
                                                        "ticks": ""
                                                    }
                                                },
                                                "type": "scattercarpet"
                                            }
                                        ],
                                        "scattergeo": [
                                            {
                                                "marker": {
                                                    "colorbar": {
                                                        "outlinewidth": 0,
                                                        "ticks": ""
                                                    }
                                                },
                                                "type": "scattergeo"
                                            }
                                        ],
                                        "scattergl": [
                                            {
                                                "marker": {
                                                    "line": {
                                                        "color": "#283442"
                                                    }
                                                },
                                                "type": "scattergl"
                                            }
                                        ],
                                        "scattermap": [
                                            {
                                                "marker": {
                                                    "colorbar": {
                                                        "outlinewidth": 0,
                                                        "ticks": ""
                                                    }
                                                },
                                                "type": "scattermap"
                                            }
                                        ],
                                        "scattermapbox": [
                                            {
                                                "marker": {
                                                    "colorbar": {
                                                        "outlinewidth": 0,
                                                        "ticks": ""
                                                    }
                                                },
                                                "type": "scattermapbox"
                                            }
                                        ],
                                        "scatterpolar": [
                                            {
                                                "marker": {
                                                    "colorbar": {
                                                        "outlinewidth": 0,
                                                        "ticks": ""
                                                    }
                                                },
                                                "type": "scatterpolar"
                                            }
                                        ],
                                        "scatterpolargl": [
                                            {
                                                "marker": {
                                                    "colorbar": {
                                                        "outlinewidth": 0,
                                                        "ticks": ""
                                                    }
                                                },
                                                "type": "scatterpolargl"
                                            }
                                        ],
                                        "scatterternary": [
                                            {
                                                "marker": {
                                                    "colorbar": {
                                                        "outlinewidth": 0,
                                                        "ticks": ""
                                                    }
                                                },
                                                "type": "scatterternary"
                                            }
                                        ],
                                        "surface": [
                                            {
                                                "colorbar": {
                                                    "outlinewidth": 0,
                                                    "ticks": ""
                                                },
                                                "colorscale": [
                                                    [
                                                        0,
                                                        "#0d0887"
                                                    ],
                                                    [
                                                        0.1111111111111111,
                                                        "#46039f"
                                                    ],
                                                    [
                                                        0.2222222222222222,
                                                        "#7201a8"
                                                    ],
                                                    [
                                                        0.3333333333333333,
                                                        "#9c179e"
                                                    ],
                                                    [
                                                        0.4444444444444444,
                                                        "#bd3786"
                                                    ],
                                                    [
                                                        0.5555555555555556,
                                                        "#d8576b"
                                                    ],
                                                    [
                                                        0.6666666666666666,
                                                        "#ed7953"
                                                    ],
                                                    [
                                                        0.7777777777777778,
                                                        "#fb9f3a"
                                                    ],
                                                    [
                                                        0.8888888888888888,
                                                        "#fdca26"
                                                    ],
                                                    [
                                                        1,
                                                        "#f0f921"
                                                    ]
                                                ],
                                                "type": "surface"
                                            }
                                        ],
                                        "table": [
                                            {
                                                "cells": {
                                                    "fill": {
                                                        "color": "#506784"
                                                    },
                                                    "line": {
                                                        "color": "rgb(17,17,17)"
                                                    }
                                                },
                                                "header": {
                                                    "fill": {
                                                        "color": "#2a3f5f"
                                                    },
                                                    "line": {
                                                        "color": "rgb(17,17,17)"
                                                    }
                                                },
                                                "type": "table"
                                            }
                                        ]
                                    },
                                    "layout": {
                                        "annotationdefaults": {
                                            "arrowcolor": "#f2f5fa",
                                            "arrowhead": 0,
                                            "arrowwidth": 1
                                        },
                                        "autotypenumbers": "strict",
                                        "coloraxis": {
                                            "colorbar": {
                                                "outlinewidth": 0,
                                                "ticks": ""
                                            }
                                        },
                                        "colorscale": {
                                            "diverging": [
                                                [
                                                    0,
                                                    "#8e0152"
                                                ],
                                                [
                                                    0.1,
                                                    "#c51b7d"
                                                ],
                                                [
                                                    0.2,
                                                    "#de77ae"
                                                ],
                                                [
                                                    0.3,
                                                    "#f1b6da"
                                                ],
                                                [
                                                    0.4,
                                                    "#fde0ef"
                                                ],
                                                [
                                                    0.5,
                                                    "#f7f7f7"
                                                ],
                                                [
                                                    0.6,
                                                    "#e6f5d0"
                                                ],
                                                [
                                                    0.7,
                                                    "#b8e186"
                                                ],
                                                [
                                                    0.8,
                                                    "#7fbc41"
                                                ],
                                                [
                                                    0.9,
                                                    "#4d9221"
                                                ],
                                                [
                                                    1,
                                                    "#276419"
                                                ]
                                            ],
                                            "sequential": [
                                                [
                                                    0,
                                                    "#0d0887"
                                                ],
                                                [
                                                    0.1111111111111111,
                                                    "#46039f"
                                                ],
                                                [
                                                    0.2222222222222222,
                                                    "#7201a8"
                                                ],
                                                [
                                                    0.3333333333333333,
                                                    "#9c179e"
                                                ],
                                                [
                                                    0.4444444444444444,
                                                    "#bd3786"
                                                ],
                                                [
                                                    0.5555555555555556,
                                                    "#d8576b"
                                                ],
                                                [
                                                    0.6666666666666666,
                                                    "#ed7953"
                                                ],
                                                [
                                                    0.7777777777777778,
                                                    "#fb9f3a"
                                                ],
                                                [
                                                    0.8888888888888888,
                                                    "#fdca26"
                                                ],
                                                [
                                                    1,
                                                    "#f0f921"
                                                ]
                                            ],
                                            "sequentialminus": [
                                                [
                                                    0,
                                                    "#0d0887"
                                                ],
                                                [
                                                    0.1111111111111111,
                                                    "#46039f"
                                                ],
                                                [
                                                    0.2222222222222222,
                                                    "#7201a8"
                                                ],
                                                [
                                                    0.3333333333333333,
                                                    "#9c179e"
                                                ],
                                                [
                                                    0.4444444444444444,
                                                    "#bd3786"
                                                ],
                                                [
                                                    0.5555555555555556,
                                                    "#d8576b"
                                                ],
                                                [
                                                    0.6666666666666666,
                                                    "#ed7953"
                                                ],
                                                [
                                                    0.7777777777777778,
                                                    "#fb9f3a"
                                                ],
                                                [
                                                    0.8888888888888888,
                                                    "#fdca26"
                                                ],
                                                [
                                                    1,
                                                    "#f0f921"
                                                ]
                                            ]
                                        },
                                        "colorway": [
                                            "#636efa",
                                            "#EF553B",
                                            "#00cc96",
                                            "#ab63fa",
                                            "#FFA15A",
                                            "#19d3f3",
                                            "#FF6692",
                                            "#B6E880",
                                            "#FF97FF",
                                            "#FECB52"
                                        ],
                                        "font": {
                                            "color": "#f2f5fa"
                                        },
                                        "geo": {
                                            "bgcolor": "rgb(17,17,17)",
                                            "lakecolor": "rgb(17,17,17)",
                                            "landcolor": "rgb(17,17,17)",
                                            "showlakes": true,
                                            "showland": true,
                                            "subunitcolor": "#506784"
                                        },
                                        "hoverlabel": {
                                            "align": "left"
                                        },
                                        "hovermode": "closest",
                                        "mapbox": {
                                            "style": "dark"
                                        },
                                        "paper_bgcolor": "rgb(17,17,17)",
                                        "plot_bgcolor": "rgb(17,17,17)",
                                        "polar": {
                                            "angularaxis": {
                                                "gridcolor": "#506784",
                                                "linecolor": "#506784",
                                                "ticks": ""
                                            },
                                            "bgcolor": "rgb(17,17,17)",
                                            "radialaxis": {
                                                "gridcolor": "#506784",
                                                "linecolor": "#506784",
                                                "ticks": ""
                                            }
                                        },
                                        "scene": {
                                            "xaxis": {
                                                "backgroundcolor": "rgb(17,17,17)",
                                                "gridcolor": "#506784",
                                                "gridwidth": 2,
                                                "linecolor": "#506784",
                                                "showbackground": true,
                                                "ticks": "",
                                                "zerolinecolor": "#C8D4E3"
                                            },
                                            "yaxis": {
                                                "backgroundcolor": "rgb(17,17,17)",
                                                "gridcolor": "#506784",
                                                "gridwidth": 2,
                                                "linecolor": "#506784",
                                                "showbackground": true,
                                                "ticks": "",
                                                "zerolinecolor": "#C8D4E3"
                                            },
                                            "zaxis": {
                                                "backgroundcolor": "rgb(17,17,17)",
                                                "gridcolor": "#506784",
                                                "gridwidth": 2,
                                                "linecolor": "#506784",
                                                "showbackground": true,
                                                "ticks": "",
                                                "zerolinecolor": "#C8D4E3"
                                            }
                                        },
                                        "shapedefaults": {
                                            "line": {
                                                "color": "#f2f5fa"
                                            }
                                        },
                                        "sliderdefaults": {
                                            "bgcolor": "#C8D4E3",
                                            "bordercolor": "rgb(17,17,17)",
                                            "borderwidth": 1,
                                            "tickwidth": 0
                                        },
                                        "ternary": {
                                            "aaxis": {
                                                "gridcolor": "#506784",
                                                "linecolor": "#506784",
                                                "ticks": ""
                                            },
                                            "baxis": {
                                                "gridcolor": "#506784",
                                                "linecolor": "#506784",
                                                "ticks": ""
                                            },
                                            "bgcolor": "rgb(17,17,17)",
                                            "caxis": {
                                                "gridcolor": "#506784",
                                                "linecolor": "#506784",
                                                "ticks": ""
                                            }
                                        },
                                        "title": {
                                            "x": 0.05
                                        },
                                        "updatemenudefaults": {
                                            "bgcolor": "#506784",
                                            "borderwidth": 0
                                        },
                                        "xaxis": {
                                            "automargin": true,
                                            "gridcolor": "#283442",
                                            "linecolor": "#506784",
                                            "ticks": "",
                                            "title": {
                                                "standoff": 15
                                            },
                                            "zerolinecolor": "#283442",
                                            "zerolinewidth": 2
                                        },
                                        "yaxis": {
                                            "automargin": true,
                                            "gridcolor": "#283442",
                                            "linecolor": "#506784",
                                            "ticks": "",
                                            "title": {
                                                "standoff": 15
                                            },
                                            "zerolinecolor": "#283442",
                                            "zerolinewidth": 2
                                        }
                                    }
                                },
                                "title": {
                                    "font": {
                                        "color": "royalblue",
                                        "family": "Arial",
                                        "size": 20,
                                        "weight": "bold"
                                    },
                                    "text": "Visualizing the count of Star Colors",
                                    "x": 0.5
                                },
                                "xaxis": {
                                    "anchor": "y",
                                    "categoryarray": [
                                        "Red",
                                        "Blue",
                                        "Blue-White",
                                        "Yellow-White",
                                        "White"
                                    ],
                                    "categoryorder": "array",
                                    "domain": [
                                        0,
                                        1
                                    ],
                                    "tickangle": 15,
                                    "tickfont": {
                                        "color": "orange",
                                        "size": 11
                                    },
                                    "title": {
                                        "text": "Star color"
                                    }
                                },
                                "yaxis": {
                                    "anchor": "x",
                                    "domain": [
                                        0,
                                        1
                                    ],
                                    "tickfont": {
                                        "color": "pink"
                                    },
                                    "title": {
                                        "text": "Count"
                                    }
                                }
                            }
                        }
                    },
                    "metadata": {},
                    "output_type": "display_data"
                }
            ],
            "source": [
                "# 2. Visualizing Star Color data\n",
                "star_color_counts = star_df['Star color'].value_counts().reset_index()\n",
                "star_color_counts.columns = ['Star color', 'Count']\n",
                "\n",
                "fig_color = px.bar(\n",
                "    star_color_counts, \n",
                "    x='Star color', \n",
                "    y='Count',\n",
                "    title='Visualizing the count of Star Colors',\n",
                "    color='Star color',\n",
                ")\n",
                "\n",
                "# Customize further\n",
                "fig_color.update_layout(\n",
                "    title_font=dict(color='royalblue', size=20, family='Arial', weight='bold'),\n",
                "    title_x=0.5,\n",
                "    plot_bgcolor='rgba(0,0,0,0.8)',\n",
                "    paper_bgcolor='rgba(0,0,0,0.8)',\n",
                "    yaxis_title=\"Count\",\n",
                "    xaxis_title=\"Star color\",\n",
                "    xaxis=dict(tickangle=15, tickfont=dict(color='orange', size=11)),\n",
                "    yaxis=dict(tickfont=dict(color='pink')),\n",
                ")\n",
                "\n",
                "# Add labels on top of bars\n",
                "for i, row in star_color_counts.iterrows():\n",
                "    fig_color.add_annotation(\n",
                "        x=row['Star color'],\n",
                "        y=row['Count'],\n",
                "        text=str(row['Count']),\n",
                "        font=dict(color='red', size=14, weight='bold'),\n",
                "        showarrow=False,\n",
                "        yshift=10\n",
                "    )\n",
                "\n",
                "fig_color.show()\n",
                "\n",
                "# Save the figure\n",
                "fig_color.write_image(base_dir + \"plotly_star_colors_viz.png\")"
            ]
        },
        {
            "cell_type": "code",
            "execution_count": 23,
            "metadata": {},
            "outputs": [
                {
                    "data": {
                        "application/vnd.plotly.v1+json": {
                            "config": {
                                "plotlyServerURL": "https://plot.ly"
                            },
                            "data": [
                                {
                                    "marker": {
                                        "color": "brown"
                                    },
                                    "name": "Brown Dwarf",
                                    "showlegend": true,
                                    "type": "box",
                                    "xaxis": "x",
                                    "y": {
                                        "bdata": "/AviCygK8AqTBxgLTQooCloKjAoNDWgNpwsTC3cL3wyBCwEL1go3C/sMyw2SDEoMtw2ZDHcLLQsoC6sKDwtiC1sNkgx9DUkLmAucDdoKww0=",
                                        "dtype": "i2"
                                    },
                                    "yaxis": "y"
                                },
                                {
                                    "marker": {
                                        "color": "red"
                                    },
                                    "name": "Red Dwarf",
                                    "showlegend": true,
                                    "type": "box",
                                    "xaxis": "x",
                                    "y": {
                                        "bdata": "EA45DD4MLA5aCgwN7wpsDngMcQ0RDRcO6AxODN4NbAxKCw4NPQpWDBcMFw4cDK0L1g2rDBMMDg78DNUNhg25DLILjAzDDQ4ORgyoDfwMhw0=",
                                        "dtype": "i2"
                                    },
                                    "yaxis": "y"
                                },
                                {
                                    "marker": {
                                        "color": "white"
                                    },
                                    "name": "White Dwarf",
                                    "showlegend": true,
                                    "type": "box",
                                    "xaxis": "x",
                                    "y": {
                                        "bdata": "qGE8HjQcNCF0QL4yeiEUHg4uPhy8G04p4iIwQxQ3yyXqLuQqmDWUTWw0HFJyR7g4fC7cInAyjDkrHrgylkFAPYY6HDSkR9BN1F00WgBGoEs=",
                                        "dtype": "i2"
                                    },
                                    "yaxis": "y"
                                },
                                {
                                    "marker": {
                                        "color": "yellow"
                                    },
                                    "name": "Main Sequence",
                                    "showlegend": true,
                                    "type": "box",
                                    "xaxis": "x",
                                    "y": {
                                        "bdata": "WJgAADB1AACsOwAA5CUAAKgWAAB0HwAAZRoAAOwYAAAwFwAA0xUAALQUAACuEQAA7Q8AAHQTAABGIwAA8isAAPgTAAAoHgAAQi8AAAyNAAB4cwAA8SIAAOw2AAAGQAAA7mEAABxwAAAcZgAAmE4AAN8yAACokwAATlcAABwnAAAhMwAA/FUAAI6FAADMfgAAaCQAAMhLAAD0QgAAOiAAAA==",
                                        "dtype": "i4"
                                    },
                                    "yaxis": "y"
                                },
                                {
                                    "marker": {
                                        "color": "lightskyblue"
                                    },
                                    "name": "Supergiants",
                                    "showlegend": true,
                                    "type": "box",
                                    "xaxis": "x",
                                    "y": {
                                        "bdata": "8g4AACUNAADGDAAAgAwAAMALAAAQDgAA9w0AAPYNAAApDgAA1oMAABSCAABAnAAA2FkAAOBCAABYKwAApTcAADZgAABdMgAAGV8AAI2CAAAuYwAALy0AAIMxAAB4FgAA3yIAAHIcAADTTQAABWcAAOdDAACdJAAAflwAAM0xAACnJAAAkFsAAJNBAAAuSQAApCYAALIqAAA3WgAA6lQAAA==",
                                        "dtype": "i4"
                                    },
                                    "yaxis": "y"
                                },
                                {
                                    "marker": {
                                        "color": "orange"
                                    },
                                    "name": "Hypergiants",
                                    "showlegend": true,
                                    "type": "box",
                                    "xaxis": "x",
                                    "y": {
                                        "bdata": "og0AAKYOAAD6DgAApQ4AAEIOAAB6DQAATA4AAHoNAACoDgAAzw0AAIMNAAAVDgAAHw4AAEcNAAAaDgAA4Q0AAK8PAAApDgAAwhoAAMQOAADyDQAArA0AAL8QAACQZQAAEA4AAB4OAABQRgAA+CoAAEQvAACqXwAAUV4AAFqVAADpfgAAW2wAAJBVAAAcmAAAd3gAAH0iAAATJAAA+pMAAA==",
                                        "dtype": "i4"
                                    },
                                    "yaxis": "y"
                                },
                                {
                                    "marker": {
                                        "color": "brown"
                                    },
                                    "name": "Brown Dwarf",
                                    "showlegend": false,
                                    "type": "box",
                                    "xaxis": "x2",
                                    "y": {
                                        "bdata": "YTJVMCqpYz/8qfHSTWJAP2EyVTAqqTM/LUMc6+I2Kj8cJET5ghYiP5T2Bl+YTEU/smMjEK/rRz8tQxzr4jY6PyMtlbcjnEY/D9b/OcyXJz/HuriNBvB2P9wRTgte9EU/aR1VTRB1Lz+An3HhQEg2P9L7xteeWSI/WBzO/GoOUD/xaOOItfg0P1gczvxqDlA/D9b/OcyXNz8P1v85zJdHPwOV8e8zLjw/fnTqymd5Tj+L4H8r2bFBP2EyVTAqqSM/8WjjiLX4RD+eDI6SV+dIP6ciFcYWgkw/ngyOklfnKD+3Xz5ZMVxNP4KOVrWkozw/tVII5BJHLj9ENpAuNq1EP1gczvxqDjA/bTfBN02fPT+gqGxYU1lEP6Im+nyUETc/x5xn7Es2Pj8lyXN9Hw5CP2ms/Z3t0Us/hAzk2eVbTz8=",
                                        "dtype": "f8"
                                    },
                                    "yaxis": "y2"
                                },
                                {
                                    "marker": {
                                        "color": "red"
                                    },
                                    "name": "Red Dwarf",
                                    "showlegend": false,
                                    "type": "box",
                                    "xaxis": "x2",
                                    "y": {
                                        "bdata": "4JwRpb3BZz8H8BZIUPyIPy1DHOviNjo/ukkMAiuHdj9hMlUwKqlDP8WPMXctIW8/kst/SL99XT9xAz4/jBBuP2SSkbOwp20/K4cW2c73oz8bL90kBoGVP7pJDAIrh5Y/nMQgsHJogT8vbqMBvAWCP/yp8dJNYnA//Knx0k1iUD9fB84ZUdprP/p+arx0k1g/YTJVMCqpQz+u2F92Tx5WP54MjpJX5yg/2ubG9IQlLj/8qfHSTWKAP6g1zTtO0YE/kst/SL99TT9IUPwYc9diP4Lix5i7loA/L26jAbwFUj9fB84ZUdprP5T2Bl+YTFU/oWez6nO1dT9hMlUwKqljP5LLf0i/fX0/LUMc6+I2Wj+u2F92Tx52P67YX3ZPHmY/OIQqNXugVT97FK5H4XpUPzm0yHa+n3o/rthfdk8eZj8=",
                                        "dtype": "f8"
                                    },
                                    "yaxis": "y2"
                                },
                                {
                                    "marker": {
                                        "color": "white"
                                    },
                                    "name": "White Dwarf",
                                    "showlegend": false,
                                    "type": "box",
                                    "xaxis": "x2",
                                    "y": {
                                        "bdata": "eekmMQisrD9YHM78ag5AP4CfceFASCY//Knx0k1iQD85tMh2vp+KP4CfceFASBY/0NA/wcWKSj9LsDic+dUcP2EyVTAqqSM/8WjjiLX4FD8aFw6EZAEzP9L7xteeWSI/0vvG155ZQj9YHM78ag5QP9wRTgte9EU/kst/SL99PT/lJ9U+HY9JP1bxRuaRP0g/D9b/OcyXJz8vbqMBvAVSP76kMVpHVUM/+n5qvHSTWD+U9gZfmExVP3ReY5eo3ko/3BFOC170RT/S+8bXnlkyP2tI3GPpQ0c/S7A4nPnVHD/S+8bXnlkiP0uwOJz51Uw/x7q4jQbwVj8FwHgGDf1TP76kMVpHVVM/XaeRlsrbUT/cEU4LXvRVP+Un1T4dj1k/W3wKgPEMWj84hCo1e6BVPwE1tWytL1I/exSuR+F6VD8=",
                                        "dtype": "f8"
                                    },
                                    "yaxis": "y2"
                                },
                                {
                                    "marker": {
                                        "color": "yellow"
                                    },
                                    "name": "Main Sequence",
                                    "showlegend": false,
                                    "type": "box",
                                    "xaxis": "x2",
                                    "y": {
                                        "bdata": "AAAAAADnCEEAAAAAACrcQAAAAAAAwJFAAAAAAACAUkDsUbgehevpP2ZmZmZmZiFA4XoUrkfh9j+amZmZmZn1P4PAyqFFtvU/aJHtfD816j/hehSuR+HiPy/dJAaBlcM/w/UoXI/CtT8MAiuHFtnWPwAAAAAAgEZAAAAAAAAAhUApXI/C9SjkP65H4XoUrh9AAAAAAACIhUAAAAAAgCsIQQAAAAAA8wZBAAAAAAAAQ0AAAAAAABCRQAAAAAAA+JNAAAAAAABSzEAAAAAAgGXQQAAAAAAAXMxAAAAAAABwskAAAAAAADCPQAAAAACgxAhBAAAAAABRyEAAAAAAAECBQAAAAAAAoIhAAAAAAABcukAAAAAAwDEIQQAAAABANwVBAAAAAAAAPUAAAAAAAFTFQAAAAAAAmItAAAAAAACAIkA=",
                                        "dtype": "f8"
                                    },
                                    "yaxis": "y2"
                                },
                                {
                                    "marker": {
                                        "color": "lightskyblue"
                                    },
                                    "name": "Supergiants",
                                    "showlegend": false,
                                    "type": "box",
                                    "xaxis": "x2",
                                    "y": {
                                        "bdata": "AAAAAABqCEEAAAAAgMAUQQAAAACATwJBAAAAAMDNB0EAAAAAABcRQQAAAAAAiBNBAAAAAIAH/kAAAAAAAGoIQQAAAAAAdgZBAAAAAADbCkEAAAAAAEwNQQAAAACQzyhBAAAAAIAB/0AAAAAAwK8MQQAAAAAAWPtAAAAAAMAyDEEAAAAA4CcWQQAAAAAAdgZBAAAAAIBVAUEAAAAAAHwVQQAAAADAOAtBAAAAAMCjDkEAAAAAgJYbQQAAAABA6A1BAAAAAMAsDUEAAAAAgPv/QAAAAAAAjgJBAAAAAIArCEEAAAAA0O0UQQAAAAAg6RlBAAAAABDSDUEAAAAAoEsUQQAAAABw7hRBAAAAAKxmIEEAAAAAUB4OQQAAAABgcAtBAAAAANgfIkEAAAAAdOwnQQAAAACwOhVBAAAAALTaJkE=",
                                        "dtype": "f8"
                                    },
                                    "yaxis": "y2"
                                },
                                {
                                    "marker": {
                                        "color": "orange"
                                    },
                                    "name": "Hypergiants",
                                    "showlegend": false,
                                    "type": "box",
                                    "xaxis": "x2",
                                    "y": {
                                        "bdata": "AAAAAMB6EEEAAAAA4EURQQAAAAAAmhBBAAAAAODIIEEAAAAAwOsSQQAAAABgDRBBAAAAAOAnFkEAAAAAgD0FQQAAAABAgwlBAAAAAMDNB0EAAAAAAGr4QAAAAAAAw/5AAAAAAABqCEEAAAAAgJD8QAAAAAAAHQBBAAAAAECzAUEAAAAAQDYRQQAAAAAAEfJAAAAAAED0C0EAAAAAAGoIQQAAAAAAiBNBAAAAAIDYAEEAAAAA4DkjQQAAAACASRNBAAAAAABMDUEAAAAAQLMBQQAAAAAAaghBAAAAAIDABEEAAAAAAEz9QAAAAABQVQ5BAAAAAERgF0EAAAAA+KYQQQAAAADcySNBAAAAABjsKUEAAAAAlNcmQQAAAAC44BZBAAAAAPRzKUEAAAAAKmcgQQAAAAAwtxhBAAAAANz/EUE=",
                                        "dtype": "f8"
                                    },
                                    "yaxis": "y2"
                                },
                                {
                                    "marker": {
                                        "color": "brown"
                                    },
                                    "name": "Brown Dwarf",
                                    "showlegend": false,
                                    "type": "box",
                                    "xaxis": "x3",
                                    "y": {
                                        "bdata": "w/UoXI/CxT+Uh4Va07zDP+kmMQisHLo/exSuR+F6xD+R7Xw/NV66Pylcj8L1KLw/qMZLN4lBwD/6fmq8dJO4Pylcj8L1KLw/pHA9CtejwD/Jdr6fGi+tP1K4HoXrUcg/qvHSTWIQuD851sVtNIC3PxkEVg4tsr0/TDeJQWDlwD8CK4cW2c63P8NkqmBUUrc/aJHtfD81vj+4HoXrUbi+P9QrZRniWLc/B/AWSFD8uD8pXI/C9Si8PyS5/If027c/gZVDi2znuz9g5dAi2/m+PyS5/If027c/+Q/pt68Dtz9NFYxK6gS0PyegibDh6bU/BoGVQ4tstz8ZBFYOLbK9P1TjpZvEIMA/v30dOGdEuT+1FfvL7smzP9Sa5h2n6Lg/EFg5tMh2vj94CyQofoy5P3npJjEIrLw/UI2XbhKDwD8=",
                                        "dtype": "f8"
                                    },
                                    "yaxis": "y3"
                                },
                                {
                                    "marker": {
                                        "color": "red"
                                    },
                                    "name": "Red Dwarf",
                                    "showlegend": false,
                                    "type": "box",
                                    "xaxis": "x3",
                                    "y": {
                                        "bdata": "UrgehetR4D9uowG8BRLYP0oMAiuHFsk/9P3UeOkm2T/sUbgehevBP7gehetRuM4/exSuR+F6xD8UrkfhehTePwXFjzF3Lck/EFg5tMh21j9GtvP91HjRP1K4HoXrUdg/CtejcD0Kxz9mZmZmZmbWPzm0yHa+n9I/ZmZmZmZm1j+4HoXrUbjOP9nO91PjpdM/SgwCK4cWuT/P91PjpZvEP7ByaJHtfN8/UrgehetR2D/Xo3A9CtfTP8P1KFyPwtU/16NwPQrX4z9cj8L1KFznP7gehetRuM4/7FG4HoXr4T/D9Shcj8LVP/yp8dJNYtA/i2zn+6nxwj9xPQrXo3DdP+xRuB6F69E//tR46SYx2D/RItv5fmrUP3E9CtejcOU/UI2XbhKD0D8bL90kBoHVP76fGi/dJN4/mpmZmZmZ5T8=",
                                        "dtype": "f8"
                                    },
                                    "yaxis": "y3"
                                },
                                {
                                    "marker": {
                                        "color": "white"
                                    },
                                    "name": "White Dwarf",
                                    "showlegend": false,
                                    "type": "box",
                                    "xaxis": "x3",
                                    "y": {
                                        "bdata": "FYxK6gQ0gT/2C3bDtkWJP7pJDAIrh4Y/exSuR+F6hD956SYxCKyMP9eGinH+JoQ/6Gor9pfdgz8tQxzr4jaKP7pJDAIrh4Y/ObTIdr6fij/6fmq8dJOIP0hQ/Bhz14I/2/l+arx0gz+4HoXrUbiOP7WmeccpOoI/NBE2PL1Shj9IUPwYc9eCP6g1zTtO0YE/ahg+IqZEgj/A7J48LNSKP0jcY+lDF4Q/x7q4jQbwhj83bFuU2SCDP5zc71AU6IM/h22LMhtkgj9UNUHUfQCCP5jdk4eFWoM/ahg+IqZEgj96/N6mP/uBPxIxJZLoZYQ/gLdAguLHiD/UK2UZ4liHP03zjlN0JIc/4JwRpb3Bhz8TYcPTK2WJP4Za07zjFI0/pgpGJXUCij+U9gZfmEyFP6Fns+pztYU/xqLp7GRwhD8=",
                                        "dtype": "f8"
                                    },
                                    "yaxis": "y3"
                                },
                                {
                                    "marker": {
                                        "color": "yellow"
                                    },
                                    "name": "Main Sequence",
                                    "showlegend": false,
                                    "type": "box",
                                    "xaxis": "x3",
                                    "y": {
                                        "bdata": "MzMzMzMzJUAzMzMzMzMZQM3MzMzMzBxAH4XrUbgeB0DNzMzMzMzsP83MzMzMzPw/7FG4HoXr8T9cj8L1KFzvPxkEVg4tsvE/rkfhehSu7z8fhetRuB7tP65H4XoUrus/cT0K16Nw6T8UrkfhehTyPwrXo3A9CgVA7FG4HoXrG0DVeOkmMQjsP3E9CtejcPU/CtejcD0KHEBmZmZmZmYkQBSuR+F6FBhATDeJQWDlA0B7FK5H4foWQLgehetRuBZArkfhehSuF0CamZmZmZkZQPYoXI/C9RVAH4XrUbgeG0DXo3A9CtcYQHE9CtejcBtAcT0K16NwGUAGgZVDi2wXQCuHFtnO9xdAj8L1KFyPGkCPwvUoXI8ZQKabxCCw8hhAj8L1KFyP/j8fhetRuB4YQOkmMQisnBZA4XoUrkfh/j8=",
                                        "dtype": "f8"
                                    },
                                    "yaxis": "y3"
                                },
                                {
                                    "marker": {
                                        "color": "lightskyblue"
                                    },
                                    "name": "Supergiants",
                                    "showlegend": false,
                                    "type": "box",
                                    "xaxis": "x3",
                                    "y": {
                                        "bdata": "AAAAAAAAM0AAAAAAAAA3QAAAAAAAAFZAAAAAAAAAMUAAAAAAAAA5QAAAAAAAAD1AAAAAAACARkAAAAAAAEBWQAAAAAAAAFVAAAAAAAAAOkAAAAAAAAAoQAAAAAAAACxAAAAAAAAAQkAAAAAAAMBUQAAAAAAAAChAAAAAAAAARUAAAAAAAIBPQAAAAAAAAEJAAAAAAACATEAAAAAAAMBQQAAAAAAAgExAAAAAAAAAQkAAAAAAAMBUQAAAAAAAQFhAAAAAAACAQUAAAAAAAAA4QAAAAAAAQFJAAAAAAACAQ0AAAAAAAAA+QAAAAAAAADhAAAAAAACAQUAAAAAAAABTQAAAAAAAgFhAAAAAAABAVEAAAAAAAABPQAAAAAAAAEdAAAAAAAAAVEAAAAAAAAA5QAAAAAAAgFVAAAAAAAAAV0A=",
                                        "dtype": "f8"
                                    },
                                    "yaxis": "y3"
                                },
                                {
                                    "marker": {
                                        "color": "orange"
                                    },
                                    "name": "Hypergiants",
                                    "showlegend": false,
                                    "type": "box",
                                    "xaxis": "x3",
                                    "y": {
                                        "bdata": "AAAAAADAl0AAAAAAALCTQAAAAAAAfJJAAAAAAADAmUAAAAAAALCUQAAAAAAAFJVAAAAAAAAkmkAAAAAAABCUQAAAAAAA2I1AAAAAAAAomEAAAAAAACSUQAAAAAAAkJFAAAAAAACMmUAAAAAAADiXQAAAAAAAyJdAAAAAAACwlEAAAAAAAPiXQAAAAAAAYItAAAAAAADslkAAAAAAALCUQAAAAAAAIJdAAAAAAAAwlkAAAAAAAIyUQAAAAAAAPJpAAAAAAACYkkAAAAAAAESYQAAAAAAAVJBAAAAAAADMm0AzMzMzMyeGQAAAAAAAupFAAAAAAABYl0AAAAAAADCVQAAAAAAAcp5AAAAAAACQk0AAAAAAAKiRQAAAAAAAMJVAAAAAAACokkAAAAAAADyWQAAAAAAAYJFAAAAAAADcm0A=",
                                        "dtype": "f8"
                                    },
                                    "yaxis": "y3"
                                },
                                {
                                    "marker": {
                                        "color": "brown"
                                    },
                                    "name": "Brown Dwarf",
                                    "showlegend": false,
                                    "type": "box",
                                    "xaxis": "x4",
                                    "y": {
                                        "bdata": "H4XrUbgeMECamZmZmZkwQDMzMzMzszJAZmZmZmamMECPwvUoXA80QHsUrkfh+jBAuB6F61E4MUBmZmZmZmYxQDMzMzMzczFAzczMzMwMMEB7FK5H4TowQHE9Ctej8DBA16NwPQoXMED2KFyPwvUwQKRwPQrX4zJA4XoUrkchMUDXo3A9ClcyQDMzMzMzczBApHA9CtdjMUCuR+F6FG4zQClcj8L1KDFAcT0K16PwM0CF61G4HgU0QOxRuB6F6zBAH4XrUbgeMUDhehSuR6EzQOF6FK5H4TBA9ihcj8K1MECPwvUoXI8zQNejcD0KFzJA9ihcj8I1MECkcD0K12MyQI/C9ShcjzFA16NwPQpXMUAUrkfhehQxQK5H4XoU7jBAMzMzMzNzMUDsUbgehaswQDMzMzMzczNAmpmZmZlZMEA=",
                                        "dtype": "f8"
                                    },
                                    "yaxis": "y4"
                                },
                                {
                                    "marker": {
                                        "color": "red"
                                    },
                                    "name": "Red Dwarf",
                                    "showlegend": false,
                                    "type": "box",
                                    "xaxis": "x4",
                                    "y": {
                                        "bdata": "4XoUrkdhJUAUrkfhepQnQOxRuB6FaypA9ihcj8L1JECq8dJNYpAnQKRwPQrXIypAFK5H4XqULUCamZmZmZklQI/C9ShcDytAXI/C9ShcJkCamZmZmZkoQD0K16NwPSRAZmZmZmZmKkDhehSuR+EnQEjhehSuxyVAhetRuB6FJ0DsUbgehesqQD0K16NwvSdAH4XrUbieKUD2KFyPwvUrQD0K16NwvSVArkfhehSuJEDXo3A9ClcmQD0K16NwPSpA9ihcj8J1LEAAAAAAAIAtQFyPwvUo3CZAhetRuB6FLED2KFyPwnUoQClcj8L1qCxAcT0K16PwJkD2KFyPwnUlQGZmZmZm5ipAaJHtfD+1KUBcj8L1KNwoQC/dJAaBVStAPQrXo3A9LEDhehSuR+EtQI/C9ShcjylAWmQ730+NLUA=",
                                        "dtype": "f8"
                                    },
                                    "yaxis": "y4"
                                },
                                {
                                    "marker": {
                                        "color": "white"
                                    },
                                    "name": "White Dwarf",
                                    "showlegend": false,
                                    "type": "box",
                                    "xaxis": "x4",
                                    "y": {
                                        "bdata": "KVyPwvUoJUAK16NwPQosQPYoXI/CdSxAAAAAAAAALUBI4XoUrscnQPYoXI/CdShAZmZmZmZmLEBxPQrXo/AsQK5H4XoULilAKVyPwvUoLECuR+F6FC4sQArXo3A9CihAj8L1KFyPK0BmZmZmZuYoQNejcD0KVyhA9ihcj8L1K0DD9Shcj0IoQOF6FK5HYSZAcT0K16PwKUCuR+F6FK4mQNejcD0KVytACtejcD0KJ0CPwvUoXI8pQNejcD0K1ydAw/UoXI/CJkA9CtejcL0tQClcj8L1qClASOF6FK7HKUAfhetRuJ4tQPYoXI/CdSZAPQrXo3C9KUDXo3A9CtcnQPYoXI/CdShAzczMzMzMKUBxPQrXo3AmQK5H4XoUriZAmpmZmZkZJUBcj8L1KFwkQFK4HoXrUSdAPQrXo3A9J0A=",
                                        "dtype": "f8"
                                    },
                                    "yaxis": "y4"
                                },
                                {
                                    "marker": {
                                        "color": "yellow"
                                    },
                                    "name": "Main Sequence",
                                    "showlegend": false,
                                    "type": "box",
                                    "xaxis": "x4",
                                    "y": {
                                        "bdata": "zczMzMzMEsDNzMzMzMwQwIXrUbgehf+/exSuR+F6xD8zMzMzMzMUQFyPwvUoXANASOF6FK5HA0BxPQrXo3AHQNejcD0K1xFAH4XrUbgeFED2KFyPwvUVQKAaL90kBhpAtvP91HjpGEAfhetRuB4TQDMzMzMzM/c/ZmZmZmZmAsC4HoXrUbgSQIXrUbgehQNAexSuR+F6lD+amZmZmZkRwArXo3A9ChDAuB6F61G4vj9SuB6F61EAwI/C9ShcjwrA16NwPQrXD8Bcj8L1KFwQwGZmZmZmZg7AMzMzMzMzC8AUrkfhehT2vz0K16NwPRLAXI/C9ShcDcA5tMh2vp+KP7gehetRuL6/ZmZmZmZmBMBI4XoUrkcSwHE9CtejcBHALbKd76fG8z+kcD0K16MIwB+F61G4HgXAXI/C9Shc778=",
                                        "dtype": "f8"
                                    },
                                    "yaxis": "y4"
                                },
                                {
                                    "marker": {
                                        "color": "lightskyblue"
                                    },
                                    "name": "Supergiants",
                                    "showlegend": false,
                                    "type": "box",
                                    "xaxis": "x4",
                                    "y": {
                                        "bdata": "uB6F61G4G8DNzMzMzMwYwBSuR+F6FBjA4XoUrkfhHMAAAAAAAAAYwGZmZmZmZhrAH4XrUbgeG8D2KFyPwvUUwPYoXI/C9RrAZmZmZmZmGMAAAAAAAAAawOxRuB6F6xjACtejcD0KF8CPwvUoXI8bwKRwPQrXoxfAexSuR+F6GMBSuB6F61EXwFyPwvUoXBnA9ihcj8L1GMApXI/C9SgXwK5H4XoUrhfAexSuR+H6GMB7FK5H4XoWwIXrUbgehRrAXI/C9ShcHcDhehSuR+EcwMP1KFyPwhbAUrgehetRF8Bcj8L1KFwYwPYoXI/C9RfAFK5H4XoUGcAUrkfhehQcwOxRuB6F6xvAZmZmZmbmF8BmZmZmZmYZwM3MzMzMzB3APzVeukkMHcBMN4lBYOUYwB+F61G4nhfA/Knx0k1iHcA=",
                                        "dtype": "f8"
                                    },
                                    "yaxis": "y4"
                                },
                                {
                                    "marker": {
                                        "color": "orange"
                                    },
                                    "name": "Hypergiants",
                                    "showlegend": false,
                                    "type": "box",
                                    "xaxis": "x4",
                                    "y": {
                                        "bdata": "zczMzMzMIsCF61G4HoUewGZmZmZmZiLAmpmZmZkZIMApXI/C9SgfwAAAAAAAgCfA16NwPQrXJ8CPwvUoXI8mwHsUrkfheibAuB6F61G4JsBmZmZmZmYlwB+F61G4niXAKVyPwvWoJsDXo3A9CtclwLgehetRuCXAj8L1KFwPJsBI4XoUrscmwAAAAAAAgCTApHA9CtcjJMBmZmZmZmYlwFK4HoXrUR7AXI/C9ShcIMBmZmZmZmYiwDMzMzMzMyLAj8L1KFyPH8DXo3A9CtcewJqZmZmZmSDAzczMzMzMI8Bcj8L1KFwfwHsUrkfheiDArkfhehSuIcAUrkfhepQiwK5H4XoUriXAXI/C9ShcHsCuR+F6FK4ewFyPwvUo3CPAw/UoXI9CJcD2KFyPwnUlwPYoXI/CdSbAMzMzMzMzH8A=",
                                        "dtype": "f8"
                                    },
                                    "yaxis": "y4"
                                }
                            ],
                            "layout": {
                                "annotations": [
                                    {
                                        "font": {
                                            "color": "red",
                                            "size": 16
                                        },
                                        "showarrow": false,
                                        "text": "Temperature (K)",
                                        "x": 0.10625,
                                        "xanchor": "center",
                                        "xref": "paper",
                                        "y": 1,
                                        "yanchor": "bottom",
                                        "yref": "paper"
                                    },
                                    {
                                        "font": {
                                            "color": "red",
                                            "size": 16
                                        },
                                        "showarrow": false,
                                        "text": "Luminosity(L/Lo)",
                                        "x": 0.36875,
                                        "xanchor": "center",
                                        "xref": "paper",
                                        "y": 1,
                                        "yanchor": "bottom",
                                        "yref": "paper"
                                    },
                                    {
                                        "font": {
                                            "color": "red",
                                            "size": 16
                                        },
                                        "showarrow": false,
                                        "text": "Radius(R/Ro)",
                                        "x": 0.6312500000000001,
                                        "xanchor": "center",
                                        "xref": "paper",
                                        "y": 1,
                                        "yanchor": "bottom",
                                        "yref": "paper"
                                    },
                                    {
                                        "font": {
                                            "color": "red",
                                            "size": 16
                                        },
                                        "showarrow": false,
                                        "text": "Absolute magnitude(Mv)",
                                        "x": 0.89375,
                                        "xanchor": "center",
                                        "xref": "paper",
                                        "y": 1,
                                        "yanchor": "bottom",
                                        "yref": "paper"
                                    }
                                ],
                                "boxmode": "group",
                                "height": 600,
                                "legend": {
                                    "orientation": "h",
                                    "x": 0.5,
                                    "xanchor": "center",
                                    "y": -0.3,
                                    "yanchor": "bottom"
                                },
                                "paper_bgcolor": "white",
                                "plot_bgcolor": "white",
                                "template": {
                                    "data": {
                                        "bar": [
                                            {
                                                "error_x": {
                                                    "color": "#f2f5fa"
                                                },
                                                "error_y": {
                                                    "color": "#f2f5fa"
                                                },
                                                "marker": {
                                                    "line": {
                                                        "color": "rgb(17,17,17)",
                                                        "width": 0.5
                                                    },
                                                    "pattern": {
                                                        "fillmode": "overlay",
                                                        "size": 10,
                                                        "solidity": 0.2
                                                    }
                                                },
                                                "type": "bar"
                                            }
                                        ],
                                        "barpolar": [
                                            {
                                                "marker": {
                                                    "line": {
                                                        "color": "rgb(17,17,17)",
                                                        "width": 0.5
                                                    },
                                                    "pattern": {
                                                        "fillmode": "overlay",
                                                        "size": 10,
                                                        "solidity": 0.2
                                                    }
                                                },
                                                "type": "barpolar"
                                            }
                                        ],
                                        "carpet": [
                                            {
                                                "aaxis": {
                                                    "endlinecolor": "#A2B1C6",
                                                    "gridcolor": "#506784",
                                                    "linecolor": "#506784",
                                                    "minorgridcolor": "#506784",
                                                    "startlinecolor": "#A2B1C6"
                                                },
                                                "baxis": {
                                                    "endlinecolor": "#A2B1C6",
                                                    "gridcolor": "#506784",
                                                    "linecolor": "#506784",
                                                    "minorgridcolor": "#506784",
                                                    "startlinecolor": "#A2B1C6"
                                                },
                                                "type": "carpet"
                                            }
                                        ],
                                        "choropleth": [
                                            {
                                                "colorbar": {
                                                    "outlinewidth": 0,
                                                    "ticks": ""
                                                },
                                                "type": "choropleth"
                                            }
                                        ],
                                        "contour": [
                                            {
                                                "colorbar": {
                                                    "outlinewidth": 0,
                                                    "ticks": ""
                                                },
                                                "colorscale": [
                                                    [
                                                        0,
                                                        "#0d0887"
                                                    ],
                                                    [
                                                        0.1111111111111111,
                                                        "#46039f"
                                                    ],
                                                    [
                                                        0.2222222222222222,
                                                        "#7201a8"
                                                    ],
                                                    [
                                                        0.3333333333333333,
                                                        "#9c179e"
                                                    ],
                                                    [
                                                        0.4444444444444444,
                                                        "#bd3786"
                                                    ],
                                                    [
                                                        0.5555555555555556,
                                                        "#d8576b"
                                                    ],
                                                    [
                                                        0.6666666666666666,
                                                        "#ed7953"
                                                    ],
                                                    [
                                                        0.7777777777777778,
                                                        "#fb9f3a"
                                                    ],
                                                    [
                                                        0.8888888888888888,
                                                        "#fdca26"
                                                    ],
                                                    [
                                                        1,
                                                        "#f0f921"
                                                    ]
                                                ],
                                                "type": "contour"
                                            }
                                        ],
                                        "contourcarpet": [
                                            {
                                                "colorbar": {
                                                    "outlinewidth": 0,
                                                    "ticks": ""
                                                },
                                                "type": "contourcarpet"
                                            }
                                        ],
                                        "heatmap": [
                                            {
                                                "colorbar": {
                                                    "outlinewidth": 0,
                                                    "ticks": ""
                                                },
                                                "colorscale": [
                                                    [
                                                        0,
                                                        "#0d0887"
                                                    ],
                                                    [
                                                        0.1111111111111111,
                                                        "#46039f"
                                                    ],
                                                    [
                                                        0.2222222222222222,
                                                        "#7201a8"
                                                    ],
                                                    [
                                                        0.3333333333333333,
                                                        "#9c179e"
                                                    ],
                                                    [
                                                        0.4444444444444444,
                                                        "#bd3786"
                                                    ],
                                                    [
                                                        0.5555555555555556,
                                                        "#d8576b"
                                                    ],
                                                    [
                                                        0.6666666666666666,
                                                        "#ed7953"
                                                    ],
                                                    [
                                                        0.7777777777777778,
                                                        "#fb9f3a"
                                                    ],
                                                    [
                                                        0.8888888888888888,
                                                        "#fdca26"
                                                    ],
                                                    [
                                                        1,
                                                        "#f0f921"
                                                    ]
                                                ],
                                                "type": "heatmap"
                                            }
                                        ],
                                        "histogram": [
                                            {
                                                "marker": {
                                                    "pattern": {
                                                        "fillmode": "overlay",
                                                        "size": 10,
                                                        "solidity": 0.2
                                                    }
                                                },
                                                "type": "histogram"
                                            }
                                        ],
                                        "histogram2d": [
                                            {
                                                "colorbar": {
                                                    "outlinewidth": 0,
                                                    "ticks": ""
                                                },
                                                "colorscale": [
                                                    [
                                                        0,
                                                        "#0d0887"
                                                    ],
                                                    [
                                                        0.1111111111111111,
                                                        "#46039f"
                                                    ],
                                                    [
                                                        0.2222222222222222,
                                                        "#7201a8"
                                                    ],
                                                    [
                                                        0.3333333333333333,
                                                        "#9c179e"
                                                    ],
                                                    [
                                                        0.4444444444444444,
                                                        "#bd3786"
                                                    ],
                                                    [
                                                        0.5555555555555556,
                                                        "#d8576b"
                                                    ],
                                                    [
                                                        0.6666666666666666,
                                                        "#ed7953"
                                                    ],
                                                    [
                                                        0.7777777777777778,
                                                        "#fb9f3a"
                                                    ],
                                                    [
                                                        0.8888888888888888,
                                                        "#fdca26"
                                                    ],
                                                    [
                                                        1,
                                                        "#f0f921"
                                                    ]
                                                ],
                                                "type": "histogram2d"
                                            }
                                        ],
                                        "histogram2dcontour": [
                                            {
                                                "colorbar": {
                                                    "outlinewidth": 0,
                                                    "ticks": ""
                                                },
                                                "colorscale": [
                                                    [
                                                        0,
                                                        "#0d0887"
                                                    ],
                                                    [
                                                        0.1111111111111111,
                                                        "#46039f"
                                                    ],
                                                    [
                                                        0.2222222222222222,
                                                        "#7201a8"
                                                    ],
                                                    [
                                                        0.3333333333333333,
                                                        "#9c179e"
                                                    ],
                                                    [
                                                        0.4444444444444444,
                                                        "#bd3786"
                                                    ],
                                                    [
                                                        0.5555555555555556,
                                                        "#d8576b"
                                                    ],
                                                    [
                                                        0.6666666666666666,
                                                        "#ed7953"
                                                    ],
                                                    [
                                                        0.7777777777777778,
                                                        "#fb9f3a"
                                                    ],
                                                    [
                                                        0.8888888888888888,
                                                        "#fdca26"
                                                    ],
                                                    [
                                                        1,
                                                        "#f0f921"
                                                    ]
                                                ],
                                                "type": "histogram2dcontour"
                                            }
                                        ],
                                        "mesh3d": [
                                            {
                                                "colorbar": {
                                                    "outlinewidth": 0,
                                                    "ticks": ""
                                                },
                                                "type": "mesh3d"
                                            }
                                        ],
                                        "parcoords": [
                                            {
                                                "line": {
                                                    "colorbar": {
                                                        "outlinewidth": 0,
                                                        "ticks": ""
                                                    }
                                                },
                                                "type": "parcoords"
                                            }
                                        ],
                                        "pie": [
                                            {
                                                "automargin": true,
                                                "type": "pie"
                                            }
                                        ],
                                        "scatter": [
                                            {
                                                "marker": {
                                                    "line": {
                                                        "color": "#283442"
                                                    }
                                                },
                                                "type": "scatter"
                                            }
                                        ],
                                        "scatter3d": [
                                            {
                                                "line": {
                                                    "colorbar": {
                                                        "outlinewidth": 0,
                                                        "ticks": ""
                                                    }
                                                },
                                                "marker": {
                                                    "colorbar": {
                                                        "outlinewidth": 0,
                                                        "ticks": ""
                                                    }
                                                },
                                                "type": "scatter3d"
                                            }
                                        ],
                                        "scattercarpet": [
                                            {
                                                "marker": {
                                                    "colorbar": {
                                                        "outlinewidth": 0,
                                                        "ticks": ""
                                                    }
                                                },
                                                "type": "scattercarpet"
                                            }
                                        ],
                                        "scattergeo": [
                                            {
                                                "marker": {
                                                    "colorbar": {
                                                        "outlinewidth": 0,
                                                        "ticks": ""
                                                    }
                                                },
                                                "type": "scattergeo"
                                            }
                                        ],
                                        "scattergl": [
                                            {
                                                "marker": {
                                                    "line": {
                                                        "color": "#283442"
                                                    }
                                                },
                                                "type": "scattergl"
                                            }
                                        ],
                                        "scattermap": [
                                            {
                                                "marker": {
                                                    "colorbar": {
                                                        "outlinewidth": 0,
                                                        "ticks": ""
                                                    }
                                                },
                                                "type": "scattermap"
                                            }
                                        ],
                                        "scattermapbox": [
                                            {
                                                "marker": {
                                                    "colorbar": {
                                                        "outlinewidth": 0,
                                                        "ticks": ""
                                                    }
                                                },
                                                "type": "scattermapbox"
                                            }
                                        ],
                                        "scatterpolar": [
                                            {
                                                "marker": {
                                                    "colorbar": {
                                                        "outlinewidth": 0,
                                                        "ticks": ""
                                                    }
                                                },
                                                "type": "scatterpolar"
                                            }
                                        ],
                                        "scatterpolargl": [
                                            {
                                                "marker": {
                                                    "colorbar": {
                                                        "outlinewidth": 0,
                                                        "ticks": ""
                                                    }
                                                },
                                                "type": "scatterpolargl"
                                            }
                                        ],
                                        "scatterternary": [
                                            {
                                                "marker": {
                                                    "colorbar": {
                                                        "outlinewidth": 0,
                                                        "ticks": ""
                                                    }
                                                },
                                                "type": "scatterternary"
                                            }
                                        ],
                                        "surface": [
                                            {
                                                "colorbar": {
                                                    "outlinewidth": 0,
                                                    "ticks": ""
                                                },
                                                "colorscale": [
                                                    [
                                                        0,
                                                        "#0d0887"
                                                    ],
                                                    [
                                                        0.1111111111111111,
                                                        "#46039f"
                                                    ],
                                                    [
                                                        0.2222222222222222,
                                                        "#7201a8"
                                                    ],
                                                    [
                                                        0.3333333333333333,
                                                        "#9c179e"
                                                    ],
                                                    [
                                                        0.4444444444444444,
                                                        "#bd3786"
                                                    ],
                                                    [
                                                        0.5555555555555556,
                                                        "#d8576b"
                                                    ],
                                                    [
                                                        0.6666666666666666,
                                                        "#ed7953"
                                                    ],
                                                    [
                                                        0.7777777777777778,
                                                        "#fb9f3a"
                                                    ],
                                                    [
                                                        0.8888888888888888,
                                                        "#fdca26"
                                                    ],
                                                    [
                                                        1,
                                                        "#f0f921"
                                                    ]
                                                ],
                                                "type": "surface"
                                            }
                                        ],
                                        "table": [
                                            {
                                                "cells": {
                                                    "fill": {
                                                        "color": "#506784"
                                                    },
                                                    "line": {
                                                        "color": "rgb(17,17,17)"
                                                    }
                                                },
                                                "header": {
                                                    "fill": {
                                                        "color": "#2a3f5f"
                                                    },
                                                    "line": {
                                                        "color": "rgb(17,17,17)"
                                                    }
                                                },
                                                "type": "table"
                                            }
                                        ]
                                    },
                                    "layout": {
                                        "annotationdefaults": {
                                            "arrowcolor": "#f2f5fa",
                                            "arrowhead": 0,
                                            "arrowwidth": 1
                                        },
                                        "autotypenumbers": "strict",
                                        "coloraxis": {
                                            "colorbar": {
                                                "outlinewidth": 0,
                                                "ticks": ""
                                            }
                                        },
                                        "colorscale": {
                                            "diverging": [
                                                [
                                                    0,
                                                    "#8e0152"
                                                ],
                                                [
                                                    0.1,
                                                    "#c51b7d"
                                                ],
                                                [
                                                    0.2,
                                                    "#de77ae"
                                                ],
                                                [
                                                    0.3,
                                                    "#f1b6da"
                                                ],
                                                [
                                                    0.4,
                                                    "#fde0ef"
                                                ],
                                                [
                                                    0.5,
                                                    "#f7f7f7"
                                                ],
                                                [
                                                    0.6,
                                                    "#e6f5d0"
                                                ],
                                                [
                                                    0.7,
                                                    "#b8e186"
                                                ],
                                                [
                                                    0.8,
                                                    "#7fbc41"
                                                ],
                                                [
                                                    0.9,
                                                    "#4d9221"
                                                ],
                                                [
                                                    1,
                                                    "#276419"
                                                ]
                                            ],
                                            "sequential": [
                                                [
                                                    0,
                                                    "#0d0887"
                                                ],
                                                [
                                                    0.1111111111111111,
                                                    "#46039f"
                                                ],
                                                [
                                                    0.2222222222222222,
                                                    "#7201a8"
                                                ],
                                                [
                                                    0.3333333333333333,
                                                    "#9c179e"
                                                ],
                                                [
                                                    0.4444444444444444,
                                                    "#bd3786"
                                                ],
                                                [
                                                    0.5555555555555556,
                                                    "#d8576b"
                                                ],
                                                [
                                                    0.6666666666666666,
                                                    "#ed7953"
                                                ],
                                                [
                                                    0.7777777777777778,
                                                    "#fb9f3a"
                                                ],
                                                [
                                                    0.8888888888888888,
                                                    "#fdca26"
                                                ],
                                                [
                                                    1,
                                                    "#f0f921"
                                                ]
                                            ],
                                            "sequentialminus": [
                                                [
                                                    0,
                                                    "#0d0887"
                                                ],
                                                [
                                                    0.1111111111111111,
                                                    "#46039f"
                                                ],
                                                [
                                                    0.2222222222222222,
                                                    "#7201a8"
                                                ],
                                                [
                                                    0.3333333333333333,
                                                    "#9c179e"
                                                ],
                                                [
                                                    0.4444444444444444,
                                                    "#bd3786"
                                                ],
                                                [
                                                    0.5555555555555556,
                                                    "#d8576b"
                                                ],
                                                [
                                                    0.6666666666666666,
                                                    "#ed7953"
                                                ],
                                                [
                                                    0.7777777777777778,
                                                    "#fb9f3a"
                                                ],
                                                [
                                                    0.8888888888888888,
                                                    "#fdca26"
                                                ],
                                                [
                                                    1,
                                                    "#f0f921"
                                                ]
                                            ]
                                        },
                                        "colorway": [
                                            "#636efa",
                                            "#EF553B",
                                            "#00cc96",
                                            "#ab63fa",
                                            "#FFA15A",
                                            "#19d3f3",
                                            "#FF6692",
                                            "#B6E880",
                                            "#FF97FF",
                                            "#FECB52"
                                        ],
                                        "font": {
                                            "color": "#f2f5fa"
                                        },
                                        "geo": {
                                            "bgcolor": "rgb(17,17,17)",
                                            "lakecolor": "rgb(17,17,17)",
                                            "landcolor": "rgb(17,17,17)",
                                            "showlakes": true,
                                            "showland": true,
                                            "subunitcolor": "#506784"
                                        },
                                        "hoverlabel": {
                                            "align": "left"
                                        },
                                        "hovermode": "closest",
                                        "mapbox": {
                                            "style": "dark"
                                        },
                                        "paper_bgcolor": "rgb(17,17,17)",
                                        "plot_bgcolor": "rgb(17,17,17)",
                                        "polar": {
                                            "angularaxis": {
                                                "gridcolor": "#506784",
                                                "linecolor": "#506784",
                                                "ticks": ""
                                            },
                                            "bgcolor": "rgb(17,17,17)",
                                            "radialaxis": {
                                                "gridcolor": "#506784",
                                                "linecolor": "#506784",
                                                "ticks": ""
                                            }
                                        },
                                        "scene": {
                                            "xaxis": {
                                                "backgroundcolor": "rgb(17,17,17)",
                                                "gridcolor": "#506784",
                                                "gridwidth": 2,
                                                "linecolor": "#506784",
                                                "showbackground": true,
                                                "ticks": "",
                                                "zerolinecolor": "#C8D4E3"
                                            },
                                            "yaxis": {
                                                "backgroundcolor": "rgb(17,17,17)",
                                                "gridcolor": "#506784",
                                                "gridwidth": 2,
                                                "linecolor": "#506784",
                                                "showbackground": true,
                                                "ticks": "",
                                                "zerolinecolor": "#C8D4E3"
                                            },
                                            "zaxis": {
                                                "backgroundcolor": "rgb(17,17,17)",
                                                "gridcolor": "#506784",
                                                "gridwidth": 2,
                                                "linecolor": "#506784",
                                                "showbackground": true,
                                                "ticks": "",
                                                "zerolinecolor": "#C8D4E3"
                                            }
                                        },
                                        "shapedefaults": {
                                            "line": {
                                                "color": "#f2f5fa"
                                            }
                                        },
                                        "sliderdefaults": {
                                            "bgcolor": "#C8D4E3",
                                            "bordercolor": "rgb(17,17,17)",
                                            "borderwidth": 1,
                                            "tickwidth": 0
                                        },
                                        "ternary": {
                                            "aaxis": {
                                                "gridcolor": "#506784",
                                                "linecolor": "#506784",
                                                "ticks": ""
                                            },
                                            "baxis": {
                                                "gridcolor": "#506784",
                                                "linecolor": "#506784",
                                                "ticks": ""
                                            },
                                            "bgcolor": "rgb(17,17,17)",
                                            "caxis": {
                                                "gridcolor": "#506784",
                                                "linecolor": "#506784",
                                                "ticks": ""
                                            }
                                        },
                                        "title": {
                                            "x": 0.05
                                        },
                                        "updatemenudefaults": {
                                            "bgcolor": "#506784",
                                            "borderwidth": 0
                                        },
                                        "xaxis": {
                                            "automargin": true,
                                            "gridcolor": "#283442",
                                            "linecolor": "#506784",
                                            "ticks": "",
                                            "title": {
                                                "standoff": 15
                                            },
                                            "zerolinecolor": "#283442",
                                            "zerolinewidth": 2
                                        },
                                        "yaxis": {
                                            "automargin": true,
                                            "gridcolor": "#283442",
                                            "linecolor": "#506784",
                                            "ticks": "",
                                            "title": {
                                                "standoff": 15
                                            },
                                            "zerolinecolor": "#283442",
                                            "zerolinewidth": 2
                                        }
                                    }
                                },
                                "title": {
                                    "font": {
                                        "color": "black",
                                        "size": 15,
                                        "weight": "bold"
                                    },
                                    "text": "Visualizing the outliers in Numeric features of Star Type",
                                    "x": 0.5
                                },
                                "width": 1200,
                                "xaxis": {
                                    "anchor": "y",
                                    "domain": [
                                        0,
                                        0.2125
                                    ],
                                    "visible": false
                                },
                                "xaxis2": {
                                    "anchor": "y2",
                                    "domain": [
                                        0.2625,
                                        0.475
                                    ],
                                    "visible": false
                                },
                                "xaxis3": {
                                    "anchor": "y3",
                                    "domain": [
                                        0.525,
                                        0.7375
                                    ],
                                    "visible": false
                                },
                                "xaxis4": {
                                    "anchor": "y4",
                                    "domain": [
                                        0.7875,
                                        1
                                    ],
                                    "visible": false
                                },
                                "yaxis": {
                                    "anchor": "x",
                                    "domain": [
                                        0,
                                        1
                                    ],
                                    "title": {
                                        "text": ""
                                    }
                                },
                                "yaxis2": {
                                    "anchor": "x2",
                                    "domain": [
                                        0,
                                        1
                                    ],
                                    "title": {
                                        "text": ""
                                    }
                                },
                                "yaxis3": {
                                    "anchor": "x3",
                                    "domain": [
                                        0,
                                        1
                                    ],
                                    "title": {
                                        "text": ""
                                    }
                                },
                                "yaxis4": {
                                    "anchor": "x4",
                                    "domain": [
                                        0,
                                        1
                                    ],
                                    "title": {
                                        "text": ""
                                    }
                                }
                            }
                        }
                    },
                    "metadata": {},
                    "output_type": "display_data"
                }
            ],
            "source": [
                "# 3. Visualize Outliers with Box Plots\n",
                "# Create subplots\n",
                "numeric_features = ['Temperature (K)', 'Luminosity(L/Lo)', 'Radius(R/Ro)', 'Absolute magnitude(Mv)']\n",
                "\n",
                "fig_box = make_subplots(\n",
                "    rows=1, \n",
                "    cols=4,\n",
                "    subplot_titles=numeric_features,\n",
                "    horizontal_spacing=0.05\n",
                ")\n",
                "\n",
                "# Colors for different star types\n",
                "colors = {\n",
                "    'Brown Dwarf': 'brown',\n",
                "    'Red Dwarf': 'red',\n",
                "    'White Dwarf': 'white',\n",
                "    'Main Sequence': 'yellow',\n",
                "    'Supergiants': 'lightskyblue',\n",
                "    'Hypergiants': 'orange'\n",
                "}\n",
                "\n",
                "# Add box plots for each numeric feature\n",
                "for i, feature in enumerate(numeric_features):\n",
                "    for star_type in star_df['Star type'].unique():\n",
                "        # Skip if there are no data points for this star type\n",
                "        if len(star_df[star_df['Star type'] == star_type]) == 0:\n",
                "            continue\n",
                "        \n",
                "        color = colors.get(star_type, 'gray')  # Default to gray if not in our color mapping\n",
                "        \n",
                "        fig_box.add_trace(\n",
                "            go.Box(\n",
                "                y=star_df[star_df['Star type'] == star_type][feature],\n",
                "                name=star_type,\n",
                "                marker_color=color,\n",
                "                showlegend=i == 0  # Only show legend on first subplot\n",
                "            ),\n",
                "            row=1, \n",
                "            col=i+1\n",
                "        )\n",
                "\n",
                "# Update layout for better visualization\n",
                "fig_box.update_layout(\n",
                "    title_text='Visualizing the outliers in Numeric features of Star Type',\n",
                "    title_font=dict(color='black', size=15, weight='bold'),\n",
                "    title_x=0.5,\n",
                "    height=600,\n",
                "    width=1200,\n",
                "    boxmode='group',\n",
                "    legend=dict(\n",
                "        orientation=\"h\",\n",
                "        yanchor=\"bottom\",\n",
                "        y=-0.3,\n",
                "        xanchor=\"center\",\n",
                "        x=0.5\n",
                "    ),\n",
                "    plot_bgcolor='white',\n",
                "    paper_bgcolor='white',\n",
                ")\n",
                "\n",
                "# Update y-axis titles\n",
                "for i in range(1, 5):\n",
                "    fig_box.update_yaxes(title_text='', row=1, col=i)\n",
                "    fig_box.update_xaxes(visible=False, row=1, col=i)  # Hide x-axis labels\n",
                "    fig_box.layout.annotations[i-1].update(font=dict(color='red'))\n",
                "\n",
                "fig_box.show()\n",
                "\n",
                "# Save the figure\n",
                "fig_box.write_image(base_dir + \"plotly_boxplot_star_type.png\")"
            ]
        },
        {
            "cell_type": "code",
            "execution_count": 24,
            "metadata": {},
            "outputs": [
                {
                    "data": {
                        "application/vnd.plotly.v1+json": {
                            "config": {
                                "plotlyServerURL": "https://plot.ly"
                            },
                            "data": [
                                {
                                    "line": {
                                        "color": "royalblue",
                                        "width": 2
                                    },
                                    "mode": "lines",
                                    "name": "Temperature (K)",
                                    "type": "scatter",
                                    "xaxis": "x",
                                    "y": {
                                        "bdata": "kwcAACgKAAAoCgAAPQoAAE0KAABaCgAAWgoAAIwKAACrCgAA1goAANoKAADvCgAA8AoAAAELAAAPCwAAEwsAABgLAAAoCwAALQsAADcLAABJCwAASgsAAGILAAB3CwAAdwsAAIELAACYCwAApwsAAK0LAACyCwAAwAsAAOILAAD8CwAAEwwAABcMAAAcDAAAOQwAAD4MAABGDAAASgwAAE4MAABWDAAAbAwAAHgMAACADAAAjAwAAJIMAACSDAAAmQwAAKsMAAC5DAAAxgwAAN8MAADoDAAA+wwAAPwMAAD8DAAADA0AAA0NAAAODQAAEQ0AACUNAABHDQAAWw0AAGgNAABxDQAAeg0AAHoNAAB9DQAAgw0AAIYNAACHDQAAnA0AAKINAACoDQAArA0AALcNAADDDQAAww0AAMsNAADPDQAA1Q0AANYNAADeDQAA4Q0AAPINAAD2DQAA9w0AAA4OAAAODgAAEA4AABAOAAAQDgAAFQ4AABcOAAAXDgAAGg4AAB4OAAAfDgAAKQ4AACkOAAAsDgAAQg4AAEwOAABsDgAApQ4AAKYOAACoDgAAxA4AAPIOAAD6DgAArw8AAO0PAAC/EAAArhEAAHQTAAD4EwAAtBQAANMVAAB4FgAAqBYAADAXAADsGAAAZRoAAMIaAAC8GwAANBwAAD4cAAByHAAAFB4AACgeAAArHgAAPB4AAHQfAAA6IAAANCEAAHohAAB9IgAA3CIAAN8iAADiIgAA8SIAAEYjAAATJAAAaCQAAJ0kAACnJAAAyyUAAOQlAACkJgAAHCcAAE4pAACyKgAA5CoAAPgqAABYKwAA8isAAC8tAAAOLgAAfC4AAOouAABCLwAARC8AAIMxAADNMQAAXTIAAHAyAAC4MgAAvjIAAN8yAAAhMwAAHDQAAGw0AACYNQAA7DYAABQ3AAClNwAAuDgAAIw5AACGOgAArDsAAEA9AAAGQAAAdEAAAJNBAACWQQAA4EIAAPRCAAAwQwAA50MAAABGAABQRgAAckcAAKRHAAAuSQAAoEsAAMhLAACUTQAA0E0AANNNAACYTgAAHFIAAOpUAACQVQAA/FUAAE5XAADYWQAANFoAADdaAACQWwAAflwAANRdAABRXgAAGV8AAKpfAAA2YAAAqGEAAO5hAAAuYwAAkGUAABxmAAAFZwAAW2wAABxwAAB4cwAAMHUAAHd4AADMfgAA6X4AABSCAACNggAA1oMAAI6FAAAMjQAAqJMAAPqTAABalQAAHJgAAFiYAABAnAAA",
                                        "dtype": "i4"
                                    },
                                    "yaxis": "y"
                                },
                                {
                                    "line": {
                                        "color": "gold",
                                        "width": 2
                                    },
                                    "mode": "lines",
                                    "name": "Luminosity(L/Lo)",
                                    "type": "scatter",
                                    "xaxis": "x2",
                                    "y": {
                                        "bdata": "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",
                                        "dtype": "f8"
                                    },
                                    "yaxis": "y2"
                                },
                                {
                                    "line": {
                                        "color": "lime",
                                        "width": 2
                                    },
                                    "mode": "lines",
                                    "name": "Radius(R/Ro)",
                                    "type": "scatter",
                                    "xaxis": "x3",
                                    "y": {
                                        "bdata": "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",
                                        "dtype": "f8"
                                    },
                                    "yaxis": "y3"
                                },
                                {
                                    "line": {
                                        "color": "magenta",
                                        "width": 2
                                    },
                                    "mode": "lines",
                                    "name": "Absolute magnitude(Mv)",
                                    "type": "scatter",
                                    "xaxis": "x4",
                                    "y": {
                                        "bdata": "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",
                                        "dtype": "f8"
                                    },
                                    "yaxis": "y4"
                                }
                            ],
                            "layout": {
                                "annotations": [
                                    {
                                        "font": {
                                            "color": "red",
                                            "size": 16
                                        },
                                        "showarrow": false,
                                        "text": "Temperature (K)",
                                        "x": 0.5,
                                        "xanchor": "center",
                                        "xref": "paper",
                                        "y": 1,
                                        "yanchor": "bottom",
                                        "yref": "paper"
                                    },
                                    {
                                        "font": {
                                            "color": "red",
                                            "size": 16
                                        },
                                        "showarrow": false,
                                        "text": "Luminosity(L/Lo)",
                                        "x": 0.5,
                                        "xanchor": "center",
                                        "xref": "paper",
                                        "y": 0.7250000000000001,
                                        "yanchor": "bottom",
                                        "yref": "paper"
                                    },
                                    {
                                        "font": {
                                            "color": "red",
                                            "size": 16
                                        },
                                        "showarrow": false,
                                        "text": "Radius(R/Ro)",
                                        "x": 0.5,
                                        "xanchor": "center",
                                        "xref": "paper",
                                        "y": 0.45,
                                        "yanchor": "bottom",
                                        "yref": "paper"
                                    },
                                    {
                                        "font": {
                                            "color": "red",
                                            "size": 16
                                        },
                                        "showarrow": false,
                                        "text": "Absolute magnitude(Mv)",
                                        "x": 0.5,
                                        "xanchor": "center",
                                        "xref": "paper",
                                        "y": 0.175,
                                        "yanchor": "bottom",
                                        "yref": "paper"
                                    }
                                ],
                                "height": 800,
                                "paper_bgcolor": "rgba(0,0,0,0.8)",
                                "plot_bgcolor": "rgba(0,0,0,0.8)",
                                "showlegend": false,
                                "template": {
                                    "data": {
                                        "bar": [
                                            {
                                                "error_x": {
                                                    "color": "#f2f5fa"
                                                },
                                                "error_y": {
                                                    "color": "#f2f5fa"
                                                },
                                                "marker": {
                                                    "line": {
                                                        "color": "rgb(17,17,17)",
                                                        "width": 0.5
                                                    },
                                                    "pattern": {
                                                        "fillmode": "overlay",
                                                        "size": 10,
                                                        "solidity": 0.2
                                                    }
                                                },
                                                "type": "bar"
                                            }
                                        ],
                                        "barpolar": [
                                            {
                                                "marker": {
                                                    "line": {
                                                        "color": "rgb(17,17,17)",
                                                        "width": 0.5
                                                    },
                                                    "pattern": {
                                                        "fillmode": "overlay",
                                                        "size": 10,
                                                        "solidity": 0.2
                                                    }
                                                },
                                                "type": "barpolar"
                                            }
                                        ],
                                        "carpet": [
                                            {
                                                "aaxis": {
                                                    "endlinecolor": "#A2B1C6",
                                                    "gridcolor": "#506784",
                                                    "linecolor": "#506784",
                                                    "minorgridcolor": "#506784",
                                                    "startlinecolor": "#A2B1C6"
                                                },
                                                "baxis": {
                                                    "endlinecolor": "#A2B1C6",
                                                    "gridcolor": "#506784",
                                                    "linecolor": "#506784",
                                                    "minorgridcolor": "#506784",
                                                    "startlinecolor": "#A2B1C6"
                                                },
                                                "type": "carpet"
                                            }
                                        ],
                                        "choropleth": [
                                            {
                                                "colorbar": {
                                                    "outlinewidth": 0,
                                                    "ticks": ""
                                                },
                                                "type": "choropleth"
                                            }
                                        ],
                                        "contour": [
                                            {
                                                "colorbar": {
                                                    "outlinewidth": 0,
                                                    "ticks": ""
                                                },
                                                "colorscale": [
                                                    [
                                                        0,
                                                        "#0d0887"
                                                    ],
                                                    [
                                                        0.1111111111111111,
                                                        "#46039f"
                                                    ],
                                                    [
                                                        0.2222222222222222,
                                                        "#7201a8"
                                                    ],
                                                    [
                                                        0.3333333333333333,
                                                        "#9c179e"
                                                    ],
                                                    [
                                                        0.4444444444444444,
                                                        "#bd3786"
                                                    ],
                                                    [
                                                        0.5555555555555556,
                                                        "#d8576b"
                                                    ],
                                                    [
                                                        0.6666666666666666,
                                                        "#ed7953"
                                                    ],
                                                    [
                                                        0.7777777777777778,
                                                        "#fb9f3a"
                                                    ],
                                                    [
                                                        0.8888888888888888,
                                                        "#fdca26"
                                                    ],
                                                    [
                                                        1,
                                                        "#f0f921"
                                                    ]
                                                ],
                                                "type": "contour"
                                            }
                                        ],
                                        "contourcarpet": [
                                            {
                                                "colorbar": {
                                                    "outlinewidth": 0,
                                                    "ticks": ""
                                                },
                                                "type": "contourcarpet"
                                            }
                                        ],
                                        "heatmap": [
                                            {
                                                "colorbar": {
                                                    "outlinewidth": 0,
                                                    "ticks": ""
                                                },
                                                "colorscale": [
                                                    [
                                                        0,
                                                        "#0d0887"
                                                    ],
                                                    [
                                                        0.1111111111111111,
                                                        "#46039f"
                                                    ],
                                                    [
                                                        0.2222222222222222,
                                                        "#7201a8"
                                                    ],
                                                    [
                                                        0.3333333333333333,
                                                        "#9c179e"
                                                    ],
                                                    [
                                                        0.4444444444444444,
                                                        "#bd3786"
                                                    ],
                                                    [
                                                        0.5555555555555556,
                                                        "#d8576b"
                                                    ],
                                                    [
                                                        0.6666666666666666,
                                                        "#ed7953"
                                                    ],
                                                    [
                                                        0.7777777777777778,
                                                        "#fb9f3a"
                                                    ],
                                                    [
                                                        0.8888888888888888,
                                                        "#fdca26"
                                                    ],
                                                    [
                                                        1,
                                                        "#f0f921"
                                                    ]
                                                ],
                                                "type": "heatmap"
                                            }
                                        ],
                                        "histogram": [
                                            {
                                                "marker": {
                                                    "pattern": {
                                                        "fillmode": "overlay",
                                                        "size": 10,
                                                        "solidity": 0.2
                                                    }
                                                },
                                                "type": "histogram"
                                            }
                                        ],
                                        "histogram2d": [
                                            {
                                                "colorbar": {
                                                    "outlinewidth": 0,
                                                    "ticks": ""
                                                },
                                                "colorscale": [
                                                    [
                                                        0,
                                                        "#0d0887"
                                                    ],
                                                    [
                                                        0.1111111111111111,
                                                        "#46039f"
                                                    ],
                                                    [
                                                        0.2222222222222222,
                                                        "#7201a8"
                                                    ],
                                                    [
                                                        0.3333333333333333,
                                                        "#9c179e"
                                                    ],
                                                    [
                                                        0.4444444444444444,
                                                        "#bd3786"
                                                    ],
                                                    [
                                                        0.5555555555555556,
                                                        "#d8576b"
                                                    ],
                                                    [
                                                        0.6666666666666666,
                                                        "#ed7953"
                                                    ],
                                                    [
                                                        0.7777777777777778,
                                                        "#fb9f3a"
                                                    ],
                                                    [
                                                        0.8888888888888888,
                                                        "#fdca26"
                                                    ],
                                                    [
                                                        1,
                                                        "#f0f921"
                                                    ]
                                                ],
                                                "type": "histogram2d"
                                            }
                                        ],
                                        "histogram2dcontour": [
                                            {
                                                "colorbar": {
                                                    "outlinewidth": 0,
                                                    "ticks": ""
                                                },
                                                "colorscale": [
                                                    [
                                                        0,
                                                        "#0d0887"
                                                    ],
                                                    [
                                                        0.1111111111111111,
                                                        "#46039f"
                                                    ],
                                                    [
                                                        0.2222222222222222,
                                                        "#7201a8"
                                                    ],
                                                    [
                                                        0.3333333333333333,
                                                        "#9c179e"
                                                    ],
                                                    [
                                                        0.4444444444444444,
                                                        "#bd3786"
                                                    ],
                                                    [
                                                        0.5555555555555556,
                                                        "#d8576b"
                                                    ],
                                                    [
                                                        0.6666666666666666,
                                                        "#ed7953"
                                                    ],
                                                    [
                                                        0.7777777777777778,
                                                        "#fb9f3a"
                                                    ],
                                                    [
                                                        0.8888888888888888,
                                                        "#fdca26"
                                                    ],
                                                    [
                                                        1,
                                                        "#f0f921"
                                                    ]
                                                ],
                                                "type": "histogram2dcontour"
                                            }
                                        ],
                                        "mesh3d": [
                                            {
                                                "colorbar": {
                                                    "outlinewidth": 0,
                                                    "ticks": ""
                                                },
                                                "type": "mesh3d"
                                            }
                                        ],
                                        "parcoords": [
                                            {
                                                "line": {
                                                    "colorbar": {
                                                        "outlinewidth": 0,
                                                        "ticks": ""
                                                    }
                                                },
                                                "type": "parcoords"
                                            }
                                        ],
                                        "pie": [
                                            {
                                                "automargin": true,
                                                "type": "pie"
                                            }
                                        ],
                                        "scatter": [
                                            {
                                                "marker": {
                                                    "line": {
                                                        "color": "#283442"
                                                    }
                                                },
                                                "type": "scatter"
                                            }
                                        ],
                                        "scatter3d": [
                                            {
                                                "line": {
                                                    "colorbar": {
                                                        "outlinewidth": 0,
                                                        "ticks": ""
                                                    }
                                                },
                                                "marker": {
                                                    "colorbar": {
                                                        "outlinewidth": 0,
                                                        "ticks": ""
                                                    }
                                                },
                                                "type": "scatter3d"
                                            }
                                        ],
                                        "scattercarpet": [
                                            {
                                                "marker": {
                                                    "colorbar": {
                                                        "outlinewidth": 0,
                                                        "ticks": ""
                                                    }
                                                },
                                                "type": "scattercarpet"
                                            }
                                        ],
                                        "scattergeo": [
                                            {
                                                "marker": {
                                                    "colorbar": {
                                                        "outlinewidth": 0,
                                                        "ticks": ""
                                                    }
                                                },
                                                "type": "scattergeo"
                                            }
                                        ],
                                        "scattergl": [
                                            {
                                                "marker": {
                                                    "line": {
                                                        "color": "#283442"
                                                    }
                                                },
                                                "type": "scattergl"
                                            }
                                        ],
                                        "scattermap": [
                                            {
                                                "marker": {
                                                    "colorbar": {
                                                        "outlinewidth": 0,
                                                        "ticks": ""
                                                    }
                                                },
                                                "type": "scattermap"
                                            }
                                        ],
                                        "scattermapbox": [
                                            {
                                                "marker": {
                                                    "colorbar": {
                                                        "outlinewidth": 0,
                                                        "ticks": ""
                                                    }
                                                },
                                                "type": "scattermapbox"
                                            }
                                        ],
                                        "scatterpolar": [
                                            {
                                                "marker": {
                                                    "colorbar": {
                                                        "outlinewidth": 0,
                                                        "ticks": ""
                                                    }
                                                },
                                                "type": "scatterpolar"
                                            }
                                        ],
                                        "scatterpolargl": [
                                            {
                                                "marker": {
                                                    "colorbar": {
                                                        "outlinewidth": 0,
                                                        "ticks": ""
                                                    }
                                                },
                                                "type": "scatterpolargl"
                                            }
                                        ],
                                        "scatterternary": [
                                            {
                                                "marker": {
                                                    "colorbar": {
                                                        "outlinewidth": 0,
                                                        "ticks": ""
                                                    }
                                                },
                                                "type": "scatterternary"
                                            }
                                        ],
                                        "surface": [
                                            {
                                                "colorbar": {
                                                    "outlinewidth": 0,
                                                    "ticks": ""
                                                },
                                                "colorscale": [
                                                    [
                                                        0,
                                                        "#0d0887"
                                                    ],
                                                    [
                                                        0.1111111111111111,
                                                        "#46039f"
                                                    ],
                                                    [
                                                        0.2222222222222222,
                                                        "#7201a8"
                                                    ],
                                                    [
                                                        0.3333333333333333,
                                                        "#9c179e"
                                                    ],
                                                    [
                                                        0.4444444444444444,
                                                        "#bd3786"
                                                    ],
                                                    [
                                                        0.5555555555555556,
                                                        "#d8576b"
                                                    ],
                                                    [
                                                        0.6666666666666666,
                                                        "#ed7953"
                                                    ],
                                                    [
                                                        0.7777777777777778,
                                                        "#fb9f3a"
                                                    ],
                                                    [
                                                        0.8888888888888888,
                                                        "#fdca26"
                                                    ],
                                                    [
                                                        1,
                                                        "#f0f921"
                                                    ]
                                                ],
                                                "type": "surface"
                                            }
                                        ],
                                        "table": [
                                            {
                                                "cells": {
                                                    "fill": {
                                                        "color": "#506784"
                                                    },
                                                    "line": {
                                                        "color": "rgb(17,17,17)"
                                                    }
                                                },
                                                "header": {
                                                    "fill": {
                                                        "color": "#2a3f5f"
                                                    },
                                                    "line": {
                                                        "color": "rgb(17,17,17)"
                                                    }
                                                },
                                                "type": "table"
                                            }
                                        ]
                                    },
                                    "layout": {
                                        "annotationdefaults": {
                                            "arrowcolor": "#f2f5fa",
                                            "arrowhead": 0,
                                            "arrowwidth": 1
                                        },
                                        "autotypenumbers": "strict",
                                        "coloraxis": {
                                            "colorbar": {
                                                "outlinewidth": 0,
                                                "ticks": ""
                                            }
                                        },
                                        "colorscale": {
                                            "diverging": [
                                                [
                                                    0,
                                                    "#8e0152"
                                                ],
                                                [
                                                    0.1,
                                                    "#c51b7d"
                                                ],
                                                [
                                                    0.2,
                                                    "#de77ae"
                                                ],
                                                [
                                                    0.3,
                                                    "#f1b6da"
                                                ],
                                                [
                                                    0.4,
                                                    "#fde0ef"
                                                ],
                                                [
                                                    0.5,
                                                    "#f7f7f7"
                                                ],
                                                [
                                                    0.6,
                                                    "#e6f5d0"
                                                ],
                                                [
                                                    0.7,
                                                    "#b8e186"
                                                ],
                                                [
                                                    0.8,
                                                    "#7fbc41"
                                                ],
                                                [
                                                    0.9,
                                                    "#4d9221"
                                                ],
                                                [
                                                    1,
                                                    "#276419"
                                                ]
                                            ],
                                            "sequential": [
                                                [
                                                    0,
                                                    "#0d0887"
                                                ],
                                                [
                                                    0.1111111111111111,
                                                    "#46039f"
                                                ],
                                                [
                                                    0.2222222222222222,
                                                    "#7201a8"
                                                ],
                                                [
                                                    0.3333333333333333,
                                                    "#9c179e"
                                                ],
                                                [
                                                    0.4444444444444444,
                                                    "#bd3786"
                                                ],
                                                [
                                                    0.5555555555555556,
                                                    "#d8576b"
                                                ],
                                                [
                                                    0.6666666666666666,
                                                    "#ed7953"
                                                ],
                                                [
                                                    0.7777777777777778,
                                                    "#fb9f3a"
                                                ],
                                                [
                                                    0.8888888888888888,
                                                    "#fdca26"
                                                ],
                                                [
                                                    1,
                                                    "#f0f921"
                                                ]
                                            ],
                                            "sequentialminus": [
                                                [
                                                    0,
                                                    "#0d0887"
                                                ],
                                                [
                                                    0.1111111111111111,
                                                    "#46039f"
                                                ],
                                                [
                                                    0.2222222222222222,
                                                    "#7201a8"
                                                ],
                                                [
                                                    0.3333333333333333,
                                                    "#9c179e"
                                                ],
                                                [
                                                    0.4444444444444444,
                                                    "#bd3786"
                                                ],
                                                [
                                                    0.5555555555555556,
                                                    "#d8576b"
                                                ],
                                                [
                                                    0.6666666666666666,
                                                    "#ed7953"
                                                ],
                                                [
                                                    0.7777777777777778,
                                                    "#fb9f3a"
                                                ],
                                                [
                                                    0.8888888888888888,
                                                    "#fdca26"
                                                ],
                                                [
                                                    1,
                                                    "#f0f921"
                                                ]
                                            ]
                                        },
                                        "colorway": [
                                            "#636efa",
                                            "#EF553B",
                                            "#00cc96",
                                            "#ab63fa",
                                            "#FFA15A",
                                            "#19d3f3",
                                            "#FF6692",
                                            "#B6E880",
                                            "#FF97FF",
                                            "#FECB52"
                                        ],
                                        "font": {
                                            "color": "#f2f5fa"
                                        },
                                        "geo": {
                                            "bgcolor": "rgb(17,17,17)",
                                            "lakecolor": "rgb(17,17,17)",
                                            "landcolor": "rgb(17,17,17)",
                                            "showlakes": true,
                                            "showland": true,
                                            "subunitcolor": "#506784"
                                        },
                                        "hoverlabel": {
                                            "align": "left"
                                        },
                                        "hovermode": "closest",
                                        "mapbox": {
                                            "style": "dark"
                                        },
                                        "paper_bgcolor": "rgb(17,17,17)",
                                        "plot_bgcolor": "rgb(17,17,17)",
                                        "polar": {
                                            "angularaxis": {
                                                "gridcolor": "#506784",
                                                "linecolor": "#506784",
                                                "ticks": ""
                                            },
                                            "bgcolor": "rgb(17,17,17)",
                                            "radialaxis": {
                                                "gridcolor": "#506784",
                                                "linecolor": "#506784",
                                                "ticks": ""
                                            }
                                        },
                                        "scene": {
                                            "xaxis": {
                                                "backgroundcolor": "rgb(17,17,17)",
                                                "gridcolor": "#506784",
                                                "gridwidth": 2,
                                                "linecolor": "#506784",
                                                "showbackground": true,
                                                "ticks": "",
                                                "zerolinecolor": "#C8D4E3"
                                            },
                                            "yaxis": {
                                                "backgroundcolor": "rgb(17,17,17)",
                                                "gridcolor": "#506784",
                                                "gridwidth": 2,
                                                "linecolor": "#506784",
                                                "showbackground": true,
                                                "ticks": "",
                                                "zerolinecolor": "#C8D4E3"
                                            },
                                            "zaxis": {
                                                "backgroundcolor": "rgb(17,17,17)",
                                                "gridcolor": "#506784",
                                                "gridwidth": 2,
                                                "linecolor": "#506784",
                                                "showbackground": true,
                                                "ticks": "",
                                                "zerolinecolor": "#C8D4E3"
                                            }
                                        },
                                        "shapedefaults": {
                                            "line": {
                                                "color": "#f2f5fa"
                                            }
                                        },
                                        "sliderdefaults": {
                                            "bgcolor": "#C8D4E3",
                                            "bordercolor": "rgb(17,17,17)",
                                            "borderwidth": 1,
                                            "tickwidth": 0
                                        },
                                        "ternary": {
                                            "aaxis": {
                                                "gridcolor": "#506784",
                                                "linecolor": "#506784",
                                                "ticks": ""
                                            },
                                            "baxis": {
                                                "gridcolor": "#506784",
                                                "linecolor": "#506784",
                                                "ticks": ""
                                            },
                                            "bgcolor": "rgb(17,17,17)",
                                            "caxis": {
                                                "gridcolor": "#506784",
                                                "linecolor": "#506784",
                                                "ticks": ""
                                            }
                                        },
                                        "title": {
                                            "x": 0.05
                                        },
                                        "updatemenudefaults": {
                                            "bgcolor": "#506784",
                                            "borderwidth": 0
                                        },
                                        "xaxis": {
                                            "automargin": true,
                                            "gridcolor": "#283442",
                                            "linecolor": "#506784",
                                            "ticks": "",
                                            "title": {
                                                "standoff": 15
                                            },
                                            "zerolinecolor": "#283442",
                                            "zerolinewidth": 2
                                        },
                                        "yaxis": {
                                            "automargin": true,
                                            "gridcolor": "#283442",
                                            "linecolor": "#506784",
                                            "ticks": "",
                                            "title": {
                                                "standoff": 15
                                            },
                                            "zerolinecolor": "#283442",
                                            "zerolinewidth": 2
                                        }
                                    }
                                },
                                "title": {
                                    "font": {
                                        "color": "hotpink",
                                        "size": 15,
                                        "weight": "bold"
                                    },
                                    "text": "Visualizing the distribution of Numeric Features",
                                    "x": 0.5
                                },
                                "width": 900,
                                "xaxis": {
                                    "anchor": "y",
                                    "domain": [
                                        0,
                                        1
                                    ]
                                },
                                "xaxis2": {
                                    "anchor": "y2",
                                    "domain": [
                                        0,
                                        1
                                    ]
                                },
                                "xaxis3": {
                                    "anchor": "y3",
                                    "domain": [
                                        0,
                                        1
                                    ]
                                },
                                "xaxis4": {
                                    "anchor": "y4",
                                    "domain": [
                                        0,
                                        1
                                    ]
                                },
                                "yaxis": {
                                    "anchor": "x",
                                    "domain": [
                                        0.825,
                                        1
                                    ]
                                },
                                "yaxis2": {
                                    "anchor": "x2",
                                    "domain": [
                                        0.55,
                                        0.7250000000000001
                                    ]
                                },
                                "yaxis3": {
                                    "anchor": "x3",
                                    "domain": [
                                        0.275,
                                        0.45
                                    ]
                                },
                                "yaxis4": {
                                    "anchor": "x4",
                                    "domain": [
                                        0,
                                        0.175
                                    ]
                                }
                            }
                        }
                    },
                    "metadata": {},
                    "output_type": "display_data"
                }
            ],
            "source": [
                "# 4. Create Line plots for numeric features\n",
                "fig_line = make_subplots(\n",
                "    rows=4, \n",
                "    cols=1,\n",
                "    subplot_titles=numeric_features,\n",
                "    vertical_spacing=0.1\n",
                ")\n",
                "\n",
                "colors = ['royalblue', 'gold', 'lime', 'magenta']\n",
                "\n",
                "# Add line plots for each numeric feature\n",
                "for i, feature in enumerate(numeric_features):\n",
                "    fig_line.add_trace(\n",
                "        go.Scatter(\n",
                "            y=star_df[feature].sort_values(),\n",
                "            mode='lines',\n",
                "            line=dict(color=colors[i], width=2),\n",
                "            name=feature\n",
                "        ),\n",
                "        row=i+1, \n",
                "        col=1\n",
                "    )\n",
                "\n",
                "# Update layout for better visualization\n",
                "fig_line.update_layout(\n",
                "    title_text='Visualizing the distribution of Numeric Features',\n",
                "    title_font=dict(color='hotpink', size=15, weight='bold'),\n",
                "    title_x=0.5,\n",
                "    height=800,\n",
                "    width=900,\n",
                "    showlegend=False,\n",
                "    plot_bgcolor='rgba(0,0,0,0.8)',\n",
                "    paper_bgcolor='rgba(0,0,0,0.8)',\n",
                ")\n",
                "\n",
                "# Update y-axis titles\n",
                "for i in range(4):\n",
                "    fig_line.layout.annotations[i].update(font=dict(color='red'))\n",
                "\n",
                "fig_line.show()\n",
                "\n",
                "# Save the figure\n",
                "fig_line.write_image(base_dir + \"plotly_line_subplot.png\")"
            ]
        },
        {
            "cell_type": "code",
            "execution_count": 25,
            "metadata": {},
            "outputs": [
                {
                    "data": {
                        "application/vnd.plotly.v1+json": {
                            "config": {
                                "plotlyServerURL": "https://plot.ly"
                            },
                            "data": [
                                {
                                    "marker": {
                                        "color": "#636EFA"
                                    },
                                    "name": "M",
                                    "opacity": 0.7,
                                    "showlegend": true,
                                    "type": "histogram",
                                    "x": {
                                        "bdata": "/AviCygK8AqTBxgLTQooCloKjAoQDjkMPgwsDloKDA3vCmwOeAxxDfIOJQ3GDIAMwAsQDvcN9g0pDqINpg76DqUOQg56DUwOeg2oDs8NDQ1oDacLEwt3C98MgQsBC9YKNwsRDRcO6AxODN4NbAxKCw4NPQpWDIMNFQ4fDkcNGg7hDSkOxA77DMsNkgxKDLcNmQx3Cy0LKAurChcMFw4cDK0L1g2rDBMMDg78DNUN8g2sDRAOHg4PC2ILWw2SDH0NSQuYC5wN2grDDYYNuQyyC4wMww0ODkYMqA38DIcN",
                                        "dtype": "i2"
                                    },
                                    "xaxis": "x",
                                    "yaxis": "y"
                                },
                                {
                                    "marker": {
                                        "color": "#EF553B"
                                    },
                                    "name": "B",
                                    "opacity": 0.7,
                                    "showlegend": true,
                                    "type": "histogram",
                                    "x": {
                                        "bdata": "qGEAAHRAAAAwdQAArDsAAOQlAADWgwAAMEMAABQ3AADqLgAA5CoAAJRNAAAUggAAbDQAABxSAAByRwAAuDgAAHwuAABwMgAAuDIAAHhzAAAGQAAA7mEAABxwAAAcZgAAmE4AAJBlAAD4KgAARC8AAKpfAACWQQAAQD0AAIY6AAAcNAAApEcAANBNAADUXQAANFoAAABGAACgSwAATlcAAPxVAADISwAA9EIAAFFeAABbbAAAkFUAAA==",
                                        "dtype": "i4"
                                    },
                                    "xaxis": "x",
                                    "yaxis": "y"
                                },
                                {
                                    "marker": {
                                        "color": "#00CC96"
                                    },
                                    "name": "A",
                                    "opacity": 0.7,
                                    "showlegend": true,
                                    "type": "histogram",
                                    "x": {
                                        "bdata": "PB40IXohdB/iIsslRiPyK0Iv3CIrHvEi7DbfMhwnITNoJH0iEyQ=",
                                        "dtype": "i2"
                                    },
                                    "xaxis": "x",
                                    "yaxis": "y"
                                },
                                {
                                    "marker": {
                                        "color": "#AB63FA"
                                    },
                                    "name": "F",
                                    "opacity": 0.7,
                                    "showlegend": true,
                                    "type": "histogram",
                                    "x": {
                                        "bdata": "NBy+MhQeDi4+HKgWZRrsGDAX0xW8G04pmDW0FCgejDk6IA==",
                                        "dtype": "i2"
                                    },
                                    "xaxis": "x",
                                    "yaxis": "y"
                                },
                                {
                                    "marker": {
                                        "color": "#FFA15A"
                                    },
                                    "name": "O",
                                    "opacity": 0.7,
                                    "showlegend": true,
                                    "type": "histogram",
                                    "x": {
                                        "bdata": "WJgAAAyNAABAnAAA2FkAAOBCAABYKwAApTcAADZgAABdMgAAGV8AAI2CAACokwAALmMAAC8tAACDMQAAeBYAAN8iAAByHAAA000AAAVnAADnQwAAnSQAAFBGAACOhQAAzH4AAH5cAADNMQAApyQAAJBbAACTQQAALkkAAKQmAACyKgAAN1oAAOpUAABalQAA6X4AAByYAAB3eAAA+pMAAA==",
                                        "dtype": "i4"
                                    },
                                    "xaxis": "x",
                                    "yaxis": "y"
                                },
                                {
                                    "marker": {
                                        "color": "#19D3F3"
                                    },
                                    "name": "K",
                                    "opacity": 0.7,
                                    "showlegend": true,
                                    "type": "histogram",
                                    "x": {
                                        "bdata": "rhHtD3QT+BOvD78Q",
                                        "dtype": "i2"
                                    },
                                    "xaxis": "x",
                                    "yaxis": "y"
                                },
                                {
                                    "marker": {
                                        "color": "#FF6692"
                                    },
                                    "name": "G",
                                    "opacity": 0.7,
                                    "showlegend": true,
                                    "type": "histogram",
                                    "x": {
                                        "bdata": "who=",
                                        "dtype": "i2"
                                    },
                                    "xaxis": "x",
                                    "yaxis": "y"
                                },
                                {
                                    "marker": {
                                        "color": "#636EFA",
                                        "opacity": 0.7,
                                        "size": 5
                                    },
                                    "mode": "markers",
                                    "name": "M",
                                    "showlegend": false,
                                    "type": "scatter",
                                    "x": {
                                        "bdata": "YTJVMCqpYz/8qfHSTWJAP2EyVTAqqTM/LUMc6+I2Kj8cJET5ghYiP5T2Bl+YTEU/smMjEK/rRz8tQxzr4jY6PyMtlbcjnEY/D9b/OcyXJz/gnBGlvcFnPwfwFkhQ/Ig/LUMc6+I2Oj+6SQwCK4d2P2EyVTAqqUM/xY8xdy0hbz+Sy39Iv31dP3EDPj+MEG4/ZJKRs7CnbT8rhxbZzvejPwAAAAAAaghBAAAAAIDAFEEAAAAAgE8CQQAAAADAzQdBAAAAAAAXEUEAAAAAAIgTQQAAAACAB/5AAAAAAABqCEEAAAAAAHYGQQAAAADAehBBAAAAAOBFEUEAAAAAAJoQQQAAAADgyCBBAAAAAMDrEkEAAAAAYA0QQQAAAADgJxZBAAAAAIA9BUEAAAAAQIMJQQAAAADAzQdBx7q4jQbwdj/cEU4LXvRFP2kdVU0QdS8/gJ9x4UBINj/S+8bXnlkiP1gczvxqDlA/8WjjiLX4ND9YHM78ag5QPw/W/znMlzc/D9b/OcyXRz8bL90kBoGVP7pJDAIrh5Y/nMQgsHJogT8vbqMBvAWCP/yp8dJNYnA//Knx0k1iUD9fB84ZUdprP/p+arx0k1g/YTJVMCqpQz+u2F92Tx5WPwAAAAAAavhAAAAAAADD/kAAAAAAAGoIQQAAAACAkPxAAAAAAAAdAEEAAAAAQLMBQQAAAAAAEfJAAAAAAABqCEEDlfHvMy48P3506spneU4/i+B/K9mxQT9hMlUwKqkjP/Fo44i1+EQ/ngyOklfnSD+nIhXGFoJMP54MjpJX5yg/t18+WTFcTT+Cjla1pKM8P54MjpJX5yg/2ubG9IQlLj/8qfHSTWKAP6g1zTtO0YE/kst/SL99TT9IUPwYc9diP4Lix5i7loA/L26jAbwFUj9fB84ZUdprP5T2Bl+YTFU/AAAAAACIE0EAAAAAgNgAQQAAAAAATA1BAAAAAECzAUG1UgjkEkcuP0Q2kC42rUQ/WBzO/GoOMD9tN8E3TZ89P6CobFhTWUQ/oib6fJQRNz/HnGfsSzY+PyXJc30fDkI/aaz9ne3RSz+EDOTZ5VtPP6Fns+pztXU/YTJVMCqpYz+Sy39Iv319Py1DHOviNlo/rthfdk8edj+u2F92Tx5mPziEKjV7oFU/exSuR+F6VD85tMh2vp96P67YX3ZPHmY/",
                                        "dtype": "f8"
                                    },
                                    "xaxis": "x2",
                                    "y": {
                                        "bdata": "/AviCygK8AqTBxgLTQooCloKjAoQDjkMPgwsDloKDA3vCmwOeAxxDfIOJQ3GDIAMwAsQDvcN9g0pDqINpg76DqUOQg56DUwOeg2oDs8NDQ1oDacLEwt3C98MgQsBC9YKNwsRDRcO6AxODN4NbAxKCw4NPQpWDIMNFQ4fDkcNGg7hDSkOxA77DMsNkgxKDLcNmQx3Cy0LKAurChcMFw4cDK0L1g2rDBMMDg78DNUN8g2sDRAOHg4PC2ILWw2SDH0NSQuYC5wN2grDDYYNuQyyC4wMww0ODkYMqA38DIcN",
                                        "dtype": "i2"
                                    },
                                    "yaxis": "y2"
                                },
                                {
                                    "marker": {
                                        "color": "#EF553B",
                                        "opacity": 0.7,
                                        "size": 5
                                    },
                                    "mode": "markers",
                                    "name": "B",
                                    "showlegend": false,
                                    "type": "scatter",
                                    "x": {
                                        "bdata": "eekmMQisrD85tMh2vp+KPwAAAAAAKtxAAAAAAADAkUAAAAAAAIBSQAAAAAAA2wpBWBzO/GoOUD/cEU4LXvRFP+Un1T4dj0k/VvFG5pE/SD8vbqMBvAVSPwAAAAAATA1BvqQxWkdVQz/6fmq8dJNYP5T2Bl+YTFU/dF5jl6jeSj/cEU4LXvRFP2tI3GPpQ0c/S7A4nPnVTD8AAAAAAPMGQQAAAAAA+JNAAAAAAABSzEAAAAAAgGXQQAAAAAAAXMxAAAAAAABwskAAAAAAgEkTQQAAAACAwARBAAAAAABM/UAAAAAAUFUOQce6uI0G8FY/BcB4Bg39Uz++pDFaR1VTP12nkZbK21E/3BFOC170VT/lJ9U+HY9ZP1t8CoDxDFo/OIQqNXugVT8BNbVsrS9SP3sUrkfhelQ/AAAAAABRyEAAAAAAAFy6QAAAAAAAVMVAAAAAAACYi0AAAAAARGAXQQAAAAAY7ClBAAAAAJTXJkE=",
                                        "dtype": "f8"
                                    },
                                    "xaxis": "x2",
                                    "y": {
                                        "bdata": "qGEAAHRAAAAwdQAArDsAAOQlAADWgwAAMEMAABQ3AADqLgAA5CoAAJRNAAAUggAAbDQAABxSAAByRwAAuDgAAHwuAABwMgAAuDIAAHhzAAAGQAAA7mEAABxwAAAcZgAAmE4AAJBlAAD4KgAARC8AAKpfAACWQQAAQD0AAIY6AAAcNAAApEcAANBNAADUXQAANFoAAABGAACgSwAATlcAAPxVAADISwAA9EIAAFFeAABbbAAAkFUAAA==",
                                        "dtype": "i4"
                                    },
                                    "yaxis": "y2"
                                },
                                {
                                    "marker": {
                                        "color": "#00CC96",
                                        "opacity": 0.7,
                                        "size": 5
                                    },
                                    "mode": "markers",
                                    "name": "A",
                                    "showlegend": false,
                                    "type": "scatter",
                                    "x": {
                                        "bdata": "WBzO/GoOQD/8qfHSTWJAP9DQP8HFiko/ZmZmZmZmIUDS+8bXnllCP5LLf0i/fT0/AAAAAACARkAAAAAAAACFQAAAAAAAiIVA0vvG155ZMj/S+8bXnlkiPwAAAAAAAENAAAAAAAAQkUAAAAAAADCPQAAAAAAAQIFAAAAAAACgiEAAAAAAAAA9QAAAAAAqZyBBAAAAADC3GEE=",
                                        "dtype": "f8"
                                    },
                                    "xaxis": "x2",
                                    "y": {
                                        "bdata": "PB40IXohdB/iIsslRiPyK0Iv3CIrHvEi7DbfMhwnITNoJH0iEyQ=",
                                        "dtype": "i2"
                                    },
                                    "yaxis": "y2"
                                },
                                {
                                    "marker": {
                                        "color": "#AB63FA",
                                        "opacity": 0.7,
                                        "size": 5
                                    },
                                    "mode": "markers",
                                    "name": "F",
                                    "showlegend": false,
                                    "type": "scatter",
                                    "x": {
                                        "bdata": "gJ9x4UBIJj+An3HhQEgWP0uwOJz51Rw/YTJVMCqpIz/xaOOItfgUP+xRuB6F6+k/4XoUrkfh9j+amZmZmZn1P4PAyqFFtvU/aJHtfD816j8aFw6EZAEzP9L7xteeWSI/D9b/OcyXJz/hehSuR+HiP65H4XoUrh9AS7A4nPnVHD8AAAAAAIAiQA==",
                                        "dtype": "f8"
                                    },
                                    "xaxis": "x2",
                                    "y": {
                                        "bdata": "NBy+MhQeDi4+HKgWZRrsGDAX0xW8G04pmDW0FCgejDk6IA==",
                                        "dtype": "i2"
                                    },
                                    "yaxis": "y2"
                                },
                                {
                                    "marker": {
                                        "color": "#FFA15A",
                                        "opacity": 0.7,
                                        "size": 5
                                    },
                                    "mode": "markers",
                                    "name": "O",
                                    "showlegend": false,
                                    "type": "scatter",
                                    "x": {
                                        "bdata": "AAAAAADnCEEAAAAAgCsIQQAAAACQzyhBAAAAAIAB/0AAAAAAwK8MQQAAAAAAWPtAAAAAAMAyDEEAAAAA4CcWQQAAAAAAdgZBAAAAAIBVAUEAAAAAAHwVQQAAAACgxAhBAAAAAMA4C0EAAAAAwKMOQQAAAACAlhtBAAAAAEDoDUEAAAAAwCwNQQAAAACA+/9AAAAAAACOAkEAAAAAgCsIQQAAAADQ7RRBAAAAACDpGUEAAAAAAGoIQQAAAADAMQhBAAAAAEA3BUEAAAAAENINQQAAAACgSxRBAAAAAHDuFEEAAAAArGYgQQAAAABQHg5BAAAAAGBwC0EAAAAA2B8iQQAAAAB07CdBAAAAALA6FUEAAAAAtNomQQAAAAD4phBBAAAAANzJI0EAAAAAuOAWQQAAAAD0cylBAAAAANz/EUE=",
                                        "dtype": "f8"
                                    },
                                    "xaxis": "x2",
                                    "y": {
                                        "bdata": "WJgAAAyNAABAnAAA2FkAAOBCAABYKwAApTcAADZgAABdMgAAGV8AAI2CAACokwAALmMAAC8tAACDMQAAeBYAAN8iAAByHAAA000AAAVnAADnQwAAnSQAAFBGAACOhQAAzH4AAH5cAADNMQAApyQAAJBbAACTQQAALkkAAKQmAACyKgAAN1oAAOpUAABalQAA6X4AAByYAAB3eAAA+pMAAA==",
                                        "dtype": "i4"
                                    },
                                    "yaxis": "y2"
                                },
                                {
                                    "marker": {
                                        "color": "#19D3F3",
                                        "opacity": 0.7,
                                        "size": 5
                                    },
                                    "mode": "markers",
                                    "name": "K",
                                    "showlegend": false,
                                    "type": "scatter",
                                    "x": {
                                        "bdata": "L90kBoGVwz/D9Shcj8K1PwwCK4cW2dY/KVyPwvUo5D8AAAAAQDYRQQAAAADgOSNB",
                                        "dtype": "f8"
                                    },
                                    "xaxis": "x2",
                                    "y": {
                                        "bdata": "rhHtD3QT+BOvD78Q",
                                        "dtype": "i2"
                                    },
                                    "yaxis": "y2"
                                },
                                {
                                    "marker": {
                                        "color": "#FF6692",
                                        "opacity": 0.7,
                                        "size": 5
                                    },
                                    "mode": "markers",
                                    "name": "G",
                                    "showlegend": false,
                                    "type": "scatter",
                                    "x": {
                                        "bdata": "AAAAAED0C0E=",
                                        "dtype": "f8"
                                    },
                                    "xaxis": "x2",
                                    "y": {
                                        "bdata": "who=",
                                        "dtype": "i2"
                                    },
                                    "yaxis": "y2"
                                },
                                {
                                    "marker": {
                                        "color": "#636EFA",
                                        "opacity": 0.7,
                                        "size": 5
                                    },
                                    "mode": "markers",
                                    "name": "M",
                                    "showlegend": false,
                                    "type": "scatter",
                                    "x": {
                                        "bdata": "w/UoXI/CxT+Uh4Va07zDP+kmMQisHLo/exSuR+F6xD+R7Xw/NV66Pylcj8L1KLw/qMZLN4lBwD/6fmq8dJO4Pylcj8L1KLw/pHA9CtejwD9SuB6F61HgP26jAbwFEtg/SgwCK4cWyT/0/dR46SbZP+xRuB6F68E/uB6F61G4zj97FK5H4XrEPxSuR+F6FN4/BcWPMXctyT8QWDm0yHbWPwAAAAAAADNAAAAAAAAAN0AAAAAAAABWQAAAAAAAADFAAAAAAAAAOUAAAAAAAAA9QAAAAAAAgEZAAAAAAABAVkAAAAAAAABVQAAAAAAAwJdAAAAAAACwk0AAAAAAAHySQAAAAAAAwJlAAAAAAACwlEAAAAAAABSVQAAAAAAAJJpAAAAAAAAQlEAAAAAAANiNQAAAAAAAKJhAyXa+nxovrT9SuB6F61HIP6rx0k1iELg/OdbFbTSAtz8ZBFYOLbK9P0w3iUFg5cA/AiuHFtnOtz/DZKpgVFK3P2iR7Xw/Nb4/uB6F61G4vj9GtvP91HjRP1K4HoXrUdg/CtejcD0Kxz9mZmZmZmbWPzm0yHa+n9I/ZmZmZmZm1j+4HoXrUbjOP9nO91PjpdM/SgwCK4cWuT/P91PjpZvEPwAAAAAAJJRAAAAAAACQkUAAAAAAAIyZQAAAAAAAOJdAAAAAAADIl0AAAAAAALCUQAAAAAAAYItAAAAAAACwlEDUK2UZ4li3PwfwFkhQ/Lg/KVyPwvUovD8kufyH9Nu3P4GVQ4ts57s/YOXQItv5vj8kufyH9Nu3P/kP6bevA7c/TRWMSuoEtD8noImw4em1P7ByaJHtfN8/UrgehetR2D/Xo3A9CtfTP8P1KFyPwtU/16NwPQrX4z9cj8L1KFznP7gehetRuM4/7FG4HoXr4T/D9Shcj8LVP/yp8dJNYtA/AAAAAAAgl0AAAAAAADCWQAAAAAAAmJJAAAAAAABEmEAGgZVDi2y3PxkEVg4tsr0/VOOlm8QgwD+/fR04Z0S5P7UV+8vuybM/1JrmHafouD8QWDm0yHa+P3gLJCh+jLk/eekmMQisvD9QjZduEoPAP4ts5/up8cI/cT0K16Nw3T/sUbgehevRP/7UeOkmMdg/0SLb+X5q1D9xPQrXo3DlP1CNl24Sg9A/Gy/dJAaB1T++nxov3STeP5qZmZmZmeU/",
                                        "dtype": "f8"
                                    },
                                    "xaxis": "x3",
                                    "y": {
                                        "bdata": "/AviCygK8AqTBxgLTQooCloKjAoQDjkMPgwsDloKDA3vCmwOeAxxDfIOJQ3GDIAMwAsQDvcN9g0pDqINpg76DqUOQg56DUwOeg2oDs8NDQ1oDacLEwt3C98MgQsBC9YKNwsRDRcO6AxODN4NbAxKCw4NPQpWDIMNFQ4fDkcNGg7hDSkOxA77DMsNkgxKDLcNmQx3Cy0LKAurChcMFw4cDK0L1g2rDBMMDg78DNUN8g2sDRAOHg4PC2ILWw2SDH0NSQuYC5wN2grDDYYNuQyyC4wMww0ODkYMqA38DIcN",
                                        "dtype": "i2"
                                    },
                                    "yaxis": "y3"
                                },
                                {
                                    "marker": {
                                        "color": "#EF553B",
                                        "opacity": 0.7,
                                        "size": 5
                                    },
                                    "mode": "markers",
                                    "name": "B",
                                    "showlegend": false,
                                    "type": "scatter",
                                    "x": {
                                        "bdata": "FYxK6gQ0gT956SYxCKyMPzMzMzMzMxlAzczMzMzMHEAfhetRuB4HQAAAAAAAADpAuB6F61G4jj+1pnnHKTqCP0hQ/Bhz14I/qDXNO07RgT/A7J48LNSKPwAAAAAAAChASNxj6UMXhD/HuriNBvCGPzdsW5TZIIM/nNzvUBTogz+HbYsyG2SCP5jdk4eFWoM/EjElkuhlhD8UrkfhehQYQLgehetRuBZArkfhehSuF0CamZmZmZkZQPYoXI/C9RVAH4XrUbgeG0AAAAAAADyaQAAAAAAAzJtAMzMzMzMnhkAAAAAAALqRQIC3QILix4g/1CtlGeJYhz9N845TdCSHP+CcEaW9wYc/E2HD0ytliT+GWtO84xSNP6YKRiV1Aoo/lPYGX5hMhT+hZ7Pqc7WFP8ai6exkcIQ/cT0K16NwGUCPwvUoXI8aQB+F61G4HhhA6SYxCKycFkAAAAAAAFiXQAAAAAAAkJNAAAAAAACokUA=",
                                        "dtype": "f8"
                                    },
                                    "xaxis": "x3",
                                    "y": {
                                        "bdata": "qGEAAHRAAAAwdQAArDsAAOQlAADWgwAAMEMAABQ3AADqLgAA5CoAAJRNAAAUggAAbDQAABxSAAByRwAAuDgAAHwuAABwMgAAuDIAAHhzAAAGQAAA7mEAABxwAAAcZgAAmE4AAJBlAAD4KgAARC8AAKpfAACWQQAAQD0AAIY6AAAcNAAApEcAANBNAADUXQAANFoAAABGAACgSwAATlcAAPxVAADISwAA9EIAAFFeAABbbAAAkFUAAA==",
                                        "dtype": "i4"
                                    },
                                    "yaxis": "y3"
                                },
                                {
                                    "marker": {
                                        "color": "#00CC96",
                                        "opacity": 0.7,
                                        "size": 5
                                    },
                                    "mode": "markers",
                                    "name": "A",
                                    "showlegend": false,
                                    "type": "scatter",
                                    "x": {
                                        "bdata": "9gt2w7ZFiT97FK5H4XqEP+hqK/aX3YM/zczMzMzM/D/b+X5qvHSDPzQRNjy9UoY/CtejcD0KBUDsUbgehesbQArXo3A9ChxAVDVB1H0Agj96/N6mP/uBP0w3iUFg5QNAexSuR+H6FkDXo3A9CtcYQAaBlUOLbBdAK4cW2c73F0CPwvUoXI/+PwAAAAAAPJZAAAAAAABgkUA=",
                                        "dtype": "f8"
                                    },
                                    "xaxis": "x3",
                                    "y": {
                                        "bdata": "PB40IXohdB/iIsslRiPyK0Iv3CIrHvEi7DbfMhwnITNoJH0iEyQ=",
                                        "dtype": "i2"
                                    },
                                    "yaxis": "y3"
                                },
                                {
                                    "marker": {
                                        "color": "#AB63FA",
                                        "opacity": 0.7,
                                        "size": 5
                                    },
                                    "mode": "markers",
                                    "name": "F",
                                    "showlegend": false,
                                    "type": "scatter",
                                    "x": {
                                        "bdata": "ukkMAiuHhj/Xhopx/iaEPy1DHOviNoo/ukkMAiuHhj85tMh2vp+KP83MzMzMzOw/7FG4HoXr8T9cj8L1KFzvPxkEVg4tsvE/rkfhehSu7z/6fmq8dJOIP0hQ/Bhz14I/ahg+IqZEgj8fhetRuB7tP3E9CtejcPU/ahg+IqZEgj/hehSuR+H+Pw==",
                                        "dtype": "f8"
                                    },
                                    "xaxis": "x3",
                                    "y": {
                                        "bdata": "NBy+MhQeDi4+HKgWZRrsGDAX0xW8G04pmDW0FCgejDk6IA==",
                                        "dtype": "i2"
                                    },
                                    "yaxis": "y3"
                                },
                                {
                                    "marker": {
                                        "color": "#FFA15A",
                                        "opacity": 0.7,
                                        "size": 5
                                    },
                                    "mode": "markers",
                                    "name": "O",
                                    "showlegend": false,
                                    "type": "scatter",
                                    "x": {
                                        "bdata": "MzMzMzMzJUBmZmZmZmYkQAAAAAAAACxAAAAAAAAAQkAAAAAAAMBUQAAAAAAAAChAAAAAAAAARUAAAAAAAIBPQAAAAAAAAEJAAAAAAACATEAAAAAAAMBQQHE9CtejcBtAAAAAAACATEAAAAAAAABCQAAAAAAAwFRAAAAAAABAWEAAAAAAAIBBQAAAAAAAADhAAAAAAABAUkAAAAAAAIBDQAAAAAAAAD5AAAAAAAAAOEAAAAAAAFSQQI/C9ShcjxlAppvEILDyGEAAAAAAAIBBQAAAAAAAAFNAAAAAAACAWEAAAAAAAEBUQAAAAAAAAE9AAAAAAAAAR0AAAAAAAABUQAAAAAAAADlAAAAAAACAVUAAAAAAAABXQAAAAAAAMJVAAAAAAABynkAAAAAAADCVQAAAAAAAqJJAAAAAAADcm0A=",
                                        "dtype": "f8"
                                    },
                                    "xaxis": "x3",
                                    "y": {
                                        "bdata": "WJgAAAyNAABAnAAA2FkAAOBCAABYKwAApTcAADZgAABdMgAAGV8AAI2CAACokwAALmMAAC8tAACDMQAAeBYAAN8iAAByHAAA000AAAVnAADnQwAAnSQAAFBGAACOhQAAzH4AAH5cAADNMQAApyQAAJBbAACTQQAALkkAAKQmAACyKgAAN1oAAOpUAABalQAA6X4AAByYAAB3eAAA+pMAAA==",
                                        "dtype": "i4"
                                    },
                                    "yaxis": "y3"
                                },
                                {
                                    "marker": {
                                        "color": "#19D3F3",
                                        "opacity": 0.7,
                                        "size": 5
                                    },
                                    "mode": "markers",
                                    "name": "K",
                                    "showlegend": false,
                                    "type": "scatter",
                                    "x": {
                                        "bdata": "rkfhehSu6z9xPQrXo3DpPxSuR+F6FPI/1XjpJjEI7D8AAAAAAPiXQAAAAAAAjJRA",
                                        "dtype": "f8"
                                    },
                                    "xaxis": "x3",
                                    "y": {
                                        "bdata": "rhHtD3QT+BOvD78Q",
                                        "dtype": "i2"
                                    },
                                    "yaxis": "y3"
                                },
                                {
                                    "marker": {
                                        "color": "#FF6692",
                                        "opacity": 0.7,
                                        "size": 5
                                    },
                                    "mode": "markers",
                                    "name": "G",
                                    "showlegend": false,
                                    "type": "scatter",
                                    "x": {
                                        "bdata": "AAAAAADslkA=",
                                        "dtype": "f8"
                                    },
                                    "xaxis": "x3",
                                    "y": {
                                        "bdata": "who=",
                                        "dtype": "i2"
                                    },
                                    "yaxis": "y3"
                                },
                                {
                                    "marker": {
                                        "color": "#636EFA",
                                        "opacity": 0.7,
                                        "size": 5
                                    },
                                    "mode": "markers",
                                    "name": "M",
                                    "showlegend": false,
                                    "type": "scatter",
                                    "x": {
                                        "bdata": "H4XrUbgeMECamZmZmZkwQDMzMzMzszJAZmZmZmamMECPwvUoXA80QHsUrkfh+jBAuB6F61E4MUBmZmZmZmYxQDMzMzMzczFAzczMzMwMMEDhehSuR2ElQBSuR+F6lCdA7FG4HoVrKkD2KFyPwvUkQKrx0k1ikCdApHA9CtcjKkAUrkfhepQtQJqZmZmZmSVAj8L1KFwPK0Bcj8L1KFwmQLgehetRuBvAzczMzMzMGMAUrkfhehQYwOF6FK5H4RzAAAAAAAAAGMBmZmZmZmYawB+F61G4HhvA9ihcj8L1FMD2KFyPwvUawM3MzMzMzCLAhetRuB6FHsBmZmZmZmYiwJqZmZmZGSDAKVyPwvUoH8AAAAAAAIAnwNejcD0K1yfAj8L1KFyPJsB7FK5H4XomwLgehetRuCbAexSuR+E6MEBxPQrXo/AwQNejcD0KFzBA9ihcj8L1MECkcD0K1+MyQOF6FK5HITFA16NwPQpXMkAzMzMzM3MwQKRwPQrXYzFArkfhehRuM0CamZmZmZkoQD0K16NwPSRAZmZmZmZmKkDhehSuR+EnQEjhehSuxyVAhetRuB6FJ0DsUbgehesqQD0K16NwvSdAH4XrUbieKUD2KFyPwvUrQGZmZmZmZiXAH4XrUbieJcApXI/C9agmwNejcD0K1yXAuB6F61G4JcCPwvUoXA8mwAAAAAAAgCTAZmZmZmZmJcApXI/C9SgxQHE9Ctej8DNAhetRuB4FNEDsUbgeheswQB+F61G4HjFA4XoUrkehM0DhehSuR+EwQPYoXI/CtTBAj8L1KFyPM0DXo3A9ChcyQD0K16NwvSVArkfhehSuJEDXo3A9ClcmQD0K16NwPSpA9ihcj8J1LEAAAAAAAIAtQFyPwvUo3CZAhetRuB6FLED2KFyPwnUoQClcj8L1qCxAUrgehetRHsBcj8L1KFwgwI/C9Shcjx/A16NwPQrXHsD2KFyPwjUwQKRwPQrXYzJAj8L1KFyPMUDXo3A9ClcxQBSuR+F6FDFArkfhehTuMEAzMzMzM3MxQOxRuB6FqzBAMzMzMzNzM0CamZmZmVkwQHE9Ctej8CZA9ihcj8J1JUBmZmZmZuYqQGiR7Xw/tSlAXI/C9SjcKEAv3SQGgVUrQD0K16NwPSxA4XoUrkfhLUCPwvUoXI8pQFpkO99PjS1A",
                                        "dtype": "f8"
                                    },
                                    "xaxis": "x4",
                                    "y": {
                                        "bdata": "/AviCygK8AqTBxgLTQooCloKjAoQDjkMPgwsDloKDA3vCmwOeAxxDfIOJQ3GDIAMwAsQDvcN9g0pDqINpg76DqUOQg56DUwOeg2oDs8NDQ1oDacLEwt3C98MgQsBC9YKNwsRDRcO6AxODN4NbAxKCw4NPQpWDIMNFQ4fDkcNGg7hDSkOxA77DMsNkgxKDLcNmQx3Cy0LKAurChcMFw4cDK0L1g2rDBMMDg78DNUN8g2sDRAOHg4PC2ILWw2SDH0NSQuYC5wN2grDDYYNuQyyC4wMww0ODkYMqA38DIcN",
                                        "dtype": "i2"
                                    },
                                    "yaxis": "y4"
                                },
                                {
                                    "marker": {
                                        "color": "#EF553B",
                                        "opacity": 0.7,
                                        "size": 5
                                    },
                                    "mode": "markers",
                                    "name": "B",
                                    "showlegend": false,
                                    "type": "scatter",
                                    "x": {
                                        "bdata": "KVyPwvUoJUBI4XoUrscnQM3MzMzMzBDAhetRuB6F/797FK5H4XrEP2ZmZmZmZhjAZmZmZmbmKEDXo3A9ClcoQMP1KFyPQihA4XoUrkdhJkCuR+F6FK4mQAAAAAAAABrA16NwPQpXK0AK16NwPQonQI/C9ShcjylA16NwPQrXJ0DD9Shcj8ImQClcj8L1qClA9ihcj8J1JkAK16NwPQoQwI/C9ShcjwrA16NwPQrXD8Bcj8L1KFwQwGZmZmZmZg7AMzMzMzMzC8AzMzMzMzMiwM3MzMzMzCPAXI/C9ShcH8B7FK5H4XogwD0K16NwvSlA16NwPQrXJ0D2KFyPwnUoQM3MzMzMzClAcT0K16NwJkCuR+F6FK4mQJqZmZmZGSVAXI/C9ShcJEBSuB6F61EnQD0K16NwPSdAXI/C9ShcDcBmZmZmZmYEwKRwPQrXowjAH4XrUbgeBcCuR+F6FK4hwFyPwvUoXB7ArkfhehSuHsA=",
                                        "dtype": "f8"
                                    },
                                    "xaxis": "x4",
                                    "y": {
                                        "bdata": "qGEAAHRAAAAwdQAArDsAAOQlAADWgwAAMEMAABQ3AADqLgAA5CoAAJRNAAAUggAAbDQAABxSAAByRwAAuDgAAHwuAABwMgAAuDIAAHhzAAAGQAAA7mEAABxwAAAcZgAAmE4AAJBlAAD4KgAARC8AAKpfAACWQQAAQD0AAIY6AAAcNAAApEcAANBNAADUXQAANFoAAABGAACgSwAATlcAAPxVAADISwAA9EIAAFFeAABbbAAAkFUAAA==",
                                        "dtype": "i4"
                                    },
                                    "yaxis": "y4"
                                },
                                {
                                    "marker": {
                                        "color": "#00CC96",
                                        "opacity": 0.7,
                                        "size": 5
                                    },
                                    "mode": "markers",
                                    "name": "A",
                                    "showlegend": false,
                                    "type": "scatter",
                                    "x": {
                                        "bdata": "CtejcD0KLEAAAAAAAAAtQGZmZmZmZixAXI/C9ShcA0CPwvUoXI8rQPYoXI/C9StAMzMzMzMz9z9mZmZmZmYCwHsUrkfhepQ/PQrXo3C9LUAfhetRuJ4tQLgehetRuL4/UrgehetRAMAUrkfhehT2vzm0yHa+n4o/uB6F61G4vr8tsp3vp8bzP/YoXI/CdSXA9ihcj8J1JsA=",
                                        "dtype": "f8"
                                    },
                                    "xaxis": "x4",
                                    "y": {
                                        "bdata": "PB40IXohdB/iIsslRiPyK0Iv3CIrHvEi7DbfMhwnITNoJH0iEyQ=",
                                        "dtype": "i2"
                                    },
                                    "yaxis": "y4"
                                },
                                {
                                    "marker": {
                                        "color": "#AB63FA",
                                        "opacity": 0.7,
                                        "size": 5
                                    },
                                    "mode": "markers",
                                    "name": "F",
                                    "showlegend": false,
                                    "type": "scatter",
                                    "x": {
                                        "bdata": "9ihcj8J1LED2KFyPwnUoQHE9Ctej8CxArkfhehQuKUApXI/C9SgsQDMzMzMzMxRASOF6FK5HA0BxPQrXo3AHQNejcD0K1xFAH4XrUbgeFECuR+F6FC4sQArXo3A9CihAcT0K16PwKUD2KFyPwvUVQIXrUbgehQNASOF6FK7HKUBcj8L1KFzvvw==",
                                        "dtype": "f8"
                                    },
                                    "xaxis": "x4",
                                    "y": {
                                        "bdata": "NBy+MhQeDi4+HKgWZRrsGDAX0xW8G04pmDW0FCgejDk6IA==",
                                        "dtype": "i2"
                                    },
                                    "yaxis": "y4"
                                },
                                {
                                    "marker": {
                                        "color": "#FFA15A",
                                        "opacity": 0.7,
                                        "size": 5
                                    },
                                    "mode": "markers",
                                    "name": "O",
                                    "showlegend": false,
                                    "type": "scatter",
                                    "x": {
                                        "bdata": "zczMzMzMEsCamZmZmZkRwOxRuB6F6xjACtejcD0KF8CPwvUoXI8bwKRwPQrXoxfAexSuR+F6GMBSuB6F61EXwFyPwvUoXBnA9ihcj8L1GMApXI/C9SgXwD0K16NwPRLArkfhehSuF8B7FK5H4foYwHsUrkfhehbAhetRuB6FGsBcj8L1KFwdwOF6FK5H4RzAw/UoXI/CFsBSuB6F61EXwFyPwvUoXBjA9ihcj8L1F8CamZmZmZkgwEjhehSuRxLAcT0K16NwEcAUrkfhehQZwBSuR+F6FBzA7FG4HoXrG8BmZmZmZuYXwGZmZmZmZhnAzczMzMzMHcA/NV66SQwdwEw3iUFg5RjAH4XrUbieF8D8qfHSTWIdwBSuR+F6lCLArkfhehSuJcBcj8L1KNwjwMP1KFyPQiXAMzMzMzMzH8A=",
                                        "dtype": "f8"
                                    },
                                    "xaxis": "x4",
                                    "y": {
                                        "bdata": "WJgAAAyNAABAnAAA2FkAAOBCAABYKwAApTcAADZgAABdMgAAGV8AAI2CAACokwAALmMAAC8tAACDMQAAeBYAAN8iAAByHAAA000AAAVnAADnQwAAnSQAAFBGAACOhQAAzH4AAH5cAADNMQAApyQAAJBbAACTQQAALkkAAKQmAACyKgAAN1oAAOpUAABalQAA6X4AAByYAAB3eAAA+pMAAA==",
                                        "dtype": "i4"
                                    },
                                    "yaxis": "y4"
                                },
                                {
                                    "marker": {
                                        "color": "#19D3F3",
                                        "opacity": 0.7,
                                        "size": 5
                                    },
                                    "mode": "markers",
                                    "name": "K",
                                    "showlegend": false,
                                    "type": "scatter",
                                    "x": {
                                        "bdata": "oBov3SQGGkC28/3UeOkYQB+F61G4HhNAuB6F61G4EkBI4XoUrscmwGZmZmZmZiLA",
                                        "dtype": "f8"
                                    },
                                    "xaxis": "x4",
                                    "y": {
                                        "bdata": "rhHtD3QT+BOvD78Q",
                                        "dtype": "i2"
                                    },
                                    "yaxis": "y4"
                                },
                                {
                                    "marker": {
                                        "color": "#FF6692",
                                        "opacity": 0.7,
                                        "size": 5
                                    },
                                    "mode": "markers",
                                    "name": "G",
                                    "showlegend": false,
                                    "type": "scatter",
                                    "x": {
                                        "bdata": "pHA9CtcjJMA=",
                                        "dtype": "f8"
                                    },
                                    "xaxis": "x4",
                                    "y": {
                                        "bdata": "who=",
                                        "dtype": "i2"
                                    },
                                    "yaxis": "y4"
                                },
                                {
                                    "marker": {
                                        "color": "#636EFA",
                                        "opacity": 0.7,
                                        "size": 5
                                    },
                                    "mode": "markers",
                                    "name": "M",
                                    "showlegend": false,
                                    "type": "scatter",
                                    "x": {
                                        "bdata": "/AviCygK8AqTBxgLTQooCloKjAoQDjkMPgwsDloKDA3vCmwOeAxxDfIOJQ3GDIAMwAsQDvcN9g0pDqINpg76DqUOQg56DUwOeg2oDs8NDQ1oDacLEwt3C98MgQsBC9YKNwsRDRcO6AxODN4NbAxKCw4NPQpWDIMNFQ4fDkcNGg7hDSkOxA77DMsNkgxKDLcNmQx3Cy0LKAurChcMFw4cDK0L1g2rDBMMDg78DNUN8g2sDRAOHg4PC2ILWw2SDH0NSQuYC5wN2grDDYYNuQyyC4wMww0ODkYMqA38DIcN",
                                        "dtype": "i2"
                                    },
                                    "xaxis": "x5",
                                    "y": {
                                        "bdata": "YTJVMCqpYz/8qfHSTWJAP2EyVTAqqTM/LUMc6+I2Kj8cJET5ghYiP5T2Bl+YTEU/smMjEK/rRz8tQxzr4jY6PyMtlbcjnEY/D9b/OcyXJz/gnBGlvcFnPwfwFkhQ/Ig/LUMc6+I2Oj+6SQwCK4d2P2EyVTAqqUM/xY8xdy0hbz+Sy39Iv31dP3EDPj+MEG4/ZJKRs7CnbT8rhxbZzvejPwAAAAAAaghBAAAAAIDAFEEAAAAAgE8CQQAAAADAzQdBAAAAAAAXEUEAAAAAAIgTQQAAAACAB/5AAAAAAABqCEEAAAAAAHYGQQAAAADAehBBAAAAAOBFEUEAAAAAAJoQQQAAAADgyCBBAAAAAMDrEkEAAAAAYA0QQQAAAADgJxZBAAAAAIA9BUEAAAAAQIMJQQAAAADAzQdBx7q4jQbwdj/cEU4LXvRFP2kdVU0QdS8/gJ9x4UBINj/S+8bXnlkiP1gczvxqDlA/8WjjiLX4ND9YHM78ag5QPw/W/znMlzc/D9b/OcyXRz8bL90kBoGVP7pJDAIrh5Y/nMQgsHJogT8vbqMBvAWCP/yp8dJNYnA//Knx0k1iUD9fB84ZUdprP/p+arx0k1g/YTJVMCqpQz+u2F92Tx5WPwAAAAAAavhAAAAAAADD/kAAAAAAAGoIQQAAAACAkPxAAAAAAAAdAEEAAAAAQLMBQQAAAAAAEfJAAAAAAABqCEEDlfHvMy48P3506spneU4/i+B/K9mxQT9hMlUwKqkjP/Fo44i1+EQ/ngyOklfnSD+nIhXGFoJMP54MjpJX5yg/t18+WTFcTT+Cjla1pKM8P54MjpJX5yg/2ubG9IQlLj/8qfHSTWKAP6g1zTtO0YE/kst/SL99TT9IUPwYc9diP4Lix5i7loA/L26jAbwFUj9fB84ZUdprP5T2Bl+YTFU/AAAAAACIE0EAAAAAgNgAQQAAAAAATA1BAAAAAECzAUG1UgjkEkcuP0Q2kC42rUQ/WBzO/GoOMD9tN8E3TZ89P6CobFhTWUQ/oib6fJQRNz/HnGfsSzY+PyXJc30fDkI/aaz9ne3RSz+EDOTZ5VtPP6Fns+pztXU/YTJVMCqpYz+Sy39Iv319Py1DHOviNlo/rthfdk8edj+u2F92Tx5mPziEKjV7oFU/exSuR+F6VD85tMh2vp96P67YX3ZPHmY/",
                                        "dtype": "f8"
                                    },
                                    "yaxis": "y5"
                                },
                                {
                                    "marker": {
                                        "color": "#EF553B",
                                        "opacity": 0.7,
                                        "size": 5
                                    },
                                    "mode": "markers",
                                    "name": "B",
                                    "showlegend": false,
                                    "type": "scatter",
                                    "x": {
                                        "bdata": "qGEAAHRAAAAwdQAArDsAAOQlAADWgwAAMEMAABQ3AADqLgAA5CoAAJRNAAAUggAAbDQAABxSAAByRwAAuDgAAHwuAABwMgAAuDIAAHhzAAAGQAAA7mEAABxwAAAcZgAAmE4AAJBlAAD4KgAARC8AAKpfAACWQQAAQD0AAIY6AAAcNAAApEcAANBNAADUXQAANFoAAABGAACgSwAATlcAAPxVAADISwAA9EIAAFFeAABbbAAAkFUAAA==",
                                        "dtype": "i4"
                                    },
                                    "xaxis": "x5",
                                    "y": {
                                        "bdata": "eekmMQisrD85tMh2vp+KPwAAAAAAKtxAAAAAAADAkUAAAAAAAIBSQAAAAAAA2wpBWBzO/GoOUD/cEU4LXvRFP+Un1T4dj0k/VvFG5pE/SD8vbqMBvAVSPwAAAAAATA1BvqQxWkdVQz/6fmq8dJNYP5T2Bl+YTFU/dF5jl6jeSj/cEU4LXvRFP2tI3GPpQ0c/S7A4nPnVTD8AAAAAAPMGQQAAAAAA+JNAAAAAAABSzEAAAAAAgGXQQAAAAAAAXMxAAAAAAABwskAAAAAAgEkTQQAAAACAwARBAAAAAABM/UAAAAAAUFUOQce6uI0G8FY/BcB4Bg39Uz++pDFaR1VTP12nkZbK21E/3BFOC170VT/lJ9U+HY9ZP1t8CoDxDFo/OIQqNXugVT8BNbVsrS9SP3sUrkfhelQ/AAAAAABRyEAAAAAAAFy6QAAAAAAAVMVAAAAAAACYi0AAAAAARGAXQQAAAAAY7ClBAAAAAJTXJkE=",
                                        "dtype": "f8"
                                    },
                                    "yaxis": "y5"
                                },
                                {
                                    "marker": {
                                        "color": "#00CC96",
                                        "opacity": 0.7,
                                        "size": 5
                                    },
                                    "mode": "markers",
                                    "name": "A",
                                    "showlegend": false,
                                    "type": "scatter",
                                    "x": {
                                        "bdata": "PB40IXohdB/iIsslRiPyK0Iv3CIrHvEi7DbfMhwnITNoJH0iEyQ=",
                                        "dtype": "i2"
                                    },
                                    "xaxis": "x5",
                                    "y": {
                                        "bdata": "WBzO/GoOQD/8qfHSTWJAP9DQP8HFiko/ZmZmZmZmIUDS+8bXnllCP5LLf0i/fT0/AAAAAACARkAAAAAAAACFQAAAAAAAiIVA0vvG155ZMj/S+8bXnlkiPwAAAAAAAENAAAAAAAAQkUAAAAAAADCPQAAAAAAAQIFAAAAAAACgiEAAAAAAAAA9QAAAAAAqZyBBAAAAADC3GEE=",
                                        "dtype": "f8"
                                    },
                                    "yaxis": "y5"
                                },
                                {
                                    "marker": {
                                        "color": "#AB63FA",
                                        "opacity": 0.7,
                                        "size": 5
                                    },
                                    "mode": "markers",
                                    "name": "F",
                                    "showlegend": false,
                                    "type": "scatter",
                                    "x": {
                                        "bdata": "NBy+MhQeDi4+HKgWZRrsGDAX0xW8G04pmDW0FCgejDk6IA==",
                                        "dtype": "i2"
                                    },
                                    "xaxis": "x5",
                                    "y": {
                                        "bdata": "gJ9x4UBIJj+An3HhQEgWP0uwOJz51Rw/YTJVMCqpIz/xaOOItfgUP+xRuB6F6+k/4XoUrkfh9j+amZmZmZn1P4PAyqFFtvU/aJHtfD816j8aFw6EZAEzP9L7xteeWSI/D9b/OcyXJz/hehSuR+HiP65H4XoUrh9AS7A4nPnVHD8AAAAAAIAiQA==",
                                        "dtype": "f8"
                                    },
                                    "yaxis": "y5"
                                },
                                {
                                    "marker": {
                                        "color": "#FFA15A",
                                        "opacity": 0.7,
                                        "size": 5
                                    },
                                    "mode": "markers",
                                    "name": "O",
                                    "showlegend": false,
                                    "type": "scatter",
                                    "x": {
                                        "bdata": "WJgAAAyNAABAnAAA2FkAAOBCAABYKwAApTcAADZgAABdMgAAGV8AAI2CAACokwAALmMAAC8tAACDMQAAeBYAAN8iAAByHAAA000AAAVnAADnQwAAnSQAAFBGAACOhQAAzH4AAH5cAADNMQAApyQAAJBbAACTQQAALkkAAKQmAACyKgAAN1oAAOpUAABalQAA6X4AAByYAAB3eAAA+pMAAA==",
                                        "dtype": "i4"
                                    },
                                    "xaxis": "x5",
                                    "y": {
                                        "bdata": "AAAAAADnCEEAAAAAgCsIQQAAAACQzyhBAAAAAIAB/0AAAAAAwK8MQQAAAAAAWPtAAAAAAMAyDEEAAAAA4CcWQQAAAAAAdgZBAAAAAIBVAUEAAAAAAHwVQQAAAACgxAhBAAAAAMA4C0EAAAAAwKMOQQAAAACAlhtBAAAAAEDoDUEAAAAAwCwNQQAAAACA+/9AAAAAAACOAkEAAAAAgCsIQQAAAADQ7RRBAAAAACDpGUEAAAAAAGoIQQAAAADAMQhBAAAAAEA3BUEAAAAAENINQQAAAACgSxRBAAAAAHDuFEEAAAAArGYgQQAAAABQHg5BAAAAAGBwC0EAAAAA2B8iQQAAAAB07CdBAAAAALA6FUEAAAAAtNomQQAAAAD4phBBAAAAANzJI0EAAAAAuOAWQQAAAAD0cylBAAAAANz/EUE=",
                                        "dtype": "f8"
                                    },
                                    "yaxis": "y5"
                                },
                                {
                                    "marker": {
                                        "color": "#19D3F3",
                                        "opacity": 0.7,
                                        "size": 5
                                    },
                                    "mode": "markers",
                                    "name": "K",
                                    "showlegend": false,
                                    "type": "scatter",
                                    "x": {
                                        "bdata": "rhHtD3QT+BOvD78Q",
                                        "dtype": "i2"
                                    },
                                    "xaxis": "x5",
                                    "y": {
                                        "bdata": "L90kBoGVwz/D9Shcj8K1PwwCK4cW2dY/KVyPwvUo5D8AAAAAQDYRQQAAAADgOSNB",
                                        "dtype": "f8"
                                    },
                                    "yaxis": "y5"
                                },
                                {
                                    "marker": {
                                        "color": "#FF6692",
                                        "opacity": 0.7,
                                        "size": 5
                                    },
                                    "mode": "markers",
                                    "name": "G",
                                    "showlegend": false,
                                    "type": "scatter",
                                    "x": {
                                        "bdata": "who=",
                                        "dtype": "i2"
                                    },
                                    "xaxis": "x5",
                                    "y": {
                                        "bdata": "AAAAAED0C0E=",
                                        "dtype": "f8"
                                    },
                                    "yaxis": "y5"
                                },
                                {
                                    "marker": {
                                        "color": "#636EFA"
                                    },
                                    "name": "M",
                                    "opacity": 0.7,
                                    "showlegend": false,
                                    "type": "histogram",
                                    "x": {
                                        "bdata": "YTJVMCqpYz/8qfHSTWJAP2EyVTAqqTM/LUMc6+I2Kj8cJET5ghYiP5T2Bl+YTEU/smMjEK/rRz8tQxzr4jY6PyMtlbcjnEY/D9b/OcyXJz/gnBGlvcFnPwfwFkhQ/Ig/LUMc6+I2Oj+6SQwCK4d2P2EyVTAqqUM/xY8xdy0hbz+Sy39Iv31dP3EDPj+MEG4/ZJKRs7CnbT8rhxbZzvejPwAAAAAAaghBAAAAAIDAFEEAAAAAgE8CQQAAAADAzQdBAAAAAAAXEUEAAAAAAIgTQQAAAACAB/5AAAAAAABqCEEAAAAAAHYGQQAAAADAehBBAAAAAOBFEUEAAAAAAJoQQQAAAADgyCBBAAAAAMDrEkEAAAAAYA0QQQAAAADgJxZBAAAAAIA9BUEAAAAAQIMJQQAAAADAzQdBx7q4jQbwdj/cEU4LXvRFP2kdVU0QdS8/gJ9x4UBINj/S+8bXnlkiP1gczvxqDlA/8WjjiLX4ND9YHM78ag5QPw/W/znMlzc/D9b/OcyXRz8bL90kBoGVP7pJDAIrh5Y/nMQgsHJogT8vbqMBvAWCP/yp8dJNYnA//Knx0k1iUD9fB84ZUdprP/p+arx0k1g/YTJVMCqpQz+u2F92Tx5WPwAAAAAAavhAAAAAAADD/kAAAAAAAGoIQQAAAACAkPxAAAAAAAAdAEEAAAAAQLMBQQAAAAAAEfJAAAAAAABqCEEDlfHvMy48P3506spneU4/i+B/K9mxQT9hMlUwKqkjP/Fo44i1+EQ/ngyOklfnSD+nIhXGFoJMP54MjpJX5yg/t18+WTFcTT+Cjla1pKM8P54MjpJX5yg/2ubG9IQlLj/8qfHSTWKAP6g1zTtO0YE/kst/SL99TT9IUPwYc9diP4Lix5i7loA/L26jAbwFUj9fB84ZUdprP5T2Bl+YTFU/AAAAAACIE0EAAAAAgNgAQQAAAAAATA1BAAAAAECzAUG1UgjkEkcuP0Q2kC42rUQ/WBzO/GoOMD9tN8E3TZ89P6CobFhTWUQ/oib6fJQRNz/HnGfsSzY+PyXJc30fDkI/aaz9ne3RSz+EDOTZ5VtPP6Fns+pztXU/YTJVMCqpYz+Sy39Iv319Py1DHOviNlo/rthfdk8edj+u2F92Tx5mPziEKjV7oFU/exSuR+F6VD85tMh2vp96P67YX3ZPHmY/",
                                        "dtype": "f8"
                                    },
                                    "xaxis": "x6",
                                    "yaxis": "y6"
                                },
                                {
                                    "marker": {
                                        "color": "#EF553B"
                                    },
                                    "name": "B",
                                    "opacity": 0.7,
                                    "showlegend": false,
                                    "type": "histogram",
                                    "x": {
                                        "bdata": "eekmMQisrD85tMh2vp+KPwAAAAAAKtxAAAAAAADAkUAAAAAAAIBSQAAAAAAA2wpBWBzO/GoOUD/cEU4LXvRFP+Un1T4dj0k/VvFG5pE/SD8vbqMBvAVSPwAAAAAATA1BvqQxWkdVQz/6fmq8dJNYP5T2Bl+YTFU/dF5jl6jeSj/cEU4LXvRFP2tI3GPpQ0c/S7A4nPnVTD8AAAAAAPMGQQAAAAAA+JNAAAAAAABSzEAAAAAAgGXQQAAAAAAAXMxAAAAAAABwskAAAAAAgEkTQQAAAACAwARBAAAAAABM/UAAAAAAUFUOQce6uI0G8FY/BcB4Bg39Uz++pDFaR1VTP12nkZbK21E/3BFOC170VT/lJ9U+HY9ZP1t8CoDxDFo/OIQqNXugVT8BNbVsrS9SP3sUrkfhelQ/AAAAAABRyEAAAAAAAFy6QAAAAAAAVMVAAAAAAACYi0AAAAAARGAXQQAAAAAY7ClBAAAAAJTXJkE=",
                                        "dtype": "f8"
                                    },
                                    "xaxis": "x6",
                                    "yaxis": "y6"
                                },
                                {
                                    "marker": {
                                        "color": "#00CC96"
                                    },
                                    "name": "A",
                                    "opacity": 0.7,
                                    "showlegend": false,
                                    "type": "histogram",
                                    "x": {
                                        "bdata": "WBzO/GoOQD/8qfHSTWJAP9DQP8HFiko/ZmZmZmZmIUDS+8bXnllCP5LLf0i/fT0/AAAAAACARkAAAAAAAACFQAAAAAAAiIVA0vvG155ZMj/S+8bXnlkiPwAAAAAAAENAAAAAAAAQkUAAAAAAADCPQAAAAAAAQIFAAAAAAACgiEAAAAAAAAA9QAAAAAAqZyBBAAAAADC3GEE=",
                                        "dtype": "f8"
                                    },
                                    "xaxis": "x6",
                                    "yaxis": "y6"
                                },
                                {
                                    "marker": {
                                        "color": "#AB63FA"
                                    },
                                    "name": "F",
                                    "opacity": 0.7,
                                    "showlegend": false,
                                    "type": "histogram",
                                    "x": {
                                        "bdata": "gJ9x4UBIJj+An3HhQEgWP0uwOJz51Rw/YTJVMCqpIz/xaOOItfgUP+xRuB6F6+k/4XoUrkfh9j+amZmZmZn1P4PAyqFFtvU/aJHtfD816j8aFw6EZAEzP9L7xteeWSI/D9b/OcyXJz/hehSuR+HiP65H4XoUrh9AS7A4nPnVHD8AAAAAAIAiQA==",
                                        "dtype": "f8"
                                    },
                                    "xaxis": "x6",
                                    "yaxis": "y6"
                                },
                                {
                                    "marker": {
                                        "color": "#FFA15A"
                                    },
                                    "name": "O",
                                    "opacity": 0.7,
                                    "showlegend": false,
                                    "type": "histogram",
                                    "x": {
                                        "bdata": "AAAAAADnCEEAAAAAgCsIQQAAAACQzyhBAAAAAIAB/0AAAAAAwK8MQQAAAAAAWPtAAAAAAMAyDEEAAAAA4CcWQQAAAAAAdgZBAAAAAIBVAUEAAAAAAHwVQQAAAACgxAhBAAAAAMA4C0EAAAAAwKMOQQAAAACAlhtBAAAAAEDoDUEAAAAAwCwNQQAAAACA+/9AAAAAAACOAkEAAAAAgCsIQQAAAADQ7RRBAAAAACDpGUEAAAAAAGoIQQAAAADAMQhBAAAAAEA3BUEAAAAAENINQQAAAACgSxRBAAAAAHDuFEEAAAAArGYgQQAAAABQHg5BAAAAAGBwC0EAAAAA2B8iQQAAAAB07CdBAAAAALA6FUEAAAAAtNomQQAAAAD4phBBAAAAANzJI0EAAAAAuOAWQQAAAAD0cylBAAAAANz/EUE=",
                                        "dtype": "f8"
                                    },
                                    "xaxis": "x6",
                                    "yaxis": "y6"
                                },
                                {
                                    "marker": {
                                        "color": "#19D3F3"
                                    },
                                    "name": "K",
                                    "opacity": 0.7,
                                    "showlegend": false,
                                    "type": "histogram",
                                    "x": {
                                        "bdata": "L90kBoGVwz/D9Shcj8K1PwwCK4cW2dY/KVyPwvUo5D8AAAAAQDYRQQAAAADgOSNB",
                                        "dtype": "f8"
                                    },
                                    "xaxis": "x6",
                                    "yaxis": "y6"
                                },
                                {
                                    "marker": {
                                        "color": "#FF6692"
                                    },
                                    "name": "G",
                                    "opacity": 0.7,
                                    "showlegend": false,
                                    "type": "histogram",
                                    "x": {
                                        "bdata": "AAAAAED0C0E=",
                                        "dtype": "f8"
                                    },
                                    "xaxis": "x6",
                                    "yaxis": "y6"
                                },
                                {
                                    "marker": {
                                        "color": "#636EFA",
                                        "opacity": 0.7,
                                        "size": 5
                                    },
                                    "mode": "markers",
                                    "name": "M",
                                    "showlegend": false,
                                    "type": "scatter",
                                    "x": {
                                        "bdata": "w/UoXI/CxT+Uh4Va07zDP+kmMQisHLo/exSuR+F6xD+R7Xw/NV66Pylcj8L1KLw/qMZLN4lBwD/6fmq8dJO4Pylcj8L1KLw/pHA9CtejwD9SuB6F61HgP26jAbwFEtg/SgwCK4cWyT/0/dR46SbZP+xRuB6F68E/uB6F61G4zj97FK5H4XrEPxSuR+F6FN4/BcWPMXctyT8QWDm0yHbWPwAAAAAAADNAAAAAAAAAN0AAAAAAAABWQAAAAAAAADFAAAAAAAAAOUAAAAAAAAA9QAAAAAAAgEZAAAAAAABAVkAAAAAAAABVQAAAAAAAwJdAAAAAAACwk0AAAAAAAHySQAAAAAAAwJlAAAAAAACwlEAAAAAAABSVQAAAAAAAJJpAAAAAAAAQlEAAAAAAANiNQAAAAAAAKJhAyXa+nxovrT9SuB6F61HIP6rx0k1iELg/OdbFbTSAtz8ZBFYOLbK9P0w3iUFg5cA/AiuHFtnOtz/DZKpgVFK3P2iR7Xw/Nb4/uB6F61G4vj9GtvP91HjRP1K4HoXrUdg/CtejcD0Kxz9mZmZmZmbWPzm0yHa+n9I/ZmZmZmZm1j+4HoXrUbjOP9nO91PjpdM/SgwCK4cWuT/P91PjpZvEPwAAAAAAJJRAAAAAAACQkUAAAAAAAIyZQAAAAAAAOJdAAAAAAADIl0AAAAAAALCUQAAAAAAAYItAAAAAAACwlEDUK2UZ4li3PwfwFkhQ/Lg/KVyPwvUovD8kufyH9Nu3P4GVQ4ts57s/YOXQItv5vj8kufyH9Nu3P/kP6bevA7c/TRWMSuoEtD8noImw4em1P7ByaJHtfN8/UrgehetR2D/Xo3A9CtfTP8P1KFyPwtU/16NwPQrX4z9cj8L1KFznP7gehetRuM4/7FG4HoXr4T/D9Shcj8LVP/yp8dJNYtA/AAAAAAAgl0AAAAAAADCWQAAAAAAAmJJAAAAAAABEmEAGgZVDi2y3PxkEVg4tsr0/VOOlm8QgwD+/fR04Z0S5P7UV+8vuybM/1JrmHafouD8QWDm0yHa+P3gLJCh+jLk/eekmMQisvD9QjZduEoPAP4ts5/up8cI/cT0K16Nw3T/sUbgehevRP/7UeOkmMdg/0SLb+X5q1D9xPQrXo3DlP1CNl24Sg9A/Gy/dJAaB1T++nxov3STeP5qZmZmZmeU/",
                                        "dtype": "f8"
                                    },
                                    "xaxis": "x7",
                                    "y": {
                                        "bdata": "YTJVMCqpYz/8qfHSTWJAP2EyVTAqqTM/LUMc6+I2Kj8cJET5ghYiP5T2Bl+YTEU/smMjEK/rRz8tQxzr4jY6PyMtlbcjnEY/D9b/OcyXJz/gnBGlvcFnPwfwFkhQ/Ig/LUMc6+I2Oj+6SQwCK4d2P2EyVTAqqUM/xY8xdy0hbz+Sy39Iv31dP3EDPj+MEG4/ZJKRs7CnbT8rhxbZzvejPwAAAAAAaghBAAAAAIDAFEEAAAAAgE8CQQAAAADAzQdBAAAAAAAXEUEAAAAAAIgTQQAAAACAB/5AAAAAAABqCEEAAAAAAHYGQQAAAADAehBBAAAAAOBFEUEAAAAAAJoQQQAAAADgyCBBAAAAAMDrEkEAAAAAYA0QQQAAAADgJxZBAAAAAIA9BUEAAAAAQIMJQQAAAADAzQdBx7q4jQbwdj/cEU4LXvRFP2kdVU0QdS8/gJ9x4UBINj/S+8bXnlkiP1gczvxqDlA/8WjjiLX4ND9YHM78ag5QPw/W/znMlzc/D9b/OcyXRz8bL90kBoGVP7pJDAIrh5Y/nMQgsHJogT8vbqMBvAWCP/yp8dJNYnA//Knx0k1iUD9fB84ZUdprP/p+arx0k1g/YTJVMCqpQz+u2F92Tx5WPwAAAAAAavhAAAAAAADD/kAAAAAAAGoIQQAAAACAkPxAAAAAAAAdAEEAAAAAQLMBQQAAAAAAEfJAAAAAAABqCEEDlfHvMy48P3506spneU4/i+B/K9mxQT9hMlUwKqkjP/Fo44i1+EQ/ngyOklfnSD+nIhXGFoJMP54MjpJX5yg/t18+WTFcTT+Cjla1pKM8P54MjpJX5yg/2ubG9IQlLj/8qfHSTWKAP6g1zTtO0YE/kst/SL99TT9IUPwYc9diP4Lix5i7loA/L26jAbwFUj9fB84ZUdprP5T2Bl+YTFU/AAAAAACIE0EAAAAAgNgAQQAAAAAATA1BAAAAAECzAUG1UgjkEkcuP0Q2kC42rUQ/WBzO/GoOMD9tN8E3TZ89P6CobFhTWUQ/oib6fJQRNz/HnGfsSzY+PyXJc30fDkI/aaz9ne3RSz+EDOTZ5VtPP6Fns+pztXU/YTJVMCqpYz+Sy39Iv319Py1DHOviNlo/rthfdk8edj+u2F92Tx5mPziEKjV7oFU/exSuR+F6VD85tMh2vp96P67YX3ZPHmY/",
                                        "dtype": "f8"
                                    },
                                    "yaxis": "y7"
                                },
                                {
                                    "marker": {
                                        "color": "#EF553B",
                                        "opacity": 0.7,
                                        "size": 5
                                    },
                                    "mode": "markers",
                                    "name": "B",
                                    "showlegend": false,
                                    "type": "scatter",
                                    "x": {
                                        "bdata": "FYxK6gQ0gT956SYxCKyMPzMzMzMzMxlAzczMzMzMHEAfhetRuB4HQAAAAAAAADpAuB6F61G4jj+1pnnHKTqCP0hQ/Bhz14I/qDXNO07RgT/A7J48LNSKPwAAAAAAAChASNxj6UMXhD/HuriNBvCGPzdsW5TZIIM/nNzvUBTogz+HbYsyG2SCP5jdk4eFWoM/EjElkuhlhD8UrkfhehQYQLgehetRuBZArkfhehSuF0CamZmZmZkZQPYoXI/C9RVAH4XrUbgeG0AAAAAAADyaQAAAAAAAzJtAMzMzMzMnhkAAAAAAALqRQIC3QILix4g/1CtlGeJYhz9N845TdCSHP+CcEaW9wYc/E2HD0ytliT+GWtO84xSNP6YKRiV1Aoo/lPYGX5hMhT+hZ7Pqc7WFP8ai6exkcIQ/cT0K16NwGUCPwvUoXI8aQB+F61G4HhhA6SYxCKycFkAAAAAAAFiXQAAAAAAAkJNAAAAAAACokUA=",
                                        "dtype": "f8"
                                    },
                                    "xaxis": "x7",
                                    "y": {
                                        "bdata": "eekmMQisrD85tMh2vp+KPwAAAAAAKtxAAAAAAADAkUAAAAAAAIBSQAAAAAAA2wpBWBzO/GoOUD/cEU4LXvRFP+Un1T4dj0k/VvFG5pE/SD8vbqMBvAVSPwAAAAAATA1BvqQxWkdVQz/6fmq8dJNYP5T2Bl+YTFU/dF5jl6jeSj/cEU4LXvRFP2tI3GPpQ0c/S7A4nPnVTD8AAAAAAPMGQQAAAAAA+JNAAAAAAABSzEAAAAAAgGXQQAAAAAAAXMxAAAAAAABwskAAAAAAgEkTQQAAAACAwARBAAAAAABM/UAAAAAAUFUOQce6uI0G8FY/BcB4Bg39Uz++pDFaR1VTP12nkZbK21E/3BFOC170VT/lJ9U+HY9ZP1t8CoDxDFo/OIQqNXugVT8BNbVsrS9SP3sUrkfhelQ/AAAAAABRyEAAAAAAAFy6QAAAAAAAVMVAAAAAAACYi0AAAAAARGAXQQAAAAAY7ClBAAAAAJTXJkE=",
                                        "dtype": "f8"
                                    },
                                    "yaxis": "y7"
                                },
                                {
                                    "marker": {
                                        "color": "#00CC96",
                                        "opacity": 0.7,
                                        "size": 5
                                    },
                                    "mode": "markers",
                                    "name": "A",
                                    "showlegend": false,
                                    "type": "scatter",
                                    "x": {
                                        "bdata": "9gt2w7ZFiT97FK5H4XqEP+hqK/aX3YM/zczMzMzM/D/b+X5qvHSDPzQRNjy9UoY/CtejcD0KBUDsUbgehesbQArXo3A9ChxAVDVB1H0Agj96/N6mP/uBP0w3iUFg5QNAexSuR+H6FkDXo3A9CtcYQAaBlUOLbBdAK4cW2c73F0CPwvUoXI/+PwAAAAAAPJZAAAAAAABgkUA=",
                                        "dtype": "f8"
                                    },
                                    "xaxis": "x7",
                                    "y": {
                                        "bdata": "WBzO/GoOQD/8qfHSTWJAP9DQP8HFiko/ZmZmZmZmIUDS+8bXnllCP5LLf0i/fT0/AAAAAACARkAAAAAAAACFQAAAAAAAiIVA0vvG155ZMj/S+8bXnlkiPwAAAAAAAENAAAAAAAAQkUAAAAAAADCPQAAAAAAAQIFAAAAAAACgiEAAAAAAAAA9QAAAAAAqZyBBAAAAADC3GEE=",
                                        "dtype": "f8"
                                    },
                                    "yaxis": "y7"
                                },
                                {
                                    "marker": {
                                        "color": "#AB63FA",
                                        "opacity": 0.7,
                                        "size": 5
                                    },
                                    "mode": "markers",
                                    "name": "F",
                                    "showlegend": false,
                                    "type": "scatter",
                                    "x": {
                                        "bdata": "ukkMAiuHhj/Xhopx/iaEPy1DHOviNoo/ukkMAiuHhj85tMh2vp+KP83MzMzMzOw/7FG4HoXr8T9cj8L1KFzvPxkEVg4tsvE/rkfhehSu7z/6fmq8dJOIP0hQ/Bhz14I/ahg+IqZEgj8fhetRuB7tP3E9CtejcPU/ahg+IqZEgj/hehSuR+H+Pw==",
                                        "dtype": "f8"
                                    },
                                    "xaxis": "x7",
                                    "y": {
                                        "bdata": "gJ9x4UBIJj+An3HhQEgWP0uwOJz51Rw/YTJVMCqpIz/xaOOItfgUP+xRuB6F6+k/4XoUrkfh9j+amZmZmZn1P4PAyqFFtvU/aJHtfD816j8aFw6EZAEzP9L7xteeWSI/D9b/OcyXJz/hehSuR+HiP65H4XoUrh9AS7A4nPnVHD8AAAAAAIAiQA==",
                                        "dtype": "f8"
                                    },
                                    "yaxis": "y7"
                                },
                                {
                                    "marker": {
                                        "color": "#FFA15A",
                                        "opacity": 0.7,
                                        "size": 5
                                    },
                                    "mode": "markers",
                                    "name": "O",
                                    "showlegend": false,
                                    "type": "scatter",
                                    "x": {
                                        "bdata": "MzMzMzMzJUBmZmZmZmYkQAAAAAAAACxAAAAAAAAAQkAAAAAAAMBUQAAAAAAAAChAAAAAAAAARUAAAAAAAIBPQAAAAAAAAEJAAAAAAACATEAAAAAAAMBQQHE9CtejcBtAAAAAAACATEAAAAAAAABCQAAAAAAAwFRAAAAAAABAWEAAAAAAAIBBQAAAAAAAADhAAAAAAABAUkAAAAAAAIBDQAAAAAAAAD5AAAAAAAAAOEAAAAAAAFSQQI/C9ShcjxlAppvEILDyGEAAAAAAAIBBQAAAAAAAAFNAAAAAAACAWEAAAAAAAEBUQAAAAAAAAE9AAAAAAAAAR0AAAAAAAABUQAAAAAAAADlAAAAAAACAVUAAAAAAAABXQAAAAAAAMJVAAAAAAABynkAAAAAAADCVQAAAAAAAqJJAAAAAAADcm0A=",
                                        "dtype": "f8"
                                    },
                                    "xaxis": "x7",
                                    "y": {
                                        "bdata": "AAAAAADnCEEAAAAAgCsIQQAAAACQzyhBAAAAAIAB/0AAAAAAwK8MQQAAAAAAWPtAAAAAAMAyDEEAAAAA4CcWQQAAAAAAdgZBAAAAAIBVAUEAAAAAAHwVQQAAAACgxAhBAAAAAMA4C0EAAAAAwKMOQQAAAACAlhtBAAAAAEDoDUEAAAAAwCwNQQAAAACA+/9AAAAAAACOAkEAAAAAgCsIQQAAAADQ7RRBAAAAACDpGUEAAAAAAGoIQQAAAADAMQhBAAAAAEA3BUEAAAAAENINQQAAAACgSxRBAAAAAHDuFEEAAAAArGYgQQAAAABQHg5BAAAAAGBwC0EAAAAA2B8iQQAAAAB07CdBAAAAALA6FUEAAAAAtNomQQAAAAD4phBBAAAAANzJI0EAAAAAuOAWQQAAAAD0cylBAAAAANz/EUE=",
                                        "dtype": "f8"
                                    },
                                    "yaxis": "y7"
                                },
                                {
                                    "marker": {
                                        "color": "#19D3F3",
                                        "opacity": 0.7,
                                        "size": 5
                                    },
                                    "mode": "markers",
                                    "name": "K",
                                    "showlegend": false,
                                    "type": "scatter",
                                    "x": {
                                        "bdata": "rkfhehSu6z9xPQrXo3DpPxSuR+F6FPI/1XjpJjEI7D8AAAAAAPiXQAAAAAAAjJRA",
                                        "dtype": "f8"
                                    },
                                    "xaxis": "x7",
                                    "y": {
                                        "bdata": "L90kBoGVwz/D9Shcj8K1PwwCK4cW2dY/KVyPwvUo5D8AAAAAQDYRQQAAAADgOSNB",
                                        "dtype": "f8"
                                    },
                                    "yaxis": "y7"
                                },
                                {
                                    "marker": {
                                        "color": "#FF6692",
                                        "opacity": 0.7,
                                        "size": 5
                                    },
                                    "mode": "markers",
                                    "name": "G",
                                    "showlegend": false,
                                    "type": "scatter",
                                    "x": {
                                        "bdata": "AAAAAADslkA=",
                                        "dtype": "f8"
                                    },
                                    "xaxis": "x7",
                                    "y": {
                                        "bdata": "AAAAAED0C0E=",
                                        "dtype": "f8"
                                    },
                                    "yaxis": "y7"
                                },
                                {
                                    "marker": {
                                        "color": "#636EFA",
                                        "opacity": 0.7,
                                        "size": 5
                                    },
                                    "mode": "markers",
                                    "name": "M",
                                    "showlegend": false,
                                    "type": "scatter",
                                    "x": {
                                        "bdata": "H4XrUbgeMECamZmZmZkwQDMzMzMzszJAZmZmZmamMECPwvUoXA80QHsUrkfh+jBAuB6F61E4MUBmZmZmZmYxQDMzMzMzczFAzczMzMwMMEDhehSuR2ElQBSuR+F6lCdA7FG4HoVrKkD2KFyPwvUkQKrx0k1ikCdApHA9CtcjKkAUrkfhepQtQJqZmZmZmSVAj8L1KFwPK0Bcj8L1KFwmQLgehetRuBvAzczMzMzMGMAUrkfhehQYwOF6FK5H4RzAAAAAAAAAGMBmZmZmZmYawB+F61G4HhvA9ihcj8L1FMD2KFyPwvUawM3MzMzMzCLAhetRuB6FHsBmZmZmZmYiwJqZmZmZGSDAKVyPwvUoH8AAAAAAAIAnwNejcD0K1yfAj8L1KFyPJsB7FK5H4XomwLgehetRuCbAexSuR+E6MEBxPQrXo/AwQNejcD0KFzBA9ihcj8L1MECkcD0K1+MyQOF6FK5HITFA16NwPQpXMkAzMzMzM3MwQKRwPQrXYzFArkfhehRuM0CamZmZmZkoQD0K16NwPSRAZmZmZmZmKkDhehSuR+EnQEjhehSuxyVAhetRuB6FJ0DsUbgehesqQD0K16NwvSdAH4XrUbieKUD2KFyPwvUrQGZmZmZmZiXAH4XrUbieJcApXI/C9agmwNejcD0K1yXAuB6F61G4JcCPwvUoXA8mwAAAAAAAgCTAZmZmZmZmJcApXI/C9SgxQHE9Ctej8DNAhetRuB4FNEDsUbgeheswQB+F61G4HjFA4XoUrkehM0DhehSuR+EwQPYoXI/CtTBAj8L1KFyPM0DXo3A9ChcyQD0K16NwvSVArkfhehSuJEDXo3A9ClcmQD0K16NwPSpA9ihcj8J1LEAAAAAAAIAtQFyPwvUo3CZAhetRuB6FLED2KFyPwnUoQClcj8L1qCxAUrgehetRHsBcj8L1KFwgwI/C9Shcjx/A16NwPQrXHsD2KFyPwjUwQKRwPQrXYzJAj8L1KFyPMUDXo3A9ClcxQBSuR+F6FDFArkfhehTuMEAzMzMzM3MxQOxRuB6FqzBAMzMzMzNzM0CamZmZmVkwQHE9Ctej8CZA9ihcj8J1JUBmZmZmZuYqQGiR7Xw/tSlAXI/C9SjcKEAv3SQGgVUrQD0K16NwPSxA4XoUrkfhLUCPwvUoXI8pQFpkO99PjS1A",
                                        "dtype": "f8"
                                    },
                                    "xaxis": "x8",
                                    "y": {
                                        "bdata": "YTJVMCqpYz/8qfHSTWJAP2EyVTAqqTM/LUMc6+I2Kj8cJET5ghYiP5T2Bl+YTEU/smMjEK/rRz8tQxzr4jY6PyMtlbcjnEY/D9b/OcyXJz/gnBGlvcFnPwfwFkhQ/Ig/LUMc6+I2Oj+6SQwCK4d2P2EyVTAqqUM/xY8xdy0hbz+Sy39Iv31dP3EDPj+MEG4/ZJKRs7CnbT8rhxbZzvejPwAAAAAAaghBAAAAAIDAFEEAAAAAgE8CQQAAAADAzQdBAAAAAAAXEUEAAAAAAIgTQQAAAACAB/5AAAAAAABqCEEAAAAAAHYGQQAAAADAehBBAAAAAOBFEUEAAAAAAJoQQQAAAADgyCBBAAAAAMDrEkEAAAAAYA0QQQAAAADgJxZBAAAAAIA9BUEAAAAAQIMJQQAAAADAzQdBx7q4jQbwdj/cEU4LXvRFP2kdVU0QdS8/gJ9x4UBINj/S+8bXnlkiP1gczvxqDlA/8WjjiLX4ND9YHM78ag5QPw/W/znMlzc/D9b/OcyXRz8bL90kBoGVP7pJDAIrh5Y/nMQgsHJogT8vbqMBvAWCP/yp8dJNYnA//Knx0k1iUD9fB84ZUdprP/p+arx0k1g/YTJVMCqpQz+u2F92Tx5WPwAAAAAAavhAAAAAAADD/kAAAAAAAGoIQQAAAACAkPxAAAAAAAAdAEEAAAAAQLMBQQAAAAAAEfJAAAAAAABqCEEDlfHvMy48P3506spneU4/i+B/K9mxQT9hMlUwKqkjP/Fo44i1+EQ/ngyOklfnSD+nIhXGFoJMP54MjpJX5yg/t18+WTFcTT+Cjla1pKM8P54MjpJX5yg/2ubG9IQlLj/8qfHSTWKAP6g1zTtO0YE/kst/SL99TT9IUPwYc9diP4Lix5i7loA/L26jAbwFUj9fB84ZUdprP5T2Bl+YTFU/AAAAAACIE0EAAAAAgNgAQQAAAAAATA1BAAAAAECzAUG1UgjkEkcuP0Q2kC42rUQ/WBzO/GoOMD9tN8E3TZ89P6CobFhTWUQ/oib6fJQRNz/HnGfsSzY+PyXJc30fDkI/aaz9ne3RSz+EDOTZ5VtPP6Fns+pztXU/YTJVMCqpYz+Sy39Iv319Py1DHOviNlo/rthfdk8edj+u2F92Tx5mPziEKjV7oFU/exSuR+F6VD85tMh2vp96P67YX3ZPHmY/",
                                        "dtype": "f8"
                                    },
                                    "yaxis": "y8"
                                },
                                {
                                    "marker": {
                                        "color": "#EF553B",
                                        "opacity": 0.7,
                                        "size": 5
                                    },
                                    "mode": "markers",
                                    "name": "B",
                                    "showlegend": false,
                                    "type": "scatter",
                                    "x": {
                                        "bdata": "KVyPwvUoJUBI4XoUrscnQM3MzMzMzBDAhetRuB6F/797FK5H4XrEP2ZmZmZmZhjAZmZmZmbmKEDXo3A9ClcoQMP1KFyPQihA4XoUrkdhJkCuR+F6FK4mQAAAAAAAABrA16NwPQpXK0AK16NwPQonQI/C9ShcjylA16NwPQrXJ0DD9Shcj8ImQClcj8L1qClA9ihcj8J1JkAK16NwPQoQwI/C9ShcjwrA16NwPQrXD8Bcj8L1KFwQwGZmZmZmZg7AMzMzMzMzC8AzMzMzMzMiwM3MzMzMzCPAXI/C9ShcH8B7FK5H4XogwD0K16NwvSlA16NwPQrXJ0D2KFyPwnUoQM3MzMzMzClAcT0K16NwJkCuR+F6FK4mQJqZmZmZGSVAXI/C9ShcJEBSuB6F61EnQD0K16NwPSdAXI/C9ShcDcBmZmZmZmYEwKRwPQrXowjAH4XrUbgeBcCuR+F6FK4hwFyPwvUoXB7ArkfhehSuHsA=",
                                        "dtype": "f8"
                                    },
                                    "xaxis": "x8",
                                    "y": {
                                        "bdata": "eekmMQisrD85tMh2vp+KPwAAAAAAKtxAAAAAAADAkUAAAAAAAIBSQAAAAAAA2wpBWBzO/GoOUD/cEU4LXvRFP+Un1T4dj0k/VvFG5pE/SD8vbqMBvAVSPwAAAAAATA1BvqQxWkdVQz/6fmq8dJNYP5T2Bl+YTFU/dF5jl6jeSj/cEU4LXvRFP2tI3GPpQ0c/S7A4nPnVTD8AAAAAAPMGQQAAAAAA+JNAAAAAAABSzEAAAAAAgGXQQAAAAAAAXMxAAAAAAABwskAAAAAAgEkTQQAAAACAwARBAAAAAABM/UAAAAAAUFUOQce6uI0G8FY/BcB4Bg39Uz++pDFaR1VTP12nkZbK21E/3BFOC170VT/lJ9U+HY9ZP1t8CoDxDFo/OIQqNXugVT8BNbVsrS9SP3sUrkfhelQ/AAAAAABRyEAAAAAAAFy6QAAAAAAAVMVAAAAAAACYi0AAAAAARGAXQQAAAAAY7ClBAAAAAJTXJkE=",
                                        "dtype": "f8"
                                    },
                                    "yaxis": "y8"
                                },
                                {
                                    "marker": {
                                        "color": "#00CC96",
                                        "opacity": 0.7,
                                        "size": 5
                                    },
                                    "mode": "markers",
                                    "name": "A",
                                    "showlegend": false,
                                    "type": "scatter",
                                    "x": {
                                        "bdata": "CtejcD0KLEAAAAAAAAAtQGZmZmZmZixAXI/C9ShcA0CPwvUoXI8rQPYoXI/C9StAMzMzMzMz9z9mZmZmZmYCwHsUrkfhepQ/PQrXo3C9LUAfhetRuJ4tQLgehetRuL4/UrgehetRAMAUrkfhehT2vzm0yHa+n4o/uB6F61G4vr8tsp3vp8bzP/YoXI/CdSXA9ihcj8J1JsA=",
                                        "dtype": "f8"
                                    },
                                    "xaxis": "x8",
                                    "y": {
                                        "bdata": "WBzO/GoOQD/8qfHSTWJAP9DQP8HFiko/ZmZmZmZmIUDS+8bXnllCP5LLf0i/fT0/AAAAAACARkAAAAAAAACFQAAAAAAAiIVA0vvG155ZMj/S+8bXnlkiPwAAAAAAAENAAAAAAAAQkUAAAAAAADCPQAAAAAAAQIFAAAAAAACgiEAAAAAAAAA9QAAAAAAqZyBBAAAAADC3GEE=",
                                        "dtype": "f8"
                                    },
                                    "yaxis": "y8"
                                },
                                {
                                    "marker": {
                                        "color": "#AB63FA",
                                        "opacity": 0.7,
                                        "size": 5
                                    },
                                    "mode": "markers",
                                    "name": "F",
                                    "showlegend": false,
                                    "type": "scatter",
                                    "x": {
                                        "bdata": "9ihcj8J1LED2KFyPwnUoQHE9Ctej8CxArkfhehQuKUApXI/C9SgsQDMzMzMzMxRASOF6FK5HA0BxPQrXo3AHQNejcD0K1xFAH4XrUbgeFECuR+F6FC4sQArXo3A9CihAcT0K16PwKUD2KFyPwvUVQIXrUbgehQNASOF6FK7HKUBcj8L1KFzvvw==",
                                        "dtype": "f8"
                                    },
                                    "xaxis": "x8",
                                    "y": {
                                        "bdata": "gJ9x4UBIJj+An3HhQEgWP0uwOJz51Rw/YTJVMCqpIz/xaOOItfgUP+xRuB6F6+k/4XoUrkfh9j+amZmZmZn1P4PAyqFFtvU/aJHtfD816j8aFw6EZAEzP9L7xteeWSI/D9b/OcyXJz/hehSuR+HiP65H4XoUrh9AS7A4nPnVHD8AAAAAAIAiQA==",
                                        "dtype": "f8"
                                    },
                                    "yaxis": "y8"
                                },
                                {
                                    "marker": {
                                        "color": "#FFA15A",
                                        "opacity": 0.7,
                                        "size": 5
                                    },
                                    "mode": "markers",
                                    "name": "O",
                                    "showlegend": false,
                                    "type": "scatter",
                                    "x": {
                                        "bdata": "zczMzMzMEsCamZmZmZkRwOxRuB6F6xjACtejcD0KF8CPwvUoXI8bwKRwPQrXoxfAexSuR+F6GMBSuB6F61EXwFyPwvUoXBnA9ihcj8L1GMApXI/C9SgXwD0K16NwPRLArkfhehSuF8B7FK5H4foYwHsUrkfhehbAhetRuB6FGsBcj8L1KFwdwOF6FK5H4RzAw/UoXI/CFsBSuB6F61EXwFyPwvUoXBjA9ihcj8L1F8CamZmZmZkgwEjhehSuRxLAcT0K16NwEcAUrkfhehQZwBSuR+F6FBzA7FG4HoXrG8BmZmZmZuYXwGZmZmZmZhnAzczMzMzMHcA/NV66SQwdwEw3iUFg5RjAH4XrUbieF8D8qfHSTWIdwBSuR+F6lCLArkfhehSuJcBcj8L1KNwjwMP1KFyPQiXAMzMzMzMzH8A=",
                                        "dtype": "f8"
                                    },
                                    "xaxis": "x8",
                                    "y": {
                                        "bdata": "AAAAAADnCEEAAAAAgCsIQQAAAACQzyhBAAAAAIAB/0AAAAAAwK8MQQAAAAAAWPtAAAAAAMAyDEEAAAAA4CcWQQAAAAAAdgZBAAAAAIBVAUEAAAAAAHwVQQAAAACgxAhBAAAAAMA4C0EAAAAAwKMOQQAAAACAlhtBAAAAAEDoDUEAAAAAwCwNQQAAAACA+/9AAAAAAACOAkEAAAAAgCsIQQAAAADQ7RRBAAAAACDpGUEAAAAAAGoIQQAAAADAMQhBAAAAAEA3BUEAAAAAENINQQAAAACgSxRBAAAAAHDuFEEAAAAArGYgQQAAAABQHg5BAAAAAGBwC0EAAAAA2B8iQQAAAAB07CdBAAAAALA6FUEAAAAAtNomQQAAAAD4phBBAAAAANzJI0EAAAAAuOAWQQAAAAD0cylBAAAAANz/EUE=",
                                        "dtype": "f8"
                                    },
                                    "yaxis": "y8"
                                },
                                {
                                    "marker": {
                                        "color": "#19D3F3",
                                        "opacity": 0.7,
                                        "size": 5
                                    },
                                    "mode": "markers",
                                    "name": "K",
                                    "showlegend": false,
                                    "type": "scatter",
                                    "x": {
                                        "bdata": "oBov3SQGGkC28/3UeOkYQB+F61G4HhNAuB6F61G4EkBI4XoUrscmwGZmZmZmZiLA",
                                        "dtype": "f8"
                                    },
                                    "xaxis": "x8",
                                    "y": {
                                        "bdata": "L90kBoGVwz/D9Shcj8K1PwwCK4cW2dY/KVyPwvUo5D8AAAAAQDYRQQAAAADgOSNB",
                                        "dtype": "f8"
                                    },
                                    "yaxis": "y8"
                                },
                                {
                                    "marker": {
                                        "color": "#FF6692",
                                        "opacity": 0.7,
                                        "size": 5
                                    },
                                    "mode": "markers",
                                    "name": "G",
                                    "showlegend": false,
                                    "type": "scatter",
                                    "x": {
                                        "bdata": "pHA9CtcjJMA=",
                                        "dtype": "f8"
                                    },
                                    "xaxis": "x8",
                                    "y": {
                                        "bdata": "AAAAAED0C0E=",
                                        "dtype": "f8"
                                    },
                                    "yaxis": "y8"
                                },
                                {
                                    "marker": {
                                        "color": "#636EFA",
                                        "opacity": 0.7,
                                        "size": 5
                                    },
                                    "mode": "markers",
                                    "name": "M",
                                    "showlegend": false,
                                    "type": "scatter",
                                    "x": {
                                        "bdata": "/AviCygK8AqTBxgLTQooCloKjAoQDjkMPgwsDloKDA3vCmwOeAxxDfIOJQ3GDIAMwAsQDvcN9g0pDqINpg76DqUOQg56DUwOeg2oDs8NDQ1oDacLEwt3C98MgQsBC9YKNwsRDRcO6AxODN4NbAxKCw4NPQpWDIMNFQ4fDkcNGg7hDSkOxA77DMsNkgxKDLcNmQx3Cy0LKAurChcMFw4cDK0L1g2rDBMMDg78DNUN8g2sDRAOHg4PC2ILWw2SDH0NSQuYC5wN2grDDYYNuQyyC4wMww0ODkYMqA38DIcN",
                                        "dtype": "i2"
                                    },
                                    "xaxis": "x9",
                                    "y": {
                                        "bdata": "w/UoXI/CxT+Uh4Va07zDP+kmMQisHLo/exSuR+F6xD+R7Xw/NV66Pylcj8L1KLw/qMZLN4lBwD/6fmq8dJO4Pylcj8L1KLw/pHA9CtejwD9SuB6F61HgP26jAbwFEtg/SgwCK4cWyT/0/dR46SbZP+xRuB6F68E/uB6F61G4zj97FK5H4XrEPxSuR+F6FN4/BcWPMXctyT8QWDm0yHbWPwAAAAAAADNAAAAAAAAAN0AAAAAAAABWQAAAAAAAADFAAAAAAAAAOUAAAAAAAAA9QAAAAAAAgEZAAAAAAABAVkAAAAAAAABVQAAAAAAAwJdAAAAAAACwk0AAAAAAAHySQAAAAAAAwJlAAAAAAACwlEAAAAAAABSVQAAAAAAAJJpAAAAAAAAQlEAAAAAAANiNQAAAAAAAKJhAyXa+nxovrT9SuB6F61HIP6rx0k1iELg/OdbFbTSAtz8ZBFYOLbK9P0w3iUFg5cA/AiuHFtnOtz/DZKpgVFK3P2iR7Xw/Nb4/uB6F61G4vj9GtvP91HjRP1K4HoXrUdg/CtejcD0Kxz9mZmZmZmbWPzm0yHa+n9I/ZmZmZmZm1j+4HoXrUbjOP9nO91PjpdM/SgwCK4cWuT/P91PjpZvEPwAAAAAAJJRAAAAAAACQkUAAAAAAAIyZQAAAAAAAOJdAAAAAAADIl0AAAAAAALCUQAAAAAAAYItAAAAAAACwlEDUK2UZ4li3PwfwFkhQ/Lg/KVyPwvUovD8kufyH9Nu3P4GVQ4ts57s/YOXQItv5vj8kufyH9Nu3P/kP6bevA7c/TRWMSuoEtD8noImw4em1P7ByaJHtfN8/UrgehetR2D/Xo3A9CtfTP8P1KFyPwtU/16NwPQrX4z9cj8L1KFznP7gehetRuM4/7FG4HoXr4T/D9Shcj8LVP/yp8dJNYtA/AAAAAAAgl0AAAAAAADCWQAAAAAAAmJJAAAAAAABEmEAGgZVDi2y3PxkEVg4tsr0/VOOlm8QgwD+/fR04Z0S5P7UV+8vuybM/1JrmHafouD8QWDm0yHa+P3gLJCh+jLk/eekmMQisvD9QjZduEoPAP4ts5/up8cI/cT0K16Nw3T/sUbgehevRP/7UeOkmMdg/0SLb+X5q1D9xPQrXo3DlP1CNl24Sg9A/Gy/dJAaB1T++nxov3STeP5qZmZmZmeU/",
                                        "dtype": "f8"
                                    },
                                    "yaxis": "y9"
                                },
                                {
                                    "marker": {
                                        "color": "#EF553B",
                                        "opacity": 0.7,
                                        "size": 5
                                    },
                                    "mode": "markers",
                                    "name": "B",
                                    "showlegend": false,
                                    "type": "scatter",
                                    "x": {
                                        "bdata": "qGEAAHRAAAAwdQAArDsAAOQlAADWgwAAMEMAABQ3AADqLgAA5CoAAJRNAAAUggAAbDQAABxSAAByRwAAuDgAAHwuAABwMgAAuDIAAHhzAAAGQAAA7mEAABxwAAAcZgAAmE4AAJBlAAD4KgAARC8AAKpfAACWQQAAQD0AAIY6AAAcNAAApEcAANBNAADUXQAANFoAAABGAACgSwAATlcAAPxVAADISwAA9EIAAFFeAABbbAAAkFUAAA==",
                                        "dtype": "i4"
                                    },
                                    "xaxis": "x9",
                                    "y": {
                                        "bdata": "FYxK6gQ0gT956SYxCKyMPzMzMzMzMxlAzczMzMzMHEAfhetRuB4HQAAAAAAAADpAuB6F61G4jj+1pnnHKTqCP0hQ/Bhz14I/qDXNO07RgT/A7J48LNSKPwAAAAAAAChASNxj6UMXhD/HuriNBvCGPzdsW5TZIIM/nNzvUBTogz+HbYsyG2SCP5jdk4eFWoM/EjElkuhlhD8UrkfhehQYQLgehetRuBZArkfhehSuF0CamZmZmZkZQPYoXI/C9RVAH4XrUbgeG0AAAAAAADyaQAAAAAAAzJtAMzMzMzMnhkAAAAAAALqRQIC3QILix4g/1CtlGeJYhz9N845TdCSHP+CcEaW9wYc/E2HD0ytliT+GWtO84xSNP6YKRiV1Aoo/lPYGX5hMhT+hZ7Pqc7WFP8ai6exkcIQ/cT0K16NwGUCPwvUoXI8aQB+F61G4HhhA6SYxCKycFkAAAAAAAFiXQAAAAAAAkJNAAAAAAACokUA=",
                                        "dtype": "f8"
                                    },
                                    "yaxis": "y9"
                                },
                                {
                                    "marker": {
                                        "color": "#00CC96",
                                        "opacity": 0.7,
                                        "size": 5
                                    },
                                    "mode": "markers",
                                    "name": "A",
                                    "showlegend": false,
                                    "type": "scatter",
                                    "x": {
                                        "bdata": "PB40IXohdB/iIsslRiPyK0Iv3CIrHvEi7DbfMhwnITNoJH0iEyQ=",
                                        "dtype": "i2"
                                    },
                                    "xaxis": "x9",
                                    "y": {
                                        "bdata": "9gt2w7ZFiT97FK5H4XqEP+hqK/aX3YM/zczMzMzM/D/b+X5qvHSDPzQRNjy9UoY/CtejcD0KBUDsUbgehesbQArXo3A9ChxAVDVB1H0Agj96/N6mP/uBP0w3iUFg5QNAexSuR+H6FkDXo3A9CtcYQAaBlUOLbBdAK4cW2c73F0CPwvUoXI/+PwAAAAAAPJZAAAAAAABgkUA=",
                                        "dtype": "f8"
                                    },
                                    "yaxis": "y9"
                                },
                                {
                                    "marker": {
                                        "color": "#AB63FA",
                                        "opacity": 0.7,
                                        "size": 5
                                    },
                                    "mode": "markers",
                                    "name": "F",
                                    "showlegend": false,
                                    "type": "scatter",
                                    "x": {
                                        "bdata": "NBy+MhQeDi4+HKgWZRrsGDAX0xW8G04pmDW0FCgejDk6IA==",
                                        "dtype": "i2"
                                    },
                                    "xaxis": "x9",
                                    "y": {
                                        "bdata": "ukkMAiuHhj/Xhopx/iaEPy1DHOviNoo/ukkMAiuHhj85tMh2vp+KP83MzMzMzOw/7FG4HoXr8T9cj8L1KFzvPxkEVg4tsvE/rkfhehSu7z/6fmq8dJOIP0hQ/Bhz14I/ahg+IqZEgj8fhetRuB7tP3E9CtejcPU/ahg+IqZEgj/hehSuR+H+Pw==",
                                        "dtype": "f8"
                                    },
                                    "yaxis": "y9"
                                },
                                {
                                    "marker": {
                                        "color": "#FFA15A",
                                        "opacity": 0.7,
                                        "size": 5
                                    },
                                    "mode": "markers",
                                    "name": "O",
                                    "showlegend": false,
                                    "type": "scatter",
                                    "x": {
                                        "bdata": "WJgAAAyNAABAnAAA2FkAAOBCAABYKwAApTcAADZgAABdMgAAGV8AAI2CAACokwAALmMAAC8tAACDMQAAeBYAAN8iAAByHAAA000AAAVnAADnQwAAnSQAAFBGAACOhQAAzH4AAH5cAADNMQAApyQAAJBbAACTQQAALkkAAKQmAACyKgAAN1oAAOpUAABalQAA6X4AAByYAAB3eAAA+pMAAA==",
                                        "dtype": "i4"
                                    },
                                    "xaxis": "x9",
                                    "y": {
                                        "bdata": "MzMzMzMzJUBmZmZmZmYkQAAAAAAAACxAAAAAAAAAQkAAAAAAAMBUQAAAAAAAAChAAAAAAAAARUAAAAAAAIBPQAAAAAAAAEJAAAAAAACATEAAAAAAAMBQQHE9CtejcBtAAAAAAACATEAAAAAAAABCQAAAAAAAwFRAAAAAAABAWEAAAAAAAIBBQAAAAAAAADhAAAAAAABAUkAAAAAAAIBDQAAAAAAAAD5AAAAAAAAAOEAAAAAAAFSQQI/C9ShcjxlAppvEILDyGEAAAAAAAIBBQAAAAAAAAFNAAAAAAACAWEAAAAAAAEBUQAAAAAAAAE9AAAAAAAAAR0AAAAAAAABUQAAAAAAAADlAAAAAAACAVUAAAAAAAABXQAAAAAAAMJVAAAAAAABynkAAAAAAADCVQAAAAAAAqJJAAAAAAADcm0A=",
                                        "dtype": "f8"
                                    },
                                    "yaxis": "y9"
                                },
                                {
                                    "marker": {
                                        "color": "#19D3F3",
                                        "opacity": 0.7,
                                        "size": 5
                                    },
                                    "mode": "markers",
                                    "name": "K",
                                    "showlegend": false,
                                    "type": "scatter",
                                    "x": {
                                        "bdata": "rhHtD3QT+BOvD78Q",
                                        "dtype": "i2"
                                    },
                                    "xaxis": "x9",
                                    "y": {
                                        "bdata": "rkfhehSu6z9xPQrXo3DpPxSuR+F6FPI/1XjpJjEI7D8AAAAAAPiXQAAAAAAAjJRA",
                                        "dtype": "f8"
                                    },
                                    "yaxis": "y9"
                                },
                                {
                                    "marker": {
                                        "color": "#FF6692",
                                        "opacity": 0.7,
                                        "size": 5
                                    },
                                    "mode": "markers",
                                    "name": "G",
                                    "showlegend": false,
                                    "type": "scatter",
                                    "x": {
                                        "bdata": "who=",
                                        "dtype": "i2"
                                    },
                                    "xaxis": "x9",
                                    "y": {
                                        "bdata": "AAAAAADslkA=",
                                        "dtype": "f8"
                                    },
                                    "yaxis": "y9"
                                },
                                {
                                    "marker": {
                                        "color": "#636EFA",
                                        "opacity": 0.7,
                                        "size": 5
                                    },
                                    "mode": "markers",
                                    "name": "M",
                                    "showlegend": false,
                                    "type": "scatter",
                                    "x": {
                                        "bdata": "YTJVMCqpYz/8qfHSTWJAP2EyVTAqqTM/LUMc6+I2Kj8cJET5ghYiP5T2Bl+YTEU/smMjEK/rRz8tQxzr4jY6PyMtlbcjnEY/D9b/OcyXJz/gnBGlvcFnPwfwFkhQ/Ig/LUMc6+I2Oj+6SQwCK4d2P2EyVTAqqUM/xY8xdy0hbz+Sy39Iv31dP3EDPj+MEG4/ZJKRs7CnbT8rhxbZzvejPwAAAAAAaghBAAAAAIDAFEEAAAAAgE8CQQAAAADAzQdBAAAAAAAXEUEAAAAAAIgTQQAAAACAB/5AAAAAAABqCEEAAAAAAHYGQQAAAADAehBBAAAAAOBFEUEAAAAAAJoQQQAAAADgyCBBAAAAAMDrEkEAAAAAYA0QQQAAAADgJxZBAAAAAIA9BUEAAAAAQIMJQQAAAADAzQdBx7q4jQbwdj/cEU4LXvRFP2kdVU0QdS8/gJ9x4UBINj/S+8bXnlkiP1gczvxqDlA/8WjjiLX4ND9YHM78ag5QPw/W/znMlzc/D9b/OcyXRz8bL90kBoGVP7pJDAIrh5Y/nMQgsHJogT8vbqMBvAWCP/yp8dJNYnA//Knx0k1iUD9fB84ZUdprP/p+arx0k1g/YTJVMCqpQz+u2F92Tx5WPwAAAAAAavhAAAAAAADD/kAAAAAAAGoIQQAAAACAkPxAAAAAAAAdAEEAAAAAQLMBQQAAAAAAEfJAAAAAAABqCEEDlfHvMy48P3506spneU4/i+B/K9mxQT9hMlUwKqkjP/Fo44i1+EQ/ngyOklfnSD+nIhXGFoJMP54MjpJX5yg/t18+WTFcTT+Cjla1pKM8P54MjpJX5yg/2ubG9IQlLj/8qfHSTWKAP6g1zTtO0YE/kst/SL99TT9IUPwYc9diP4Lix5i7loA/L26jAbwFUj9fB84ZUdprP5T2Bl+YTFU/AAAAAACIE0EAAAAAgNgAQQAAAAAATA1BAAAAAECzAUG1UgjkEkcuP0Q2kC42rUQ/WBzO/GoOMD9tN8E3TZ89P6CobFhTWUQ/oib6fJQRNz/HnGfsSzY+PyXJc30fDkI/aaz9ne3RSz+EDOTZ5VtPP6Fns+pztXU/YTJVMCqpYz+Sy39Iv319Py1DHOviNlo/rthfdk8edj+u2F92Tx5mPziEKjV7oFU/exSuR+F6VD85tMh2vp96P67YX3ZPHmY/",
                                        "dtype": "f8"
                                    },
                                    "xaxis": "x10",
                                    "y": {
                                        "bdata": "w/UoXI/CxT+Uh4Va07zDP+kmMQisHLo/exSuR+F6xD+R7Xw/NV66Pylcj8L1KLw/qMZLN4lBwD/6fmq8dJO4Pylcj8L1KLw/pHA9CtejwD9SuB6F61HgP26jAbwFEtg/SgwCK4cWyT/0/dR46SbZP+xRuB6F68E/uB6F61G4zj97FK5H4XrEPxSuR+F6FN4/BcWPMXctyT8QWDm0yHbWPwAAAAAAADNAAAAAAAAAN0AAAAAAAABWQAAAAAAAADFAAAAAAAAAOUAAAAAAAAA9QAAAAAAAgEZAAAAAAABAVkAAAAAAAABVQAAAAAAAwJdAAAAAAACwk0AAAAAAAHySQAAAAAAAwJlAAAAAAACwlEAAAAAAABSVQAAAAAAAJJpAAAAAAAAQlEAAAAAAANiNQAAAAAAAKJhAyXa+nxovrT9SuB6F61HIP6rx0k1iELg/OdbFbTSAtz8ZBFYOLbK9P0w3iUFg5cA/AiuHFtnOtz/DZKpgVFK3P2iR7Xw/Nb4/uB6F61G4vj9GtvP91HjRP1K4HoXrUdg/CtejcD0Kxz9mZmZmZmbWPzm0yHa+n9I/ZmZmZmZm1j+4HoXrUbjOP9nO91PjpdM/SgwCK4cWuT/P91PjpZvEPwAAAAAAJJRAAAAAAACQkUAAAAAAAIyZQAAAAAAAOJdAAAAAAADIl0AAAAAAALCUQAAAAAAAYItAAAAAAACwlEDUK2UZ4li3PwfwFkhQ/Lg/KVyPwvUovD8kufyH9Nu3P4GVQ4ts57s/YOXQItv5vj8kufyH9Nu3P/kP6bevA7c/TRWMSuoEtD8noImw4em1P7ByaJHtfN8/UrgehetR2D/Xo3A9CtfTP8P1KFyPwtU/16NwPQrX4z9cj8L1KFznP7gehetRuM4/7FG4HoXr4T/D9Shcj8LVP/yp8dJNYtA/AAAAAAAgl0AAAAAAADCWQAAAAAAAmJJAAAAAAABEmEAGgZVDi2y3PxkEVg4tsr0/VOOlm8QgwD+/fR04Z0S5P7UV+8vuybM/1JrmHafouD8QWDm0yHa+P3gLJCh+jLk/eekmMQisvD9QjZduEoPAP4ts5/up8cI/cT0K16Nw3T/sUbgehevRP/7UeOkmMdg/0SLb+X5q1D9xPQrXo3DlP1CNl24Sg9A/Gy/dJAaB1T++nxov3STeP5qZmZmZmeU/",
                                        "dtype": "f8"
                                    },
                                    "yaxis": "y10"
                                },
                                {
                                    "marker": {
                                        "color": "#EF553B",
                                        "opacity": 0.7,
                                        "size": 5
                                    },
                                    "mode": "markers",
                                    "name": "B",
                                    "showlegend": false,
                                    "type": "scatter",
                                    "x": {
                                        "bdata": "eekmMQisrD85tMh2vp+KPwAAAAAAKtxAAAAAAADAkUAAAAAAAIBSQAAAAAAA2wpBWBzO/GoOUD/cEU4LXvRFP+Un1T4dj0k/VvFG5pE/SD8vbqMBvAVSPwAAAAAATA1BvqQxWkdVQz/6fmq8dJNYP5T2Bl+YTFU/dF5jl6jeSj/cEU4LXvRFP2tI3GPpQ0c/S7A4nPnVTD8AAAAAAPMGQQAAAAAA+JNAAAAAAABSzEAAAAAAgGXQQAAAAAAAXMxAAAAAAABwskAAAAAAgEkTQQAAAACAwARBAAAAAABM/UAAAAAAUFUOQce6uI0G8FY/BcB4Bg39Uz++pDFaR1VTP12nkZbK21E/3BFOC170VT/lJ9U+HY9ZP1t8CoDxDFo/OIQqNXugVT8BNbVsrS9SP3sUrkfhelQ/AAAAAABRyEAAAAAAAFy6QAAAAAAAVMVAAAAAAACYi0AAAAAARGAXQQAAAAAY7ClBAAAAAJTXJkE=",
                                        "dtype": "f8"
                                    },
                                    "xaxis": "x10",
                                    "y": {
                                        "bdata": "FYxK6gQ0gT956SYxCKyMPzMzMzMzMxlAzczMzMzMHEAfhetRuB4HQAAAAAAAADpAuB6F61G4jj+1pnnHKTqCP0hQ/Bhz14I/qDXNO07RgT/A7J48LNSKPwAAAAAAAChASNxj6UMXhD/HuriNBvCGPzdsW5TZIIM/nNzvUBTogz+HbYsyG2SCP5jdk4eFWoM/EjElkuhlhD8UrkfhehQYQLgehetRuBZArkfhehSuF0CamZmZmZkZQPYoXI/C9RVAH4XrUbgeG0AAAAAAADyaQAAAAAAAzJtAMzMzMzMnhkAAAAAAALqRQIC3QILix4g/1CtlGeJYhz9N845TdCSHP+CcEaW9wYc/E2HD0ytliT+GWtO84xSNP6YKRiV1Aoo/lPYGX5hMhT+hZ7Pqc7WFP8ai6exkcIQ/cT0K16NwGUCPwvUoXI8aQB+F61G4HhhA6SYxCKycFkAAAAAAAFiXQAAAAAAAkJNAAAAAAACokUA=",
                                        "dtype": "f8"
                                    },
                                    "yaxis": "y10"
                                },
                                {
                                    "marker": {
                                        "color": "#00CC96",
                                        "opacity": 0.7,
                                        "size": 5
                                    },
                                    "mode": "markers",
                                    "name": "A",
                                    "showlegend": false,
                                    "type": "scatter",
                                    "x": {
                                        "bdata": "WBzO/GoOQD/8qfHSTWJAP9DQP8HFiko/ZmZmZmZmIUDS+8bXnllCP5LLf0i/fT0/AAAAAACARkAAAAAAAACFQAAAAAAAiIVA0vvG155ZMj/S+8bXnlkiPwAAAAAAAENAAAAAAAAQkUAAAAAAADCPQAAAAAAAQIFAAAAAAACgiEAAAAAAAAA9QAAAAAAqZyBBAAAAADC3GEE=",
                                        "dtype": "f8"
                                    },
                                    "xaxis": "x10",
                                    "y": {
                                        "bdata": "9gt2w7ZFiT97FK5H4XqEP+hqK/aX3YM/zczMzMzM/D/b+X5qvHSDPzQRNjy9UoY/CtejcD0KBUDsUbgehesbQArXo3A9ChxAVDVB1H0Agj96/N6mP/uBP0w3iUFg5QNAexSuR+H6FkDXo3A9CtcYQAaBlUOLbBdAK4cW2c73F0CPwvUoXI/+PwAAAAAAPJZAAAAAAABgkUA=",
                                        "dtype": "f8"
                                    },
                                    "yaxis": "y10"
                                },
                                {
                                    "marker": {
                                        "color": "#AB63FA",
                                        "opacity": 0.7,
                                        "size": 5
                                    },
                                    "mode": "markers",
                                    "name": "F",
                                    "showlegend": false,
                                    "type": "scatter",
                                    "x": {
                                        "bdata": "gJ9x4UBIJj+An3HhQEgWP0uwOJz51Rw/YTJVMCqpIz/xaOOItfgUP+xRuB6F6+k/4XoUrkfh9j+amZmZmZn1P4PAyqFFtvU/aJHtfD816j8aFw6EZAEzP9L7xteeWSI/D9b/OcyXJz/hehSuR+HiP65H4XoUrh9AS7A4nPnVHD8AAAAAAIAiQA==",
                                        "dtype": "f8"
                                    },
                                    "xaxis": "x10",
                                    "y": {
                                        "bdata": "ukkMAiuHhj/Xhopx/iaEPy1DHOviNoo/ukkMAiuHhj85tMh2vp+KP83MzMzMzOw/7FG4HoXr8T9cj8L1KFzvPxkEVg4tsvE/rkfhehSu7z/6fmq8dJOIP0hQ/Bhz14I/ahg+IqZEgj8fhetRuB7tP3E9CtejcPU/ahg+IqZEgj/hehSuR+H+Pw==",
                                        "dtype": "f8"
                                    },
                                    "yaxis": "y10"
                                },
                                {
                                    "marker": {
                                        "color": "#FFA15A",
                                        "opacity": 0.7,
                                        "size": 5
                                    },
                                    "mode": "markers",
                                    "name": "O",
                                    "showlegend": false,
                                    "type": "scatter",
                                    "x": {
                                        "bdata": "AAAAAADnCEEAAAAAgCsIQQAAAACQzyhBAAAAAIAB/0AAAAAAwK8MQQAAAAAAWPtAAAAAAMAyDEEAAAAA4CcWQQAAAAAAdgZBAAAAAIBVAUEAAAAAAHwVQQAAAACgxAhBAAAAAMA4C0EAAAAAwKMOQQAAAACAlhtBAAAAAEDoDUEAAAAAwCwNQQAAAACA+/9AAAAAAACOAkEAAAAAgCsIQQAAAADQ7RRBAAAAACDpGUEAAAAAAGoIQQAAAADAMQhBAAAAAEA3BUEAAAAAENINQQAAAACgSxRBAAAAAHDuFEEAAAAArGYgQQAAAABQHg5BAAAAAGBwC0EAAAAA2B8iQQAAAAB07CdBAAAAALA6FUEAAAAAtNomQQAAAAD4phBBAAAAANzJI0EAAAAAuOAWQQAAAAD0cylBAAAAANz/EUE=",
                                        "dtype": "f8"
                                    },
                                    "xaxis": "x10",
                                    "y": {
                                        "bdata": "MzMzMzMzJUBmZmZmZmYkQAAAAAAAACxAAAAAAAAAQkAAAAAAAMBUQAAAAAAAAChAAAAAAAAARUAAAAAAAIBPQAAAAAAAAEJAAAAAAACATEAAAAAAAMBQQHE9CtejcBtAAAAAAACATEAAAAAAAABCQAAAAAAAwFRAAAAAAABAWEAAAAAAAIBBQAAAAAAAADhAAAAAAABAUkAAAAAAAIBDQAAAAAAAAD5AAAAAAAAAOEAAAAAAAFSQQI/C9ShcjxlAppvEILDyGEAAAAAAAIBBQAAAAAAAAFNAAAAAAACAWEAAAAAAAEBUQAAAAAAAAE9AAAAAAAAAR0AAAAAAAABUQAAAAAAAADlAAAAAAACAVUAAAAAAAABXQAAAAAAAMJVAAAAAAABynkAAAAAAADCVQAAAAAAAqJJAAAAAAADcm0A=",
                                        "dtype": "f8"
                                    },
                                    "yaxis": "y10"
                                },
                                {
                                    "marker": {
                                        "color": "#19D3F3",
                                        "opacity": 0.7,
                                        "size": 5
                                    },
                                    "mode": "markers",
                                    "name": "K",
                                    "showlegend": false,
                                    "type": "scatter",
                                    "x": {
                                        "bdata": "L90kBoGVwz/D9Shcj8K1PwwCK4cW2dY/KVyPwvUo5D8AAAAAQDYRQQAAAADgOSNB",
                                        "dtype": "f8"
                                    },
                                    "xaxis": "x10",
                                    "y": {
                                        "bdata": "rkfhehSu6z9xPQrXo3DpPxSuR+F6FPI/1XjpJjEI7D8AAAAAAPiXQAAAAAAAjJRA",
                                        "dtype": "f8"
                                    },
                                    "yaxis": "y10"
                                },
                                {
                                    "marker": {
                                        "color": "#FF6692",
                                        "opacity": 0.7,
                                        "size": 5
                                    },
                                    "mode": "markers",
                                    "name": "G",
                                    "showlegend": false,
                                    "type": "scatter",
                                    "x": {
                                        "bdata": "AAAAAED0C0E=",
                                        "dtype": "f8"
                                    },
                                    "xaxis": "x10",
                                    "y": {
                                        "bdata": "AAAAAADslkA=",
                                        "dtype": "f8"
                                    },
                                    "yaxis": "y10"
                                },
                                {
                                    "marker": {
                                        "color": "#636EFA"
                                    },
                                    "name": "M",
                                    "opacity": 0.7,
                                    "showlegend": false,
                                    "type": "histogram",
                                    "x": {
                                        "bdata": "w/UoXI/CxT+Uh4Va07zDP+kmMQisHLo/exSuR+F6xD+R7Xw/NV66Pylcj8L1KLw/qMZLN4lBwD/6fmq8dJO4Pylcj8L1KLw/pHA9CtejwD9SuB6F61HgP26jAbwFEtg/SgwCK4cWyT/0/dR46SbZP+xRuB6F68E/uB6F61G4zj97FK5H4XrEPxSuR+F6FN4/BcWPMXctyT8QWDm0yHbWPwAAAAAAADNAAAAAAAAAN0AAAAAAAABWQAAAAAAAADFAAAAAAAAAOUAAAAAAAAA9QAAAAAAAgEZAAAAAAABAVkAAAAAAAABVQAAAAAAAwJdAAAAAAACwk0AAAAAAAHySQAAAAAAAwJlAAAAAAACwlEAAAAAAABSVQAAAAAAAJJpAAAAAAAAQlEAAAAAAANiNQAAAAAAAKJhAyXa+nxovrT9SuB6F61HIP6rx0k1iELg/OdbFbTSAtz8ZBFYOLbK9P0w3iUFg5cA/AiuHFtnOtz/DZKpgVFK3P2iR7Xw/Nb4/uB6F61G4vj9GtvP91HjRP1K4HoXrUdg/CtejcD0Kxz9mZmZmZmbWPzm0yHa+n9I/ZmZmZmZm1j+4HoXrUbjOP9nO91PjpdM/SgwCK4cWuT/P91PjpZvEPwAAAAAAJJRAAAAAAACQkUAAAAAAAIyZQAAAAAAAOJdAAAAAAADIl0AAAAAAALCUQAAAAAAAYItAAAAAAACwlEDUK2UZ4li3PwfwFkhQ/Lg/KVyPwvUovD8kufyH9Nu3P4GVQ4ts57s/YOXQItv5vj8kufyH9Nu3P/kP6bevA7c/TRWMSuoEtD8noImw4em1P7ByaJHtfN8/UrgehetR2D/Xo3A9CtfTP8P1KFyPwtU/16NwPQrX4z9cj8L1KFznP7gehetRuM4/7FG4HoXr4T/D9Shcj8LVP/yp8dJNYtA/AAAAAAAgl0AAAAAAADCWQAAAAAAAmJJAAAAAAABEmEAGgZVDi2y3PxkEVg4tsr0/VOOlm8QgwD+/fR04Z0S5P7UV+8vuybM/1JrmHafouD8QWDm0yHa+P3gLJCh+jLk/eekmMQisvD9QjZduEoPAP4ts5/up8cI/cT0K16Nw3T/sUbgehevRP/7UeOkmMdg/0SLb+X5q1D9xPQrXo3DlP1CNl24Sg9A/Gy/dJAaB1T++nxov3STeP5qZmZmZmeU/",
                                        "dtype": "f8"
                                    },
                                    "xaxis": "x11",
                                    "yaxis": "y11"
                                },
                                {
                                    "marker": {
                                        "color": "#EF553B"
                                    },
                                    "name": "B",
                                    "opacity": 0.7,
                                    "showlegend": false,
                                    "type": "histogram",
                                    "x": {
                                        "bdata": "FYxK6gQ0gT956SYxCKyMPzMzMzMzMxlAzczMzMzMHEAfhetRuB4HQAAAAAAAADpAuB6F61G4jj+1pnnHKTqCP0hQ/Bhz14I/qDXNO07RgT/A7J48LNSKPwAAAAAAAChASNxj6UMXhD/HuriNBvCGPzdsW5TZIIM/nNzvUBTogz+HbYsyG2SCP5jdk4eFWoM/EjElkuhlhD8UrkfhehQYQLgehetRuBZArkfhehSuF0CamZmZmZkZQPYoXI/C9RVAH4XrUbgeG0AAAAAAADyaQAAAAAAAzJtAMzMzMzMnhkAAAAAAALqRQIC3QILix4g/1CtlGeJYhz9N845TdCSHP+CcEaW9wYc/E2HD0ytliT+GWtO84xSNP6YKRiV1Aoo/lPYGX5hMhT+hZ7Pqc7WFP8ai6exkcIQ/cT0K16NwGUCPwvUoXI8aQB+F61G4HhhA6SYxCKycFkAAAAAAAFiXQAAAAAAAkJNAAAAAAACokUA=",
                                        "dtype": "f8"
                                    },
                                    "xaxis": "x11",
                                    "yaxis": "y11"
                                },
                                {
                                    "marker": {
                                        "color": "#00CC96"
                                    },
                                    "name": "A",
                                    "opacity": 0.7,
                                    "showlegend": false,
                                    "type": "histogram",
                                    "x": {
                                        "bdata": "9gt2w7ZFiT97FK5H4XqEP+hqK/aX3YM/zczMzMzM/D/b+X5qvHSDPzQRNjy9UoY/CtejcD0KBUDsUbgehesbQArXo3A9ChxAVDVB1H0Agj96/N6mP/uBP0w3iUFg5QNAexSuR+H6FkDXo3A9CtcYQAaBlUOLbBdAK4cW2c73F0CPwvUoXI/+PwAAAAAAPJZAAAAAAABgkUA=",
                                        "dtype": "f8"
                                    },
                                    "xaxis": "x11",
                                    "yaxis": "y11"
                                },
                                {
                                    "marker": {
                                        "color": "#AB63FA"
                                    },
                                    "name": "F",
                                    "opacity": 0.7,
                                    "showlegend": false,
                                    "type": "histogram",
                                    "x": {
                                        "bdata": "ukkMAiuHhj/Xhopx/iaEPy1DHOviNoo/ukkMAiuHhj85tMh2vp+KP83MzMzMzOw/7FG4HoXr8T9cj8L1KFzvPxkEVg4tsvE/rkfhehSu7z/6fmq8dJOIP0hQ/Bhz14I/ahg+IqZEgj8fhetRuB7tP3E9CtejcPU/ahg+IqZEgj/hehSuR+H+Pw==",
                                        "dtype": "f8"
                                    },
                                    "xaxis": "x11",
                                    "yaxis": "y11"
                                },
                                {
                                    "marker": {
                                        "color": "#FFA15A"
                                    },
                                    "name": "O",
                                    "opacity": 0.7,
                                    "showlegend": false,
                                    "type": "histogram",
                                    "x": {
                                        "bdata": "MzMzMzMzJUBmZmZmZmYkQAAAAAAAACxAAAAAAAAAQkAAAAAAAMBUQAAAAAAAAChAAAAAAAAARUAAAAAAAIBPQAAAAAAAAEJAAAAAAACATEAAAAAAAMBQQHE9CtejcBtAAAAAAACATEAAAAAAAABCQAAAAAAAwFRAAAAAAABAWEAAAAAAAIBBQAAAAAAAADhAAAAAAABAUkAAAAAAAIBDQAAAAAAAAD5AAAAAAAAAOEAAAAAAAFSQQI/C9ShcjxlAppvEILDyGEAAAAAAAIBBQAAAAAAAAFNAAAAAAACAWEAAAAAAAEBUQAAAAAAAAE9AAAAAAAAAR0AAAAAAAABUQAAAAAAAADlAAAAAAACAVUAAAAAAAABXQAAAAAAAMJVAAAAAAABynkAAAAAAADCVQAAAAAAAqJJAAAAAAADcm0A=",
                                        "dtype": "f8"
                                    },
                                    "xaxis": "x11",
                                    "yaxis": "y11"
                                },
                                {
                                    "marker": {
                                        "color": "#19D3F3"
                                    },
                                    "name": "K",
                                    "opacity": 0.7,
                                    "showlegend": false,
                                    "type": "histogram",
                                    "x": {
                                        "bdata": "rkfhehSu6z9xPQrXo3DpPxSuR+F6FPI/1XjpJjEI7D8AAAAAAPiXQAAAAAAAjJRA",
                                        "dtype": "f8"
                                    },
                                    "xaxis": "x11",
                                    "yaxis": "y11"
                                },
                                {
                                    "marker": {
                                        "color": "#FF6692"
                                    },
                                    "name": "G",
                                    "opacity": 0.7,
                                    "showlegend": false,
                                    "type": "histogram",
                                    "x": {
                                        "bdata": "AAAAAADslkA=",
                                        "dtype": "f8"
                                    },
                                    "xaxis": "x11",
                                    "yaxis": "y11"
                                },
                                {
                                    "marker": {
                                        "color": "#636EFA",
                                        "opacity": 0.7,
                                        "size": 5
                                    },
                                    "mode": "markers",
                                    "name": "M",
                                    "showlegend": false,
                                    "type": "scatter",
                                    "x": {
                                        "bdata": "H4XrUbgeMECamZmZmZkwQDMzMzMzszJAZmZmZmamMECPwvUoXA80QHsUrkfh+jBAuB6F61E4MUBmZmZmZmYxQDMzMzMzczFAzczMzMwMMEDhehSuR2ElQBSuR+F6lCdA7FG4HoVrKkD2KFyPwvUkQKrx0k1ikCdApHA9CtcjKkAUrkfhepQtQJqZmZmZmSVAj8L1KFwPK0Bcj8L1KFwmQLgehetRuBvAzczMzMzMGMAUrkfhehQYwOF6FK5H4RzAAAAAAAAAGMBmZmZmZmYawB+F61G4HhvA9ihcj8L1FMD2KFyPwvUawM3MzMzMzCLAhetRuB6FHsBmZmZmZmYiwJqZmZmZGSDAKVyPwvUoH8AAAAAAAIAnwNejcD0K1yfAj8L1KFyPJsB7FK5H4XomwLgehetRuCbAexSuR+E6MEBxPQrXo/AwQNejcD0KFzBA9ihcj8L1MECkcD0K1+MyQOF6FK5HITFA16NwPQpXMkAzMzMzM3MwQKRwPQrXYzFArkfhehRuM0CamZmZmZkoQD0K16NwPSRAZmZmZmZmKkDhehSuR+EnQEjhehSuxyVAhetRuB6FJ0DsUbgehesqQD0K16NwvSdAH4XrUbieKUD2KFyPwvUrQGZmZmZmZiXAH4XrUbieJcApXI/C9agmwNejcD0K1yXAuB6F61G4JcCPwvUoXA8mwAAAAAAAgCTAZmZmZmZmJcApXI/C9SgxQHE9Ctej8DNAhetRuB4FNEDsUbgeheswQB+F61G4HjFA4XoUrkehM0DhehSuR+EwQPYoXI/CtTBAj8L1KFyPM0DXo3A9ChcyQD0K16NwvSVArkfhehSuJEDXo3A9ClcmQD0K16NwPSpA9ihcj8J1LEAAAAAAAIAtQFyPwvUo3CZAhetRuB6FLED2KFyPwnUoQClcj8L1qCxAUrgehetRHsBcj8L1KFwgwI/C9Shcjx/A16NwPQrXHsD2KFyPwjUwQKRwPQrXYzJAj8L1KFyPMUDXo3A9ClcxQBSuR+F6FDFArkfhehTuMEAzMzMzM3MxQOxRuB6FqzBAMzMzMzNzM0CamZmZmVkwQHE9Ctej8CZA9ihcj8J1JUBmZmZmZuYqQGiR7Xw/tSlAXI/C9SjcKEAv3SQGgVUrQD0K16NwPSxA4XoUrkfhLUCPwvUoXI8pQFpkO99PjS1A",
                                        "dtype": "f8"
                                    },
                                    "xaxis": "x12",
                                    "y": {
                                        "bdata": "w/UoXI/CxT+Uh4Va07zDP+kmMQisHLo/exSuR+F6xD+R7Xw/NV66Pylcj8L1KLw/qMZLN4lBwD/6fmq8dJO4Pylcj8L1KLw/pHA9CtejwD9SuB6F61HgP26jAbwFEtg/SgwCK4cWyT/0/dR46SbZP+xRuB6F68E/uB6F61G4zj97FK5H4XrEPxSuR+F6FN4/BcWPMXctyT8QWDm0yHbWPwAAAAAAADNAAAAAAAAAN0AAAAAAAABWQAAAAAAAADFAAAAAAAAAOUAAAAAAAAA9QAAAAAAAgEZAAAAAAABAVkAAAAAAAABVQAAAAAAAwJdAAAAAAACwk0AAAAAAAHySQAAAAAAAwJlAAAAAAACwlEAAAAAAABSVQAAAAAAAJJpAAAAAAAAQlEAAAAAAANiNQAAAAAAAKJhAyXa+nxovrT9SuB6F61HIP6rx0k1iELg/OdbFbTSAtz8ZBFYOLbK9P0w3iUFg5cA/AiuHFtnOtz/DZKpgVFK3P2iR7Xw/Nb4/uB6F61G4vj9GtvP91HjRP1K4HoXrUdg/CtejcD0Kxz9mZmZmZmbWPzm0yHa+n9I/ZmZmZmZm1j+4HoXrUbjOP9nO91PjpdM/SgwCK4cWuT/P91PjpZvEPwAAAAAAJJRAAAAAAACQkUAAAAAAAIyZQAAAAAAAOJdAAAAAAADIl0AAAAAAALCUQAAAAAAAYItAAAAAAACwlEDUK2UZ4li3PwfwFkhQ/Lg/KVyPwvUovD8kufyH9Nu3P4GVQ4ts57s/YOXQItv5vj8kufyH9Nu3P/kP6bevA7c/TRWMSuoEtD8noImw4em1P7ByaJHtfN8/UrgehetR2D/Xo3A9CtfTP8P1KFyPwtU/16NwPQrX4z9cj8L1KFznP7gehetRuM4/7FG4HoXr4T/D9Shcj8LVP/yp8dJNYtA/AAAAAAAgl0AAAAAAADCWQAAAAAAAmJJAAAAAAABEmEAGgZVDi2y3PxkEVg4tsr0/VOOlm8QgwD+/fR04Z0S5P7UV+8vuybM/1JrmHafouD8QWDm0yHa+P3gLJCh+jLk/eekmMQisvD9QjZduEoPAP4ts5/up8cI/cT0K16Nw3T/sUbgehevRP/7UeOkmMdg/0SLb+X5q1D9xPQrXo3DlP1CNl24Sg9A/Gy/dJAaB1T++nxov3STeP5qZmZmZmeU/",
                                        "dtype": "f8"
                                    },
                                    "yaxis": "y12"
                                },
                                {
                                    "marker": {
                                        "color": "#EF553B",
                                        "opacity": 0.7,
                                        "size": 5
                                    },
                                    "mode": "markers",
                                    "name": "B",
                                    "showlegend": false,
                                    "type": "scatter",
                                    "x": {
                                        "bdata": "KVyPwvUoJUBI4XoUrscnQM3MzMzMzBDAhetRuB6F/797FK5H4XrEP2ZmZmZmZhjAZmZmZmbmKEDXo3A9ClcoQMP1KFyPQihA4XoUrkdhJkCuR+F6FK4mQAAAAAAAABrA16NwPQpXK0AK16NwPQonQI/C9ShcjylA16NwPQrXJ0DD9Shcj8ImQClcj8L1qClA9ihcj8J1JkAK16NwPQoQwI/C9ShcjwrA16NwPQrXD8Bcj8L1KFwQwGZmZmZmZg7AMzMzMzMzC8AzMzMzMzMiwM3MzMzMzCPAXI/C9ShcH8B7FK5H4XogwD0K16NwvSlA16NwPQrXJ0D2KFyPwnUoQM3MzMzMzClAcT0K16NwJkCuR+F6FK4mQJqZmZmZGSVAXI/C9ShcJEBSuB6F61EnQD0K16NwPSdAXI/C9ShcDcBmZmZmZmYEwKRwPQrXowjAH4XrUbgeBcCuR+F6FK4hwFyPwvUoXB7ArkfhehSuHsA=",
                                        "dtype": "f8"
                                    },
                                    "xaxis": "x12",
                                    "y": {
                                        "bdata": "FYxK6gQ0gT956SYxCKyMPzMzMzMzMxlAzczMzMzMHEAfhetRuB4HQAAAAAAAADpAuB6F61G4jj+1pnnHKTqCP0hQ/Bhz14I/qDXNO07RgT/A7J48LNSKPwAAAAAAAChASNxj6UMXhD/HuriNBvCGPzdsW5TZIIM/nNzvUBTogz+HbYsyG2SCP5jdk4eFWoM/EjElkuhlhD8UrkfhehQYQLgehetRuBZArkfhehSuF0CamZmZmZkZQPYoXI/C9RVAH4XrUbgeG0AAAAAAADyaQAAAAAAAzJtAMzMzMzMnhkAAAAAAALqRQIC3QILix4g/1CtlGeJYhz9N845TdCSHP+CcEaW9wYc/E2HD0ytliT+GWtO84xSNP6YKRiV1Aoo/lPYGX5hMhT+hZ7Pqc7WFP8ai6exkcIQ/cT0K16NwGUCPwvUoXI8aQB+F61G4HhhA6SYxCKycFkAAAAAAAFiXQAAAAAAAkJNAAAAAAACokUA=",
                                        "dtype": "f8"
                                    },
                                    "yaxis": "y12"
                                },
                                {
                                    "marker": {
                                        "color": "#00CC96",
                                        "opacity": 0.7,
                                        "size": 5
                                    },
                                    "mode": "markers",
                                    "name": "A",
                                    "showlegend": false,
                                    "type": "scatter",
                                    "x": {
                                        "bdata": "CtejcD0KLEAAAAAAAAAtQGZmZmZmZixAXI/C9ShcA0CPwvUoXI8rQPYoXI/C9StAMzMzMzMz9z9mZmZmZmYCwHsUrkfhepQ/PQrXo3C9LUAfhetRuJ4tQLgehetRuL4/UrgehetRAMAUrkfhehT2vzm0yHa+n4o/uB6F61G4vr8tsp3vp8bzP/YoXI/CdSXA9ihcj8J1JsA=",
                                        "dtype": "f8"
                                    },
                                    "xaxis": "x12",
                                    "y": {
                                        "bdata": "9gt2w7ZFiT97FK5H4XqEP+hqK/aX3YM/zczMzMzM/D/b+X5qvHSDPzQRNjy9UoY/CtejcD0KBUDsUbgehesbQArXo3A9ChxAVDVB1H0Agj96/N6mP/uBP0w3iUFg5QNAexSuR+H6FkDXo3A9CtcYQAaBlUOLbBdAK4cW2c73F0CPwvUoXI/+PwAAAAAAPJZAAAAAAABgkUA=",
                                        "dtype": "f8"
                                    },
                                    "yaxis": "y12"
                                },
                                {
                                    "marker": {
                                        "color": "#AB63FA",
                                        "opacity": 0.7,
                                        "size": 5
                                    },
                                    "mode": "markers",
                                    "name": "F",
                                    "showlegend": false,
                                    "type": "scatter",
                                    "x": {
                                        "bdata": "9ihcj8J1LED2KFyPwnUoQHE9Ctej8CxArkfhehQuKUApXI/C9SgsQDMzMzMzMxRASOF6FK5HA0BxPQrXo3AHQNejcD0K1xFAH4XrUbgeFECuR+F6FC4sQArXo3A9CihAcT0K16PwKUD2KFyPwvUVQIXrUbgehQNASOF6FK7HKUBcj8L1KFzvvw==",
                                        "dtype": "f8"
                                    },
                                    "xaxis": "x12",
                                    "y": {
                                        "bdata": "ukkMAiuHhj/Xhopx/iaEPy1DHOviNoo/ukkMAiuHhj85tMh2vp+KP83MzMzMzOw/7FG4HoXr8T9cj8L1KFzvPxkEVg4tsvE/rkfhehSu7z/6fmq8dJOIP0hQ/Bhz14I/ahg+IqZEgj8fhetRuB7tP3E9CtejcPU/ahg+IqZEgj/hehSuR+H+Pw==",
                                        "dtype": "f8"
                                    },
                                    "yaxis": "y12"
                                },
                                {
                                    "marker": {
                                        "color": "#FFA15A",
                                        "opacity": 0.7,
                                        "size": 5
                                    },
                                    "mode": "markers",
                                    "name": "O",
                                    "showlegend": false,
                                    "type": "scatter",
                                    "x": {
                                        "bdata": "zczMzMzMEsCamZmZmZkRwOxRuB6F6xjACtejcD0KF8CPwvUoXI8bwKRwPQrXoxfAexSuR+F6GMBSuB6F61EXwFyPwvUoXBnA9ihcj8L1GMApXI/C9SgXwD0K16NwPRLArkfhehSuF8B7FK5H4foYwHsUrkfhehbAhetRuB6FGsBcj8L1KFwdwOF6FK5H4RzAw/UoXI/CFsBSuB6F61EXwFyPwvUoXBjA9ihcj8L1F8CamZmZmZkgwEjhehSuRxLAcT0K16NwEcAUrkfhehQZwBSuR+F6FBzA7FG4HoXrG8BmZmZmZuYXwGZmZmZmZhnAzczMzMzMHcA/NV66SQwdwEw3iUFg5RjAH4XrUbieF8D8qfHSTWIdwBSuR+F6lCLArkfhehSuJcBcj8L1KNwjwMP1KFyPQiXAMzMzMzMzH8A=",
                                        "dtype": "f8"
                                    },
                                    "xaxis": "x12",
                                    "y": {
                                        "bdata": "MzMzMzMzJUBmZmZmZmYkQAAAAAAAACxAAAAAAAAAQkAAAAAAAMBUQAAAAAAAAChAAAAAAAAARUAAAAAAAIBPQAAAAAAAAEJAAAAAAACATEAAAAAAAMBQQHE9CtejcBtAAAAAAACATEAAAAAAAABCQAAAAAAAwFRAAAAAAABAWEAAAAAAAIBBQAAAAAAAADhAAAAAAABAUkAAAAAAAIBDQAAAAAAAAD5AAAAAAAAAOEAAAAAAAFSQQI/C9ShcjxlAppvEILDyGEAAAAAAAIBBQAAAAAAAAFNAAAAAAACAWEAAAAAAAEBUQAAAAAAAAE9AAAAAAAAAR0AAAAAAAABUQAAAAAAAADlAAAAAAACAVUAAAAAAAABXQAAAAAAAMJVAAAAAAABynkAAAAAAADCVQAAAAAAAqJJAAAAAAADcm0A=",
                                        "dtype": "f8"
                                    },
                                    "yaxis": "y12"
                                },
                                {
                                    "marker": {
                                        "color": "#19D3F3",
                                        "opacity": 0.7,
                                        "size": 5
                                    },
                                    "mode": "markers",
                                    "name": "K",
                                    "showlegend": false,
                                    "type": "scatter",
                                    "x": {
                                        "bdata": "oBov3SQGGkC28/3UeOkYQB+F61G4HhNAuB6F61G4EkBI4XoUrscmwGZmZmZmZiLA",
                                        "dtype": "f8"
                                    },
                                    "xaxis": "x12",
                                    "y": {
                                        "bdata": "rkfhehSu6z9xPQrXo3DpPxSuR+F6FPI/1XjpJjEI7D8AAAAAAPiXQAAAAAAAjJRA",
                                        "dtype": "f8"
                                    },
                                    "yaxis": "y12"
                                },
                                {
                                    "marker": {
                                        "color": "#FF6692",
                                        "opacity": 0.7,
                                        "size": 5
                                    },
                                    "mode": "markers",
                                    "name": "G",
                                    "showlegend": false,
                                    "type": "scatter",
                                    "x": {
                                        "bdata": "pHA9CtcjJMA=",
                                        "dtype": "f8"
                                    },
                                    "xaxis": "x12",
                                    "y": {
                                        "bdata": "AAAAAADslkA=",
                                        "dtype": "f8"
                                    },
                                    "yaxis": "y12"
                                },
                                {
                                    "marker": {
                                        "color": "#636EFA",
                                        "opacity": 0.7,
                                        "size": 5
                                    },
                                    "mode": "markers",
                                    "name": "M",
                                    "showlegend": false,
                                    "type": "scatter",
                                    "x": {
                                        "bdata": "/AviCygK8AqTBxgLTQooCloKjAoQDjkMPgwsDloKDA3vCmwOeAxxDfIOJQ3GDIAMwAsQDvcN9g0pDqINpg76DqUOQg56DUwOeg2oDs8NDQ1oDacLEwt3C98MgQsBC9YKNwsRDRcO6AxODN4NbAxKCw4NPQpWDIMNFQ4fDkcNGg7hDSkOxA77DMsNkgxKDLcNmQx3Cy0LKAurChcMFw4cDK0L1g2rDBMMDg78DNUN8g2sDRAOHg4PC2ILWw2SDH0NSQuYC5wN2grDDYYNuQyyC4wMww0ODkYMqA38DIcN",
                                        "dtype": "i2"
                                    },
                                    "xaxis": "x13",
                                    "y": {
                                        "bdata": "H4XrUbgeMECamZmZmZkwQDMzMzMzszJAZmZmZmamMECPwvUoXA80QHsUrkfh+jBAuB6F61E4MUBmZmZmZmYxQDMzMzMzczFAzczMzMwMMEDhehSuR2ElQBSuR+F6lCdA7FG4HoVrKkD2KFyPwvUkQKrx0k1ikCdApHA9CtcjKkAUrkfhepQtQJqZmZmZmSVAj8L1KFwPK0Bcj8L1KFwmQLgehetRuBvAzczMzMzMGMAUrkfhehQYwOF6FK5H4RzAAAAAAAAAGMBmZmZmZmYawB+F61G4HhvA9ihcj8L1FMD2KFyPwvUawM3MzMzMzCLAhetRuB6FHsBmZmZmZmYiwJqZmZmZGSDAKVyPwvUoH8AAAAAAAIAnwNejcD0K1yfAj8L1KFyPJsB7FK5H4XomwLgehetRuCbAexSuR+E6MEBxPQrXo/AwQNejcD0KFzBA9ihcj8L1MECkcD0K1+MyQOF6FK5HITFA16NwPQpXMkAzMzMzM3MwQKRwPQrXYzFArkfhehRuM0CamZmZmZkoQD0K16NwPSRAZmZmZmZmKkDhehSuR+EnQEjhehSuxyVAhetRuB6FJ0DsUbgehesqQD0K16NwvSdAH4XrUbieKUD2KFyPwvUrQGZmZmZmZiXAH4XrUbieJcApXI/C9agmwNejcD0K1yXAuB6F61G4JcCPwvUoXA8mwAAAAAAAgCTAZmZmZmZmJcApXI/C9SgxQHE9Ctej8DNAhetRuB4FNEDsUbgeheswQB+F61G4HjFA4XoUrkehM0DhehSuR+EwQPYoXI/CtTBAj8L1KFyPM0DXo3A9ChcyQD0K16NwvSVArkfhehSuJEDXo3A9ClcmQD0K16NwPSpA9ihcj8J1LEAAAAAAAIAtQFyPwvUo3CZAhetRuB6FLED2KFyPwnUoQClcj8L1qCxAUrgehetRHsBcj8L1KFwgwI/C9Shcjx/A16NwPQrXHsD2KFyPwjUwQKRwPQrXYzJAj8L1KFyPMUDXo3A9ClcxQBSuR+F6FDFArkfhehTuMEAzMzMzM3MxQOxRuB6FqzBAMzMzMzNzM0CamZmZmVkwQHE9Ctej8CZA9ihcj8J1JUBmZmZmZuYqQGiR7Xw/tSlAXI/C9SjcKEAv3SQGgVUrQD0K16NwPSxA4XoUrkfhLUCPwvUoXI8pQFpkO99PjS1A",
                                        "dtype": "f8"
                                    },
                                    "yaxis": "y13"
                                },
                                {
                                    "marker": {
                                        "color": "#EF553B",
                                        "opacity": 0.7,
                                        "size": 5
                                    },
                                    "mode": "markers",
                                    "name": "B",
                                    "showlegend": false,
                                    "type": "scatter",
                                    "x": {
                                        "bdata": "qGEAAHRAAAAwdQAArDsAAOQlAADWgwAAMEMAABQ3AADqLgAA5CoAAJRNAAAUggAAbDQAABxSAAByRwAAuDgAAHwuAABwMgAAuDIAAHhzAAAGQAAA7mEAABxwAAAcZgAAmE4AAJBlAAD4KgAARC8AAKpfAACWQQAAQD0AAIY6AAAcNAAApEcAANBNAADUXQAANFoAAABGAACgSwAATlcAAPxVAADISwAA9EIAAFFeAABbbAAAkFUAAA==",
                                        "dtype": "i4"
                                    },
                                    "xaxis": "x13",
                                    "y": {
                                        "bdata": "KVyPwvUoJUBI4XoUrscnQM3MzMzMzBDAhetRuB6F/797FK5H4XrEP2ZmZmZmZhjAZmZmZmbmKEDXo3A9ClcoQMP1KFyPQihA4XoUrkdhJkCuR+F6FK4mQAAAAAAAABrA16NwPQpXK0AK16NwPQonQI/C9ShcjylA16NwPQrXJ0DD9Shcj8ImQClcj8L1qClA9ihcj8J1JkAK16NwPQoQwI/C9ShcjwrA16NwPQrXD8Bcj8L1KFwQwGZmZmZmZg7AMzMzMzMzC8AzMzMzMzMiwM3MzMzMzCPAXI/C9ShcH8B7FK5H4XogwD0K16NwvSlA16NwPQrXJ0D2KFyPwnUoQM3MzMzMzClAcT0K16NwJkCuR+F6FK4mQJqZmZmZGSVAXI/C9ShcJEBSuB6F61EnQD0K16NwPSdAXI/C9ShcDcBmZmZmZmYEwKRwPQrXowjAH4XrUbgeBcCuR+F6FK4hwFyPwvUoXB7ArkfhehSuHsA=",
                                        "dtype": "f8"
                                    },
                                    "yaxis": "y13"
                                },
                                {
                                    "marker": {
                                        "color": "#00CC96",
                                        "opacity": 0.7,
                                        "size": 5
                                    },
                                    "mode": "markers",
                                    "name": "A",
                                    "showlegend": false,
                                    "type": "scatter",
                                    "x": {
                                        "bdata": "PB40IXohdB/iIsslRiPyK0Iv3CIrHvEi7DbfMhwnITNoJH0iEyQ=",
                                        "dtype": "i2"
                                    },
                                    "xaxis": "x13",
                                    "y": {
                                        "bdata": "CtejcD0KLEAAAAAAAAAtQGZmZmZmZixAXI/C9ShcA0CPwvUoXI8rQPYoXI/C9StAMzMzMzMz9z9mZmZmZmYCwHsUrkfhepQ/PQrXo3C9LUAfhetRuJ4tQLgehetRuL4/UrgehetRAMAUrkfhehT2vzm0yHa+n4o/uB6F61G4vr8tsp3vp8bzP/YoXI/CdSXA9ihcj8J1JsA=",
                                        "dtype": "f8"
                                    },
                                    "yaxis": "y13"
                                },
                                {
                                    "marker": {
                                        "color": "#AB63FA",
                                        "opacity": 0.7,
                                        "size": 5
                                    },
                                    "mode": "markers",
                                    "name": "F",
                                    "showlegend": false,
                                    "type": "scatter",
                                    "x": {
                                        "bdata": "NBy+MhQeDi4+HKgWZRrsGDAX0xW8G04pmDW0FCgejDk6IA==",
                                        "dtype": "i2"
                                    },
                                    "xaxis": "x13",
                                    "y": {
                                        "bdata": "9ihcj8J1LED2KFyPwnUoQHE9Ctej8CxArkfhehQuKUApXI/C9SgsQDMzMzMzMxRASOF6FK5HA0BxPQrXo3AHQNejcD0K1xFAH4XrUbgeFECuR+F6FC4sQArXo3A9CihAcT0K16PwKUD2KFyPwvUVQIXrUbgehQNASOF6FK7HKUBcj8L1KFzvvw==",
                                        "dtype": "f8"
                                    },
                                    "yaxis": "y13"
                                },
                                {
                                    "marker": {
                                        "color": "#FFA15A",
                                        "opacity": 0.7,
                                        "size": 5
                                    },
                                    "mode": "markers",
                                    "name": "O",
                                    "showlegend": false,
                                    "type": "scatter",
                                    "x": {
                                        "bdata": "WJgAAAyNAABAnAAA2FkAAOBCAABYKwAApTcAADZgAABdMgAAGV8AAI2CAACokwAALmMAAC8tAACDMQAAeBYAAN8iAAByHAAA000AAAVnAADnQwAAnSQAAFBGAACOhQAAzH4AAH5cAADNMQAApyQAAJBbAACTQQAALkkAAKQmAACyKgAAN1oAAOpUAABalQAA6X4AAByYAAB3eAAA+pMAAA==",
                                        "dtype": "i4"
                                    },
                                    "xaxis": "x13",
                                    "y": {
                                        "bdata": "zczMzMzMEsCamZmZmZkRwOxRuB6F6xjACtejcD0KF8CPwvUoXI8bwKRwPQrXoxfAexSuR+F6GMBSuB6F61EXwFyPwvUoXBnA9ihcj8L1GMApXI/C9SgXwD0K16NwPRLArkfhehSuF8B7FK5H4foYwHsUrkfhehbAhetRuB6FGsBcj8L1KFwdwOF6FK5H4RzAw/UoXI/CFsBSuB6F61EXwFyPwvUoXBjA9ihcj8L1F8CamZmZmZkgwEjhehSuRxLAcT0K16NwEcAUrkfhehQZwBSuR+F6FBzA7FG4HoXrG8BmZmZmZuYXwGZmZmZmZhnAzczMzMzMHcA/NV66SQwdwEw3iUFg5RjAH4XrUbieF8D8qfHSTWIdwBSuR+F6lCLArkfhehSuJcBcj8L1KNwjwMP1KFyPQiXAMzMzMzMzH8A=",
                                        "dtype": "f8"
                                    },
                                    "yaxis": "y13"
                                },
                                {
                                    "marker": {
                                        "color": "#19D3F3",
                                        "opacity": 0.7,
                                        "size": 5
                                    },
                                    "mode": "markers",
                                    "name": "K",
                                    "showlegend": false,
                                    "type": "scatter",
                                    "x": {
                                        "bdata": "rhHtD3QT+BOvD78Q",
                                        "dtype": "i2"
                                    },
                                    "xaxis": "x13",
                                    "y": {
                                        "bdata": "oBov3SQGGkC28/3UeOkYQB+F61G4HhNAuB6F61G4EkBI4XoUrscmwGZmZmZmZiLA",
                                        "dtype": "f8"
                                    },
                                    "yaxis": "y13"
                                },
                                {
                                    "marker": {
                                        "color": "#FF6692",
                                        "opacity": 0.7,
                                        "size": 5
                                    },
                                    "mode": "markers",
                                    "name": "G",
                                    "showlegend": false,
                                    "type": "scatter",
                                    "x": {
                                        "bdata": "who=",
                                        "dtype": "i2"
                                    },
                                    "xaxis": "x13",
                                    "y": {
                                        "bdata": "pHA9CtcjJMA=",
                                        "dtype": "f8"
                                    },
                                    "yaxis": "y13"
                                },
                                {
                                    "marker": {
                                        "color": "#636EFA",
                                        "opacity": 0.7,
                                        "size": 5
                                    },
                                    "mode": "markers",
                                    "name": "M",
                                    "showlegend": false,
                                    "type": "scatter",
                                    "x": {
                                        "bdata": "YTJVMCqpYz/8qfHSTWJAP2EyVTAqqTM/LUMc6+I2Kj8cJET5ghYiP5T2Bl+YTEU/smMjEK/rRz8tQxzr4jY6PyMtlbcjnEY/D9b/OcyXJz/gnBGlvcFnPwfwFkhQ/Ig/LUMc6+I2Oj+6SQwCK4d2P2EyVTAqqUM/xY8xdy0hbz+Sy39Iv31dP3EDPj+MEG4/ZJKRs7CnbT8rhxbZzvejPwAAAAAAaghBAAAAAIDAFEEAAAAAgE8CQQAAAADAzQdBAAAAAAAXEUEAAAAAAIgTQQAAAACAB/5AAAAAAABqCEEAAAAAAHYGQQAAAADAehBBAAAAAOBFEUEAAAAAAJoQQQAAAADgyCBBAAAAAMDrEkEAAAAAYA0QQQAAAADgJxZBAAAAAIA9BUEAAAAAQIMJQQAAAADAzQdBx7q4jQbwdj/cEU4LXvRFP2kdVU0QdS8/gJ9x4UBINj/S+8bXnlkiP1gczvxqDlA/8WjjiLX4ND9YHM78ag5QPw/W/znMlzc/D9b/OcyXRz8bL90kBoGVP7pJDAIrh5Y/nMQgsHJogT8vbqMBvAWCP/yp8dJNYnA//Knx0k1iUD9fB84ZUdprP/p+arx0k1g/YTJVMCqpQz+u2F92Tx5WPwAAAAAAavhAAAAAAADD/kAAAAAAAGoIQQAAAACAkPxAAAAAAAAdAEEAAAAAQLMBQQAAAAAAEfJAAAAAAABqCEEDlfHvMy48P3506spneU4/i+B/K9mxQT9hMlUwKqkjP/Fo44i1+EQ/ngyOklfnSD+nIhXGFoJMP54MjpJX5yg/t18+WTFcTT+Cjla1pKM8P54MjpJX5yg/2ubG9IQlLj/8qfHSTWKAP6g1zTtO0YE/kst/SL99TT9IUPwYc9diP4Lix5i7loA/L26jAbwFUj9fB84ZUdprP5T2Bl+YTFU/AAAAAACIE0EAAAAAgNgAQQAAAAAATA1BAAAAAECzAUG1UgjkEkcuP0Q2kC42rUQ/WBzO/GoOMD9tN8E3TZ89P6CobFhTWUQ/oib6fJQRNz/HnGfsSzY+PyXJc30fDkI/aaz9ne3RSz+EDOTZ5VtPP6Fns+pztXU/YTJVMCqpYz+Sy39Iv319Py1DHOviNlo/rthfdk8edj+u2F92Tx5mPziEKjV7oFU/exSuR+F6VD85tMh2vp96P67YX3ZPHmY/",
                                        "dtype": "f8"
                                    },
                                    "xaxis": "x14",
                                    "y": {
                                        "bdata": "H4XrUbgeMECamZmZmZkwQDMzMzMzszJAZmZmZmamMECPwvUoXA80QHsUrkfh+jBAuB6F61E4MUBmZmZmZmYxQDMzMzMzczFAzczMzMwMMEDhehSuR2ElQBSuR+F6lCdA7FG4HoVrKkD2KFyPwvUkQKrx0k1ikCdApHA9CtcjKkAUrkfhepQtQJqZmZmZmSVAj8L1KFwPK0Bcj8L1KFwmQLgehetRuBvAzczMzMzMGMAUrkfhehQYwOF6FK5H4RzAAAAAAAAAGMBmZmZmZmYawB+F61G4HhvA9ihcj8L1FMD2KFyPwvUawM3MzMzMzCLAhetRuB6FHsBmZmZmZmYiwJqZmZmZGSDAKVyPwvUoH8AAAAAAAIAnwNejcD0K1yfAj8L1KFyPJsB7FK5H4XomwLgehetRuCbAexSuR+E6MEBxPQrXo/AwQNejcD0KFzBA9ihcj8L1MECkcD0K1+MyQOF6FK5HITFA16NwPQpXMkAzMzMzM3MwQKRwPQrXYzFArkfhehRuM0CamZmZmZkoQD0K16NwPSRAZmZmZmZmKkDhehSuR+EnQEjhehSuxyVAhetRuB6FJ0DsUbgehesqQD0K16NwvSdAH4XrUbieKUD2KFyPwvUrQGZmZmZmZiXAH4XrUbieJcApXI/C9agmwNejcD0K1yXAuB6F61G4JcCPwvUoXA8mwAAAAAAAgCTAZmZmZmZmJcApXI/C9SgxQHE9Ctej8DNAhetRuB4FNEDsUbgeheswQB+F61G4HjFA4XoUrkehM0DhehSuR+EwQPYoXI/CtTBAj8L1KFyPM0DXo3A9ChcyQD0K16NwvSVArkfhehSuJEDXo3A9ClcmQD0K16NwPSpA9ihcj8J1LEAAAAAAAIAtQFyPwvUo3CZAhetRuB6FLED2KFyPwnUoQClcj8L1qCxAUrgehetRHsBcj8L1KFwgwI/C9Shcjx/A16NwPQrXHsD2KFyPwjUwQKRwPQrXYzJAj8L1KFyPMUDXo3A9ClcxQBSuR+F6FDFArkfhehTuMEAzMzMzM3MxQOxRuB6FqzBAMzMzMzNzM0CamZmZmVkwQHE9Ctej8CZA9ihcj8J1JUBmZmZmZuYqQGiR7Xw/tSlAXI/C9SjcKEAv3SQGgVUrQD0K16NwPSxA4XoUrkfhLUCPwvUoXI8pQFpkO99PjS1A",
                                        "dtype": "f8"
                                    },
                                    "yaxis": "y14"
                                },
                                {
                                    "marker": {
                                        "color": "#EF553B",
                                        "opacity": 0.7,
                                        "size": 5
                                    },
                                    "mode": "markers",
                                    "name": "B",
                                    "showlegend": false,
                                    "type": "scatter",
                                    "x": {
                                        "bdata": "eekmMQisrD85tMh2vp+KPwAAAAAAKtxAAAAAAADAkUAAAAAAAIBSQAAAAAAA2wpBWBzO/GoOUD/cEU4LXvRFP+Un1T4dj0k/VvFG5pE/SD8vbqMBvAVSPwAAAAAATA1BvqQxWkdVQz/6fmq8dJNYP5T2Bl+YTFU/dF5jl6jeSj/cEU4LXvRFP2tI3GPpQ0c/S7A4nPnVTD8AAAAAAPMGQQAAAAAA+JNAAAAAAABSzEAAAAAAgGXQQAAAAAAAXMxAAAAAAABwskAAAAAAgEkTQQAAAACAwARBAAAAAABM/UAAAAAAUFUOQce6uI0G8FY/BcB4Bg39Uz++pDFaR1VTP12nkZbK21E/3BFOC170VT/lJ9U+HY9ZP1t8CoDxDFo/OIQqNXugVT8BNbVsrS9SP3sUrkfhelQ/AAAAAABRyEAAAAAAAFy6QAAAAAAAVMVAAAAAAACYi0AAAAAARGAXQQAAAAAY7ClBAAAAAJTXJkE=",
                                        "dtype": "f8"
                                    },
                                    "xaxis": "x14",
                                    "y": {
                                        "bdata": "KVyPwvUoJUBI4XoUrscnQM3MzMzMzBDAhetRuB6F/797FK5H4XrEP2ZmZmZmZhjAZmZmZmbmKEDXo3A9ClcoQMP1KFyPQihA4XoUrkdhJkCuR+F6FK4mQAAAAAAAABrA16NwPQpXK0AK16NwPQonQI/C9ShcjylA16NwPQrXJ0DD9Shcj8ImQClcj8L1qClA9ihcj8J1JkAK16NwPQoQwI/C9ShcjwrA16NwPQrXD8Bcj8L1KFwQwGZmZmZmZg7AMzMzMzMzC8AzMzMzMzMiwM3MzMzMzCPAXI/C9ShcH8B7FK5H4XogwD0K16NwvSlA16NwPQrXJ0D2KFyPwnUoQM3MzMzMzClAcT0K16NwJkCuR+F6FK4mQJqZmZmZGSVAXI/C9ShcJEBSuB6F61EnQD0K16NwPSdAXI/C9ShcDcBmZmZmZmYEwKRwPQrXowjAH4XrUbgeBcCuR+F6FK4hwFyPwvUoXB7ArkfhehSuHsA=",
                                        "dtype": "f8"
                                    },
                                    "yaxis": "y14"
                                },
                                {
                                    "marker": {
                                        "color": "#00CC96",
                                        "opacity": 0.7,
                                        "size": 5
                                    },
                                    "mode": "markers",
                                    "name": "A",
                                    "showlegend": false,
                                    "type": "scatter",
                                    "x": {
                                        "bdata": "WBzO/GoOQD/8qfHSTWJAP9DQP8HFiko/ZmZmZmZmIUDS+8bXnllCP5LLf0i/fT0/AAAAAACARkAAAAAAAACFQAAAAAAAiIVA0vvG155ZMj/S+8bXnlkiPwAAAAAAAENAAAAAAAAQkUAAAAAAADCPQAAAAAAAQIFAAAAAAACgiEAAAAAAAAA9QAAAAAAqZyBBAAAAADC3GEE=",
                                        "dtype": "f8"
                                    },
                                    "xaxis": "x14",
                                    "y": {
                                        "bdata": "CtejcD0KLEAAAAAAAAAtQGZmZmZmZixAXI/C9ShcA0CPwvUoXI8rQPYoXI/C9StAMzMzMzMz9z9mZmZmZmYCwHsUrkfhepQ/PQrXo3C9LUAfhetRuJ4tQLgehetRuL4/UrgehetRAMAUrkfhehT2vzm0yHa+n4o/uB6F61G4vr8tsp3vp8bzP/YoXI/CdSXA9ihcj8J1JsA=",
                                        "dtype": "f8"
                                    },
                                    "yaxis": "y14"
                                },
                                {
                                    "marker": {
                                        "color": "#AB63FA",
                                        "opacity": 0.7,
                                        "size": 5
                                    },
                                    "mode": "markers",
                                    "name": "F",
                                    "showlegend": false,
                                    "type": "scatter",
                                    "x": {
                                        "bdata": "gJ9x4UBIJj+An3HhQEgWP0uwOJz51Rw/YTJVMCqpIz/xaOOItfgUP+xRuB6F6+k/4XoUrkfh9j+amZmZmZn1P4PAyqFFtvU/aJHtfD816j8aFw6EZAEzP9L7xteeWSI/D9b/OcyXJz/hehSuR+HiP65H4XoUrh9AS7A4nPnVHD8AAAAAAIAiQA==",
                                        "dtype": "f8"
                                    },
                                    "xaxis": "x14",
                                    "y": {
                                        "bdata": "9ihcj8J1LED2KFyPwnUoQHE9Ctej8CxArkfhehQuKUApXI/C9SgsQDMzMzMzMxRASOF6FK5HA0BxPQrXo3AHQNejcD0K1xFAH4XrUbgeFECuR+F6FC4sQArXo3A9CihAcT0K16PwKUD2KFyPwvUVQIXrUbgehQNASOF6FK7HKUBcj8L1KFzvvw==",
                                        "dtype": "f8"
                                    },
                                    "yaxis": "y14"
                                },
                                {
                                    "marker": {
                                        "color": "#FFA15A",
                                        "opacity": 0.7,
                                        "size": 5
                                    },
                                    "mode": "markers",
                                    "name": "O",
                                    "showlegend": false,
                                    "type": "scatter",
                                    "x": {
                                        "bdata": "AAAAAADnCEEAAAAAgCsIQQAAAACQzyhBAAAAAIAB/0AAAAAAwK8MQQAAAAAAWPtAAAAAAMAyDEEAAAAA4CcWQQAAAAAAdgZBAAAAAIBVAUEAAAAAAHwVQQAAAACgxAhBAAAAAMA4C0EAAAAAwKMOQQAAAACAlhtBAAAAAEDoDUEAAAAAwCwNQQAAAACA+/9AAAAAAACOAkEAAAAAgCsIQQAAAADQ7RRBAAAAACDpGUEAAAAAAGoIQQAAAADAMQhBAAAAAEA3BUEAAAAAENINQQAAAACgSxRBAAAAAHDuFEEAAAAArGYgQQAAAABQHg5BAAAAAGBwC0EAAAAA2B8iQQAAAAB07CdBAAAAALA6FUEAAAAAtNomQQAAAAD4phBBAAAAANzJI0EAAAAAuOAWQQAAAAD0cylBAAAAANz/EUE=",
                                        "dtype": "f8"
                                    },
                                    "xaxis": "x14",
                                    "y": {
                                        "bdata": "zczMzMzMEsCamZmZmZkRwOxRuB6F6xjACtejcD0KF8CPwvUoXI8bwKRwPQrXoxfAexSuR+F6GMBSuB6F61EXwFyPwvUoXBnA9ihcj8L1GMApXI/C9SgXwD0K16NwPRLArkfhehSuF8B7FK5H4foYwHsUrkfhehbAhetRuB6FGsBcj8L1KFwdwOF6FK5H4RzAw/UoXI/CFsBSuB6F61EXwFyPwvUoXBjA9ihcj8L1F8CamZmZmZkgwEjhehSuRxLAcT0K16NwEcAUrkfhehQZwBSuR+F6FBzA7FG4HoXrG8BmZmZmZuYXwGZmZmZmZhnAzczMzMzMHcA/NV66SQwdwEw3iUFg5RjAH4XrUbieF8D8qfHSTWIdwBSuR+F6lCLArkfhehSuJcBcj8L1KNwjwMP1KFyPQiXAMzMzMzMzH8A=",
                                        "dtype": "f8"
                                    },
                                    "yaxis": "y14"
                                },
                                {
                                    "marker": {
                                        "color": "#19D3F3",
                                        "opacity": 0.7,
                                        "size": 5
                                    },
                                    "mode": "markers",
                                    "name": "K",
                                    "showlegend": false,
                                    "type": "scatter",
                                    "x": {
                                        "bdata": "L90kBoGVwz/D9Shcj8K1PwwCK4cW2dY/KVyPwvUo5D8AAAAAQDYRQQAAAADgOSNB",
                                        "dtype": "f8"
                                    },
                                    "xaxis": "x14",
                                    "y": {
                                        "bdata": "oBov3SQGGkC28/3UeOkYQB+F61G4HhNAuB6F61G4EkBI4XoUrscmwGZmZmZmZiLA",
                                        "dtype": "f8"
                                    },
                                    "yaxis": "y14"
                                },
                                {
                                    "marker": {
                                        "color": "#FF6692",
                                        "opacity": 0.7,
                                        "size": 5
                                    },
                                    "mode": "markers",
                                    "name": "G",
                                    "showlegend": false,
                                    "type": "scatter",
                                    "x": {
                                        "bdata": "AAAAAED0C0E=",
                                        "dtype": "f8"
                                    },
                                    "xaxis": "x14",
                                    "y": {
                                        "bdata": "pHA9CtcjJMA=",
                                        "dtype": "f8"
                                    },
                                    "yaxis": "y14"
                                },
                                {
                                    "marker": {
                                        "color": "#636EFA",
                                        "opacity": 0.7,
                                        "size": 5
                                    },
                                    "mode": "markers",
                                    "name": "M",
                                    "showlegend": false,
                                    "type": "scatter",
                                    "x": {
                                        "bdata": "w/UoXI/CxT+Uh4Va07zDP+kmMQisHLo/exSuR+F6xD+R7Xw/NV66Pylcj8L1KLw/qMZLN4lBwD/6fmq8dJO4Pylcj8L1KLw/pHA9CtejwD9SuB6F61HgP26jAbwFEtg/SgwCK4cWyT/0/dR46SbZP+xRuB6F68E/uB6F61G4zj97FK5H4XrEPxSuR+F6FN4/BcWPMXctyT8QWDm0yHbWPwAAAAAAADNAAAAAAAAAN0AAAAAAAABWQAAAAAAAADFAAAAAAAAAOUAAAAAAAAA9QAAAAAAAgEZAAAAAAABAVkAAAAAAAABVQAAAAAAAwJdAAAAAAACwk0AAAAAAAHySQAAAAAAAwJlAAAAAAACwlEAAAAAAABSVQAAAAAAAJJpAAAAAAAAQlEAAAAAAANiNQAAAAAAAKJhAyXa+nxovrT9SuB6F61HIP6rx0k1iELg/OdbFbTSAtz8ZBFYOLbK9P0w3iUFg5cA/AiuHFtnOtz/DZKpgVFK3P2iR7Xw/Nb4/uB6F61G4vj9GtvP91HjRP1K4HoXrUdg/CtejcD0Kxz9mZmZmZmbWPzm0yHa+n9I/ZmZmZmZm1j+4HoXrUbjOP9nO91PjpdM/SgwCK4cWuT/P91PjpZvEPwAAAAAAJJRAAAAAAACQkUAAAAAAAIyZQAAAAAAAOJdAAAAAAADIl0AAAAAAALCUQAAAAAAAYItAAAAAAACwlEDUK2UZ4li3PwfwFkhQ/Lg/KVyPwvUovD8kufyH9Nu3P4GVQ4ts57s/YOXQItv5vj8kufyH9Nu3P/kP6bevA7c/TRWMSuoEtD8noImw4em1P7ByaJHtfN8/UrgehetR2D/Xo3A9CtfTP8P1KFyPwtU/16NwPQrX4z9cj8L1KFznP7gehetRuM4/7FG4HoXr4T/D9Shcj8LVP/yp8dJNYtA/AAAAAAAgl0AAAAAAADCWQAAAAAAAmJJAAAAAAABEmEAGgZVDi2y3PxkEVg4tsr0/VOOlm8QgwD+/fR04Z0S5P7UV+8vuybM/1JrmHafouD8QWDm0yHa+P3gLJCh+jLk/eekmMQisvD9QjZduEoPAP4ts5/up8cI/cT0K16Nw3T/sUbgehevRP/7UeOkmMdg/0SLb+X5q1D9xPQrXo3DlP1CNl24Sg9A/Gy/dJAaB1T++nxov3STeP5qZmZmZmeU/",
                                        "dtype": "f8"
                                    },
                                    "xaxis": "x15",
                                    "y": {
                                        "bdata": "H4XrUbgeMECamZmZmZkwQDMzMzMzszJAZmZmZmamMECPwvUoXA80QHsUrkfh+jBAuB6F61E4MUBmZmZmZmYxQDMzMzMzczFAzczMzMwMMEDhehSuR2ElQBSuR+F6lCdA7FG4HoVrKkD2KFyPwvUkQKrx0k1ikCdApHA9CtcjKkAUrkfhepQtQJqZmZmZmSVAj8L1KFwPK0Bcj8L1KFwmQLgehetRuBvAzczMzMzMGMAUrkfhehQYwOF6FK5H4RzAAAAAAAAAGMBmZmZmZmYawB+F61G4HhvA9ihcj8L1FMD2KFyPwvUawM3MzMzMzCLAhetRuB6FHsBmZmZmZmYiwJqZmZmZGSDAKVyPwvUoH8AAAAAAAIAnwNejcD0K1yfAj8L1KFyPJsB7FK5H4XomwLgehetRuCbAexSuR+E6MEBxPQrXo/AwQNejcD0KFzBA9ihcj8L1MECkcD0K1+MyQOF6FK5HITFA16NwPQpXMkAzMzMzM3MwQKRwPQrXYzFArkfhehRuM0CamZmZmZkoQD0K16NwPSRAZmZmZmZmKkDhehSuR+EnQEjhehSuxyVAhetRuB6FJ0DsUbgehesqQD0K16NwvSdAH4XrUbieKUD2KFyPwvUrQGZmZmZmZiXAH4XrUbieJcApXI/C9agmwNejcD0K1yXAuB6F61G4JcCPwvUoXA8mwAAAAAAAgCTAZmZmZmZmJcApXI/C9SgxQHE9Ctej8DNAhetRuB4FNEDsUbgeheswQB+F61G4HjFA4XoUrkehM0DhehSuR+EwQPYoXI/CtTBAj8L1KFyPM0DXo3A9ChcyQD0K16NwvSVArkfhehSuJEDXo3A9ClcmQD0K16NwPSpA9ihcj8J1LEAAAAAAAIAtQFyPwvUo3CZAhetRuB6FLED2KFyPwnUoQClcj8L1qCxAUrgehetRHsBcj8L1KFwgwI/C9Shcjx/A16NwPQrXHsD2KFyPwjUwQKRwPQrXYzJAj8L1KFyPMUDXo3A9ClcxQBSuR+F6FDFArkfhehTuMEAzMzMzM3MxQOxRuB6FqzBAMzMzMzNzM0CamZmZmVkwQHE9Ctej8CZA9ihcj8J1JUBmZmZmZuYqQGiR7Xw/tSlAXI/C9SjcKEAv3SQGgVUrQD0K16NwPSxA4XoUrkfhLUCPwvUoXI8pQFpkO99PjS1A",
                                        "dtype": "f8"
                                    },
                                    "yaxis": "y15"
                                },
                                {
                                    "marker": {
                                        "color": "#EF553B",
                                        "opacity": 0.7,
                                        "size": 5
                                    },
                                    "mode": "markers",
                                    "name": "B",
                                    "showlegend": false,
                                    "type": "scatter",
                                    "x": {
                                        "bdata": "FYxK6gQ0gT956SYxCKyMPzMzMzMzMxlAzczMzMzMHEAfhetRuB4HQAAAAAAAADpAuB6F61G4jj+1pnnHKTqCP0hQ/Bhz14I/qDXNO07RgT/A7J48LNSKPwAAAAAAAChASNxj6UMXhD/HuriNBvCGPzdsW5TZIIM/nNzvUBTogz+HbYsyG2SCP5jdk4eFWoM/EjElkuhlhD8UrkfhehQYQLgehetRuBZArkfhehSuF0CamZmZmZkZQPYoXI/C9RVAH4XrUbgeG0AAAAAAADyaQAAAAAAAzJtAMzMzMzMnhkAAAAAAALqRQIC3QILix4g/1CtlGeJYhz9N845TdCSHP+CcEaW9wYc/E2HD0ytliT+GWtO84xSNP6YKRiV1Aoo/lPYGX5hMhT+hZ7Pqc7WFP8ai6exkcIQ/cT0K16NwGUCPwvUoXI8aQB+F61G4HhhA6SYxCKycFkAAAAAAAFiXQAAAAAAAkJNAAAAAAACokUA=",
                                        "dtype": "f8"
                                    },
                                    "xaxis": "x15",
                                    "y": {
                                        "bdata": "KVyPwvUoJUBI4XoUrscnQM3MzMzMzBDAhetRuB6F/797FK5H4XrEP2ZmZmZmZhjAZmZmZmbmKEDXo3A9ClcoQMP1KFyPQihA4XoUrkdhJkCuR+F6FK4mQAAAAAAAABrA16NwPQpXK0AK16NwPQonQI/C9ShcjylA16NwPQrXJ0DD9Shcj8ImQClcj8L1qClA9ihcj8J1JkAK16NwPQoQwI/C9ShcjwrA16NwPQrXD8Bcj8L1KFwQwGZmZmZmZg7AMzMzMzMzC8AzMzMzMzMiwM3MzMzMzCPAXI/C9ShcH8B7FK5H4XogwD0K16NwvSlA16NwPQrXJ0D2KFyPwnUoQM3MzMzMzClAcT0K16NwJkCuR+F6FK4mQJqZmZmZGSVAXI/C9ShcJEBSuB6F61EnQD0K16NwPSdAXI/C9ShcDcBmZmZmZmYEwKRwPQrXowjAH4XrUbgeBcCuR+F6FK4hwFyPwvUoXB7ArkfhehSuHsA=",
                                        "dtype": "f8"
                                    },
                                    "yaxis": "y15"
                                },
                                {
                                    "marker": {
                                        "color": "#00CC96",
                                        "opacity": 0.7,
                                        "size": 5
                                    },
                                    "mode": "markers",
                                    "name": "A",
                                    "showlegend": false,
                                    "type": "scatter",
                                    "x": {
                                        "bdata": "9gt2w7ZFiT97FK5H4XqEP+hqK/aX3YM/zczMzMzM/D/b+X5qvHSDPzQRNjy9UoY/CtejcD0KBUDsUbgehesbQArXo3A9ChxAVDVB1H0Agj96/N6mP/uBP0w3iUFg5QNAexSuR+H6FkDXo3A9CtcYQAaBlUOLbBdAK4cW2c73F0CPwvUoXI/+PwAAAAAAPJZAAAAAAABgkUA=",
                                        "dtype": "f8"
                                    },
                                    "xaxis": "x15",
                                    "y": {
                                        "bdata": "CtejcD0KLEAAAAAAAAAtQGZmZmZmZixAXI/C9ShcA0CPwvUoXI8rQPYoXI/C9StAMzMzMzMz9z9mZmZmZmYCwHsUrkfhepQ/PQrXo3C9LUAfhetRuJ4tQLgehetRuL4/UrgehetRAMAUrkfhehT2vzm0yHa+n4o/uB6F61G4vr8tsp3vp8bzP/YoXI/CdSXA9ihcj8J1JsA=",
                                        "dtype": "f8"
                                    },
                                    "yaxis": "y15"
                                },
                                {
                                    "marker": {
                                        "color": "#AB63FA",
                                        "opacity": 0.7,
                                        "size": 5
                                    },
                                    "mode": "markers",
                                    "name": "F",
                                    "showlegend": false,
                                    "type": "scatter",
                                    "x": {
                                        "bdata": "ukkMAiuHhj/Xhopx/iaEPy1DHOviNoo/ukkMAiuHhj85tMh2vp+KP83MzMzMzOw/7FG4HoXr8T9cj8L1KFzvPxkEVg4tsvE/rkfhehSu7z/6fmq8dJOIP0hQ/Bhz14I/ahg+IqZEgj8fhetRuB7tP3E9CtejcPU/ahg+IqZEgj/hehSuR+H+Pw==",
                                        "dtype": "f8"
                                    },
                                    "xaxis": "x15",
                                    "y": {
                                        "bdata": "9ihcj8J1LED2KFyPwnUoQHE9Ctej8CxArkfhehQuKUApXI/C9SgsQDMzMzMzMxRASOF6FK5HA0BxPQrXo3AHQNejcD0K1xFAH4XrUbgeFECuR+F6FC4sQArXo3A9CihAcT0K16PwKUD2KFyPwvUVQIXrUbgehQNASOF6FK7HKUBcj8L1KFzvvw==",
                                        "dtype": "f8"
                                    },
                                    "yaxis": "y15"
                                },
                                {
                                    "marker": {
                                        "color": "#FFA15A",
                                        "opacity": 0.7,
                                        "size": 5
                                    },
                                    "mode": "markers",
                                    "name": "O",
                                    "showlegend": false,
                                    "type": "scatter",
                                    "x": {
                                        "bdata": "MzMzMzMzJUBmZmZmZmYkQAAAAAAAACxAAAAAAAAAQkAAAAAAAMBUQAAAAAAAAChAAAAAAAAARUAAAAAAAIBPQAAAAAAAAEJAAAAAAACATEAAAAAAAMBQQHE9CtejcBtAAAAAAACATEAAAAAAAABCQAAAAAAAwFRAAAAAAABAWEAAAAAAAIBBQAAAAAAAADhAAAAAAABAUkAAAAAAAIBDQAAAAAAAAD5AAAAAAAAAOEAAAAAAAFSQQI/C9ShcjxlAppvEILDyGEAAAAAAAIBBQAAAAAAAAFNAAAAAAACAWEAAAAAAAEBUQAAAAAAAAE9AAAAAAAAAR0AAAAAAAABUQAAAAAAAADlAAAAAAACAVUAAAAAAAABXQAAAAAAAMJVAAAAAAABynkAAAAAAADCVQAAAAAAAqJJAAAAAAADcm0A=",
                                        "dtype": "f8"
                                    },
                                    "xaxis": "x15",
                                    "y": {
                                        "bdata": "zczMzMzMEsCamZmZmZkRwOxRuB6F6xjACtejcD0KF8CPwvUoXI8bwKRwPQrXoxfAexSuR+F6GMBSuB6F61EXwFyPwvUoXBnA9ihcj8L1GMApXI/C9SgXwD0K16NwPRLArkfhehSuF8B7FK5H4foYwHsUrkfhehbAhetRuB6FGsBcj8L1KFwdwOF6FK5H4RzAw/UoXI/CFsBSuB6F61EXwFyPwvUoXBjA9ihcj8L1F8CamZmZmZkgwEjhehSuRxLAcT0K16NwEcAUrkfhehQZwBSuR+F6FBzA7FG4HoXrG8BmZmZmZuYXwGZmZmZmZhnAzczMzMzMHcA/NV66SQwdwEw3iUFg5RjAH4XrUbieF8D8qfHSTWIdwBSuR+F6lCLArkfhehSuJcBcj8L1KNwjwMP1KFyPQiXAMzMzMzMzH8A=",
                                        "dtype": "f8"
                                    },
                                    "yaxis": "y15"
                                },
                                {
                                    "marker": {
                                        "color": "#19D3F3",
                                        "opacity": 0.7,
                                        "size": 5
                                    },
                                    "mode": "markers",
                                    "name": "K",
                                    "showlegend": false,
                                    "type": "scatter",
                                    "x": {
                                        "bdata": "rkfhehSu6z9xPQrXo3DpPxSuR+F6FPI/1XjpJjEI7D8AAAAAAPiXQAAAAAAAjJRA",
                                        "dtype": "f8"
                                    },
                                    "xaxis": "x15",
                                    "y": {
                                        "bdata": "oBov3SQGGkC28/3UeOkYQB+F61G4HhNAuB6F61G4EkBI4XoUrscmwGZmZmZmZiLA",
                                        "dtype": "f8"
                                    },
                                    "yaxis": "y15"
                                },
                                {
                                    "marker": {
                                        "color": "#FF6692",
                                        "opacity": 0.7,
                                        "size": 5
                                    },
                                    "mode": "markers",
                                    "name": "G",
                                    "showlegend": false,
                                    "type": "scatter",
                                    "x": {
                                        "bdata": "AAAAAADslkA=",
                                        "dtype": "f8"
                                    },
                                    "xaxis": "x15",
                                    "y": {
                                        "bdata": "pHA9CtcjJMA=",
                                        "dtype": "f8"
                                    },
                                    "yaxis": "y15"
                                },
                                {
                                    "marker": {
                                        "color": "#636EFA"
                                    },
                                    "name": "M",
                                    "opacity": 0.7,
                                    "showlegend": false,
                                    "type": "histogram",
                                    "x": {
                                        "bdata": "H4XrUbgeMECamZmZmZkwQDMzMzMzszJAZmZmZmamMECPwvUoXA80QHsUrkfh+jBAuB6F61E4MUBmZmZmZmYxQDMzMzMzczFAzczMzMwMMEDhehSuR2ElQBSuR+F6lCdA7FG4HoVrKkD2KFyPwvUkQKrx0k1ikCdApHA9CtcjKkAUrkfhepQtQJqZmZmZmSVAj8L1KFwPK0Bcj8L1KFwmQLgehetRuBvAzczMzMzMGMAUrkfhehQYwOF6FK5H4RzAAAAAAAAAGMBmZmZmZmYawB+F61G4HhvA9ihcj8L1FMD2KFyPwvUawM3MzMzMzCLAhetRuB6FHsBmZmZmZmYiwJqZmZmZGSDAKVyPwvUoH8AAAAAAAIAnwNejcD0K1yfAj8L1KFyPJsB7FK5H4XomwLgehetRuCbAexSuR+E6MEBxPQrXo/AwQNejcD0KFzBA9ihcj8L1MECkcD0K1+MyQOF6FK5HITFA16NwPQpXMkAzMzMzM3MwQKRwPQrXYzFArkfhehRuM0CamZmZmZkoQD0K16NwPSRAZmZmZmZmKkDhehSuR+EnQEjhehSuxyVAhetRuB6FJ0DsUbgehesqQD0K16NwvSdAH4XrUbieKUD2KFyPwvUrQGZmZmZmZiXAH4XrUbieJcApXI/C9agmwNejcD0K1yXAuB6F61G4JcCPwvUoXA8mwAAAAAAAgCTAZmZmZmZmJcApXI/C9SgxQHE9Ctej8DNAhetRuB4FNEDsUbgeheswQB+F61G4HjFA4XoUrkehM0DhehSuR+EwQPYoXI/CtTBAj8L1KFyPM0DXo3A9ChcyQD0K16NwvSVArkfhehSuJEDXo3A9ClcmQD0K16NwPSpA9ihcj8J1LEAAAAAAAIAtQFyPwvUo3CZAhetRuB6FLED2KFyPwnUoQClcj8L1qCxAUrgehetRHsBcj8L1KFwgwI/C9Shcjx/A16NwPQrXHsD2KFyPwjUwQKRwPQrXYzJAj8L1KFyPMUDXo3A9ClcxQBSuR+F6FDFArkfhehTuMEAzMzMzM3MxQOxRuB6FqzBAMzMzMzNzM0CamZmZmVkwQHE9Ctej8CZA9ihcj8J1JUBmZmZmZuYqQGiR7Xw/tSlAXI/C9SjcKEAv3SQGgVUrQD0K16NwPSxA4XoUrkfhLUCPwvUoXI8pQFpkO99PjS1A",
                                        "dtype": "f8"
                                    },
                                    "xaxis": "x16",
                                    "yaxis": "y16"
                                },
                                {
                                    "marker": {
                                        "color": "#EF553B"
                                    },
                                    "name": "B",
                                    "opacity": 0.7,
                                    "showlegend": false,
                                    "type": "histogram",
                                    "x": {
                                        "bdata": "KVyPwvUoJUBI4XoUrscnQM3MzMzMzBDAhetRuB6F/797FK5H4XrEP2ZmZmZmZhjAZmZmZmbmKEDXo3A9ClcoQMP1KFyPQihA4XoUrkdhJkCuR+F6FK4mQAAAAAAAABrA16NwPQpXK0AK16NwPQonQI/C9ShcjylA16NwPQrXJ0DD9Shcj8ImQClcj8L1qClA9ihcj8J1JkAK16NwPQoQwI/C9ShcjwrA16NwPQrXD8Bcj8L1KFwQwGZmZmZmZg7AMzMzMzMzC8AzMzMzMzMiwM3MzMzMzCPAXI/C9ShcH8B7FK5H4XogwD0K16NwvSlA16NwPQrXJ0D2KFyPwnUoQM3MzMzMzClAcT0K16NwJkCuR+F6FK4mQJqZmZmZGSVAXI/C9ShcJEBSuB6F61EnQD0K16NwPSdAXI/C9ShcDcBmZmZmZmYEwKRwPQrXowjAH4XrUbgeBcCuR+F6FK4hwFyPwvUoXB7ArkfhehSuHsA=",
                                        "dtype": "f8"
                                    },
                                    "xaxis": "x16",
                                    "yaxis": "y16"
                                },
                                {
                                    "marker": {
                                        "color": "#00CC96"
                                    },
                                    "name": "A",
                                    "opacity": 0.7,
                                    "showlegend": false,
                                    "type": "histogram",
                                    "x": {
                                        "bdata": "CtejcD0KLEAAAAAAAAAtQGZmZmZmZixAXI/C9ShcA0CPwvUoXI8rQPYoXI/C9StAMzMzMzMz9z9mZmZmZmYCwHsUrkfhepQ/PQrXo3C9LUAfhetRuJ4tQLgehetRuL4/UrgehetRAMAUrkfhehT2vzm0yHa+n4o/uB6F61G4vr8tsp3vp8bzP/YoXI/CdSXA9ihcj8J1JsA=",
                                        "dtype": "f8"
                                    },
                                    "xaxis": "x16",
                                    "yaxis": "y16"
                                },
                                {
                                    "marker": {
                                        "color": "#AB63FA"
                                    },
                                    "name": "F",
                                    "opacity": 0.7,
                                    "showlegend": false,
                                    "type": "histogram",
                                    "x": {
                                        "bdata": "9ihcj8J1LED2KFyPwnUoQHE9Ctej8CxArkfhehQuKUApXI/C9SgsQDMzMzMzMxRASOF6FK5HA0BxPQrXo3AHQNejcD0K1xFAH4XrUbgeFECuR+F6FC4sQArXo3A9CihAcT0K16PwKUD2KFyPwvUVQIXrUbgehQNASOF6FK7HKUBcj8L1KFzvvw==",
                                        "dtype": "f8"
                                    },
                                    "xaxis": "x16",
                                    "yaxis": "y16"
                                },
                                {
                                    "marker": {
                                        "color": "#FFA15A"
                                    },
                                    "name": "O",
                                    "opacity": 0.7,
                                    "showlegend": false,
                                    "type": "histogram",
                                    "x": {
                                        "bdata": "zczMzMzMEsCamZmZmZkRwOxRuB6F6xjACtejcD0KF8CPwvUoXI8bwKRwPQrXoxfAexSuR+F6GMBSuB6F61EXwFyPwvUoXBnA9ihcj8L1GMApXI/C9SgXwD0K16NwPRLArkfhehSuF8B7FK5H4foYwHsUrkfhehbAhetRuB6FGsBcj8L1KFwdwOF6FK5H4RzAw/UoXI/CFsBSuB6F61EXwFyPwvUoXBjA9ihcj8L1F8CamZmZmZkgwEjhehSuRxLAcT0K16NwEcAUrkfhehQZwBSuR+F6FBzA7FG4HoXrG8BmZmZmZuYXwGZmZmZmZhnAzczMzMzMHcA/NV66SQwdwEw3iUFg5RjAH4XrUbieF8D8qfHSTWIdwBSuR+F6lCLArkfhehSuJcBcj8L1KNwjwMP1KFyPQiXAMzMzMzMzH8A=",
                                        "dtype": "f8"
                                    },
                                    "xaxis": "x16",
                                    "yaxis": "y16"
                                },
                                {
                                    "marker": {
                                        "color": "#19D3F3"
                                    },
                                    "name": "K",
                                    "opacity": 0.7,
                                    "showlegend": false,
                                    "type": "histogram",
                                    "x": {
                                        "bdata": "oBov3SQGGkC28/3UeOkYQB+F61G4HhNAuB6F61G4EkBI4XoUrscmwGZmZmZmZiLA",
                                        "dtype": "f8"
                                    },
                                    "xaxis": "x16",
                                    "yaxis": "y16"
                                },
                                {
                                    "marker": {
                                        "color": "#FF6692"
                                    },
                                    "name": "G",
                                    "opacity": 0.7,
                                    "showlegend": false,
                                    "type": "histogram",
                                    "x": {
                                        "bdata": "pHA9CtcjJMA=",
                                        "dtype": "f8"
                                    },
                                    "xaxis": "x16",
                                    "yaxis": "y16"
                                }
                            ],
                            "layout": {
                                "height": 900,
                                "legend": {
                                    "orientation": "h",
                                    "title": {
                                        "text": "Spectral Class"
                                    },
                                    "x": 0.5,
                                    "xanchor": "center",
                                    "y": -0.1,
                                    "yanchor": "bottom"
                                },
                                "paper_bgcolor": "rgba(0,0,0,0.8)",
                                "plot_bgcolor": "rgba(0,0,0,0.8)",
                                "template": {
                                    "data": {
                                        "bar": [
                                            {
                                                "error_x": {
                                                    "color": "#f2f5fa"
                                                },
                                                "error_y": {
                                                    "color": "#f2f5fa"
                                                },
                                                "marker": {
                                                    "line": {
                                                        "color": "rgb(17,17,17)",
                                                        "width": 0.5
                                                    },
                                                    "pattern": {
                                                        "fillmode": "overlay",
                                                        "size": 10,
                                                        "solidity": 0.2
                                                    }
                                                },
                                                "type": "bar"
                                            }
                                        ],
                                        "barpolar": [
                                            {
                                                "marker": {
                                                    "line": {
                                                        "color": "rgb(17,17,17)",
                                                        "width": 0.5
                                                    },
                                                    "pattern": {
                                                        "fillmode": "overlay",
                                                        "size": 10,
                                                        "solidity": 0.2
                                                    }
                                                },
                                                "type": "barpolar"
                                            }
                                        ],
                                        "carpet": [
                                            {
                                                "aaxis": {
                                                    "endlinecolor": "#A2B1C6",
                                                    "gridcolor": "#506784",
                                                    "linecolor": "#506784",
                                                    "minorgridcolor": "#506784",
                                                    "startlinecolor": "#A2B1C6"
                                                },
                                                "baxis": {
                                                    "endlinecolor": "#A2B1C6",
                                                    "gridcolor": "#506784",
                                                    "linecolor": "#506784",
                                                    "minorgridcolor": "#506784",
                                                    "startlinecolor": "#A2B1C6"
                                                },
                                                "type": "carpet"
                                            }
                                        ],
                                        "choropleth": [
                                            {
                                                "colorbar": {
                                                    "outlinewidth": 0,
                                                    "ticks": ""
                                                },
                                                "type": "choropleth"
                                            }
                                        ],
                                        "contour": [
                                            {
                                                "colorbar": {
                                                    "outlinewidth": 0,
                                                    "ticks": ""
                                                },
                                                "colorscale": [
                                                    [
                                                        0,
                                                        "#0d0887"
                                                    ],
                                                    [
                                                        0.1111111111111111,
                                                        "#46039f"
                                                    ],
                                                    [
                                                        0.2222222222222222,
                                                        "#7201a8"
                                                    ],
                                                    [
                                                        0.3333333333333333,
                                                        "#9c179e"
                                                    ],
                                                    [
                                                        0.4444444444444444,
                                                        "#bd3786"
                                                    ],
                                                    [
                                                        0.5555555555555556,
                                                        "#d8576b"
                                                    ],
                                                    [
                                                        0.6666666666666666,
                                                        "#ed7953"
                                                    ],
                                                    [
                                                        0.7777777777777778,
                                                        "#fb9f3a"
                                                    ],
                                                    [
                                                        0.8888888888888888,
                                                        "#fdca26"
                                                    ],
                                                    [
                                                        1,
                                                        "#f0f921"
                                                    ]
                                                ],
                                                "type": "contour"
                                            }
                                        ],
                                        "contourcarpet": [
                                            {
                                                "colorbar": {
                                                    "outlinewidth": 0,
                                                    "ticks": ""
                                                },
                                                "type": "contourcarpet"
                                            }
                                        ],
                                        "heatmap": [
                                            {
                                                "colorbar": {
                                                    "outlinewidth": 0,
                                                    "ticks": ""
                                                },
                                                "colorscale": [
                                                    [
                                                        0,
                                                        "#0d0887"
                                                    ],
                                                    [
                                                        0.1111111111111111,
                                                        "#46039f"
                                                    ],
                                                    [
                                                        0.2222222222222222,
                                                        "#7201a8"
                                                    ],
                                                    [
                                                        0.3333333333333333,
                                                        "#9c179e"
                                                    ],
                                                    [
                                                        0.4444444444444444,
                                                        "#bd3786"
                                                    ],
                                                    [
                                                        0.5555555555555556,
                                                        "#d8576b"
                                                    ],
                                                    [
                                                        0.6666666666666666,
                                                        "#ed7953"
                                                    ],
                                                    [
                                                        0.7777777777777778,
                                                        "#fb9f3a"
                                                    ],
                                                    [
                                                        0.8888888888888888,
                                                        "#fdca26"
                                                    ],
                                                    [
                                                        1,
                                                        "#f0f921"
                                                    ]
                                                ],
                                                "type": "heatmap"
                                            }
                                        ],
                                        "histogram": [
                                            {
                                                "marker": {
                                                    "pattern": {
                                                        "fillmode": "overlay",
                                                        "size": 10,
                                                        "solidity": 0.2
                                                    }
                                                },
                                                "type": "histogram"
                                            }
                                        ],
                                        "histogram2d": [
                                            {
                                                "colorbar": {
                                                    "outlinewidth": 0,
                                                    "ticks": ""
                                                },
                                                "colorscale": [
                                                    [
                                                        0,
                                                        "#0d0887"
                                                    ],
                                                    [
                                                        0.1111111111111111,
                                                        "#46039f"
                                                    ],
                                                    [
                                                        0.2222222222222222,
                                                        "#7201a8"
                                                    ],
                                                    [
                                                        0.3333333333333333,
                                                        "#9c179e"
                                                    ],
                                                    [
                                                        0.4444444444444444,
                                                        "#bd3786"
                                                    ],
                                                    [
                                                        0.5555555555555556,
                                                        "#d8576b"
                                                    ],
                                                    [
                                                        0.6666666666666666,
                                                        "#ed7953"
                                                    ],
                                                    [
                                                        0.7777777777777778,
                                                        "#fb9f3a"
                                                    ],
                                                    [
                                                        0.8888888888888888,
                                                        "#fdca26"
                                                    ],
                                                    [
                                                        1,
                                                        "#f0f921"
                                                    ]
                                                ],
                                                "type": "histogram2d"
                                            }
                                        ],
                                        "histogram2dcontour": [
                                            {
                                                "colorbar": {
                                                    "outlinewidth": 0,
                                                    "ticks": ""
                                                },
                                                "colorscale": [
                                                    [
                                                        0,
                                                        "#0d0887"
                                                    ],
                                                    [
                                                        0.1111111111111111,
                                                        "#46039f"
                                                    ],
                                                    [
                                                        0.2222222222222222,
                                                        "#7201a8"
                                                    ],
                                                    [
                                                        0.3333333333333333,
                                                        "#9c179e"
                                                    ],
                                                    [
                                                        0.4444444444444444,
                                                        "#bd3786"
                                                    ],
                                                    [
                                                        0.5555555555555556,
                                                        "#d8576b"
                                                    ],
                                                    [
                                                        0.6666666666666666,
                                                        "#ed7953"
                                                    ],
                                                    [
                                                        0.7777777777777778,
                                                        "#fb9f3a"
                                                    ],
                                                    [
                                                        0.8888888888888888,
                                                        "#fdca26"
                                                    ],
                                                    [
                                                        1,
                                                        "#f0f921"
                                                    ]
                                                ],
                                                "type": "histogram2dcontour"
                                            }
                                        ],
                                        "mesh3d": [
                                            {
                                                "colorbar": {
                                                    "outlinewidth": 0,
                                                    "ticks": ""
                                                },
                                                "type": "mesh3d"
                                            }
                                        ],
                                        "parcoords": [
                                            {
                                                "line": {
                                                    "colorbar": {
                                                        "outlinewidth": 0,
                                                        "ticks": ""
                                                    }
                                                },
                                                "type": "parcoords"
                                            }
                                        ],
                                        "pie": [
                                            {
                                                "automargin": true,
                                                "type": "pie"
                                            }
                                        ],
                                        "scatter": [
                                            {
                                                "marker": {
                                                    "line": {
                                                        "color": "#283442"
                                                    }
                                                },
                                                "type": "scatter"
                                            }
                                        ],
                                        "scatter3d": [
                                            {
                                                "line": {
                                                    "colorbar": {
                                                        "outlinewidth": 0,
                                                        "ticks": ""
                                                    }
                                                },
                                                "marker": {
                                                    "colorbar": {
                                                        "outlinewidth": 0,
                                                        "ticks": ""
                                                    }
                                                },
                                                "type": "scatter3d"
                                            }
                                        ],
                                        "scattercarpet": [
                                            {
                                                "marker": {
                                                    "colorbar": {
                                                        "outlinewidth": 0,
                                                        "ticks": ""
                                                    }
                                                },
                                                "type": "scattercarpet"
                                            }
                                        ],
                                        "scattergeo": [
                                            {
                                                "marker": {
                                                    "colorbar": {
                                                        "outlinewidth": 0,
                                                        "ticks": ""
                                                    }
                                                },
                                                "type": "scattergeo"
                                            }
                                        ],
                                        "scattergl": [
                                            {
                                                "marker": {
                                                    "line": {
                                                        "color": "#283442"
                                                    }
                                                },
                                                "type": "scattergl"
                                            }
                                        ],
                                        "scattermap": [
                                            {
                                                "marker": {
                                                    "colorbar": {
                                                        "outlinewidth": 0,
                                                        "ticks": ""
                                                    }
                                                },
                                                "type": "scattermap"
                                            }
                                        ],
                                        "scattermapbox": [
                                            {
                                                "marker": {
                                                    "colorbar": {
                                                        "outlinewidth": 0,
                                                        "ticks": ""
                                                    }
                                                },
                                                "type": "scattermapbox"
                                            }
                                        ],
                                        "scatterpolar": [
                                            {
                                                "marker": {
                                                    "colorbar": {
                                                        "outlinewidth": 0,
                                                        "ticks": ""
                                                    }
                                                },
                                                "type": "scatterpolar"
                                            }
                                        ],
                                        "scatterpolargl": [
                                            {
                                                "marker": {
                                                    "colorbar": {
                                                        "outlinewidth": 0,
                                                        "ticks": ""
                                                    }
                                                },
                                                "type": "scatterpolargl"
                                            }
                                        ],
                                        "scatterternary": [
                                            {
                                                "marker": {
                                                    "colorbar": {
                                                        "outlinewidth": 0,
                                                        "ticks": ""
                                                    }
                                                },
                                                "type": "scatterternary"
                                            }
                                        ],
                                        "surface": [
                                            {
                                                "colorbar": {
                                                    "outlinewidth": 0,
                                                    "ticks": ""
                                                },
                                                "colorscale": [
                                                    [
                                                        0,
                                                        "#0d0887"
                                                    ],
                                                    [
                                                        0.1111111111111111,
                                                        "#46039f"
                                                    ],
                                                    [
                                                        0.2222222222222222,
                                                        "#7201a8"
                                                    ],
                                                    [
                                                        0.3333333333333333,
                                                        "#9c179e"
                                                    ],
                                                    [
                                                        0.4444444444444444,
                                                        "#bd3786"
                                                    ],
                                                    [
                                                        0.5555555555555556,
                                                        "#d8576b"
                                                    ],
                                                    [
                                                        0.6666666666666666,
                                                        "#ed7953"
                                                    ],
                                                    [
                                                        0.7777777777777778,
                                                        "#fb9f3a"
                                                    ],
                                                    [
                                                        0.8888888888888888,
                                                        "#fdca26"
                                                    ],
                                                    [
                                                        1,
                                                        "#f0f921"
                                                    ]
                                                ],
                                                "type": "surface"
                                            }
                                        ],
                                        "table": [
                                            {
                                                "cells": {
                                                    "fill": {
                                                        "color": "#506784"
                                                    },
                                                    "line": {
                                                        "color": "rgb(17,17,17)"
                                                    }
                                                },
                                                "header": {
                                                    "fill": {
                                                        "color": "#2a3f5f"
                                                    },
                                                    "line": {
                                                        "color": "rgb(17,17,17)"
                                                    }
                                                },
                                                "type": "table"
                                            }
                                        ]
                                    },
                                    "layout": {
                                        "annotationdefaults": {
                                            "arrowcolor": "#f2f5fa",
                                            "arrowhead": 0,
                                            "arrowwidth": 1
                                        },
                                        "autotypenumbers": "strict",
                                        "coloraxis": {
                                            "colorbar": {
                                                "outlinewidth": 0,
                                                "ticks": ""
                                            }
                                        },
                                        "colorscale": {
                                            "diverging": [
                                                [
                                                    0,
                                                    "#8e0152"
                                                ],
                                                [
                                                    0.1,
                                                    "#c51b7d"
                                                ],
                                                [
                                                    0.2,
                                                    "#de77ae"
                                                ],
                                                [
                                                    0.3,
                                                    "#f1b6da"
                                                ],
                                                [
                                                    0.4,
                                                    "#fde0ef"
                                                ],
                                                [
                                                    0.5,
                                                    "#f7f7f7"
                                                ],
                                                [
                                                    0.6,
                                                    "#e6f5d0"
                                                ],
                                                [
                                                    0.7,
                                                    "#b8e186"
                                                ],
                                                [
                                                    0.8,
                                                    "#7fbc41"
                                                ],
                                                [
                                                    0.9,
                                                    "#4d9221"
                                                ],
                                                [
                                                    1,
                                                    "#276419"
                                                ]
                                            ],
                                            "sequential": [
                                                [
                                                    0,
                                                    "#0d0887"
                                                ],
                                                [
                                                    0.1111111111111111,
                                                    "#46039f"
                                                ],
                                                [
                                                    0.2222222222222222,
                                                    "#7201a8"
                                                ],
                                                [
                                                    0.3333333333333333,
                                                    "#9c179e"
                                                ],
                                                [
                                                    0.4444444444444444,
                                                    "#bd3786"
                                                ],
                                                [
                                                    0.5555555555555556,
                                                    "#d8576b"
                                                ],
                                                [
                                                    0.6666666666666666,
                                                    "#ed7953"
                                                ],
                                                [
                                                    0.7777777777777778,
                                                    "#fb9f3a"
                                                ],
                                                [
                                                    0.8888888888888888,
                                                    "#fdca26"
                                                ],
                                                [
                                                    1,
                                                    "#f0f921"
                                                ]
                                            ],
                                            "sequentialminus": [
                                                [
                                                    0,
                                                    "#0d0887"
                                                ],
                                                [
                                                    0.1111111111111111,
                                                    "#46039f"
                                                ],
                                                [
                                                    0.2222222222222222,
                                                    "#7201a8"
                                                ],
                                                [
                                                    0.3333333333333333,
                                                    "#9c179e"
                                                ],
                                                [
                                                    0.4444444444444444,
                                                    "#bd3786"
                                                ],
                                                [
                                                    0.5555555555555556,
                                                    "#d8576b"
                                                ],
                                                [
                                                    0.6666666666666666,
                                                    "#ed7953"
                                                ],
                                                [
                                                    0.7777777777777778,
                                                    "#fb9f3a"
                                                ],
                                                [
                                                    0.8888888888888888,
                                                    "#fdca26"
                                                ],
                                                [
                                                    1,
                                                    "#f0f921"
                                                ]
                                            ]
                                        },
                                        "colorway": [
                                            "#636efa",
                                            "#EF553B",
                                            "#00cc96",
                                            "#ab63fa",
                                            "#FFA15A",
                                            "#19d3f3",
                                            "#FF6692",
                                            "#B6E880",
                                            "#FF97FF",
                                            "#FECB52"
                                        ],
                                        "font": {
                                            "color": "#f2f5fa"
                                        },
                                        "geo": {
                                            "bgcolor": "rgb(17,17,17)",
                                            "lakecolor": "rgb(17,17,17)",
                                            "landcolor": "rgb(17,17,17)",
                                            "showlakes": true,
                                            "showland": true,
                                            "subunitcolor": "#506784"
                                        },
                                        "hoverlabel": {
                                            "align": "left"
                                        },
                                        "hovermode": "closest",
                                        "mapbox": {
                                            "style": "dark"
                                        },
                                        "paper_bgcolor": "rgb(17,17,17)",
                                        "plot_bgcolor": "rgb(17,17,17)",
                                        "polar": {
                                            "angularaxis": {
                                                "gridcolor": "#506784",
                                                "linecolor": "#506784",
                                                "ticks": ""
                                            },
                                            "bgcolor": "rgb(17,17,17)",
                                            "radialaxis": {
                                                "gridcolor": "#506784",
                                                "linecolor": "#506784",
                                                "ticks": ""
                                            }
                                        },
                                        "scene": {
                                            "xaxis": {
                                                "backgroundcolor": "rgb(17,17,17)",
                                                "gridcolor": "#506784",
                                                "gridwidth": 2,
                                                "linecolor": "#506784",
                                                "showbackground": true,
                                                "ticks": "",
                                                "zerolinecolor": "#C8D4E3"
                                            },
                                            "yaxis": {
                                                "backgroundcolor": "rgb(17,17,17)",
                                                "gridcolor": "#506784",
                                                "gridwidth": 2,
                                                "linecolor": "#506784",
                                                "showbackground": true,
                                                "ticks": "",
                                                "zerolinecolor": "#C8D4E3"
                                            },
                                            "zaxis": {
                                                "backgroundcolor": "rgb(17,17,17)",
                                                "gridcolor": "#506784",
                                                "gridwidth": 2,
                                                "linecolor": "#506784",
                                                "showbackground": true,
                                                "ticks": "",
                                                "zerolinecolor": "#C8D4E3"
                                            }
                                        },
                                        "shapedefaults": {
                                            "line": {
                                                "color": "#f2f5fa"
                                            }
                                        },
                                        "sliderdefaults": {
                                            "bgcolor": "#C8D4E3",
                                            "bordercolor": "rgb(17,17,17)",
                                            "borderwidth": 1,
                                            "tickwidth": 0
                                        },
                                        "ternary": {
                                            "aaxis": {
                                                "gridcolor": "#506784",
                                                "linecolor": "#506784",
                                                "ticks": ""
                                            },
                                            "baxis": {
                                                "gridcolor": "#506784",
                                                "linecolor": "#506784",
                                                "ticks": ""
                                            },
                                            "bgcolor": "rgb(17,17,17)",
                                            "caxis": {
                                                "gridcolor": "#506784",
                                                "linecolor": "#506784",
                                                "ticks": ""
                                            }
                                        },
                                        "title": {
                                            "x": 0.05
                                        },
                                        "updatemenudefaults": {
                                            "bgcolor": "#506784",
                                            "borderwidth": 0
                                        },
                                        "xaxis": {
                                            "automargin": true,
                                            "gridcolor": "#283442",
                                            "linecolor": "#506784",
                                            "ticks": "",
                                            "title": {
                                                "standoff": 15
                                            },
                                            "zerolinecolor": "#283442",
                                            "zerolinewidth": 2
                                        },
                                        "yaxis": {
                                            "automargin": true,
                                            "gridcolor": "#283442",
                                            "linecolor": "#506784",
                                            "ticks": "",
                                            "title": {
                                                "standoff": 15
                                            },
                                            "zerolinecolor": "#283442",
                                            "zerolinewidth": 2
                                        }
                                    }
                                },
                                "title": {
                                    "font": {
                                        "size": 16
                                    },
                                    "text": "Pairplot of Star Features by Spectral Class",
                                    "x": 0.5
                                },
                                "width": 900,
                                "xaxis": {
                                    "anchor": "y",
                                    "domain": [
                                        0,
                                        0.235
                                    ],
                                    "matches": "x13",
                                    "showticklabels": false
                                },
                                "xaxis10": {
                                    "anchor": "y10",
                                    "domain": [
                                        0.255,
                                        0.49
                                    ],
                                    "matches": "x14",
                                    "showticklabels": false
                                },
                                "xaxis11": {
                                    "anchor": "y11",
                                    "domain": [
                                        0.51,
                                        0.745
                                    ],
                                    "matches": "x15",
                                    "showticklabels": false
                                },
                                "xaxis12": {
                                    "anchor": "y12",
                                    "domain": [
                                        0.7649999999999999,
                                        0.9999999999999999
                                    ],
                                    "matches": "x16",
                                    "showticklabels": false
                                },
                                "xaxis13": {
                                    "anchor": "y13",
                                    "domain": [
                                        0,
                                        0.235
                                    ],
                                    "title": {
                                        "standoff": 0,
                                        "text": "Temperature (K)"
                                    }
                                },
                                "xaxis14": {
                                    "anchor": "y14",
                                    "domain": [
                                        0.255,
                                        0.49
                                    ],
                                    "title": {
                                        "standoff": 0,
                                        "text": "Luminosity(L/Lo)"
                                    }
                                },
                                "xaxis15": {
                                    "anchor": "y15",
                                    "domain": [
                                        0.51,
                                        0.745
                                    ],
                                    "title": {
                                        "standoff": 0,
                                        "text": "Radius(R/Ro)"
                                    }
                                },
                                "xaxis16": {
                                    "anchor": "y16",
                                    "domain": [
                                        0.7649999999999999,
                                        0.9999999999999999
                                    ],
                                    "title": {
                                        "standoff": 0,
                                        "text": "Absolute magnitude(Mv)"
                                    }
                                },
                                "xaxis2": {
                                    "anchor": "y2",
                                    "domain": [
                                        0.255,
                                        0.49
                                    ],
                                    "matches": "x14",
                                    "showticklabels": false
                                },
                                "xaxis3": {
                                    "anchor": "y3",
                                    "domain": [
                                        0.51,
                                        0.745
                                    ],
                                    "matches": "x15",
                                    "showticklabels": false
                                },
                                "xaxis4": {
                                    "anchor": "y4",
                                    "domain": [
                                        0.7649999999999999,
                                        0.9999999999999999
                                    ],
                                    "matches": "x16",
                                    "showticklabels": false
                                },
                                "xaxis5": {
                                    "anchor": "y5",
                                    "domain": [
                                        0,
                                        0.235
                                    ],
                                    "matches": "x13",
                                    "showticklabels": false
                                },
                                "xaxis6": {
                                    "anchor": "y6",
                                    "domain": [
                                        0.255,
                                        0.49
                                    ],
                                    "matches": "x14",
                                    "showticklabels": false
                                },
                                "xaxis7": {
                                    "anchor": "y7",
                                    "domain": [
                                        0.51,
                                        0.745
                                    ],
                                    "matches": "x15",
                                    "showticklabels": false
                                },
                                "xaxis8": {
                                    "anchor": "y8",
                                    "domain": [
                                        0.7649999999999999,
                                        0.9999999999999999
                                    ],
                                    "matches": "x16",
                                    "showticklabels": false
                                },
                                "xaxis9": {
                                    "anchor": "y9",
                                    "domain": [
                                        0,
                                        0.235
                                    ],
                                    "matches": "x13",
                                    "showticklabels": false
                                },
                                "yaxis": {
                                    "anchor": "x",
                                    "domain": [
                                        0.7649999999999999,
                                        0.9999999999999999
                                    ],
                                    "title": {
                                        "standoff": 0,
                                        "text": "Temperature (K)"
                                    }
                                },
                                "yaxis10": {
                                    "anchor": "x10",
                                    "domain": [
                                        0.255,
                                        0.49
                                    ],
                                    "matches": "y9",
                                    "showticklabels": false
                                },
                                "yaxis11": {
                                    "anchor": "x11",
                                    "domain": [
                                        0.255,
                                        0.49
                                    ],
                                    "matches": "y9",
                                    "showticklabels": false
                                },
                                "yaxis12": {
                                    "anchor": "x12",
                                    "domain": [
                                        0.255,
                                        0.49
                                    ],
                                    "matches": "y9",
                                    "showticklabels": false
                                },
                                "yaxis13": {
                                    "anchor": "x13",
                                    "domain": [
                                        0,
                                        0.235
                                    ],
                                    "title": {
                                        "standoff": 0,
                                        "text": "Absolute magnitude(Mv)"
                                    }
                                },
                                "yaxis14": {
                                    "anchor": "x14",
                                    "domain": [
                                        0,
                                        0.235
                                    ],
                                    "matches": "y13",
                                    "showticklabels": false
                                },
                                "yaxis15": {
                                    "anchor": "x15",
                                    "domain": [
                                        0,
                                        0.235
                                    ],
                                    "matches": "y13",
                                    "showticklabels": false
                                },
                                "yaxis16": {
                                    "anchor": "x16",
                                    "domain": [
                                        0,
                                        0.235
                                    ],
                                    "matches": "y13",
                                    "showticklabels": false
                                },
                                "yaxis2": {
                                    "anchor": "x2",
                                    "domain": [
                                        0.7649999999999999,
                                        0.9999999999999999
                                    ],
                                    "matches": "y",
                                    "showticklabels": false
                                },
                                "yaxis3": {
                                    "anchor": "x3",
                                    "domain": [
                                        0.7649999999999999,
                                        0.9999999999999999
                                    ],
                                    "matches": "y",
                                    "showticklabels": false
                                },
                                "yaxis4": {
                                    "anchor": "x4",
                                    "domain": [
                                        0.7649999999999999,
                                        0.9999999999999999
                                    ],
                                    "matches": "y",
                                    "showticklabels": false
                                },
                                "yaxis5": {
                                    "anchor": "x5",
                                    "domain": [
                                        0.51,
                                        0.745
                                    ],
                                    "title": {
                                        "standoff": 0,
                                        "text": "Luminosity(L/Lo)"
                                    }
                                },
                                "yaxis6": {
                                    "anchor": "x6",
                                    "domain": [
                                        0.51,
                                        0.745
                                    ],
                                    "matches": "y5",
                                    "showticklabels": false
                                },
                                "yaxis7": {
                                    "anchor": "x7",
                                    "domain": [
                                        0.51,
                                        0.745
                                    ],
                                    "matches": "y5",
                                    "showticklabels": false
                                },
                                "yaxis8": {
                                    "anchor": "x8",
                                    "domain": [
                                        0.51,
                                        0.745
                                    ],
                                    "matches": "y5",
                                    "showticklabels": false
                                },
                                "yaxis9": {
                                    "anchor": "x9",
                                    "domain": [
                                        0.255,
                                        0.49
                                    ],
                                    "title": {
                                        "standoff": 0,
                                        "text": "Radius(R/Ro)"
                                    }
                                }
                            }
                        }
                    },
                    "metadata": {},
                    "output_type": "display_data"
                }
            ],
            "source": [
                "\n",
                "\n",
                "# 5. Create a pairplot equivalent using Plotly\n",
                "# Plotly doesn't have a direct pairplot function like seaborn\n",
                "# but we can create a similar visualization using a grid of scatter plots\n",
                "\n",
                "# First, get only the numeric columns and add the Spectral Class for coloring\n",
                "pair_data = star_df[numeric_features + ['Spectral Class']]\n",
                "\n",
                "# Create the figure with subplots\n",
                "fig_pair = make_subplots(\n",
                "    rows=4, \n",
                "    cols=4,\n",
                "    shared_xaxes=True,\n",
                "    shared_yaxes=True,\n",
                "    horizontal_spacing=0.02,\n",
                "    vertical_spacing=0.02\n",
                ")\n",
                "\n",
                "# Get unique spectral classes\n",
                "spectral_classes = star_df['Spectral Class'].unique()\n",
                "\n",
                "# Color mapping for spectral classes - create colors dynamically based on available classes\n",
                "import plotly.express as px\n",
                "spectral_colors = {}\n",
                "colorscale = px.colors.qualitative.Plotly\n",
                "for i, spec_class in enumerate(spectral_classes):\n",
                "    spectral_colors[spec_class] = colorscale[i % len(colorscale)]\n",
                "\n",
                "# Add scatter plots for each combination\n",
                "for i, feat_y in enumerate(numeric_features):\n",
                "    for j, feat_x in enumerate(numeric_features):\n",
                "        # If it's the diagonal, we'll show a histogram\n",
                "        if i == j:\n",
                "            for spectral in spectral_classes:\n",
                "                subset = star_df[star_df['Spectral Class'] == spectral]\n",
                "                if len(subset) > 0:  # Skip if no data for this class\n",
                "                    fig_pair.add_trace(\n",
                "                        go.Histogram(\n",
                "                            x=subset[feat_x],\n",
                "                            name=spectral,\n",
                "                            marker_color=spectral_colors[spectral],\n",
                "                            opacity=0.7,\n",
                "                            showlegend=False if (i > 0 or j > 0) else True\n",
                "                        ),\n",
                "                        row=i+1, \n",
                "                        col=j+1\n",
                "                    )\n",
                "        else:\n",
                "            for spectral in spectral_classes:\n",
                "                subset = star_df[star_df['Spectral Class'] == spectral]\n",
                "                if len(subset) > 0:  # Skip if no data for this class\n",
                "                    fig_pair.add_trace(\n",
                "                        go.Scatter(\n",
                "                            x=subset[feat_x],\n",
                "                            y=subset[feat_y],\n",
                "                            mode='markers',\n",
                "                            marker=dict(\n",
                "                                color=spectral_colors[spectral],\n",
                "                                size=5,\n",
                "                                opacity=0.7\n",
                "                            ),\n",
                "                            name=spectral,\n",
                "                            showlegend=False\n",
                "                        ),\n",
                "                        row=i+1, \n",
                "                        col=j+1\n",
                "                    )\n",
                "\n",
                "# Update layout\n",
                "fig_pair.update_layout(\n",
                "    title_text='Pairplot of Star Features by Spectral Class',\n",
                "    title_font=dict(size=16),\n",
                "    title_x=0.5,\n",
                "    height=900,\n",
                "    width=900,\n",
                "    plot_bgcolor='rgba(0,0,0,0.8)',\n",
                "    paper_bgcolor='rgba(0,0,0,0.8)',\n",
                "    legend=dict(\n",
                "        title='Spectral Class',\n",
                "        orientation=\"h\",\n",
                "        yanchor=\"bottom\",\n",
                "        y=-0.1,\n",
                "        xanchor=\"center\",\n",
                "        x=0.5\n",
                "    )\n",
                ")\n",
                "\n",
                "# Update axis labels\n",
                "for i, feat_y in enumerate(numeric_features):\n",
                "    for j, feat_x in enumerate(numeric_features):\n",
                "        # Only show axis titles on the edge plots\n",
                "        if j == 0:  # First column\n",
                "            fig_pair.update_yaxes(title_text=feat_y, row=i+1, col=j+1, title_standoff=0)\n",
                "        if i == 3:  # Last row\n",
                "            fig_pair.update_xaxes(title_text=feat_x, row=i+1, col=j+1, title_standoff=0)\n",
                "\n",
                "# Save the figure\n",
                "\n",
                "fig_pair.show()\n",
                "\n",
                "fig_pair.write_image(base_dir + \"plotly_pairplot.png\")\n",
                "\n"
            ]
        },
        {
            "cell_type": "code",
            "execution_count": 26,
            "metadata": {},
            "outputs": [
                {
                    "data": {
                        "application/vnd.plotly.v1+json": {
                            "config": {
                                "plotlyServerURL": "https://plot.ly"
                            },
                            "data": [
                                {
                                    "marker": {
                                        "color": "brown",
                                        "line": {
                                            "color": "black",
                                            "width": 1
                                        },
                                        "size": 10
                                    },
                                    "mode": "markers",
                                    "name": "Brown Dwarf",
                                    "type": "scatter",
                                    "x": {
                                        "bdata": "/AviCygK8AqTBxgLTQooCloKjAoNDWgNpwsTC3cL3wyBCwEL1go3C/sMyw2SDEoMtw2ZDHcLLQsoC6sKDwtiC1sNkgx9DUkLmAucDdoKww0=",
                                        "dtype": "i2"
                                    },
                                    "y": {
                                        "bdata": "H4XrUbgeMECamZmZmZkwQDMzMzMzszJAZmZmZmamMECPwvUoXA80QHsUrkfh+jBAuB6F61E4MUBmZmZmZmYxQDMzMzMzczFAzczMzMwMMEB7FK5H4TowQHE9Ctej8DBA16NwPQoXMED2KFyPwvUwQKRwPQrX4zJA4XoUrkchMUDXo3A9ClcyQDMzMzMzczBApHA9CtdjMUCuR+F6FG4zQClcj8L1KDFAcT0K16PwM0CF61G4HgU0QOxRuB6F6zBAH4XrUbgeMUDhehSuR6EzQOF6FK5H4TBA9ihcj8K1MECPwvUoXI8zQNejcD0KFzJA9ihcj8I1MECkcD0K12MyQI/C9ShcjzFA16NwPQpXMUAUrkfhehQxQK5H4XoU7jBAMzMzMzNzMUDsUbgehaswQDMzMzMzczNAmpmZmZlZMEA=",
                                        "dtype": "f8"
                                    }
                                },
                                {
                                    "marker": {
                                        "color": "red",
                                        "line": {
                                            "color": "black",
                                            "width": 1
                                        },
                                        "size": 11.666666666666666
                                    },
                                    "mode": "markers",
                                    "name": "Red Dwarf",
                                    "type": "scatter",
                                    "x": {
                                        "bdata": "EA45DD4MLA5aCgwN7wpsDngMcQ0RDRcO6AxODN4NbAxKCw4NPQpWDBcMFw4cDK0L1g2rDBMMDg78DNUNhg25DLILjAzDDQ4ORgyoDfwMhw0=",
                                        "dtype": "i2"
                                    },
                                    "y": {
                                        "bdata": "4XoUrkdhJUAUrkfhepQnQOxRuB6FaypA9ihcj8L1JECq8dJNYpAnQKRwPQrXIypAFK5H4XqULUCamZmZmZklQI/C9ShcDytAXI/C9ShcJkCamZmZmZkoQD0K16NwPSRAZmZmZmZmKkDhehSuR+EnQEjhehSuxyVAhetRuB6FJ0DsUbgehesqQD0K16NwvSdAH4XrUbieKUD2KFyPwvUrQD0K16NwvSVArkfhehSuJEDXo3A9ClcmQD0K16NwPSpA9ihcj8J1LEAAAAAAAIAtQFyPwvUo3CZAhetRuB6FLED2KFyPwnUoQClcj8L1qCxAcT0K16PwJkD2KFyPwnUlQGZmZmZm5ipAaJHtfD+1KUBcj8L1KNwoQC/dJAaBVStAPQrXo3A9LEDhehSuR+EtQI/C9ShcjylAWmQ730+NLUA=",
                                        "dtype": "f8"
                                    }
                                },
                                {
                                    "marker": {
                                        "color": "white",
                                        "line": {
                                            "color": "black",
                                            "width": 1
                                        },
                                        "size": 13.333333333333334
                                    },
                                    "mode": "markers",
                                    "name": "White Dwarf",
                                    "type": "scatter",
                                    "x": {
                                        "bdata": "qGE8HjQcNCF0QL4yeiEUHg4uPhy8G04p4iIwQxQ3yyXqLuQqmDWUTWw0HFJyR7g4fC7cInAyjDkrHrgylkFAPYY6HDSkR9BN1F00WgBGoEs=",
                                        "dtype": "i2"
                                    },
                                    "y": {
                                        "bdata": "KVyPwvUoJUAK16NwPQosQPYoXI/CdSxAAAAAAAAALUBI4XoUrscnQPYoXI/CdShAZmZmZmZmLEBxPQrXo/AsQK5H4XoULilAKVyPwvUoLECuR+F6FC4sQArXo3A9CihAj8L1KFyPK0BmZmZmZuYoQNejcD0KVyhA9ihcj8L1K0DD9Shcj0IoQOF6FK5HYSZAcT0K16PwKUCuR+F6FK4mQNejcD0KVytACtejcD0KJ0CPwvUoXI8pQNejcD0K1ydAw/UoXI/CJkA9CtejcL0tQClcj8L1qClASOF6FK7HKUAfhetRuJ4tQPYoXI/CdSZAPQrXo3C9KUDXo3A9CtcnQPYoXI/CdShAzczMzMzMKUBxPQrXo3AmQK5H4XoUriZAmpmZmZkZJUBcj8L1KFwkQFK4HoXrUSdAPQrXo3A9J0A=",
                                        "dtype": "f8"
                                    }
                                },
                                {
                                    "marker": {
                                        "color": "cyan",
                                        "line": {
                                            "color": "black",
                                            "width": 1
                                        },
                                        "size": 10
                                    },
                                    "mode": "markers",
                                    "name": "Main Sequence",
                                    "type": "scatter",
                                    "x": {
                                        "bdata": "WJgAADB1AACsOwAA5CUAAKgWAAB0HwAAZRoAAOwYAAAwFwAA0xUAALQUAACuEQAA7Q8AAHQTAABGIwAA8isAAPgTAAAoHgAAQi8AAAyNAAB4cwAA8SIAAOw2AAAGQAAA7mEAABxwAAAcZgAAmE4AAN8yAACokwAATlcAABwnAAAhMwAA/FUAAI6FAADMfgAAaCQAAMhLAAD0QgAAOiAAAA==",
                                        "dtype": "i4"
                                    },
                                    "y": {
                                        "bdata": "zczMzMzMEsDNzMzMzMwQwIXrUbgehf+/exSuR+F6xD8zMzMzMzMUQFyPwvUoXANASOF6FK5HA0BxPQrXo3AHQNejcD0K1xFAH4XrUbgeFED2KFyPwvUVQKAaL90kBhpAtvP91HjpGEAfhetRuB4TQDMzMzMzM/c/ZmZmZmZmAsC4HoXrUbgSQIXrUbgehQNAexSuR+F6lD+amZmZmZkRwArXo3A9ChDAuB6F61G4vj9SuB6F61EAwI/C9ShcjwrA16NwPQrXD8Bcj8L1KFwQwGZmZmZmZg7AMzMzMzMzC8AUrkfhehT2vz0K16NwPRLAXI/C9ShcDcA5tMh2vp+KP7gehetRuL6/ZmZmZmZmBMBI4XoUrkcSwHE9CtejcBHALbKd76fG8z+kcD0K16MIwB+F61G4HgXAXI/C9Shc778=",
                                        "dtype": "f8"
                                    }
                                },
                                {
                                    "marker": {
                                        "color": "orange",
                                        "line": {
                                            "color": "black",
                                            "width": 1
                                        },
                                        "size": 33.333333333333336
                                    },
                                    "mode": "markers",
                                    "name": "Supergiants",
                                    "type": "scatter",
                                    "x": {
                                        "bdata": "8g4AACUNAADGDAAAgAwAAMALAAAQDgAA9w0AAPYNAAApDgAA1oMAABSCAABAnAAA2FkAAOBCAABYKwAApTcAADZgAABdMgAAGV8AAI2CAAAuYwAALy0AAIMxAAB4FgAA3yIAAHIcAADTTQAABWcAAOdDAACdJAAAflwAAM0xAACnJAAAkFsAAJNBAAAuSQAApCYAALIqAAA3WgAA6lQAAA==",
                                        "dtype": "i4"
                                    },
                                    "y": {
                                        "bdata": "uB6F61G4G8DNzMzMzMwYwBSuR+F6FBjA4XoUrkfhHMAAAAAAAAAYwGZmZmZmZhrAH4XrUbgeG8D2KFyPwvUUwPYoXI/C9RrAZmZmZmZmGMAAAAAAAAAawOxRuB6F6xjACtejcD0KF8CPwvUoXI8bwKRwPQrXoxfAexSuR+F6GMBSuB6F61EXwFyPwvUoXBnA9ihcj8L1GMApXI/C9SgXwK5H4XoUrhfAexSuR+H6GMB7FK5H4XoWwIXrUbgehRrAXI/C9ShcHcDhehSuR+EcwMP1KFyPwhbAUrgehetRF8Bcj8L1KFwYwPYoXI/C9RfAFK5H4XoUGcAUrkfhehQcwOxRuB6F6xvAZmZmZmbmF8BmZmZmZmYZwM3MzMzMzB3APzVeukkMHcBMN4lBYOUYwB+F61G4nhfA/Knx0k1iHcA=",
                                        "dtype": "f8"
                                    }
                                },
                                {
                                    "marker": {
                                        "color": "maroon",
                                        "line": {
                                            "color": "black",
                                            "width": 1
                                        },
                                        "size": 50
                                    },
                                    "mode": "markers",
                                    "name": "Hypergiants",
                                    "type": "scatter",
                                    "x": {
                                        "bdata": "og0AAKYOAAD6DgAApQ4AAEIOAAB6DQAATA4AAHoNAACoDgAAzw0AAIMNAAAVDgAAHw4AAEcNAAAaDgAA4Q0AAK8PAAApDgAAwhoAAMQOAADyDQAArA0AAL8QAACQZQAAEA4AAB4OAABQRgAA+CoAAEQvAACqXwAAUV4AAFqVAADpfgAAW2wAAJBVAAAcmAAAd3gAAH0iAAATJAAA+pMAAA==",
                                        "dtype": "i4"
                                    },
                                    "y": {
                                        "bdata": "zczMzMzMIsCF61G4HoUewGZmZmZmZiLAmpmZmZkZIMApXI/C9SgfwAAAAAAAgCfA16NwPQrXJ8CPwvUoXI8mwHsUrkfheibAuB6F61G4JsBmZmZmZmYlwB+F61G4niXAKVyPwvWoJsDXo3A9CtclwLgehetRuCXAj8L1KFwPJsBI4XoUrscmwAAAAAAAgCTApHA9CtcjJMBmZmZmZmYlwFK4HoXrUR7AXI/C9ShcIMBmZmZmZmYiwDMzMzMzMyLAj8L1KFyPH8DXo3A9CtcewJqZmZmZmSDAzczMzMzMI8Bcj8L1KFwfwHsUrkfheiDArkfhehSuIcAUrkfhepQiwK5H4XoUriXAXI/C9ShcHsCuR+F6FK4ewFyPwvUo3CPAw/UoXI9CJcD2KFyPwnUlwPYoXI/CdSbAMzMzMzMzH8A=",
                                        "dtype": "f8"
                                    }
                                },
                                {
                                    "marker": {
                                        "color": "yellow",
                                        "line": {
                                            "color": "black",
                                            "width": 1
                                        },
                                        "size": 25
                                    },
                                    "mode": "markers",
                                    "name": "Sun",
                                    "type": "scatter",
                                    "x": [
                                        5778
                                    ],
                                    "y": [
                                        4.83
                                    ]
                                }
                            ],
                            "layout": {
                                "annotations": [
                                    {
                                        "font": {
                                            "color": "orange",
                                            "size": 16
                                        },
                                        "showarrow": false,
                                        "text": "Giants",
                                        "x": 3000,
                                        "y": -5
                                    },
                                    {
                                        "font": {
                                            "color": "cyan",
                                            "size": 16
                                        },
                                        "showarrow": false,
                                        "text": "Main Sequence",
                                        "x": 15000,
                                        "y": 0
                                    }
                                ],
                                "height": 600,
                                "legend": {
                                    "bgcolor": "rgba(50,50,50,0.7)",
                                    "bordercolor": "white",
                                    "borderwidth": 1,
                                    "itemsizing": "constant"
                                },
                                "paper_bgcolor": "rgba(0,0,0,0.8)",
                                "plot_bgcolor": "rgba(0,0,0,0.8)",
                                "template": {
                                    "data": {
                                        "bar": [
                                            {
                                                "error_x": {
                                                    "color": "#f2f5fa"
                                                },
                                                "error_y": {
                                                    "color": "#f2f5fa"
                                                },
                                                "marker": {
                                                    "line": {
                                                        "color": "rgb(17,17,17)",
                                                        "width": 0.5
                                                    },
                                                    "pattern": {
                                                        "fillmode": "overlay",
                                                        "size": 10,
                                                        "solidity": 0.2
                                                    }
                                                },
                                                "type": "bar"
                                            }
                                        ],
                                        "barpolar": [
                                            {
                                                "marker": {
                                                    "line": {
                                                        "color": "rgb(17,17,17)",
                                                        "width": 0.5
                                                    },
                                                    "pattern": {
                                                        "fillmode": "overlay",
                                                        "size": 10,
                                                        "solidity": 0.2
                                                    }
                                                },
                                                "type": "barpolar"
                                            }
                                        ],
                                        "carpet": [
                                            {
                                                "aaxis": {
                                                    "endlinecolor": "#A2B1C6",
                                                    "gridcolor": "#506784",
                                                    "linecolor": "#506784",
                                                    "minorgridcolor": "#506784",
                                                    "startlinecolor": "#A2B1C6"
                                                },
                                                "baxis": {
                                                    "endlinecolor": "#A2B1C6",
                                                    "gridcolor": "#506784",
                                                    "linecolor": "#506784",
                                                    "minorgridcolor": "#506784",
                                                    "startlinecolor": "#A2B1C6"
                                                },
                                                "type": "carpet"
                                            }
                                        ],
                                        "choropleth": [
                                            {
                                                "colorbar": {
                                                    "outlinewidth": 0,
                                                    "ticks": ""
                                                },
                                                "type": "choropleth"
                                            }
                                        ],
                                        "contour": [
                                            {
                                                "colorbar": {
                                                    "outlinewidth": 0,
                                                    "ticks": ""
                                                },
                                                "colorscale": [
                                                    [
                                                        0,
                                                        "#0d0887"
                                                    ],
                                                    [
                                                        0.1111111111111111,
                                                        "#46039f"
                                                    ],
                                                    [
                                                        0.2222222222222222,
                                                        "#7201a8"
                                                    ],
                                                    [
                                                        0.3333333333333333,
                                                        "#9c179e"
                                                    ],
                                                    [
                                                        0.4444444444444444,
                                                        "#bd3786"
                                                    ],
                                                    [
                                                        0.5555555555555556,
                                                        "#d8576b"
                                                    ],
                                                    [
                                                        0.6666666666666666,
                                                        "#ed7953"
                                                    ],
                                                    [
                                                        0.7777777777777778,
                                                        "#fb9f3a"
                                                    ],
                                                    [
                                                        0.8888888888888888,
                                                        "#fdca26"
                                                    ],
                                                    [
                                                        1,
                                                        "#f0f921"
                                                    ]
                                                ],
                                                "type": "contour"
                                            }
                                        ],
                                        "contourcarpet": [
                                            {
                                                "colorbar": {
                                                    "outlinewidth": 0,
                                                    "ticks": ""
                                                },
                                                "type": "contourcarpet"
                                            }
                                        ],
                                        "heatmap": [
                                            {
                                                "colorbar": {
                                                    "outlinewidth": 0,
                                                    "ticks": ""
                                                },
                                                "colorscale": [
                                                    [
                                                        0,
                                                        "#0d0887"
                                                    ],
                                                    [
                                                        0.1111111111111111,
                                                        "#46039f"
                                                    ],
                                                    [
                                                        0.2222222222222222,
                                                        "#7201a8"
                                                    ],
                                                    [
                                                        0.3333333333333333,
                                                        "#9c179e"
                                                    ],
                                                    [
                                                        0.4444444444444444,
                                                        "#bd3786"
                                                    ],
                                                    [
                                                        0.5555555555555556,
                                                        "#d8576b"
                                                    ],
                                                    [
                                                        0.6666666666666666,
                                                        "#ed7953"
                                                    ],
                                                    [
                                                        0.7777777777777778,
                                                        "#fb9f3a"
                                                    ],
                                                    [
                                                        0.8888888888888888,
                                                        "#fdca26"
                                                    ],
                                                    [
                                                        1,
                                                        "#f0f921"
                                                    ]
                                                ],
                                                "type": "heatmap"
                                            }
                                        ],
                                        "histogram": [
                                            {
                                                "marker": {
                                                    "pattern": {
                                                        "fillmode": "overlay",
                                                        "size": 10,
                                                        "solidity": 0.2
                                                    }
                                                },
                                                "type": "histogram"
                                            }
                                        ],
                                        "histogram2d": [
                                            {
                                                "colorbar": {
                                                    "outlinewidth": 0,
                                                    "ticks": ""
                                                },
                                                "colorscale": [
                                                    [
                                                        0,
                                                        "#0d0887"
                                                    ],
                                                    [
                                                        0.1111111111111111,
                                                        "#46039f"
                                                    ],
                                                    [
                                                        0.2222222222222222,
                                                        "#7201a8"
                                                    ],
                                                    [
                                                        0.3333333333333333,
                                                        "#9c179e"
                                                    ],
                                                    [
                                                        0.4444444444444444,
                                                        "#bd3786"
                                                    ],
                                                    [
                                                        0.5555555555555556,
                                                        "#d8576b"
                                                    ],
                                                    [
                                                        0.6666666666666666,
                                                        "#ed7953"
                                                    ],
                                                    [
                                                        0.7777777777777778,
                                                        "#fb9f3a"
                                                    ],
                                                    [
                                                        0.8888888888888888,
                                                        "#fdca26"
                                                    ],
                                                    [
                                                        1,
                                                        "#f0f921"
                                                    ]
                                                ],
                                                "type": "histogram2d"
                                            }
                                        ],
                                        "histogram2dcontour": [
                                            {
                                                "colorbar": {
                                                    "outlinewidth": 0,
                                                    "ticks": ""
                                                },
                                                "colorscale": [
                                                    [
                                                        0,
                                                        "#0d0887"
                                                    ],
                                                    [
                                                        0.1111111111111111,
                                                        "#46039f"
                                                    ],
                                                    [
                                                        0.2222222222222222,
                                                        "#7201a8"
                                                    ],
                                                    [
                                                        0.3333333333333333,
                                                        "#9c179e"
                                                    ],
                                                    [
                                                        0.4444444444444444,
                                                        "#bd3786"
                                                    ],
                                                    [
                                                        0.5555555555555556,
                                                        "#d8576b"
                                                    ],
                                                    [
                                                        0.6666666666666666,
                                                        "#ed7953"
                                                    ],
                                                    [
                                                        0.7777777777777778,
                                                        "#fb9f3a"
                                                    ],
                                                    [
                                                        0.8888888888888888,
                                                        "#fdca26"
                                                    ],
                                                    [
                                                        1,
                                                        "#f0f921"
                                                    ]
                                                ],
                                                "type": "histogram2dcontour"
                                            }
                                        ],
                                        "mesh3d": [
                                            {
                                                "colorbar": {
                                                    "outlinewidth": 0,
                                                    "ticks": ""
                                                },
                                                "type": "mesh3d"
                                            }
                                        ],
                                        "parcoords": [
                                            {
                                                "line": {
                                                    "colorbar": {
                                                        "outlinewidth": 0,
                                                        "ticks": ""
                                                    }
                                                },
                                                "type": "parcoords"
                                            }
                                        ],
                                        "pie": [
                                            {
                                                "automargin": true,
                                                "type": "pie"
                                            }
                                        ],
                                        "scatter": [
                                            {
                                                "marker": {
                                                    "line": {
                                                        "color": "#283442"
                                                    }
                                                },
                                                "type": "scatter"
                                            }
                                        ],
                                        "scatter3d": [
                                            {
                                                "line": {
                                                    "colorbar": {
                                                        "outlinewidth": 0,
                                                        "ticks": ""
                                                    }
                                                },
                                                "marker": {
                                                    "colorbar": {
                                                        "outlinewidth": 0,
                                                        "ticks": ""
                                                    }
                                                },
                                                "type": "scatter3d"
                                            }
                                        ],
                                        "scattercarpet": [
                                            {
                                                "marker": {
                                                    "colorbar": {
                                                        "outlinewidth": 0,
                                                        "ticks": ""
                                                    }
                                                },
                                                "type": "scattercarpet"
                                            }
                                        ],
                                        "scattergeo": [
                                            {
                                                "marker": {
                                                    "colorbar": {
                                                        "outlinewidth": 0,
                                                        "ticks": ""
                                                    }
                                                },
                                                "type": "scattergeo"
                                            }
                                        ],
                                        "scattergl": [
                                            {
                                                "marker": {
                                                    "line": {
                                                        "color": "#283442"
                                                    }
                                                },
                                                "type": "scattergl"
                                            }
                                        ],
                                        "scattermap": [
                                            {
                                                "marker": {
                                                    "colorbar": {
                                                        "outlinewidth": 0,
                                                        "ticks": ""
                                                    }
                                                },
                                                "type": "scattermap"
                                            }
                                        ],
                                        "scattermapbox": [
                                            {
                                                "marker": {
                                                    "colorbar": {
                                                        "outlinewidth": 0,
                                                        "ticks": ""
                                                    }
                                                },
                                                "type": "scattermapbox"
                                            }
                                        ],
                                        "scatterpolar": [
                                            {
                                                "marker": {
                                                    "colorbar": {
                                                        "outlinewidth": 0,
                                                        "ticks": ""
                                                    }
                                                },
                                                "type": "scatterpolar"
                                            }
                                        ],
                                        "scatterpolargl": [
                                            {
                                                "marker": {
                                                    "colorbar": {
                                                        "outlinewidth": 0,
                                                        "ticks": ""
                                                    }
                                                },
                                                "type": "scatterpolargl"
                                            }
                                        ],
                                        "scatterternary": [
                                            {
                                                "marker": {
                                                    "colorbar": {
                                                        "outlinewidth": 0,
                                                        "ticks": ""
                                                    }
                                                },
                                                "type": "scatterternary"
                                            }
                                        ],
                                        "surface": [
                                            {
                                                "colorbar": {
                                                    "outlinewidth": 0,
                                                    "ticks": ""
                                                },
                                                "colorscale": [
                                                    [
                                                        0,
                                                        "#0d0887"
                                                    ],
                                                    [
                                                        0.1111111111111111,
                                                        "#46039f"
                                                    ],
                                                    [
                                                        0.2222222222222222,
                                                        "#7201a8"
                                                    ],
                                                    [
                                                        0.3333333333333333,
                                                        "#9c179e"
                                                    ],
                                                    [
                                                        0.4444444444444444,
                                                        "#bd3786"
                                                    ],
                                                    [
                                                        0.5555555555555556,
                                                        "#d8576b"
                                                    ],
                                                    [
                                                        0.6666666666666666,
                                                        "#ed7953"
                                                    ],
                                                    [
                                                        0.7777777777777778,
                                                        "#fb9f3a"
                                                    ],
                                                    [
                                                        0.8888888888888888,
                                                        "#fdca26"
                                                    ],
                                                    [
                                                        1,
                                                        "#f0f921"
                                                    ]
                                                ],
                                                "type": "surface"
                                            }
                                        ],
                                        "table": [
                                            {
                                                "cells": {
                                                    "fill": {
                                                        "color": "#506784"
                                                    },
                                                    "line": {
                                                        "color": "rgb(17,17,17)"
                                                    }
                                                },
                                                "header": {
                                                    "fill": {
                                                        "color": "#2a3f5f"
                                                    },
                                                    "line": {
                                                        "color": "rgb(17,17,17)"
                                                    }
                                                },
                                                "type": "table"
                                            }
                                        ]
                                    },
                                    "layout": {
                                        "annotationdefaults": {
                                            "arrowcolor": "#f2f5fa",
                                            "arrowhead": 0,
                                            "arrowwidth": 1
                                        },
                                        "autotypenumbers": "strict",
                                        "coloraxis": {
                                            "colorbar": {
                                                "outlinewidth": 0,
                                                "ticks": ""
                                            }
                                        },
                                        "colorscale": {
                                            "diverging": [
                                                [
                                                    0,
                                                    "#8e0152"
                                                ],
                                                [
                                                    0.1,
                                                    "#c51b7d"
                                                ],
                                                [
                                                    0.2,
                                                    "#de77ae"
                                                ],
                                                [
                                                    0.3,
                                                    "#f1b6da"
                                                ],
                                                [
                                                    0.4,
                                                    "#fde0ef"
                                                ],
                                                [
                                                    0.5,
                                                    "#f7f7f7"
                                                ],
                                                [
                                                    0.6,
                                                    "#e6f5d0"
                                                ],
                                                [
                                                    0.7,
                                                    "#b8e186"
                                                ],
                                                [
                                                    0.8,
                                                    "#7fbc41"
                                                ],
                                                [
                                                    0.9,
                                                    "#4d9221"
                                                ],
                                                [
                                                    1,
                                                    "#276419"
                                                ]
                                            ],
                                            "sequential": [
                                                [
                                                    0,
                                                    "#0d0887"
                                                ],
                                                [
                                                    0.1111111111111111,
                                                    "#46039f"
                                                ],
                                                [
                                                    0.2222222222222222,
                                                    "#7201a8"
                                                ],
                                                [
                                                    0.3333333333333333,
                                                    "#9c179e"
                                                ],
                                                [
                                                    0.4444444444444444,
                                                    "#bd3786"
                                                ],
                                                [
                                                    0.5555555555555556,
                                                    "#d8576b"
                                                ],
                                                [
                                                    0.6666666666666666,
                                                    "#ed7953"
                                                ],
                                                [
                                                    0.7777777777777778,
                                                    "#fb9f3a"
                                                ],
                                                [
                                                    0.8888888888888888,
                                                    "#fdca26"
                                                ],
                                                [
                                                    1,
                                                    "#f0f921"
                                                ]
                                            ],
                                            "sequentialminus": [
                                                [
                                                    0,
                                                    "#0d0887"
                                                ],
                                                [
                                                    0.1111111111111111,
                                                    "#46039f"
                                                ],
                                                [
                                                    0.2222222222222222,
                                                    "#7201a8"
                                                ],
                                                [
                                                    0.3333333333333333,
                                                    "#9c179e"
                                                ],
                                                [
                                                    0.4444444444444444,
                                                    "#bd3786"
                                                ],
                                                [
                                                    0.5555555555555556,
                                                    "#d8576b"
                                                ],
                                                [
                                                    0.6666666666666666,
                                                    "#ed7953"
                                                ],
                                                [
                                                    0.7777777777777778,
                                                    "#fb9f3a"
                                                ],
                                                [
                                                    0.8888888888888888,
                                                    "#fdca26"
                                                ],
                                                [
                                                    1,
                                                    "#f0f921"
                                                ]
                                            ]
                                        },
                                        "colorway": [
                                            "#636efa",
                                            "#EF553B",
                                            "#00cc96",
                                            "#ab63fa",
                                            "#FFA15A",
                                            "#19d3f3",
                                            "#FF6692",
                                            "#B6E880",
                                            "#FF97FF",
                                            "#FECB52"
                                        ],
                                        "font": {
                                            "color": "#f2f5fa"
                                        },
                                        "geo": {
                                            "bgcolor": "rgb(17,17,17)",
                                            "lakecolor": "rgb(17,17,17)",
                                            "landcolor": "rgb(17,17,17)",
                                            "showlakes": true,
                                            "showland": true,
                                            "subunitcolor": "#506784"
                                        },
                                        "hoverlabel": {
                                            "align": "left"
                                        },
                                        "hovermode": "closest",
                                        "mapbox": {
                                            "style": "dark"
                                        },
                                        "paper_bgcolor": "rgb(17,17,17)",
                                        "plot_bgcolor": "rgb(17,17,17)",
                                        "polar": {
                                            "angularaxis": {
                                                "gridcolor": "#506784",
                                                "linecolor": "#506784",
                                                "ticks": ""
                                            },
                                            "bgcolor": "rgb(17,17,17)",
                                            "radialaxis": {
                                                "gridcolor": "#506784",
                                                "linecolor": "#506784",
                                                "ticks": ""
                                            }
                                        },
                                        "scene": {
                                            "xaxis": {
                                                "backgroundcolor": "rgb(17,17,17)",
                                                "gridcolor": "#506784",
                                                "gridwidth": 2,
                                                "linecolor": "#506784",
                                                "showbackground": true,
                                                "ticks": "",
                                                "zerolinecolor": "#C8D4E3"
                                            },
                                            "yaxis": {
                                                "backgroundcolor": "rgb(17,17,17)",
                                                "gridcolor": "#506784",
                                                "gridwidth": 2,
                                                "linecolor": "#506784",
                                                "showbackground": true,
                                                "ticks": "",
                                                "zerolinecolor": "#C8D4E3"
                                            },
                                            "zaxis": {
                                                "backgroundcolor": "rgb(17,17,17)",
                                                "gridcolor": "#506784",
                                                "gridwidth": 2,
                                                "linecolor": "#506784",
                                                "showbackground": true,
                                                "ticks": "",
                                                "zerolinecolor": "#C8D4E3"
                                            }
                                        },
                                        "shapedefaults": {
                                            "line": {
                                                "color": "#f2f5fa"
                                            }
                                        },
                                        "sliderdefaults": {
                                            "bgcolor": "#C8D4E3",
                                            "bordercolor": "rgb(17,17,17)",
                                            "borderwidth": 1,
                                            "tickwidth": 0
                                        },
                                        "ternary": {
                                            "aaxis": {
                                                "gridcolor": "#506784",
                                                "linecolor": "#506784",
                                                "ticks": ""
                                            },
                                            "baxis": {
                                                "gridcolor": "#506784",
                                                "linecolor": "#506784",
                                                "ticks": ""
                                            },
                                            "bgcolor": "rgb(17,17,17)",
                                            "caxis": {
                                                "gridcolor": "#506784",
                                                "linecolor": "#506784",
                                                "ticks": ""
                                            }
                                        },
                                        "title": {
                                            "x": 0.05
                                        },
                                        "updatemenudefaults": {
                                            "bgcolor": "#506784",
                                            "borderwidth": 0
                                        },
                                        "xaxis": {
                                            "automargin": true,
                                            "gridcolor": "#283442",
                                            "linecolor": "#506784",
                                            "ticks": "",
                                            "title": {
                                                "standoff": 15
                                            },
                                            "zerolinecolor": "#283442",
                                            "zerolinewidth": 2
                                        },
                                        "yaxis": {
                                            "automargin": true,
                                            "gridcolor": "#283442",
                                            "linecolor": "#506784",
                                            "ticks": "",
                                            "title": {
                                                "standoff": 15
                                            },
                                            "zerolinecolor": "#283442",
                                            "zerolinewidth": 2
                                        }
                                    }
                                },
                                "title": {
                                    "font": {
                                        "color": "royalblue",
                                        "size": 20
                                    },
                                    "text": "Hertzsprung-Russell Diagram",
                                    "x": 0.5
                                },
                                "width": 900,
                                "xaxis": {
                                    "autorange": "reversed",
                                    "gridcolor": "rgba(128,128,128,0.2)",
                                    "title": {
                                        "font": {
                                            "color": "hotpink",
                                            "size": 16
                                        },
                                        "text": "Temperature (K)"
                                    },
                                    "zerolinecolor": "rgba(128,128,128,0.5)"
                                },
                                "yaxis": {
                                    "autorange": "reversed",
                                    "gridcolor": "rgba(128,128,128,0.2)",
                                    "title": {
                                        "font": {
                                            "color": "hotpink",
                                            "size": 16
                                        },
                                        "text": "Absolute Magnitude (Mv)"
                                    },
                                    "zerolinecolor": "rgba(128,128,128,0.5)"
                                }
                            }
                        }
                    },
                    "metadata": {},
                    "output_type": "display_data"
                }
            ],
            "source": [
                "# Define the star type properties (assuming star_df has numeric values for Star type)\n",
                "star_types = {\n",
                "    0: {'label': 'Brown Dwarf', 'color': 'brown', 'size': 30},\n",
                "    1: {'label': 'Red Dwarf', 'color': 'red', 'size': 35},\n",
                "    2: {'label': 'White Dwarf', 'color': 'white', 'size': 40},\n",
                "    3: {'label': 'Main Sequence', 'color': 'cyan', 'size': 30},\n",
                "    4: {'label': 'Supergiants', 'color': 'orange', 'size': 100},\n",
                "    5: {'label': 'Hypergiants', 'color': 'maroon', 'size': 150}\n",
                "}\n",
                "\n",
                "# Create the HR diagram\n",
                "fig = go.Figure()\n",
                "\n",
                "# Map numeric types to labels if needed\n",
                "if pd.api.types.is_numeric_dtype(star_df['Star type']):\n",
                "    star_df['Star Type Label'] = star_df['Star type'].map({k: v['label'] for k, v in star_types.items()})\n",
                "else:\n",
                "    # If already string labels, create a mapping from label to properties\n",
                "    label_to_props = {v['label']: v for k, v in star_types.items()}\n",
                "    star_df['Star Type Label'] = star_df['Star type']\n",
                "\n",
                "# Add traces for each star type\n",
                "for star_type_num, properties in star_types.items():\n",
                "    # Filter the dataframe for the current star type\n",
                "    if pd.api.types.is_numeric_dtype(star_df['Star type']):\n",
                "        star_subset = star_df[star_df['Star type'] == star_type_num]\n",
                "    else:\n",
                "        star_subset = star_df[star_df['Star type'] == properties['label']]\n",
                "    \n",
                "    # Skip if no stars of this type\n",
                "    if len(star_subset) == 0:\n",
                "        continue\n",
                "    \n",
                "    # Add scatter plot for this star type\n",
                "    fig.add_trace(go.Scatter(\n",
                "        x=star_subset['Temperature (K)'],\n",
                "        y=star_subset['Absolute magnitude(Mv)'],\n",
                "        mode='markers',\n",
                "        name=properties['label'],\n",
                "        marker=dict(\n",
                "            size=properties['size'] / 3,  # Adjust size for plotly\n",
                "            color=properties['color'],\n",
                "            line=dict(width=1, color='black')\n",
                "        )\n",
                "    ))\n",
                "\n",
                "# Add the Sun\n",
                "fig.add_trace(go.Scatter(\n",
                "    x=[5778],\n",
                "    y=[4.83],\n",
                "    mode='markers',\n",
                "    name='Sun',\n",
                "    marker=dict(\n",
                "        size=25,  # Adjust size for plotly\n",
                "        color='yellow',\n",
                "        line=dict(width=1, color='black')\n",
                "    )\n",
                "))\n",
                "\n",
                "# Update layout for better visualization\n",
                "fig.update_layout(\n",
                "    title=dict(\n",
                "        text=\"Hertzsprung-Russell Diagram\",\n",
                "        font=dict(size=20, color='royalblue'),\n",
                "        x=0.5\n",
                "    ),\n",
                "    xaxis=dict(\n",
                "        title=dict(\n",
                "            text=\"Temperature (K)\",\n",
                "            font=dict(color='hotpink', size=16)\n",
                "        ),\n",
                "        autorange='reversed'  # Invert x-axis\n",
                "    ),\n",
                "    yaxis=dict(\n",
                "        title=dict(\n",
                "            text=\"Absolute Magnitude (Mv)\",\n",
                "            font=dict(color='hotpink', size=16)\n",
                "        ),\n",
                "        autorange='reversed'  # Invert y-axis\n",
                "    ),\n",
                "    plot_bgcolor='rgba(0,0,0,0.8)',\n",
                "    paper_bgcolor='rgba(0,0,0,0.8)',\n",
                "    legend=dict(\n",
                "        itemsizing='constant',\n",
                "        bgcolor='rgba(50,50,50,0.7)',\n",
                "        bordercolor='white',\n",
                "        borderwidth=1\n",
                "    ),\n",
                "    width=900,\n",
                "    height=600\n",
                ")\n",
                "\n",
                "# Make the grid lines lighter\n",
                "fig.update_xaxes(gridcolor='rgba(128,128,128,0.2)', zerolinecolor='rgba(128,128,128,0.5)')\n",
                "fig.update_yaxes(gridcolor='rgba(128,128,128,0.2)', zerolinecolor='rgba(128,128,128,0.5)')\n",
                "\n",
                "# Add annotations to help understand the diagram\n",
                "fig.add_annotation(\n",
                "    x=3000,\n",
                "    y=-5,\n",
                "    text=\"Giants\",\n",
                "    showarrow=False,\n",
                "    font=dict(size=16, color='orange')\n",
                ")\n",
                "\n",
                "fig.add_annotation(\n",
                "    x=15000,\n",
                "    y=0,\n",
                "    text=\"Main Sequence\",\n",
                "    showarrow=False,\n",
                "    font=dict(size=16, color='cyan')\n",
                ")\n",
                "\n",
                "fig.show()\n",
                "\n",
                "# Save the figure\n",
                "fig.write_image(\"./plotly_hr_diagram.png\")\n"
            ]
        }
    ],
    "metadata": {
        "kernelspec": {
            "display_name": "venv",
            "language": "python",
            "name": "python3"
        },
        "language_info": {
            "codemirror_mode": {
                "name": "ipython",
                "version": 3
            },
            "file_extension": ".py",
            "mimetype": "text/x-python",
            "name": "python",
            "nbconvert_exporter": "python",
            "pygments_lexer": "ipython3",
            "version": "3.13.1"
        }
    },
    "nbformat": 4,
    "nbformat_minor": 2
}
